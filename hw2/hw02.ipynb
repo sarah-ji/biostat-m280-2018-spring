{
 "cells": [
  {
   "cell_type": "markdown",
   "metadata": {},
   "source": [
    "# Biostat M280 Homework 2\n",
    "# Sarah Ji\n",
    "**Due May 11 @ 11:59PM**"
   ]
  },
  {
   "cell_type": "markdown",
   "metadata": {},
   "source": [
    "## Q1. Nonnegative Matrix Factorization\n",
    "\n",
    "Nonnegative matrix factorization (NNMF) was introduced by [Lee and Seung (1999)](https://www.nature.com/articles/44565) as an analog of principal components and vector quantization with applications in data compression and clustering. In this homework we consider algorithms for fitting NNMF and (optionally) high performance computing using graphical processing units (GPUs).\n",
    "In mathematical terms, one approximates a data matrix $\\mathbf{X} \\in \\mathbb{R}^{m \\times n}$ with nonnegative entries $x_{ij}$ by a product of two low-rank matrices $\\mathbf{V} \\in \\mathbb{R}^{m \\times r}$ and $\\mathbf{W} \\in \\mathbb{R}^{r \\times n}$ with nonnegative entries $v_{ik}$ and $w_{kj}$. Consider minimization of the squared Frobenius norm\n",
    "$$\n",
    "\tL(\\mathbf{V}, \\mathbf{W}) = \\|\\mathbf{X} - \\mathbf{V} \\mathbf{W}\\|_{\\text{F}}^2 = \\sum_i \\sum_j \\left(x_{ij} - \\sum_k v_{ik} w_{kj} \\right)^2, \\quad v_{ik} \\ge 0, w_{kj} \\ge 0,\n",
    "$$\n",
    "which should lead to a good factorization. Later in the course we will learn how to derive a majorization-minimization (MM) algorithm with iterative updates\n",
    "$$\n",
    "\tv_{ik}^{(t+1)} = v_{ik}^{(t)} \\frac{\\sum_j x_{ij} w_{kj}^{(t)}}{\\sum_j b_{ij}^{(t)} w_{kj}^{(t)}}, \\quad \\text{where } b_{ij}^{(t)} = \\sum_k v_{ik}^{(t)} w_{kj}^{(t)},\n",
    "$$\n",
    "$$\n",
    "\tw_{kj}^{(t+1)} = w_{kj}^{(t)} \\frac{\\sum_i x_{ij} v_{ik}^{(t+1)}}{\\sum_i b_{ij}^{(t+1/2)} v_{ik}^{(t+1)}}, \\quad \\text{where } b_{ij}^{(t+1/2)} = \\sum_k v_{ik}^{(t+1)} w_{kj}^{(t)}\n",
    "$$\n",
    "that drive the objective $L^{(t)} = L(\\mathbf{V}^{(t)}, \\mathbf{W}^{(t)})$ downhill. Superscript $t$ indicates iteration number. Efficiency (both speed and memory) will be the most important criterion when grading this problem.\n",
    "\n",
    "\n",
    "1. Implement the algorithm with arguments: $\\mathbf{X}$ (data, each row is a vectorized image), rank $r$, convergence tolerance, and optional starting point.\n",
    "```julia\n",
    "function nnmf(\n",
    "    X::Matrix, \n",
    "    r::Int;\n",
    "    maxiter::Int=1000, \n",
    "    tol::eltype(X)=1e-4,\n",
    "    V::Matrix{eltype(X)}=rand(size(X, 1), r),\n",
    "    W::Matrix{eltype(X)}=rand(r, size(X, 2))\n",
    "    )\n",
    "    # implementation\n",
    "    # Output\n",
    "    return V, W\n",
    "end\n",
    "```\n",
    "\n",
    "0. Database 1 from the [MIT Center for Biological and Computational Learning (CBCL)](http://cbcl.mit.edu) reduces to a matrix $\\mathbf{X}$ containing $m = 2,429$ gray-scale face images with $n = 19 \\times 19 = 361$ pixels per face. Each image (row) is scaled to have mean and standard deviation 0.25.  \n",
    "Read in the [`nnmf-2429-by-361-face.txt`](http://hua-zhou.github.io/teaching/biostatm280-2018spring/hw/hw2/nnmf-2429-by-361-face.txt) file, e.g., using [`readdlm()`](https://docs.julialang.org/en/stable/stdlib/io-network/#Base.DataFmt.readdlm-Tuple{Any,Char,Type,Char}) function, and display a couple sample images, e.g., using [ImageView.jl](https://github.com/JuliaImages/ImageView.jl) package.\n",
    "\n",
    "0. Report the run times, using `@time`, of your function for fitting NNMF on the MIT CBCL face data set at ranks $r=10, 20, 30, 40, 50$. For ease of comparison (and grading), please start your algorithm with the provided $\\mathbf{V}^{(0)}$ (first $r$ columns of [`V0.txt`](http://hua-zhou.github.io/teaching/biostatm280-2018spring/hw/hw2/V0.txt)) and $\\mathbf{W}^{(0)}$ (first $r$ rows of [`W0.txt`](http://hua-zhou.github.io/teaching/biostatm280-2018spring/hw/hw2/W0.txt)) and stopping criterion\n",
    "$$\n",
    "\t\\frac{|L^{(t+1)} - L^{(t)}|}{|L^{(t)}| + 1} \\le 10^{-4}.\n",
    "$$\n",
    "\n",
    "0. Choose an $r \\in \\{10, 20, 30, 40, 50\\}$ and start your algorithm from a different $\\mathbf{V}^{(0)}$ and $\\mathbf{W}^{(0)}$. Do you obtain the same objective value and $(\\mathbf{V}, \\mathbf{W})$? Explain what you find.\n",
    "\n",
    "0. For the same $r$, start your algorithm from $v_{ik}^{(0)} = w_{kj}^{(0)} = 1$ for all $i,j,k$. Do you obtain the same objective value and $(\\mathbf{V}, \\mathbf{W})$? Explain what you find.\n",
    "\n",
    "0. Plot the basis images (rows of $\\mathbf{W}$) at rank $r=50$. What do you find?\n",
    "\n",
    "0. (Optional) Investigate the GPU capabilities of Julia. Report the speed gain of your GPU code over CPU code at ranks $r=10, 20, 30, 40, 50$. Make sure to use the same starting point as in part 2."
   ]
  },
  {
   "cell_type": "markdown",
   "metadata": {},
   "source": [
    "## Q1.1 Solution:"
   ]
  },
  {
   "cell_type": "code",
   "execution_count": 3,
   "metadata": {},
   "outputs": [
    {
     "data": {
      "text/plain": [
       "nnmf (generic function with 1 method)"
      ]
     },
     "execution_count": 3,
     "metadata": {},
     "output_type": "execute_result"
    }
   ],
   "source": [
    "#using for loop\n",
    "function nnmf(\n",
    "        X::Matrix{T},\n",
    "        r::Integer;\n",
    "        maxiter::Integer=1000, \n",
    "        tol::Number=1e-4,\n",
    "        V::Matrix{T}=rand(T, size(X, 1), r),\n",
    "        W::Matrix{T}=rand(T, r, size(X, 2))\n",
    "        ) where T <: AbstractFloat\n",
    "    #implementation\n",
    "    m, n = size(X)\n",
    "    A = zeros(X)\n",
    "    MR_1 = zeros(m, r)\n",
    "    MR_2 = zeros(m, r)\n",
    "    RR = zeros(r, r)\n",
    "    RN_1 = zeros(r, n)\n",
    "    RN_2 = zeros(r, n)\n",
    "    A_mul_B!(A, V, W)\n",
    "    A .= X .- A\n",
    "    l_last = abs2(vecnorm(A, 2))\n",
    "    \n",
    "    for i in 1:maxiter\n",
    "        A_mul_Bt!(MR_1, X, W)\n",
    "        BLAS.syrk!('U', 'N', 1.0, W, 0.0, RR)\n",
    "        V .= V .* MR_1 ./ BLAS.symm!('R', 'U', 1.0, RR, V, 0.0, MR_2)\n",
    "\n",
    "        At_mul_B!(RN_1, V, X)\n",
    "        BLAS.syrk!('U', 'T', 1.0, V, 0.0, RR)\n",
    "        W .= W .* RN_1 ./ BLAS.symm!('L', 'U', 1.0, RR, W, 0.0, RN_2)\n",
    "\n",
    "        A_mul_B!(A, V, W)\n",
    "        A .= X .- A\n",
    "        l_new = abs2(vecnorm(A, 2))\n",
    "        if (abs(l_new - l_last) / (abs(l_last) + 1)) <= tol\n",
    "            break\n",
    "        end\n",
    "        l_last = l_new\n",
    "    end\n",
    "    \n",
    "    return V, W\n",
    "end"
   ]
  },
  {
   "cell_type": "code",
   "execution_count": 3,
   "metadata": {},
   "outputs": [
    {
     "data": {
      "text/plain": [
       "nnmf2 (generic function with 1 method)"
      ]
     },
     "execution_count": 3,
     "metadata": {},
     "output_type": "execute_result"
    }
   ],
   "source": [
    "# compared nnmf to nnmf2 which uses while loop instead of for loop\n",
    "# the performance is not as good so I will use nnmf as the final function implementation.\n",
    "function nnmf2(\n",
    "        X::Matrix{T},\n",
    "        r::Integer;\n",
    "        maxiter::Integer=1000, \n",
    "        tol::Number=1e-4,\n",
    "        V::Matrix{T}=rand(T, size(X, 1), r),\n",
    "        W::Matrix{T}=rand(T, r, size(X, 2))\n",
    "        ) where T <: AbstractFloat\n",
    "    #implementation\n",
    "    m, n = size(X)\n",
    "    A = zeros(X)\n",
    "    MR_1 = zeros(m, r)\n",
    "    MR_2 = zeros(m, r)\n",
    "    RR = zeros(r, r)\n",
    "    RN_1 = zeros(r, n)\n",
    "    RN_2 = zeros(r, n)\n",
    "    l_new = abs2(vecnorm(X - V * W, 2))\n",
    "    l_last = 0.0\n",
    "    count = 0\n",
    "    \n",
    "    while (abs(l_new - l_last) / (abs(l_last) + 1)) > tol && count < maxiter\n",
    "        l_last = l_new\n",
    "        count += 1\n",
    "        \n",
    "        A_mul_Bt!(MR_1, X, W)\n",
    "        BLAS.syrk!('U','N', 1.0, W, 0.0, RR)\n",
    "        V .= V .* MR_1 ./ BLAS.symm!('R', 'U', 1.0, RR, V, 0.0, MR_2)\n",
    "\n",
    "        At_mul_B!(RN_1, V, X)\n",
    "        BLAS.syrk!('U','T', 1.0, V, 0.0, RR)\n",
    "        W .= W .* RN_1 ./ BLAS.symm!('L', 'U', 1.0, RR, W, 0.0, RN_2)\n",
    "\n",
    "        A_mul_B!(A, V, W)\n",
    "        A .= X .- A\n",
    "        l_new = abs2(vecnorm(A, 2))\n",
    "    end\n",
    "    return V, W\n",
    "end"
   ]
  },
  {
   "cell_type": "markdown",
   "metadata": {},
   "source": [
    "I have implemented an algorithm with arguments: `X` (data, each row is a vectorized image), rank  `r`, convergence tolerance `tol`, and optional starting points `V` and `W`."
   ]
  },
  {
   "cell_type": "markdown",
   "metadata": {},
   "source": [
    "## Q1.2 Solution:"
   ]
  },
  {
   "cell_type": "code",
   "execution_count": 9,
   "metadata": {},
   "outputs": [
    {
     "data": {
      "image/png": "[encoded data removed]",
      "text/plain": [
       "PyPlot.Figure(PyObject <Figure size 640x480 with 5 Axes>)"
      ]
     },
     "metadata": {},
     "output_type": "display_data"
    },
    {
     "data": {
      "text/plain": [
       "PyObject <matplotlib.image.AxesImage object at 0x148d49b50>"
      ]
     },
     "execution_count": 9,
     "metadata": {},
     "output_type": "execute_result"
    }
   ],
   "source": [
    "#Pkg.add(\"ImageView\")\n",
    "using ImageView\n",
    "using PyPlot\n",
    "\n",
    "X = readdlm(\"nnmf-2429-by-361-face.txt\")\n",
    "img1 = X[1,:]\n",
    "img1 = reshape(img1, 19, 19)\n",
    "img2 = X[13,:]\n",
    "img2 = reshape(img2, 19, 19)\n",
    "img3 = X[35, :]\n",
    "img3 = reshape(img3, 19, 19)\n",
    "img4 = X[125, :]\n",
    "img4 = reshape(img4, 19, 19)\n",
    "img5 = X[130, :]\n",
    "img5 = reshape(img5, 19, 19)\n",
    "\n",
    "subplot(1, 5, 1)\n",
    "PyPlot.imshow(img1)\n",
    "subplot(1, 5, 2)\n",
    "PyPlot.imshow(img2)\n",
    "subplot(1, 5, 3)\n",
    "PyPlot.imshow(img3)\n",
    "subplot(1, 5, 4)\n",
    "PyPlot.imshow(img4)\n",
    "subplot(1, 5, 5)\n",
    "PyPlot.imshow(img5)"
   ]
  },
  {
   "cell_type": "markdown",
   "metadata": {},
   "source": [
    "I have read in the `nnmf-2429-by-361-face.txt file` using the readdlm() function and displayed a five sample images in my notebook using the ImageView.jl and PyPlot.jl packages. Notice the different features of each persons face, picked up by the image! Each of the rows of the $\\mathbf{X}$ are the pixels for a different individuals face in the sample. "
   ]
  },
  {
   "cell_type": "markdown",
   "metadata": {},
   "source": [
    "## Q1.3 Solution:"
   ]
  },
  {
   "cell_type": "code",
   "execution_count": 11,
   "metadata": {},
   "outputs": [
    {
     "name": "stdout",
     "output_type": "stream",
     "text": [
      "  2.716634 seconds (25 allocations: 7.331 MiB)\n",
      "  3.569488 seconds (33 allocations: 7.972 MiB, 0.17% gc time)\n",
      "  5.875026 seconds (25 allocations: 8.614 MiB)\n",
      "  8.732550 seconds (25 allocations: 9.258 MiB)\n",
      " 13.128490 seconds (26 allocations: 9.903 MiB, 0.04% gc time)\n"
     ]
    },
    {
     "data": {
      "text/plain": [
       "([4.06515e-8 0.0239183 … 0.00502753 0.0308952; 2.06692e-5 0.0167692 … 0.00168436 0.0335739; … ; 0.0136536 0.0204076 … 8.933e-5 0.0451226; 0.0182157 0.00994188 … 5.39374e-6 0.000142989], [1.98839e-64 1.24767e-53 … 2.73192e-14 8.87992e-65; 5.00853e-27 2.38036e-26 … 2.00588e-32 4.48034e-61; … ; 3.60097e-15 2.70773e-15 … 3.86231e-22 2.41101e-44; 0.000249871 6.68716e-20 … 2.36259e-7 1.30468e-11])"
      ]
     },
     "execution_count": 11,
     "metadata": {},
     "output_type": "execute_result"
    }
   ],
   "source": [
    "V0 = readdlm(\"V0.txt\");\n",
    "W0 = readdlm(\"W0.txt\");\n",
    "# with rank 10 its blurrier than with rank 50 because we are capturing less information from the original X\n",
    "\n",
    "@time nnmf(X, 10, V = V0[:, 1:10], W = W0[1:10, :])\n",
    "@time nnmf(X, 20, V = V0[:, 1:20], W = W0[1:20, :])\n",
    "@time nnmf(X, 30, V = V0[:, 1:30], W = W0[1:30, :])\n",
    "@time nnmf(X, 40, V = V0[:, 1:40], W = W0[1:40, :])\n",
    "@time nnmf(X, 50, V = V0[:, 1:50], W = W0[1:50, :])"
   ]
  },
  {
   "cell_type": "markdown",
   "metadata": {},
   "source": [
    "Above we use `@time` on our function for fitting NNMF on the MIT CBCL face data set at ranks $r=10, 20, 30, 40, 50$, with the first $r$ columns of `V0.txt` and the first $r$ rows of `W0.txt` and stopping criterion\n",
    "$$\n",
    "\t\\frac{|L^{(t+1)} - L^{(t)}|}{|L^{(t)}| + 1} \\le 10^{-4}.\n",
    "$$\n"
   ]
  },
  {
   "cell_type": "markdown",
   "metadata": {},
   "source": [
    "In addition, we check the benchmark to get a more robust estimate of the runtime and memory allocation."
   ]
  },
  {
   "cell_type": "code",
   "execution_count": 24,
   "metadata": {},
   "outputs": [
    {
     "data": {
      "text/plain": [
       "BenchmarkTools.Trial: \n",
       "  memory estimate:  9.90 MiB\n",
       "  allocs estimate:  22\n",
       "  --------------\n",
       "  minimum time:     10.744 s (0.00% GC)\n",
       "  median time:      10.744 s (0.00% GC)\n",
       "  mean time:        10.744 s (0.00% GC)\n",
       "  maximum time:     10.744 s (0.00% GC)\n",
       "  --------------\n",
       "  samples:          1\n",
       "  evals/sample:     1"
      ]
     },
     "execution_count": 24,
     "metadata": {},
     "output_type": "execute_result"
    }
   ],
   "source": [
    "using BenchmarkTools\n",
    "@benchmark nnmf(X, 50, V = V0[:, 1:50], W = W0[1:50, :])"
   ]
  },
  {
   "cell_type": "markdown",
   "metadata": {},
   "source": [
    "## Q1.4 Solution:\n",
    "\n",
    "For r = 50, we do not obtain the same objective value and (V, W) are not the same from that of Q1.3."
   ]
  },
  {
   "cell_type": "code",
   "execution_count": 13,
   "metadata": {},
   "outputs": [
    {
     "data": {
      "text/plain": [
       "([0.0313329 0.00703249 … 0.0207635 3.10162e-18; 0.0205671 0.00641766 … 0.0238345 0.00213217; … ; 8.1961e-8 0.00815619 … 0.0229242 0.00478911; 0.0173447 0.00494082 … 0.0237537 0.0113963], [3.65108e-37 1.03949e-22 … 1.3592e-8 3.52385e-69; 4.74768e-40 3.51854e-17 … 1.40341e-12 1.17764e-55; … ; 9.74744e-41 1.25524e-33 … 4.29157e-18 1.80434e-40; 2.56267e-22 1.2632e-18 … 20.8062 17.1294])"
      ]
     },
     "execution_count": 13,
     "metadata": {},
     "output_type": "execute_result"
    }
   ],
   "source": [
    "V_50, W_50 = nnmf(X, 50, V = V0[:, 1:50], W = W0[1:50, :])\n",
    "V_r, W_r = nnmf(X, 50) #with random starting points"
   ]
  },
  {
   "cell_type": "code",
   "execution_count": 14,
   "metadata": {},
   "outputs": [
    {
     "name": "stdout",
     "output_type": "stream",
     "text": [
      "L_50 = abs2(vecnorm(X .- V_50 * W_50, 2)) = 4430.201581697289\n",
      "L_random = abs2(vecnorm(X .- V_r * W_r, 2)) = 4388.971390067497\n"
     ]
    },
    {
     "data": {
      "text/plain": [
       "4388.971390067497"
      ]
     },
     "execution_count": 14,
     "metadata": {},
     "output_type": "execute_result"
    }
   ],
   "source": [
    "@show L_50 = abs2(vecnorm((X .- (V_50 * W_50)), 2))\n",
    "@show L_random = abs2(vecnorm((X .- (V_r * W_r)), 2))"
   ]
  },
  {
   "cell_type": "markdown",
   "metadata": {},
   "source": [
    "Notice how the squared Frobenius norms differ in `L_50` vs. `L_random`. Since the function is not a convex problem, indicating one global minima, when we optimize it from different starting points we may get different local minimums."
   ]
  },
  {
   "cell_type": "markdown",
   "metadata": {},
   "source": [
    "## Q1.5 Solution:"
   ]
  },
  {
   "cell_type": "code",
   "execution_count": 32,
   "metadata": {},
   "outputs": [
    {
     "name": "stdout",
     "output_type": "stream",
     "text": [
      "V_50 == V_1 = false\n",
      "W_50 == W_1 = false\n",
      "L_one = abs2(vecnorm(X .- V_1 * W_1, 2)) = 25297.01651108185\n",
      "L_50 = abs2(vecnorm(X .- V_50 * W_50, 2)) = 4430.201581697289\n"
     ]
    }
   ],
   "source": [
    "V_1, W_1 = nnmf(X, 50, V = ones(2429, 50), W = ones(50, 361))\n",
    "\n",
    "@show V_50 == V_1\n",
    "@show W_50 == W_1\n",
    "\n",
    "VW_1 = V_1 * W_1 # like our new X for initial values 1\n",
    "VW_50 = V_50 * W_50 # X = VW with first 50 columns and 50 rows \n",
    "\n",
    "@show L_one = abs2(vecnorm((X .- (V_1 * W_1)), 2))\n",
    "@show L_50 = abs2(vecnorm((X .- (V_50 * W_50)), 2));"
   ]
  },
  {
   "cell_type": "markdown",
   "metadata": {},
   "source": [
    "For the same  r = 50, initializing the algorithm from matrices of all ones, we do not obtain the same objective value or values of V and W. \n",
    "\n",
    "We check using the function `nnmfOneDemo`, which is essentially the same as the function nnmf but it only outputs how many iterations it takes for the function to converge. I created a separate function so the runtime and memory allocation of nnmf would not be altered. It shows that the function breaks out of the iteration loop when `i = 3`, indicating that it takes 2 updates of V and W for the stopping criteria to be met: \n",
    "\n",
    "$$\n",
    "\t\\frac{|L^{(t+1)} - L^{(t)}|}{|L^{(t)}| + 1} \\le 10^{-4}.\n",
    "$$"
   ]
  },
  {
   "cell_type": "code",
   "execution_count": 18,
   "metadata": {},
   "outputs": [
    {
     "data": {
      "text/plain": [
       "nnmfOneDemo (generic function with 1 method)"
      ]
     },
     "execution_count": 18,
     "metadata": {},
     "output_type": "execute_result"
    }
   ],
   "source": [
    "#using for loop\n",
    "function nnmfOneDemo(\n",
    "        X::Matrix{T},\n",
    "        r::Integer;\n",
    "        maxiter::Integer=1000, \n",
    "        tol::Number=1e-4,\n",
    "        V::Matrix{T}=rand(T, size(X, 1), r),\n",
    "        W::Matrix{T}=rand(T, r, size(X, 2))\n",
    "        ) where T <: AbstractFloat\n",
    "    #implementation\n",
    "    m, n = size(X)\n",
    "    A = zeros(X)\n",
    "    MR_1 = zeros(m, r)\n",
    "    MR_2 = zeros(m, r)\n",
    "    RR = zeros(r, r)\n",
    "    RN_1 = zeros(r, n)\n",
    "    RN_2 = zeros(r, n)\n",
    "    A_mul_B!(A, V, W)\n",
    "    A .= X .- A\n",
    "    l_last = abs2(vecnorm(A, 2))\n",
    "\n",
    "    for i in 1:maxiter\n",
    "        A_mul_Bt!(MR_1, X, W)\n",
    "        BLAS.syrk!('U', 'N', 1.0, W, 0.0, RR)\n",
    "        V .= V .* MR_1 ./ BLAS.symm!('R', 'U', 1.0, RR, V, 0.0, MR_2)\n",
    "\n",
    "        At_mul_B!(RN_1, V, X)\n",
    "        BLAS.syrk!('U', 'T', 1.0, V, 0.0, RR)\n",
    "        W .= W .* RN_1 ./ BLAS.symm!('L', 'U', 1.0, RR, W, 0.0, RN_2)\n",
    "\n",
    "        A_mul_B!(A, V, W)\n",
    "        A .= X .- A\n",
    "        l_new = abs2(vecnorm(A, 2))\n",
    "        if (abs(l_new - l_last) / (abs(l_last) + 1)) <= tol\n",
    "            println(i)\n",
    "            break\n",
    "        end\n",
    "        l_last = l_new\n",
    "    end\n",
    "    \n",
    "    return V, W\n",
    "end"
   ]
  },
  {
   "cell_type": "code",
   "execution_count": 45,
   "metadata": {},
   "outputs": [
    {
     "name": "stdout",
     "output_type": "stream",
     "text": [
      "3\n"
     ]
    },
    {
     "data": {
      "text/plain": [
       "([0.00547494 0.00547494 … 0.00547494 0.00547494; 0.00544131 0.00544131 … 0.00544131 0.00544131; … ; 0.00570319 0.00570319 … 0.00570319 0.00570319; 0.00560599 0.00560599 … 0.00560599 0.00560599], [0.369943 0.460643 … 0.5581 0.425542; 0.369943 0.460643 … 0.5581 0.425542; … ; 0.369943 0.460643 … 0.5581 0.425542; 0.369943 0.460643 … 0.5581 0.425542])"
      ]
     },
     "execution_count": 45,
     "metadata": {},
     "output_type": "execute_result"
    }
   ],
   "source": [
    "nnmfOneDemo(X, 50, V =  V = ones(2429, 50), W = ones(50, 361))"
   ]
  },
  {
   "cell_type": "markdown",
   "metadata": {},
   "source": [
    "Below, we compare the images of individuals in the rows of VW_1 and VW_50. \n",
    "<br>\n",
    "We notice that VW_1 is the mean of X, and each row has some variation of the average American face in our sample. On the other hand, we see that VW_50 has different individuals in each row."
   ]
  },
  {
   "cell_type": "code",
   "execution_count": 16,
   "metadata": {},
   "outputs": [
    {
     "data": {
      "image/png": "[encoded data removed]",
      "text/plain": [
       "PyPlot.Figure(PyObject <Figure size 640x480 with 4 Axes>)"
      ]
     },
     "metadata": {},
     "output_type": "display_data"
    },
    {
     "data": {
      "text/plain": [
       "PyObject <matplotlib.image.AxesImage object at 0x137070290>"
      ]
     },
     "execution_count": 16,
     "metadata": {},
     "output_type": "execute_result"
    }
   ],
   "source": [
    "subplot(1, 4, 1)\n",
    "PyPlot.imshow(reshape(VW_1[1, :], 19, 19))\n",
    "subplot(1, 4, 2)\n",
    "PyPlot.imshow(reshape(VW_50[1, :], 19, 19))\n",
    "subplot(1, 4, 3)\n",
    "PyPlot.imshow(reshape(VW_1[60, :], 19, 19))\n",
    "subplot(1, 4, 4)\n",
    "PyPlot.imshow(reshape(VW_50[60, :], 19, 19))"
   ]
  },
  {
   "cell_type": "markdown",
   "metadata": {},
   "source": [
    "Below, we prove that with initial values of 1's for V and W, the function `nnmf` takes 2 updates of $\\mathbf{V}$ and $\\mathbf{W}$ for $\\mathbf{VW}$ to converge to the mean of the original matrix $\\mathbf{X}$. \n",
    "\n",
    "Consider minimization of the squared Frobenius norm\n",
    "$$\n",
    "\tL(\\mathbf{V}, \\mathbf{W}) = \\|\\mathbf{X} - \\mathbf{V} \\mathbf{W}\\|_{\\text{F}}^2 = \\sum_i \\sum_j \\left(x_{ij} - \\sum_k v_{ik} w_{kj} \\right)^2, \\quad v_{ik} \\ge 0, w_{kj} \\ge 0,\n",
    "$$"
   ]
  },
  {
   "cell_type": "markdown",
   "metadata": {},
   "source": [
    "When we give the initial values of ones, it converges in 2 steps, then the third iteration doesn't change anything thus breaks the loop.\n",
    "\n",
    "Note that when we plot the rows of the VW_1, we only get one face. That is, each row of VW_1 contains data which maps to the average American face thats in our original dataset X. \n",
    "\n",
    "Below, we show mathematically, that after two iterations $\\mathbf{X - V_2W_2}$ is the mean centered version of the original X matix:\n",
    "\n",
    "$\\mathbf{PROOF:}$\n",
    ">Initializing the values of V and W, we have:\n",
    "$$\\mathbf{V} = \\mathbf{1_m}\\mathbf{1_r}^{T}$$ and $$\\mathbf{W} = \\mathbf{1_r}\\mathbf{1_n}^{T}$$\n",
    ">and the following updates for V and W:\n",
    "$$\\mathbf{V} = \\mathbf{V} .* \\mathbf{X}\\mathbf{W}^{T} ./ (\\mathbf{VW{W}^T})$$\n",
    "$$\\mathbf{W} = \\mathbf{W} .* \\mathbf{V}^{T}\\mathbf{X} ./ (\\mathbf{{V}^{T}VW})$$\n",
    "<br>\n",
    "\n",
    "1V) First iteration of V:\n",
    ">We start with the numerator of V, $\\mathbf{X}\\mathbf{W}^{T}$:\n",
    "$$\\mathbf{X}\\mathbf{W}^{T} = \\mathbf{X}\\mathbf{1_n}\\mathbf{1_r}^{T} = \\mathbf{1_m}\\mathbf{\\sum_{j=1}^n {x_{ij}}}\\mathbf{1_r}^{T}, i \\in [1, m]$$ where i indicates the ith row of the original X matrix, which has m rows in total.\n",
    "<br>\n",
    ">Now making note of the fact that each image (row in original X) is scaled to have mean and standard deviation 0.25, we note that $\\sum_{i=1}^n {x_{ij}} = 0.25(n),$ thus we have:\n",
    "$$\\mathbf{1_m}0.25(n)\\mathbf{1_r}^{T} = 0.25(n)\\mathbf{1_m}\\mathbf{1_r}^{T}, i \\in [1, m]$$\n",
    "<br>\n",
    ">Now working on the denominator of V, $\\mathbf{VW{W}^T}$:\n",
    "$$\\mathbf{VW{W}^T} = \\mathbf{1_m}\\mathbf{1_r}^{T}(\\mathbf{1_r}\\mathbf{1_n}^{T})(\\mathbf{1_n}\\mathbf{1_r}^{T})$$\n",
    "$$ = \\mathbf{1_m}(rn)\\mathbf{1_r}^{T}$$\n",
    "$$ = nr\\mathbf{1_m}\\mathbf{1_r}^{T}$$\n",
    "<br>\n",
    ">Now we can update our initial value of V (matrix of ones) as follows:\n",
    "$$\\mathbf{V_1} = \\mathbf{1_m}\\mathbf{1_r}^{T} .* 0.25(n)\\mathbf{1_m}\\mathbf{1_r}^{T} ./ (nr\\mathbf{1_m}\\mathbf{1_r}^{T})$$\n",
    "$$= \\frac{0.25}{r}\\mathbf{1_m}\\mathbf{1_r}^{T}$$\n",
    "<br>\n",
    "\n",
    "1W) First iteration of W:\n",
    "\n",
    ">We start with the numerator of W, $\\mathbf{V}^{T}\\mathbf{X}$, using $\\mathbf{V_1}$ from above:\n",
    "$$\\mathbf{V}^{T}\\mathbf{X} = (\\frac{0.25}{r}\\mathbf{1_m}\\mathbf{1_r}^{T})\\mathbf{X} = \\mathbf{1_r}m(0.25)\\mathbf{1_n}^{T} = m(0.25)\\mathbf{1_r}\\mathbf{1_n}^{T}$$\n",
    "<br>\n",
    ">Now working on the denominator of V, $\\mathbf{{V}^{T}VW}$:\n",
    "$$\\mathbf{{V}^{T}VW} = ({\\frac{0.25}{r}})^{2}(\\mathbf{1_r}\\mathbf{1_m}^{T})\\mathbf{1_m}\\mathbf{1_r}^{T}(\\mathbf{1_r}\\mathbf{1_n}^{T})$$\n",
    "> Since $\\mathbf{1_m}^{T}\\mathbf{1_m} = m $ and $\\mathbf{1_r}^{T}\\mathbf{1_r} = r,$ we have:\n",
    "$$\\mathbf{{V}^{T}VW} = ({\\frac{0.25}{r}})^{2}(\\mathbf{1_r}(m)(r)\\mathbf{1_n}^{T})$$\n",
    "<br>\n",
    "$$ = ({\\frac{0.25}{r}})^{2}mr(\\mathbf{1_r}\\mathbf{1_n}^{T}) $$\n",
    "<br>\n",
    "$$ = ({\\frac{0.25^{2}}{r}})m(\\mathbf{1_r}\\mathbf{1_n}^{T}) $$\n",
    "<br>\n",
    ">Now we can update our initial value of V (matrix of ones) as follows:\n",
    "$$\\mathbf{W_1} = \\mathbf{1_r}\\mathbf{1_n}^{T} .* m(0.25)\\mathbf{1_r}\\mathbf{1_n}^{T} ./ ({\\frac{0.25^{2}}{r}})m(\\mathbf{1_r}\\mathbf{1_n}^{T})$$\n",
    "$$= \\frac{mr}{0.25}\\mathbf{1_r}\\mathbf{1_n}^{T}$$\n",
    "<br>\n",
    "\n",
    "2V) Similarly, we do the Second iteration of V and W using the values of V_1 and W_1 as the new starting points.\n",
    "\n",
    ">We start with the numerator of V_2, $\\mathbf{X}\\mathbf{W}^{T}$:\n",
    "$$\\mathbf{X}\\mathbf{W}^{T} = \\frac{mr}{0.25}\\mathbf{X}\\mathbf{1_r}\\mathbf{1_n}^{T}$$ <br>\n",
    "$$ = mrn\\mathbf{1_m}\\mathbf{1_r}^{T}$$\n",
    "<br>\n",
    ">Now working on the denominator of V_2, $\\mathbf{VW{W}^T}$:\n",
    "$$\\mathbf{VW{W}^T} = \\frac{0.25}{r}\\mathbf{1_m}\\mathbf{1_r}^{T}(\\frac{mr}{0.25})^{2}\\mathbf{1_r}\\mathbf{1_n}^{T}\\mathbf{1_n}\\mathbf{1_r}^{T}$$<br>\n",
    "$$ = \\mathbf{1_m}(rn)\\mathbf{1_r}^{T}$$\n",
    "$$ = \\frac{m^{2}r^{2}n}{0.25}\\mathbf{1_m}\\mathbf{1_r}^{T}$$\n",
    "<br>\n",
    ">Now we can update our value of V_1 with V_2 as follows:\n",
    "$$\\mathbf{V_2} = \\frac{0.25}{r}\\mathbf{1_m}\\mathbf{1_r}^{T} .* mrn\\mathbf{1_m}\\mathbf{1_r}^{T} ./ (\\frac{m^{2}r^{2}n}{0.25}\\mathbf{1_m}\\mathbf{1_r}^{T})$$\n",
    "$$= \\frac{0.25^{2}}{mr^{2}}\\mathbf{1_m}\\mathbf{1_r}^{T}$$\n",
    "<br>\n",
    "\n",
    "\n",
    "2W) Second iteration of W:\n",
    "\n",
    ">We start with the numerator of W_2, $\\mathbf{V}^{T}\\mathbf{X}$, using $\\mathbf{V_2}$ from above:\n",
    "$$\\mathbf{V}^{T}\\mathbf{X} = (\\frac{0.25^{2}}{mr^{2}}\\mathbf{1_r}\\mathbf{1_m}^{T})\\mathbf{X} = (\\frac{0.25^{2}}{mr^{2}}\\mathbf{1_r}(0.25m)\\mathbf{1_n}^{T}) = \\frac{0.25^{3}}{r^{2}}\\mathbf{1_r}\\mathbf{1_n}^{T}$$\n",
    "<br>\n",
    ">Now working on the denominator of W_2, $\\mathbf{{V_1}^{T}V_1W_1}$:\n",
    "$$\\mathbf{{V_1}^{T}V_1W_1} = ({\\frac{0.25^{4}}{m^{2}r4}})(\\mathbf{1_r}\\mathbf{1_m}^{T})(\\mathbf{1_m}\\mathbf{1_r}^{T})(\\frac{mr}{0.25})\\mathbf{1_r}\\mathbf{1_n}^{T}$$<br>\n",
    "$$ = (\\frac{mr}{0.25})\\mathbf{1_r}\\mathbf{1_n}^{T}$$\n",
    "<br>\n",
    ">Now we can update our value of W_2 as follows:\n",
    "$$\\mathbf{W_2} = \\frac{mr}{0.25}\\mathbf{1_r}\\mathbf{1_n}^{T} .* \\frac{0.25^{3}}{r^{2}}\\mathbf{1_r}\\mathbf{1_n}^{T} ./ (\\frac{mr}{0.25})\\mathbf{1_r}\\mathbf{1_n}^{T})$$<br>\n",
    "$$= \\frac{mr}{0.25}\\mathbf{1_r}\\mathbf{1_n}^{T}$$\n",
    "<br>\n",
    "\n",
    "**Calculating X - VW after 2 iterations:**\n",
    "<br>\n",
    ">First we will calculate the product $\\mathbf{V_2} * \\mathbf{W_2}:$\n",
    "$$\\mathbf{V_2W_2} = \\frac{0.25^{2}}{mr^{2}}\\mathbf{1_m}\\mathbf{1_r}^{T}\\frac{mr}{0.25}\\mathbf{1_r}\\mathbf{1_n}^{T}$$<br>\n",
    "$$ = \\frac{0.25}{r}\\mathbf{1_m}\\mathbf{1_r}^{T}\\mathbf{1_r}\\mathbf{1_n}^{T}$$<br>\n",
    "$$ = \\frac{0.25}{r}(r)\\mathbf{1_m}\\mathbf{1_n}^{T}$$ <br>\n",
    "$$ = 0.25\\mathbf{1_m}\\mathbf{1_n}^{T}$$\n",
    "<br>\n",
    ">Then, for $\\mathbf{X}$ is a mxn matrix we will calculate the quanitity $\\mathbf{X - V_2W_2}:$<br>\n",
    "$$\\mathbf{X} .- 0.25\\mathbf{1_m}\\mathbf{1_n}^{T}$$<br>\n",
    ">Thus we note that this is the mean centered version of the original X matrix after two iterations of updating the values of V and W from initial matrices of all ones."
   ]
  },
  {
   "cell_type": "markdown",
   "metadata": {},
   "source": [
    "## Q1.6 Solution:"
   ]
  },
  {
   "cell_type": "code",
   "execution_count": 22,
   "metadata": {},
   "outputs": [
    {
     "data": {
      "image/png": "[encoded data removed]",
      "text/plain": [
       "PyPlot.Figure(PyObject <Figure size 640x480 with 4 Axes>)"
      ]
     },
     "metadata": {},
     "output_type": "display_data"
    }
   ],
   "source": [
    "V, W = nnmf(X, 50, V = V0[:, 1:50], W = W0[1:50, :])\n",
    "\n",
    "W_img1 = W[1, :]\n",
    "W_img1 = reshape(W_img1, 19, 19)\n",
    "\n",
    "W_img2 = W[2, :]\n",
    "W_img2 = reshape(W_img2, 19, 19)\n",
    "\n",
    "W_img5 = W[9, :]\n",
    "W_img5 = reshape(W_img5, 19, 19)\n",
    "\n",
    "W_img10 = W[10, :]\n",
    "W_img10 = reshape(W_img10, 19, 19)\n",
    "\n",
    "#VW = V*W\n",
    "subplot(1, 4, 1)\n",
    "PyPlot.imshow(W_img1)\n",
    "subplot(1, 4, 2)\n",
    "PyPlot.imshow(W_img2)\n",
    "subplot(1, 4, 3)\n",
    "PyPlot.imshow(W_img5)\n",
    "subplot(1, 4, 4)\n",
    "PyPlot.imshow(W_img10);"
   ]
  },
  {
   "cell_type": "markdown",
   "metadata": {},
   "source": [
    "Above, we plot the basis images (rows of  W) at rank  r = 50. \n",
    "\n",
    "Note that from the first row, we see a glimpse of the image of the upper lip of an individual's face.\n",
    "From the second row, we see what appears to be the right cheekbone of an individual's face. \n",
    "From the ninth row, we see what appears to be the forehead of an individual's face. \n",
    "From the tenth row, we see what appears to be the nose bridge and right cheekbone of an individual's face. "
   ]
  },
  {
   "cell_type": "markdown",
   "metadata": {},
   "source": [
    "## Q2. Linear Mixed Models\n",
    "\n",
    "Consider a linear mixed effects model\n",
    "$$\n",
    "\ty_i = \\mathbf{x}_i^T \\beta + \\mathbf{z}_i^T \\gamma + \\epsilon_i, \\quad i=1,\\ldots,n,\n",
    "$$\n",
    "where $\\epsilon_i$ are independent normal errors $N(0,\\sigma_0^2)$, $\\beta \\in \\mathbb{R}^p$ are fixed effects, and $\\gamma \\in \\mathbb{R}^q$ are random effects assumed to be $N(\\mathbf{0}_q, \\sigma_1^2 \\mathbf{I}_q$) independent of $\\epsilon_i$. \n",
    "\n",
    "0. Show that \n",
    "$$\n",
    "    \\mathbf{y} \\sim N \\left( \\mathbf{X} \\beta, \\sigma_0^2 \\mathbf{I}_n + \\sigma_1^2 \\mathbf{Z} \\mathbf{Z}^T \\right),\n",
    "$$\n",
    "where $\\mathbf{y} = (y_1, \\ldots, y_n)^T \\in \\mathbb{R}^n$, $\\mathbf{X} = (\\mathbf{x}_1, \\ldots, \\mathbf{x}_n)^T \\in \\mathbb{R}^{n \\times p}$, and $\\mathbf{Z} = (\\mathbf{z}_1, \\ldots, \\mathbf{z}_n)^T \\in \\mathbb{R}^{n \\times q}$. \n",
    "\n",
    "0. Write a function, with interface \n",
    "    ```julia\n",
    "    logpdf_mvn(y::Vector, Z::Matrix, σ0::Number, σ1::Number),\n",
    "    ```\n",
    "that evaluates the log-density of a multivariate normal with mean $\\mathbf{0}$ and covariance $\\sigma_0^2 \\mathbf{I} + \\sigma_1^2 \\mathbf{Z} \\mathbf{Z}^T$ at $\\mathbf{y}$. Make your code efficient in the $n \\gg q$ case. \n",
    "\n",
    "0. Compare your result (both accuracy and timing) to the [Distributions.jl](http://distributionsjl.readthedocs.io/en/latest/multivariate.html#multivariate-normal-distribution) package using following data.  \n",
    "    ```julia\n",
    "    using BenchmarkTools, Distributions\n",
    "\n",
    "    srand(280)\n",
    "    n, q = 2000, 10\n",
    "    Z = randn(n, q)\n",
    "    σ0, σ1 = 0.5, 2.0\n",
    "    Σ = σ1^2 * Z * Z.' + σ0^2 * I\n",
    "    mvn = MvNormal(Σ) # MVN(0, Σ)\n",
    "    y = rand(mvn) # generate one instance from MNV(0, Σ)\n",
    "\n",
    "    # check you answer matches that from Distributions.jl\n",
    "    @show logpdf_mvn(y, Z, σ0, σ1)\n",
    "    @show logpdf(mvn, y)\n",
    "\n",
    "    # benchmark\n",
    "    @benchmark logpdf_mvn(y, Z, σ0, σ1)\n",
    "    @benchmark logpdf(mvn, y)\n",
    "    ```"
   ]
  },
  {
   "cell_type": "markdown",
   "metadata": {},
   "source": [
    "## Q2.1 Solution:\n",
    "\n",
    "Below I will show that:\n",
    "$$\n",
    "    \\mathbf{y} \\sim N \\left( \\mathbf{X} \\beta, \\sigma_0^2 \\mathbf{I}_n + \\sigma_1^2 \\mathbf{Z} \\mathbf{Z}^T \\right),\n",
    "$$\n",
    "where $\\mathbf{y} = (y_1, \\ldots, y_n)^T \\in \\mathbb{R}^n$, $\\mathbf{X} = (\\mathbf{x}_1, \\ldots, \\mathbf{x}_n)^T \\in \\mathbb{R}^{n \\times p}$, and $\\mathbf{Z} = (\\mathbf{z}_1, \\ldots, \\mathbf{z}_n)^T \\in \\mathbb{R}^{n \\times q}$. "
   ]
  },
  {
   "cell_type": "markdown",
   "metadata": {},
   "source": [
    "$${f(\\mathbf{y}) = \\frac1{sqrt(2\\pi))^p|\\mathbf{\\Sigma}|^{1/2}}} * e^{-(\\mathbf{y}-\\mathbf{\\mu})^{T}\\mathbf{\\Sigma}^{-1}(\\mathbf{y}-\\mu)/2}$$ \n",
    "<br>\n",
    ">Take the log of both sides to get the log pdf:\n",
    "\n",
    "$$log(f(\\mathbf{y})) =  \\frac{-p}{2}log(2\\pi) - \\frac{-1}{2}log|\\mathbf{\\Sigma}| - \\frac{[(\\mathbf{y}-\\mathbf{\\mu})^T\\mathbf{\\Sigma}^{-1}(\\mathbf{y}-\\mathbf{\\mu})]}{2}$$\n",
    "<br>\n",
    "\n",
    ">Now, we use the **Woodbury formula**:\n",
    "$$(\\mathbf{A} + \\mathbf{U} \\mathbf{V}^T)^{-1} = \\mathbf{A}^{-1} - \\mathbf{A}^{-1} \\mathbf{U} (\\mathbf{I}_m + \\mathbf{V}^T \\mathbf{A}^{-1} \\mathbf{U})^{-1} \\mathbf{V}^T \\mathbf{A}^{-1},\n",
    "$$\n",
    "where $\\mathbf{A} \\in \\mathbb{R}^{n \\times n}$ is nonsingular, $\\mathbf{U}, \\mathbf{V} \\in \\mathbb{R}^{n \\times m}$, and $\\mathbf{I}_m$ is the $m \\times m$ identity matrix.\n",
    "\n",
    ">Let $\\mathbf{A} = \\sigma_0^{2}\\mathbf{I}$ and $\\mathbf{U} = \\mathbf{V} = \\sigma_1\\mathbf{Z}$\n",
    "<br>\n",
    "Using the Woodbury Formula and properties of determinants of block matrices, we can plug in $\\mathbf{|\\Sigma|}$ and $\\mathbf{\\Sigma^{-1}}$ as follows into the logpdf:\n",
    "<br>\n",
    "\n",
    "$$\\mathbf{\\Sigma^{-1}} = ({\\sigma_0^{2}}\\mathbf{I} + \\sigma_1^{2}\\mathbf{Z{Z}^{T}})^{-1}\\mathbf{Z^{T}} = \\sigma_0^{-2}\\mathbf{I} - \\sigma_0^{-4}\\sigma_1^{2}*\\mathbf{Z}* (\\mathbf{I} + \\sigma_0^{-2}*\\sigma_1^{2}\\mathbf{Z^{T}Z})\\mathbf{Z^{T}}$$\n",
    "<br>\n",
    ">Now making use of the property of the determinants of block matrices below:\n",
    "$$\\text{det}(\\mathbf{A} + \\mathbf{U} \\mathbf{V}^T) = \\text{det}(\\mathbf{A}) \\text{det}(\\mathbf{I}_m + \\mathbf{V}^T \\mathbf{A}^{-1} \\mathbf{U}).\n",
    "$$\n",
    ">We get:\n",
    "$$\\mathbf{|\\Sigma|} = det({\\sigma_0^{2}}\\mathbf{I} + \\sigma_1^{2}\\mathbf{Z{Z}^{T}}) = det({\\sigma_0^{2}}\\mathbf{I}) * det(\\mathbf{I} + \\sigma_0^{-2}\\sigma_1^{2}\\mathbf{Z^{T}Z}) = {\\sigma_0^{2n}} * (\\mathbf{I} + \\sigma_0^{-2}\\sigma_1^{2}\\mathbf{Z^{T}Z})$$\n",
    "\n",
    "<br>\n",
    "$$log(f(\\mathbf{y})) =  \\frac{-p}{2}log(2\\pi) - \\frac{-1}{2}log|\\mathbf{\\Sigma}| - \\frac{[(\\mathbf{y}-\\mathbf{\\mu})^T\\mathbf{\\Sigma}^{-1}(\\mathbf{y}-\\mathbf{\\mu})]}{2}$$\n",
    "<br>\n",
    "\n",
    ">where we note that: log|$\\mathbf{\\Sigma}|$ = 2 * n * log(σ0) + logdet($\\mathbf{I}$ + $\\sigma_0^{-2}$*$\\sigma_1^{2}\\mathbf{Z^{T}Z}$))\n",
    "<br>\n",
    "\n",
    "$$log(f(\\mathbf{y})) =  \\frac{-p}{2}log(2\\pi) - \\frac{-1}{2}*(2 * n * log(σ0) + logdet(\\mathbf{I} + $\\sigma_0^{-2}*\\sigma_1^{2}\\mathbf{Z^{T}Z})) - \\frac{[(\\mathbf{y}-\\mathbf{\\mu})^T\\mathbf{\\Sigma}^{-1}(\\mathbf{y}-\\mathbf{\\mu})]}{2}$$\n",
    "<br>\n",
    "\n",
    ">Since we are given that $\\mathbf{\\mu}$ = 0, we can rewrite the log-pdf as:\n",
    "\n",
    "$$log(f(\\mathbf{y})) =  \\frac{-p}{2}log(2\\pi) - \\frac{-1}{2}*(2 * n * log(σ0) + logdet(\\mathbf{I} + $\\sigma_0^{-2}*\\sigma_1^{2}\\mathbf{Z^{T}Z})) - \\frac{[(\\mathbf{y})^T\\mathbf{\\Sigma}^{-1}(\\mathbf{y})]}{2}$$\n",
    "<br>\n",
    "\n",
    ">Substituting in $\\mathbf{\\Sigma^{-1}}$ we have:\n",
    "\n",
    "$$log(f(\\mathbf{y})) =  \\frac{-p}{2}log(2\\pi) - \\frac{-1}{2}*(2 * n * log(σ0) + logdet(\\mathbf{I} + \\sigma_0^{-2}*\\sigma_1^{2}\\mathbf{Z^{T}Z})) - \\frac{[(\\mathbf{y})^T(\\sigma_0^{-2}\\mathbf{I} - \\sigma_0^{-4}*\\sigma_1^{2}*\\mathbf{Z}(\\mathbf{I} + \\sigma_0^{-2}*\\sigma_1^{2}\\mathbf{Z^{T}Z}))(\\mathbf{y})]}{2}$$\n",
    "<br>\n",
    "\n",
    ">Now distributing out the $y$ and $y^T$ we get:\n",
    "\n",
    "$$log(f(\\mathbf{y})) =  \\frac{-p}{2}log(2\\pi) - \\frac{-1}{2}*(2 * n * log(σ0) + logdet(\\mathbf{I} + \\sigma_0^{-2}*\\sigma_1^{2}\\mathbf{Z^{T}Z})) - \\frac{(\\mathbf{y})^T(\\sigma_0^{-2})\\mathbf{y}}{2} + (\\frac{\\sigma_1}{\\sigma_0^{2}}\\mathbf{{y}^{T}Z})(\\mathbf{I} + \\sigma_0^{-2}*\\sigma_1^{2}\\mathbf{Z^{T}Z})(\\mathbf{{Z}^{T}}\\mathbf{y}\\frac{\\sigma_1}{\\sigma_0^{2}})$$\n",
    "\n",
    ">Thus, we write the function below, utilizing symmetric and positive definite structure of $\\mathbf{\\Sigma} = (\\mathbf{I} + \\sigma_0^{-2}*\\sigma_1^{2}\\mathbf{Z^{T}Z})$ through Cholesky Decomposition. We then can use this decomposition to speed up efficiency and reduce our benchmarking run time, when computing the determinant or solving the linear system of equations in the last term."
   ]
  },
  {
   "cell_type": "markdown",
   "metadata": {},
   "source": [
    ">Now we we will show that the variance evaluates the variance of the log-density of a multivariate normal with mean 0 and and covariance matrix $\\mathbf{\\Sigma} = (\\mathbf{I} + \\sigma_0^{-2}*\\sigma_1^{2}\\mathbf{Z^{T}Z})$<br>\n",
    "<br>\n",
    ">First we start by showing that the mean of $\\mathbf{y}$ is $\\mathbf{0}$:\n",
    "$$\\mathbf{y} = \\mathbf{X} \\mathbf{\\beta} + \\mathbf{Z}^T \\mathbf{\\gamma} + \\mathbf{\\epsilon}$$\n",
    "<br>\n",
    "$$E[\\mathbf{y}] = E[\\mathbf{X} \\beta + \\mathbf{Z}^T \\mathbf{\\gamma} + \\mathbf{\\epsilon}]$$\n",
    "<br>\n",
    "$$E[\\mathbf{y}] = E[\\mathbf{X} \\beta] + E[\\mathbf{Z}^T \\mathbf{\\gamma}] + E[\\mathbf{\\epsilon}]$$\n",
    "<br>\n",
    "$$E[\\mathbf{y}] = E[\\mathbf{X}]\\mathbf{\\beta} + \\mathbf{Z}^TE[\\mathbf{\\gamma}] + E[\\mathbf{\\epsilon}]$$\n",
    "<br> \n",
    ">Recall that we are given that $\\epsilon_i$ are independent normal errors $N(\\mathbf{0},\\sigma_0^2)$, $\\beta \\in \\mathbb{R}^p$ are fixed effects, and $\\mathbf{\\gamma} \\in \\mathbb{R}^q$ are random effects assumed to be $N(\\mathbf{0}_q, \\sigma_1^2 \\mathbf{I}_q$) independent of $\\epsilon_i$. Then plugging in $E[\\mathbf{\\gamma}] = \\mathbf{0}$ and $E[\\mathbf{\\epsilon}] = \\mathbf{0}$, we get:\n",
    "<br>\n",
    "$$E[\\mathbf{y}] = E[\\mathbf{X}]\\mathbf{\\beta} + \\mathbf{Z}^T[\\mathbf{0}] + [\\mathbf{0}]$$\n",
    ">And then we make note of the fact that X is a matrix of fixed effects, so we get:\n",
    "$$E[\\mathbf{y}] = \\mathbf{X}\\mathbf{\\beta}$$\n",
    "<br>\n",
    "\n",
    ">Now we we will show that the covariance of y evaluates to $\\mathbf{\\Sigma} = (\\mathbf{I} + \\sigma_0^{-2}*\\sigma_1^{2}\\mathbf{Z^{T}Z})$\n",
    "<br>\n",
    "$$Var(\\mathbf{y}) = Var(\\mathbf{X} \\beta + \\mathbf{Z}^T \\mathbf{\\gamma} + \\mathbf{\\epsilon})$$\n",
    "<br>\n",
    "$$Var(\\mathbf{y}) = Var(\\mathbf{X} \\beta) + Var(\\mathbf{Z}^T \\mathbf{\\gamma}) + Var(\\mathbf{\\epsilon})$$\n",
    "<br>\n",
    ">Now, making note of the fact that $Var(\\mathbf{X}\\mathbf{\\beta}) = 0$, since $\\mathbf{\\beta}$ and $\\mathbf{X}$ are fixed constants, we get:\n",
    "$$Var(\\mathbf{y}) = 0 + \\mathbf{Z}^TVar(\\mathbf{\\gamma})\\mathbf{Z} + Var(\\mathbf{\\epsilon})$$\n",
    "<br>\n",
    ">Now plugging in $Var(\\mathbf{\\gamma}) = \\sigma_1^2 \\mathbf{I}_q$ and $Var(\\mathbf{\\epsilon}) = \\sigma_0^2$ we get:\n",
    "<br>\n",
    "$$Var(\\mathbf{y}) = \\mathbf{Z}^T(\\sigma_1^2 \\mathbf{I}_q)\\mathbf{Z} + \\sigma_0^2(\\mathbf{I})$$\n",
    "<br>\n",
    "$$Var(\\mathbf{y}) = \\mathbf{I} + \\sigma_0^{-2}*\\sigma_1^{2}\\mathbf{Z^{T}Z}$$"
   ]
  },
  {
   "cell_type": "markdown",
   "metadata": {},
   "source": [
    "## Q2.2\n",
    "\n",
    "Below I have written a function, made efficient for the $n \\gg q$ case. \n",
    "    ```julia\n",
    "    logpdf_mvn(y::Vector, Z::Matrix, σ0::Number, σ1::Number),\n",
    "    ```\n",
    "that evaluates the log-density of a multivariate normal with mean $\\mathbf{0}$ and covariance $\\sigma_0^2 \\mathbf{I} + \\sigma_1^2 \\mathbf{Z} \\mathbf{Z}^T$ at $\\mathbf{y}$. "
   ]
  },
  {
   "cell_type": "code",
   "execution_count": 33,
   "metadata": {},
   "outputs": [
    {
     "data": {
      "text/plain": [
       "logpdf_mvn (generic function with 1 method)"
      ]
     },
     "execution_count": 33,
     "metadata": {},
     "output_type": "execute_result"
    }
   ],
   "source": [
    "# better efficiency\n",
    "function logpdf_mvn(y::Vector, Z::Matrix, σ0::Number, σ1::Number)\n",
    "    n = length(y)\n",
    "    Σchol = cholfact!(σ1^2/σ0^2 * (Z' * Z) + I)\n",
    "    logdetΣchol = 2 * n * log(σ0) + logdet(Σchol)\n",
    "    - (n//2) * log(2π) - (1//2) * logdetΣchol - (1//2) * (sum(abs2, y)/σ0^2 -\n",
    "        sum(abs2, Σchol[:L] \\ ((Z' * y) * (σ1/σ0^2))))\n",
    "end"
   ]
  },
  {
   "cell_type": "markdown",
   "metadata": {},
   "source": [
    "## Q2.3 Solution:\n",
    "\n",
    "Below I compare the results by both accuracy and timing, to the `logpdf()` function in the Distributions.jl package using the given data.\n",
    "\n",
    "First, I check if we get the same value out from our function and the built in function, and we do! Using the given data as inputs, both functions return a value of -1571.573673465 with some minor floating point rounding margin between the two (which is negligable). "
   ]
  },
  {
   "cell_type": "code",
   "execution_count": 34,
   "metadata": {
    "scrolled": true
   },
   "outputs": [
    {
     "name": "stdout",
     "output_type": "stream",
     "text": [
      "logpdf_mvn(y, Z, σ0, σ1) = -1571.5736734653365\n",
      "logpdf(mvn, y) = -1571.5736734654135\n"
     ]
    },
    {
     "data": {
      "text/plain": [
       "-1571.5736734654135"
      ]
     },
     "execution_count": 34,
     "metadata": {},
     "output_type": "execute_result"
    }
   ],
   "source": [
    "using BenchmarkTools, Distributions\n",
    "\n",
    "    srand(280)\n",
    "    n, q = 2000, 10\n",
    "    Z = randn(n, q)\n",
    "    σ0, σ1 = 0.5, 2.0\n",
    "    Σ = σ1^2 * Z * Z.' + σ0^2 * I\n",
    "    mvn = MvNormal(Σ) # MVN(0, Σ)\n",
    "    y = rand(mvn) # generate one instance from MNV(0, Σ)\n",
    "\n",
    "    # check you answer matches that from Distributions.jl\n",
    "@show logpdf_mvn(y, Z, σ0, σ1)\n",
    "@show logpdf(mvn, y)"
   ]
  },
  {
   "cell_type": "markdown",
   "metadata": {},
   "source": [
    "Below we use the BenchmarkingTools.jl package to benchmark the two functions, and compare efficiency."
   ]
  },
  {
   "cell_type": "code",
   "execution_count": 27,
   "metadata": {},
   "outputs": [
    {
     "data": {
      "text/plain": [
       "BenchmarkTools.Trial: \n",
       "  memory estimate:  4.17 KiB\n",
       "  allocs estimate:  16\n",
       "  --------------\n",
       "  minimum time:     37.784 μs (0.00% GC)\n",
       "  median time:      56.675 μs (0.00% GC)\n",
       "  mean time:        61.678 μs (0.81% GC)\n",
       "  maximum time:     3.099 ms (92.81% GC)\n",
       "  --------------\n",
       "  samples:          10000\n",
       "  evals/sample:     1"
      ]
     },
     "execution_count": 27,
     "metadata": {},
     "output_type": "execute_result"
    }
   ],
   "source": [
    "# benchmark\n",
    "@benchmark logpdf_mvn(y, Z, σ0, σ1)"
   ]
  },
  {
   "cell_type": "code",
   "execution_count": 28,
   "metadata": {
    "scrolled": true
   },
   "outputs": [
    {
     "data": {
      "text/plain": [
       "BenchmarkTools.Trial: \n",
       "  memory estimate:  15.78 KiB\n",
       "  allocs estimate:  3\n",
       "  --------------\n",
       "  minimum time:     3.922 ms (0.00% GC)\n",
       "  median time:      6.345 ms (0.00% GC)\n",
       "  mean time:        6.081 ms (0.00% GC)\n",
       "  maximum time:     10.068 ms (0.00% GC)\n",
       "  --------------\n",
       "  samples:          819\n",
       "  evals/sample:     1"
      ]
     },
     "execution_count": 28,
     "metadata": {},
     "output_type": "execute_result"
    }
   ],
   "source": [
    "@benchmark logpdf(mvn, y)"
   ]
  },
  {
   "cell_type": "markdown",
   "metadata": {},
   "source": [
    "### Memory:\n",
    "\n",
    "Notice how my function implementation of the logpdf take on average 4.17 KiB of memory while the built in logpdf function implementation takes on average 15.78 KiB of memory.\n",
    "\n",
    "This indicates that our function allocates about 15.78/4.17 = 3.78 fold less memory than the built in function. "
   ]
  },
  {
   "cell_type": "markdown",
   "metadata": {},
   "source": [
    "### Timing:\n",
    "\n",
    "Notice how my function implementation of the logpdf takes a median of 56.675 μs while the built in logpdf function implementation takes a median of 6.345 ms to run.\n",
    "\n",
    "This indicates that our function is about 6.345/.056675 = 111.95 fold faster than the built in function! \n",
    "\n",
    "Small, fast and wicked cool~"
   ]
  }
 ],
 "metadata": {
  "kernelspec": {
   "display_name": "Julia 0.6.2",
   "language": "julia",
   "name": "julia-0.6"
  },
  "language_info": {
   "file_extension": ".jl",
   "mimetype": "application/julia",
   "name": "julia",
   "version": "0.6.2"
  },
  "toc": {
   "colors": {
    "hover_highlight": "#DAA520",
    "running_highlight": "#FF0000",
    "selected_highlight": "#FFD700"
   },
   "moveMenuLeft": true,
   "nav_menu": {
    "height": "87px",
    "width": "252px"
   },
   "navigate_menu": true,
   "number_sections": true,
   "sideBar": true,
   "threshold": 4,
   "toc_cell": false,
   "toc_section_display": "block",
   "toc_window_display": false,
   "widenNotebook": false
  }
 },
 "nbformat": 4,
 "nbformat_minor": 2
}
