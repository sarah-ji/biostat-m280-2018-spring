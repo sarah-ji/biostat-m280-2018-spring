{
 "cells": [
  {
   "cell_type": "markdown",
   "metadata": {},
   "source": [
    "# Biostat M280 Homework 2\n",
    "# Sarah Ji\n",
    "**Due May 11 @ 11:59PM**"
   ]
  },
  {
   "cell_type": "markdown",
   "metadata": {},
   "source": [
    "## Q1. Nonnegative Matrix Factorization\n",
    "\n",
    "Nonnegative matrix factorization (NNMF) was introduced by [Lee and Seung (1999)](https://www.nature.com/articles/44565) as an analog of principal components and vector quantization with applications in data compression and clustering. In this homework we consider algorithms for fitting NNMF and (optionally) high performance computing using graphical processing units (GPUs).\n",
    "In mathematical terms, one approximates a data matrix $\\mathbf{X} \\in \\mathbb{R}^{m \\times n}$ with nonnegative entries $x_{ij}$ by a product of two low-rank matrices $\\mathbf{V} \\in \\mathbb{R}^{m \\times r}$ and $\\mathbf{W} \\in \\mathbb{R}^{r \\times n}$ with nonnegative entries $v_{ik}$ and $w_{kj}$. Consider minimization of the squared Frobenius norm\n",
    "$$\n",
    "\tL(\\mathbf{V}, \\mathbf{W}) = \\|\\mathbf{X} - \\mathbf{V} \\mathbf{W}\\|_{\\text{F}}^2 = \\sum_i \\sum_j \\left(x_{ij} - \\sum_k v_{ik} w_{kj} \\right)^2, \\quad v_{ik} \\ge 0, w_{kj} \\ge 0,\n",
    "$$\n",
    "which should lead to a good factorization. Later in the course we will learn how to derive a majorization-minimization (MM) algorithm with iterative updates\n",
    "$$\n",
    "\tv_{ik}^{(t+1)} = v_{ik}^{(t)} \\frac{\\sum_j x_{ij} w_{kj}^{(t)}}{\\sum_j b_{ij}^{(t)} w_{kj}^{(t)}}, \\quad \\text{where } b_{ij}^{(t)} = \\sum_k v_{ik}^{(t)} w_{kj}^{(t)},\n",
    "$$\n",
    "$$\n",
    "\tw_{kj}^{(t+1)} = w_{kj}^{(t)} \\frac{\\sum_i x_{ij} v_{ik}^{(t+1)}}{\\sum_i b_{ij}^{(t+1/2)} v_{ik}^{(t+1)}}, \\quad \\text{where } b_{ij}^{(t+1/2)} = \\sum_k v_{ik}^{(t+1)} w_{kj}^{(t)}\n",
    "$$\n",
    "that drive the objective $L^{(t)} = L(\\mathbf{V}^{(t)}, \\mathbf{W}^{(t)})$ downhill. Superscript $t$ indicates iteration number. Efficiency (both speed and memory) will be the most important criterion when grading this problem.\n",
    "\n",
    "\n",
    "1. Implement the algorithm with arguments: $\\mathbf{X}$ (data, each row is a vectorized image), rank $r$, convergence tolerance, and optional starting point.\n",
    "```julia\n",
    "function nnmf(\n",
    "    X::Matrix, \n",
    "    r::Int;\n",
    "    maxiter::Int=1000, \n",
    "    tol::eltype(X)=1e-4,\n",
    "    V::Matrix{eltype(X)}=rand(size(X, 1), r),\n",
    "    W::Matrix{eltype(X)}=rand(r, size(X, 2))\n",
    "    )\n",
    "    # implementation\n",
    "    # Output\n",
    "    return V, W\n",
    "end\n",
    "```\n",
    "\n",
    "0. Database 1 from the [MIT Center for Biological and Computational Learning (CBCL)](http://cbcl.mit.edu) reduces to a matrix $\\mathbf{X}$ containing $m = 2,429$ gray-scale face images with $n = 19 \\times 19 = 361$ pixels per face. Each image (row) is scaled to have mean and standard deviation 0.25.  \n",
    "Read in the [`nnmf-2429-by-361-face.txt`](http://hua-zhou.github.io/teaching/biostatm280-2018spring/hw/hw2/nnmf-2429-by-361-face.txt) file, e.g., using [`readdlm()`](https://docs.julialang.org/en/stable/stdlib/io-network/#Base.DataFmt.readdlm-Tuple{Any,Char,Type,Char}) function, and display a couple sample images, e.g., using [ImageView.jl](https://github.com/JuliaImages/ImageView.jl) package.\n",
    "\n",
    "0. Report the run times, using `@time`, of your function for fitting NNMF on the MIT CBCL face data set at ranks $r=10, 20, 30, 40, 50$. For ease of comparison (and grading), please start your algorithm with the provided $\\mathbf{V}^{(0)}$ (first $r$ columns of [`V0.txt`](http://hua-zhou.github.io/teaching/biostatm280-2018spring/hw/hw2/V0.txt)) and $\\mathbf{W}^{(0)}$ (first $r$ rows of [`W0.txt`](http://hua-zhou.github.io/teaching/biostatm280-2018spring/hw/hw2/W0.txt)) and stopping criterion\n",
    "$$\n",
    "\t\\frac{|L^{(t+1)} - L^{(t)}|}{|L^{(t)}| + 1} \\le 10^{-4}.\n",
    "$$\n",
    "\n",
    "0. Choose an $r \\in \\{10, 20, 30, 40, 50\\}$ and start your algorithm from a different $\\mathbf{V}^{(0)}$ and $\\mathbf{W}^{(0)}$. Do you obtain the same objective value and $(\\mathbf{V}, \\mathbf{W})$? Explain what you find.\n",
    "\n",
    "0. For the same $r$, start your algorithm from $v_{ik}^{(0)} = w_{kj}^{(0)} = 1$ for all $i,j,k$. Do you obtain the same objective value and $(\\mathbf{V}, \\mathbf{W})$? Explain what you find.\n",
    "\n",
    "0. Plot the basis images (rows of $\\mathbf{W}$) at rank $r=50$. What do you find?\n",
    "\n",
    "0. (Optional) Investigate the GPU capabilities of Julia. Report the speed gain of your GPU code over CPU code at ranks $r=10, 20, 30, 40, 50$. Make sure to use the same starting point as in part 2."
   ]
  },
  {
   "cell_type": "markdown",
   "metadata": {},
   "source": [
    "## Q1.1 Solution:"
   ]
  },
  {
   "cell_type": "code",
   "execution_count": 1,
   "metadata": {},
   "outputs": [
    {
     "data": {
      "text/plain": [
       "nnmf (generic function with 1 method)"
      ]
     },
     "execution_count": 1,
     "metadata": {},
     "output_type": "execute_result"
    }
   ],
   "source": [
    "#using for loop\n",
    "function nnmf(\n",
    "    X::Matrix{T}, \n",
    "    r::Integer;\n",
    "    maxiter::Integer=1000, \n",
    "    tol::Number=1e-4,\n",
    "    V::Matrix{T}=rand(T, size(X, 1), r),\n",
    "    W::Matrix{T}=rand(T, r, size(X, 2))\n",
    "    ) where T <: AbstractFloat\n",
    "    #implementation\n",
    "    m, n = size(X)\n",
    "    A = zeros(X)\n",
    "    MR_1 = zeros(m, r)\n",
    "    MR_2 = zeros(m, r)\n",
    "    RR = zeros(r, r)\n",
    "    RN_1 = zeros(r, n)\n",
    "    RN_2 = zeros(r, n)\n",
    "    A_mul_B!(A, V, W)\n",
    "    A .= X .- A\n",
    "    l_last = abs2(vecnorm(A, 2))\n",
    "\n",
    "    for i in 1:maxiter\n",
    "        A_mul_Bt!(MR_1, X, W)\n",
    "        BLAS.syrk!('U', 'N', 1.0, W, 0.0, RR)\n",
    "        V .= V .* MR_1 ./ BLAS.symm!('R', 'U', 1.0, RR, V, 0.0, MR_2)\n",
    "\n",
    "        At_mul_B!(RN_1, V, X)\n",
    "        BLAS.syrk!('U', 'T', 1.0, V, 0.0, RR)\n",
    "        W .= W .* RN_1 ./ BLAS.symm!('L', 'U', 1.0, RR, W, 0.0, RN_2)\n",
    "\n",
    "        A_mul_B!(A, V, W)\n",
    "        A .= X .- A\n",
    "        l_new = abs2(vecnorm(A, 2))\n",
    "        if (abs(l_new - l_last) / (abs(l_last) + 1)) <= tol\n",
    "            break\n",
    "        end\n",
    "        l_last = l_new\n",
    "    end\n",
    "    \n",
    "    return V, W\n",
    "end"
   ]
  },
  {
   "cell_type": "code",
   "execution_count": 9,
   "metadata": {},
   "outputs": [
    {
     "data": {
      "text/plain": [
       "nnmfOneDemo (generic function with 1 method)"
      ]
     },
     "execution_count": 9,
     "metadata": {},
     "output_type": "execute_result"
    }
   ],
   "source": [
    "#using for loop\n",
    "function nnmfOneDemo(\n",
    "    X::Matrix{T}, \n",
    "    r::Integer;\n",
    "    maxiter::Integer=1000, \n",
    "    tol::Number=1e-4,\n",
    "    V::Matrix{T}=rand(T, size(X, 1), r),\n",
    "    W::Matrix{T}=rand(T, r, size(X, 2))\n",
    "    ) where T <: AbstractFloat\n",
    "    #implementation\n",
    "    m, n = size(X)\n",
    "    A = zeros(X)\n",
    "    MR_1 = zeros(m, r)\n",
    "    MR_2 = zeros(m, r)\n",
    "    RR = zeros(r, r)\n",
    "    RN_1 = zeros(r, n)\n",
    "    RN_2 = zeros(r, n)\n",
    "    A_mul_B!(A, V, W)\n",
    "    A .= X .- A\n",
    "    l_last = abs2(vecnorm(A, 2))\n",
    "\n",
    "    for i in 1:maxiter\n",
    "        A_mul_Bt!(MR_1, X, W)\n",
    "        BLAS.syrk!('U', 'N', 1.0, W, 0.0, RR)\n",
    "        V .= V .* MR_1 ./ BLAS.symm!('R', 'U', 1.0, RR, V, 0.0, MR_2)\n",
    "\n",
    "        At_mul_B!(RN_1, V, X)\n",
    "        BLAS.syrk!('U', 'T', 1.0, V, 0.0, RR)\n",
    "        W .= W .* RN_1 ./ BLAS.symm!('L', 'U', 1.0, RR, W, 0.0, RN_2)\n",
    "\n",
    "        A_mul_B!(A, V, W)\n",
    "        A .= X .- A\n",
    "        l_new = abs2(vecnorm(A, 2))\n",
    "        if (abs(l_new - l_last) / (abs(l_last) + 1)) <= tol\n",
    "            println(i)\n",
    "            break\n",
    "        end\n",
    "        l_last = l_new\n",
    "    end\n",
    "    \n",
    "    return V, W\n",
    "end"
   ]
  },
  {
   "cell_type": "code",
   "execution_count": 2,
   "metadata": {},
   "outputs": [
    {
     "data": {
      "text/plain": [
       "nnmf2 (generic function with 1 method)"
      ]
     },
     "execution_count": 2,
     "metadata": {},
     "output_type": "execute_result"
    }
   ],
   "source": [
    "# using while loop\n",
    "function nnmf2(\n",
    "    X::Matrix{T}, \n",
    "    r::Integer;\n",
    "    maxiter::Integer=1000, \n",
    "    tol::Number=1e-4,\n",
    "    V::Matrix{T}=rand(T, size(X, 1), r),\n",
    "    W::Matrix{T}=rand(T, r, size(X, 2))\n",
    "    ) where T <: AbstractFloat\n",
    "    #implementation\n",
    "    m, n = size(X)\n",
    "    A = zeros(X)\n",
    "    MR_1 = zeros(m, r)\n",
    "    MR_2 = zeros(m, r)\n",
    "    RR = zeros(r, r)\n",
    "    RN_1 = zeros(r, n)\n",
    "    RN_2 = zeros(r, n)\n",
    "    l_new = abs2(vecnorm(X - V * W, 2))\n",
    "    l_last = 0.0\n",
    "    count = 0\n",
    "    \n",
    "    while (abs(l_new - l_last) / (abs(l_last) + 1)) > tol && count < maxiter\n",
    "        l_last = l_new\n",
    "        count += 1\n",
    "        \n",
    "        A_mul_Bt!(MR_1, X, W)\n",
    "        BLAS.syrk!('U','N', 1.0, W, 0.0, RR)\n",
    "        V .= V .* MR_1 ./ BLAS.symm!('R', 'U', 1.0, RR, V, 0.0, MR_2)\n",
    "\n",
    "        At_mul_B!(RN_1, V, X)\n",
    "        BLAS.syrk!('U','T', 1.0, V, 0.0, RR)\n",
    "        W .= W .* RN_1 ./ BLAS.symm!('L', 'U', 1.0, RR, W, 0.0, RN_2)\n",
    "\n",
    "        A_mul_B!(A, V, W)\n",
    "        A .= X .- A\n",
    "        l_new = abs2(vecnorm(A, 2))\n",
    "    end\n",
    "    return V, W\n",
    "end"
   ]
  },
  {
   "cell_type": "markdown",
   "metadata": {},
   "source": [
    "## Q1.2 Solution:"
   ]
  },
  {
   "cell_type": "code",
   "execution_count": 4,
   "metadata": {},
   "outputs": [
    {
     "data": {
      "image/png": "[encoded data removed]",
      "text/plain": [
       "PyPlot.Figure(PyObject <Figure size 640x480 with 5 Axes>)"
      ]
     },
     "metadata": {},
     "output_type": "display_data"
    },
    {
     "data": {
      "text/plain": [
       "PyObject <matplotlib.image.AxesImage object at 0x1373b1690>"
      ]
     },
     "execution_count": 4,
     "metadata": {},
     "output_type": "execute_result"
    }
   ],
   "source": [
    "#Pkg.add(\"ImageView\")\n",
    "using ImageView\n",
    "using PyPlot\n",
    "\n",
    "X = readdlm(\"nnmf-2429-by-361-face.txt\")\n",
    "img1 = X[1,:]\n",
    "img1 = reshape(img1, 19, 19)\n",
    "img2 = X[2,:]\n",
    "img2 = reshape(img2, 19, 19)\n",
    "img3 = X[10, :]\n",
    "img3 = reshape(img3, 19, 19)\n",
    "img4 = X[125, :]\n",
    "img4 = reshape(img4, 19, 19)\n",
    "img5 = X[130, :]\n",
    "img5 = reshape(img5, 19, 19)\n",
    "\n",
    "subplot(1, 5, 1)\n",
    "PyPlot.imshow(img1)\n",
    "subplot(1, 5, 2)\n",
    "PyPlot.imshow(img2)\n",
    "subplot(1, 5, 3)\n",
    "PyPlot.imshow(img3)\n",
    "subplot(1, 5, 4)\n",
    "PyPlot.imshow(img4)\n",
    "subplot(1, 5, 5)\n",
    "PyPlot.imshow(img5)"
   ]
  },
  {
   "cell_type": "markdown",
   "metadata": {},
   "source": [
    "## Q1.3 Solution:"
   ]
  },
  {
   "cell_type": "code",
   "execution_count": 5,
   "metadata": {},
   "outputs": [
    {
     "name": "stdout",
     "output_type": "stream",
     "text": [
      "  2.838766 seconds (363.49 k allocations: 22.923 MiB, 0.36% gc time)\n",
      "  2.425341 seconds (25 allocations: 7.971 MiB)\n",
      "  3.312509 seconds (25 allocations: 8.614 MiB, 0.27% gc time)\n",
      "  4.632827 seconds (25 allocations: 9.258 MiB)\n",
      "  7.088080 seconds (26 allocations: 9.903 MiB, 0.09% gc time)\n"
     ]
    },
    {
     "data": {
      "text/plain": [
       "([4.06515e-8 0.0239183 … 0.00502753 0.0308952; 2.06692e-5 0.0167692 … 0.00168436 0.0335739; … ; 0.0136536 0.0204076 … 8.933e-5 0.0451226; 0.0182157 0.00994188 … 5.39374e-6 0.000142989], [1.98839e-64 1.24767e-53 … 2.73192e-14 8.87992e-65; 5.00853e-27 2.38036e-26 … 2.00588e-32 4.48034e-61; … ; 3.60097e-15 2.70773e-15 … 3.86231e-22 2.41101e-44; 0.000249871 6.68716e-20 … 2.36259e-7 1.30468e-11])"
      ]
     },
     "execution_count": 5,
     "metadata": {},
     "output_type": "execute_result"
    }
   ],
   "source": [
    "V0 = readdlm(\"V0.txt\");\n",
    "W0 = readdlm(\"W0.txt\");\n",
    "# with rank 10 its blurrier than with rank 50 because we are capturing less information from the original X\n",
    "\n",
    "@time nnmf(X, 10, V = V0[:, 1:10], W = W0[1:10, :])\n",
    "@time nnmf(X, 20, V = V0[:, 1:20], W = W0[1:20, :])\n",
    "@time nnmf(X, 30, V = V0[:, 1:30], W = W0[1:30, :])\n",
    "@time nnmf(X, 40, V = V0[:, 1:40], W = W0[1:40, :])\n",
    "@time nnmf(X, 50, V = V0[:, 1:50], W = W0[1:50, :])"
   ]
  },
  {
   "cell_type": "code",
   "execution_count": 6,
   "metadata": {},
   "outputs": [
    {
     "data": {
      "text/plain": [
       "BenchmarkTools.Trial: \n",
       "  memory estimate:  9.90 MiB\n",
       "  allocs estimate:  22\n",
       "  --------------\n",
       "  minimum time:     13.013 s (0.00% GC)\n",
       "  median time:      13.013 s (0.00% GC)\n",
       "  mean time:        13.013 s (0.00% GC)\n",
       "  maximum time:     13.013 s (0.00% GC)\n",
       "  --------------\n",
       "  samples:          1\n",
       "  evals/sample:     1"
      ]
     },
     "execution_count": 6,
     "metadata": {},
     "output_type": "execute_result"
    }
   ],
   "source": [
    "using BenchmarkTools\n",
    "srand(1738)\n",
    "@benchmark nnmf(X, 50, V = V0[:, 1:50], W = W0[1:50, :])"
   ]
  },
  {
   "cell_type": "markdown",
   "metadata": {},
   "source": [
    "## Q1.4 Solution:\n",
    "\n",
    "For r = 50, we do not obtain the same objective value and (V, W) are not the same from that of Q1.3."
   ]
  },
  {
   "cell_type": "code",
   "execution_count": 11,
   "metadata": {},
   "outputs": [
    {
     "data": {
      "text/plain": [
       "([2.74963e-5 0.0611877 … 0.00909354 0.026086; 0.00316587 0.0408687 … 0.00972443 0.0261709; … ; 0.00681437 3.45618e-16 … 0.00460601 0.0179353; 2.17795e-95 0.0262601 … 9.02961e-45 0.0136468], [5.61901 8.21154 … 1.11612e-20 8.20708e-26; 4.39262e-21 5.27126e-39 … 1.30452e-9 1.37556e-41; … ; 0.228965 3.22195e-11 … 2.72394e-24 8.3275e-34; 5.22219e-54 1.00241e-34 … 6.1477e-23 5.74599e-37])"
      ]
     },
     "execution_count": 11,
     "metadata": {},
     "output_type": "execute_result"
    }
   ],
   "source": [
    "V_50, W_50 = nnmf(X, 50, V = V0[:, 1:50], W = W0[1:50, :])\n",
    "V_r, W_r = nnmf(X, 50) #with random starting points"
   ]
  },
  {
   "cell_type": "code",
   "execution_count": 14,
   "metadata": {},
   "outputs": [
    {
     "name": "stdout",
     "output_type": "stream",
     "text": [
      "L_50 = abs2(vecnorm(X - V_50 * W_50, 2)) = 4430.201581697289\n",
      "L_random = abs2(vecnorm(X - V_r * W_r, 2)) = 4494.235190193085\n"
     ]
    },
    {
     "data": {
      "text/plain": [
       "4494.235190193085"
      ]
     },
     "execution_count": 14,
     "metadata": {},
     "output_type": "execute_result"
    }
   ],
   "source": [
    "@show Objective_Value_50 = X - (V_50 * W_50)\n",
    "@show Objective_Value_random = X - (V_r * W_r)\n",
    "@show L_50 = abs2(vecnorm((X - (V_50 * W_50)), 2))\n",
    "@show L_random = abs2(vecnorm((X - (V_r * W_r)), 2))"
   ]
  },
  {
   "cell_type": "markdown",
   "metadata": {},
   "source": [
    "Since the function is not a convex problem, when we optimize it from different starting points, we may get different local minimums."
   ]
  },
  {
   "cell_type": "markdown",
   "metadata": {},
   "source": [
    "## Q1.5 Solution:\n"
   ]
  },
  {
   "cell_type": "code",
   "execution_count": 12,
   "metadata": {},
   "outputs": [
    {
     "name": "stdout",
     "output_type": "stream",
     "text": [
      "V_50 == V_1 = false\n",
      "W_50 == W_1 = false\n",
      "L_one = abs2(vecnorm(X - V_1 * W_1, 2)) = 25297.01651108185\n",
      "L_50 = abs2(vecnorm(X - V_50 * W_50, 2)) = 4430.201581697289\n"
     ]
    },
    {
     "data": {
      "text/plain": [
       "4430.201581697289"
      ]
     },
     "execution_count": 12,
     "metadata": {},
     "output_type": "execute_result"
    }
   ],
   "source": [
    "V_ones = ones(2429, 50)\n",
    "W_ones = ones(50, 361)\n",
    "V_1, W_1 = nnmf(X, 50, V = V_ones, W = W_ones)\n",
    "\n",
    "@show V_50 == V_1\n",
    "@show W_50 == W_1\n",
    "\n",
    "VW_1 = V_1*W_1 # like our new X for initial values 1\n",
    "VW_50 = V_50*W_50 # X = VW with first 50 columns and 50 rows \n",
    "\n",
    "@show L_one = abs2(vecnorm((X - (V_1 * W_1)), 2))\n",
    "@show L_50 = abs2(vecnorm((X - (V_50 * W_50)), 2))"
   ]
  },
  {
   "cell_type": "code",
   "execution_count": 11,
   "metadata": {},
   "outputs": [
    {
     "data": {
      "text/plain": [
       "2429×361 Array{Float64,2}:\n",
       " 0.101271   0.1261    0.139962  0.129834  …  0.171626  0.152778  0.116491\n",
       " 0.100649   0.125325  0.139103  0.129037     0.170572  0.15184   0.115775\n",
       " 0.101952   0.126948  0.140904  0.130708     0.172781  0.153806  0.117275\n",
       " 0.0977756  0.121747  0.135131  0.125353     0.165702  0.147505  0.11247 \n",
       " 0.100859   0.125587  0.139393  0.129306     0.170928  0.152156  0.116017\n",
       " 0.0983313  0.122439  0.135899  0.126066  …  0.166644  0.148343  0.113109\n",
       " 0.096265   0.119867  0.133044  0.123417     0.163142  0.145226  0.110733\n",
       " 0.0930882  0.115911  0.128653  0.119344     0.157759  0.140434  0.107078\n",
       " 0.0892397  0.111119  0.123334  0.11441      0.151236  0.134628  0.102651\n",
       " 0.0886539  0.110389  0.122525  0.113659     0.150244  0.133744  0.101978\n",
       " 0.101289   0.126122  0.139987  0.129857  …  0.171656  0.152805  0.116511\n",
       " 0.0996033  0.124023  0.137657  0.127696     0.1688    0.150263  0.114573\n",
       " 0.101862   0.126836  0.140779  0.130592     0.172628  0.15367   0.117171\n",
       " ⋮                                        ⋱                      ⋮       \n",
       " 0.10345    0.128813  0.142973  0.132628     0.175318  0.156065  0.118997\n",
       " 0.106654   0.132803  0.147403  0.136736     0.18075   0.1609    0.122683\n",
       " 0.104919   0.130642  0.145004  0.134511     0.177809  0.158282  0.120687\n",
       " 0.104816   0.130515  0.144862  0.13438   …  0.177635  0.158127  0.120569\n",
       " 0.104639   0.130294  0.144618  0.134153     0.177335  0.15786   0.120366\n",
       " 0.106456   0.132556  0.147129  0.136482     0.180414  0.160601  0.122456\n",
       " 0.106408   0.132496  0.147062  0.13642      0.180332  0.160528  0.1224  \n",
       " 0.106402   0.132489  0.147054  0.136413     0.180323  0.16052   0.122394\n",
       " 0.105818   0.131762  0.146246  0.135664  …  0.179332  0.159638  0.121721\n",
       " 0.105564   0.131445  0.145896  0.135338     0.178902  0.159255  0.121429\n",
       " 0.105493   0.131357  0.145797  0.135247     0.178781  0.159148  0.121347\n",
       " 0.103695   0.129118  0.143312  0.132942     0.175734  0.156435  0.119279"
      ]
     },
     "execution_count": 11,
     "metadata": {},
     "output_type": "execute_result"
    }
   ],
   "source": [
    "VW_1"
   ]
  },
  {
   "cell_type": "code",
   "execution_count": 13,
   "metadata": {},
   "outputs": [
    {
     "name": "stdout",
     "output_type": "stream",
     "text": [
      "1\n"
     ]
    },
    {
     "data": {
      "text/plain": [
       "([0.00547468 0.00547468 … 0.00547468 0.00547468; 0.00544139 0.00544139 … 0.00544139 0.00544139; … ; 0.00570404 0.00570404 … 0.00570404 0.00570404; 0.00560619 0.00560619 … 0.00560619 0.00560619], [0.369952 0.460659 … 0.558079 0.425521; 0.369952 0.460659 … 0.558079 0.425521; … ; 0.369952 0.460659 … 0.558079 0.425521; 0.369952 0.460659 … 0.558079 0.425521])"
      ]
     },
     "execution_count": 13,
     "metadata": {},
     "output_type": "execute_result"
    }
   ],
   "source": [
    "nnmfOneDemo(X, 50, V = V_ones, W = W_ones)"
   ]
  },
  {
   "cell_type": "code",
   "execution_count": 22,
   "metadata": {},
   "outputs": [
    {
     "name": "stdout",
     "output_type": "stream",
     "text": [
      "maximum(rowmean) = 0.2925274459833795\n",
      "mean(rowmean) = 0.26995941768093296\n",
      "median(rowmean) = 0.27019718587257624\n",
      "minimum(rowmean) = 0.2372937700831024\n",
      "maximum(rowsd) = 0.24928092681966194\n",
      "mean(rowsd) = 0.21559891114808358\n",
      "median(rowsd) = 0.21834456296905685\n",
      "minimum(rowsd) = 0.14678311741282896\n"
     ]
    }
   ],
   "source": [
    "# Checking the mean and standard deviation for each row of the X Matrix\n",
    "rowmean = zeros(size(X, 1))\n",
    "rowsd = zeros(size(X, 1))\n",
    "\n",
    "for i in 1:size(X, 1)\n",
    "    rowmean[i] = mean(X[i, :]) #mean of each row\n",
    "    rowsd[i] = std(X[i, :]) #sd of each row\n",
    "end\n",
    "\n",
    "@show maximum(rowmean)\n",
    "@show mean(rowmean)\n",
    "@show median(rowmean)\n",
    "@show minimum(rowmean)\n",
    "@show maximum(rowsd)\n",
    "@show mean(rowsd)\n",
    "@show median(rowsd)\n",
    "@show minimum(rowsd);"
   ]
  },
  {
   "cell_type": "code",
   "execution_count": 16,
   "metadata": {},
   "outputs": [
    {
     "data": {
      "image/png": "[encoded data removed]",
      "text/plain": [
       "PyPlot.Figure(PyObject <Figure size 640x480 with 4 Axes>)"
      ]
     },
     "metadata": {},
     "output_type": "display_data"
    },
    {
     "data": {
      "text/plain": [
       "PyObject <matplotlib.image.AxesImage object at 0x137070290>"
      ]
     },
     "execution_count": 16,
     "metadata": {},
     "output_type": "execute_result"
    }
   ],
   "source": [
    "subplot(1, 4, 1)\n",
    "PyPlot.imshow(reshape(VW_1[1, :], 19, 19))\n",
    "subplot(1, 4, 2)\n",
    "PyPlot.imshow(reshape(VW_50[1, :], 19, 19))\n",
    "subplot(1, 4, 3)\n",
    "PyPlot.imshow(reshape(VW_1[60, :], 19, 19))\n",
    "subplot(1, 4, 4)\n",
    "PyPlot.imshow(reshape(VW_50[60, :], 19, 19))"
   ]
  },
  {
   "cell_type": "markdown",
   "metadata": {},
   "source": [
    "Consider minimization of the squared Frobenius norm\n",
    "$$\n",
    "\tL(\\mathbf{V}, \\mathbf{W}) = \\|\\mathbf{X} - \\mathbf{V} \\mathbf{W}\\|_{\\text{F}}^2 = \\sum_i \\sum_j \\left(x_{ij} - \\sum_k v_{ik} w_{kj} \\right)^2, \\quad v_{ik} \\ge 0, w_{kj} \\ge 0,\n",
    "$$"
   ]
  },
  {
   "cell_type": "markdown",
   "metadata": {},
   "source": [
    "When we give the initial values of ones, it stops after only one iteration, because the updates for V and W from the first iteration will be close to the last due to mean and variance of the original X matrix given. \n",
    "\n",
    "Note that when we plot the rows of the VW_1, we only get one face. That is, each row contains data which maps to the average American face thats in our original dataset X. \n",
    "\n",
    "\n",
    ">Initializing the values of V and W, we have:\n",
    "$$\\mathbf{V} = \\mathbf{1_m}\\mathbf{1_r}^{T}$$ and $$\\mathbf{W} = \\mathbf{1_r}\\mathbf{1_n}^{T}$$\n",
    ">and the following updates for V and W:\n",
    "$$\\mathbf{V} = \\mathbf{V} .* \\mathbf{X}\\mathbf{W}^{T} ./ (\\mathbf{VW{W}^T})$$\n",
    "$$\\mathbf{W} = \\mathbf{W} .* \\mathbf{V}^{T}\\mathbf{X} ./ (\\mathbf{{V}^{T}VW})$$\n",
    "<br>\n",
    "\n",
    "1. First iteration of V:\n",
    ">We start with the numerator of V, $\\mathbf{X}\\mathbf{W}^{T}$:\n",
    "$$\\mathbf{X}\\mathbf{W}^{T} = \\mathbf{X}\\mathbf{1_n}\\mathbf{1_r}^{T} = \\mathbf{1_m}\\mathbf{\\sum_{j=1}^n {x_{ij}}}\\mathbf{1_r}^{T}, i \\in [1, m]$$ where i indicates the ith row of the original X matrix, which has m rows in total.\n",
    "<br>\n",
    ">Now making note of the fact that each image (row in original X) is scaled to have mean and standard deviation 0.25, we note that $\\sum_{i=1}^n {x_{ij}} = 0.25(n),$ thus we have:\n",
    "$$\\mathbf{1_m}0.25(n)\\mathbf{1_r}^{T} = 0.25(n)\\mathbf{1_m}\\mathbf{1_r}^{T}, i \\in [1, m]$$\n",
    "<br>\n",
    ">Now working on the denominator of V, $\\mathbf{VW{W}^T}$:\n",
    "$$\\mathbf{VW{W}^T} = \\mathbf{1_m}\\mathbf{1_r}^{T}(\\mathbf{1_r}\\mathbf{1_n}^{T})(\\mathbf{1_n}\\mathbf{1_r}^{T})$$\n",
    "$$ = \\mathbf{1_m}(rn)\\mathbf{1_r}^{T}$$\n",
    "$$ = nr\\mathbf{1_m}\\mathbf{1_r}^{T}$$\n",
    "<br>\n",
    ">Now we can update our initial value of V (matrix of ones) as follows:\n",
    "$$\\mathbf{V_1} = \\mathbf{1_m}\\mathbf{1_r}^{T} .* 0.25(n)\\mathbf{1_m}\\mathbf{1_r}^{T} ./ (nr\\mathbf{1_m}\\mathbf{1_r}^{T})$$\n",
    "$$= \\frac{0.25}{r}\\mathbf{1_m}\\mathbf{1_r}^{T}$$\n",
    "<br>\n",
    "\n",
    "2. First iteration of W:\n",
    ">We start with the numerator of W, $\\mathbf{V}^{T}\\mathbf{X}$, using $\\mathbf{V_1}$ from above:\n",
    "$$\\mathbf{V}^{T}\\mathbf{X} = (\\frac{0.25}{r}\\mathbf{1_m}\\mathbf{1_r}^{T})\\mathbf{X} = \\mathbf{1_r}m(0.25)\\mathbf{1_n}^{T} = m(0.25)\\mathbf{1_r}\\mathbf{1_n}^{T}$$\n",
    "<br>\n",
    ">Now working on the denominator of V, $\\mathbf{{V}^{T}VW}$:\n",
    "$$\\mathbf{{V}^{T}VW} = ({\\frac{0.25}{r}})^{2}(\\mathbf{1_r}\\mathbf{1_m}^{T})\\mathbf{1_m}\\mathbf{1_r}^{T}(\\mathbf{1_r}\\mathbf{1_n}^{T})$$\n"
   ]
  },
  {
   "cell_type": "markdown",
   "metadata": {},
   "source": [
    "## Q1.6 Solution:"
   ]
  },
  {
   "cell_type": "code",
   "execution_count": 40,
   "metadata": {},
   "outputs": [
    {
     "data": {
      "image/png": "[encoded data removed]",
      "text/plain": [
       "PyPlot.Figure(PyObject <Figure size 640x480 with 4 Axes>)"
      ]
     },
     "metadata": {},
     "output_type": "display_data"
    },
    {
     "data": {
      "text/plain": [
       "PyObject <matplotlib.image.AxesImage object at 0x14bea7350>"
      ]
     },
     "execution_count": 40,
     "metadata": {},
     "output_type": "execute_result"
    }
   ],
   "source": [
    "V, W = nnmf(X, 50, V = V0[:, 1:50], W = W0[1:50, :])\n",
    "\n",
    "W_img1 = W[1, :]\n",
    "W_img1 = reshape(W_img1, 19, 19)\n",
    "\n",
    "W_img2 = W[2, :]\n",
    "W_img2 = reshape(W_img2, 19, 19)\n",
    "\n",
    "W_img5 = W[9, :]\n",
    "W_img5 = reshape(W_img5, 19, 19)\n",
    "\n",
    "W_img10 = W[10, :]\n",
    "W_img10 = reshape(W_img10, 19, 19)\n",
    "\n",
    "#VW = V*W\n",
    "subplot(1, 4, 1)\n",
    "PyPlot.imshow(W_img1)\n",
    "subplot(1, 4, 2)\n",
    "PyPlot.imshow(W_img2)\n",
    "subplot(1, 4, 3)\n",
    "PyPlot.imshow(W_img5)\n",
    "subplot(1, 4, 4)\n",
    "PyPlot.imshow(W_img10)"
   ]
  },
  {
   "cell_type": "markdown",
   "metadata": {},
   "source": [
    "Above, we plot the basis images (rows of  W) at rank  r = 50. \n",
    "\n",
    "Note that from the first row, we see a glimpse of the image of the upper lip of an individual's face.\n",
    "From the second row, we see what appears to be the right cheekbone of an individual's face. \n",
    "From the ninth row, we see what appears to be the forehead of an individual's face. \n",
    "From the tenth row, we see what appears to be the nose bridge and right cheekbone of an individual's face. "
   ]
  },
  {
   "cell_type": "markdown",
   "metadata": {},
   "source": [
    "## Q2. Linear Mixed Models\n",
    "\n",
    "Consider a linear mixed effects model\n",
    "$$\n",
    "\ty_i = \\mathbf{x}_i^T \\beta + \\mathbf{z}_i^T \\gamma + \\epsilon_i, \\quad i=1,\\ldots,n,\n",
    "$$\n",
    "where $\\epsilon_i$ are independent normal errors $N(0,\\sigma_0^2)$, $\\beta \\in \\mathbb{R}^p$ are fixed effects, and $\\gamma \\in \\mathbb{R}^q$ are random effects assumed to be $N(\\mathbf{0}_q, \\sigma_1^2 \\mathbf{I}_q$) independent of $\\epsilon_i$. \n",
    "\n",
    "0. Show that \n",
    "$$\n",
    "    \\mathbf{y} \\sim N \\left( \\mathbf{X} \\beta, \\sigma_0^2 \\mathbf{I}_n + \\sigma_1^2 \\mathbf{Z} \\mathbf{Z}^T \\right),\n",
    "$$\n",
    "where $\\mathbf{y} = (y_1, \\ldots, y_n)^T \\in \\mathbb{R}^n$, $\\mathbf{X} = (\\mathbf{x}_1, \\ldots, \\mathbf{x}_n)^T \\in \\mathbb{R}^{n \\times p}$, and $\\mathbf{Z} = (\\mathbf{z}_1, \\ldots, \\mathbf{z}_n)^T \\in \\mathbb{R}^{n \\times q}$. \n",
    "\n",
    "0. Write a function, with interface \n",
    "    ```julia\n",
    "    logpdf_mvn(y::Vector, Z::Matrix, σ0::Number, σ1::Number),\n",
    "    ```\n",
    "that evaluates the log-density of a multivariate normal with mean $\\mathbf{0}$ and covariance $\\sigma_0^2 \\mathbf{I} + \\sigma_1^2 \\mathbf{Z} \\mathbf{Z}^T$ at $\\mathbf{y}$. Make your code efficient in the $n \\gg q$ case. \n",
    "\n",
    "0. Compare your result (both accuracy and timing) to the [Distributions.jl](http://distributionsjl.readthedocs.io/en/latest/multivariate.html#multivariate-normal-distribution) package using following data.  \n",
    "    ```julia\n",
    "    using BenchmarkTools, Distributions\n",
    "\n",
    "    srand(280)\n",
    "    n, q = 2000, 10\n",
    "    Z = randn(n, q)\n",
    "    σ0, σ1 = 0.5, 2.0\n",
    "    Σ = σ1^2 * Z * Z.' + σ0^2 * I\n",
    "    mvn = MvNormal(Σ) # MVN(0, Σ)\n",
    "    y = rand(mvn) # generate one instance from MNV(0, Σ)\n",
    "\n",
    "    # check you answer matches that from Distributions.jl\n",
    "    @show logpdf_mvn(y, Z, σ0, σ1)\n",
    "    @show logpdf(mvn, y)\n",
    "\n",
    "    # benchmark\n",
    "    @benchmark logpdf_mvn(y, Z, σ0, σ1)\n",
    "    @benchmark logpdf(mvn, y)\n",
    "    ```"
   ]
  },
  {
   "cell_type": "markdown",
   "metadata": {},
   "source": [
    "## Q2.1 Solution:"
   ]
  },
  {
   "cell_type": "markdown",
   "metadata": {},
   "source": [
    "$${f(\\mathbf{y}) = \\frac1{sqrt(2\\pi))^p|\\mathbf{\\Sigma}|^{1/2}}} * e^{-(\\mathbf{y}-\\mathbf{\\mu})^{T}\\mathbf{\\Sigma}^{-1}(\\mathbf{y}-\\mu)/2}$$ \n",
    "<br>\n",
    ">Take the log of both sides to get the log pdf:\n",
    "\n",
    "$$log(f(\\mathbf{y})) =  \\frac{-p}{2}log(2\\pi) - \\frac{-1}{2}log|\\mathbf{\\Sigma}| - \\frac{[(\\mathbf{y}-\\mathbf{\\mu})^T\\mathbf{\\Sigma}^{-1}(\\mathbf{y}-\\mathbf{\\mu})]}{2}$$\n",
    "<br>\n",
    "\n",
    ">Now, we use the Woodbury Formula. Let $\\mathbf{A} = \\sigma_0^{2}\\mathbf{I}$ and $\\mathbf{U} = \\mathbf{V} = \\sigma_1\\mathbf{Z}$\n",
    "<br>\n",
    "Using the Woodbury Formula and properties of determinants of block matrices, we can plug in $\\mathbf{|\\Sigma|}$ and $\\mathbf{\\Sigma^{-1}}$ as follows into the logpdf:\n",
    "<br>\n",
    "\n",
    "$$\\mathbf{\\Sigma^{-1}} = ({\\sigma_0^{2}}\\mathbf{I} + \\sigma_1^{2}\\mathbf{Z{Z}^{T}})^{-1} = \\sigma_0^{2}\\mathbf{I} - \\sigma_0^{-4}\\sigma_1^{2}*\\mathbf{Z}* (\\mathbf{I} + \\sigma_0^{-2}*\\sigma_1^{2}\\mathbf{Z^{T}Z})$$\n",
    "<br>\n",
    " \n",
    "$$\\mathbf{|\\Sigma|} = det({\\sigma_0^{2}}\\mathbf{I} + \\sigma_1^{2}\\mathbf{Z{Z}^{T}}) = det({\\sigma_0^{2}}\\mathbf{I}) * det(\\mathbf{I} + \\sigma_0^{-2}\\sigma_1^{2}\\mathbf{Z^{T}Z}) = {\\sigma_0^{2n}} * (\\mathbf{I} + \\sigma_0^{-2}\\sigma_1^{2}\\mathbf{Z^{T}Z})$$\n",
    "\n",
    "<br>\n",
    "$$log(f(\\mathbf{y})) =  \\frac{-p}{2}log(2\\pi) - \\frac{-1}{2}log|\\mathbf{\\Sigma}| - \\frac{[(\\mathbf{y}-\\mathbf{\\mu})^T\\mathbf{\\Sigma}^{-1}(\\mathbf{y}-\\mathbf{\\mu})]}{2}$$\n",
    "<br>\n",
    "\n",
    ">where we note that: log|$\\mathbf{\\Sigma}|$ = 2 * n * log(σ0) + logdet($\\mathbf{I}$ + $\\sigma_0^{-2}$*$\\sigma_1^{2}\\mathbf{Z^{T}Z}$))\n",
    "<br>\n",
    "\n",
    "$$log(f(\\mathbf{y})) =  \\frac{-p}{2}log(2\\pi) - \\frac{-1}{2}*(2 * n * log(σ0) + logdet(\\mathbf{I} + $\\sigma_0^{-2}*\\sigma_1^{2}\\mathbf{Z^{T}Z})) - \\frac{[(\\mathbf{y}-\\mathbf{\\mu})^T\\mathbf{\\Sigma}^{-1}(\\mathbf{y}-\\mathbf{\\mu})]}{2}$$\n",
    "<br>\n",
    "\n",
    ">Since we are given that $\\mathbf{\\mu}$ = 0, we can rewrite the log-pdf as:\n",
    "\n",
    "$$log(f(\\mathbf{y})) =  \\frac{-p}{2}log(2\\pi) - \\frac{-1}{2}*(2 * n * log(σ0) + logdet(\\mathbf{I} + $\\sigma_0^{-2}*\\sigma_1^{2}\\mathbf{Z^{T}Z})) - \\frac{[(\\mathbf{y})^T\\mathbf{\\Sigma}^{-1}(\\mathbf{y})]}{2}$$\n",
    "<br>\n",
    "\n",
    ">Substituting in $\\mathbf{\\Sigma^{-1}}$ we have:\n",
    "\n",
    "$$log(f(\\mathbf{y})) =  \\frac{-p}{2}log(2\\pi) - \\frac{-1}{2}*(2 * n * log(σ0) + logdet(\\mathbf{I} + \\sigma_0^{-2}*\\sigma_1^{2}\\mathbf{Z^{T}Z})) - \\frac{[(\\mathbf{y})^T(\\sigma_0^{-2}\\mathbf{I} - \\sigma_0^{-4}*\\sigma_1^{2}*\\mathbf{Z}(\\mathbf{I} + \\sigma_0^{-2}*\\sigma_1^{2}\\mathbf{Z^{T}Z}))(\\mathbf{y})]}{2}$$\n",
    "<br>\n",
    "\n",
    ">Now distributing out the $y$ and $y^T$ we get:\n",
    "\n",
    "$$log(f(\\mathbf{y})) =  \\frac{-p}{2}log(2\\pi) - \\frac{-1}{2}*(2 * n * log(σ0) + logdet(\\mathbf{I} + \\sigma_0^{-2}*\\sigma_1^{2}\\mathbf{Z^{T}Z})) - \\frac{(\\mathbf{y})^T(\\sigma_0^{-2})\\mathbf{y}}{2} + (\\frac{\\sigma_1}{\\sigma_0^{2}}\\mathbf{{y}^{T}Z})(\\mathbf{I} + \\sigma_0^{-2}*\\sigma_1^{2}\\mathbf{Z^{T}Z})(\\mathbf{{Z}^{T}}\\mathbf{y}\\frac{\\sigma_1}{\\sigma_0^{2}})$$\n",
    "\n",
    ">Thus, we write the function below, utilizing symmetric and positive definite structure of $\\mathbf{\\Sigma} = (\\mathbf{I} + \\sigma_0^{-2}*\\sigma_1^{2}\\mathbf{Z^{T}Z})$ through Cholesky Decomposition. We then can use this decomposition to speed up efficiency and reduce our benchmarking run time, when computing the determinant or solving the linear system of equations in the last term."
   ]
  },
  {
   "cell_type": "markdown",
   "metadata": {},
   "source": [
    ">Now we we will show that the variance evaluates the variance of the log-density of a multivariate normal with mean 0 and and covariance matrix $\\mathbf{\\Sigma} = (\\mathbf{I} + \\sigma_0^{-2}*\\sigma_1^{2}\\mathbf{Z^{T}Z})$<br>\n",
    "<br>\n",
    ">First we start by showing that the mean of $\\mathbf{y}$ is $\\mathbf{0}$:\n",
    "$$\\mathbf{y} = \\mathbf{X} \\mathbf{\\beta} + \\mathbf{Z}^T \\mathbf{\\gamma} + \\mathbf{\\epsilon}$$\n",
    "<br>\n",
    "$$E[\\mathbf{y}] = E[\\mathbf{X} \\beta + \\mathbf{Z}^T \\mathbf{\\gamma} + \\mathbf{\\epsilon}]$$\n",
    "<br>\n",
    "$$E[\\mathbf{y}] = E[\\mathbf{X} \\beta] + E[\\mathbf{Z}^T \\mathbf{\\gamma}] + E[\\mathbf{\\epsilon}]$$\n",
    "<br>\n",
    "$$E[\\mathbf{y}] = E[\\mathbf{X}]\\mathbf{\\beta} + \\mathbf{Z}^TE[\\mathbf{\\gamma}] + E[\\mathbf{\\epsilon}]$$\n",
    "<br> \n",
    ">Recall that we are given that $\\epsilon_i$ are independent normal errors $N(\\mathbf{0},\\sigma_0^2)$, $\\beta \\in \\mathbb{R}^p$ are fixed effects, and $\\mathbf{\\gamma} \\in \\mathbb{R}^q$ are random effects assumed to be $N(\\mathbf{0}_q, \\sigma_1^2 \\mathbf{I}_q$) independent of $\\epsilon_i$. Then plugging in $E[\\mathbf{\\gamma}] = \\mathbf{0}$ and $E[\\mathbf{\\epsilon}] = \\mathbf{0}$, we get:\n",
    "<br>\n",
    "$$E[\\mathbf{y}] = E[\\mathbf{X}]\\mathbf{\\beta} + \\mathbf{Z}^T[\\mathbf{0}] + [\\mathbf{0}]$$\n",
    ">And then we make note of the fact that X is a matrix of fixed effects, so we get:\n",
    "$$E[\\mathbf{y}] = \\mathbf{X}\\mathbf{\\beta}$$\n",
    "<br>\n",
    "\n",
    ">Now we we will show that the covariance of y evaluates to $\\mathbf{\\Sigma} = (\\mathbf{I} + \\sigma_0^{-2}*\\sigma_1^{2}\\mathbf{Z^{T}Z})$\n",
    "<br>\n",
    "$$Var(\\mathbf{y}) = Var(\\mathbf{X} \\beta + \\mathbf{Z}^T \\mathbf{\\gamma} + \\mathbf{\\epsilon})$$\n",
    "<br>\n",
    "$$Var(\\mathbf{y}) = Var(\\mathbf{X} \\beta) + Var(\\mathbf{Z}^T \\mathbf{\\gamma}) + Var(\\mathbf{\\epsilon})$$\n",
    "<br>\n",
    ">Now, making note of the fact that $Var(\\mathbf{X}\\mathbf{\\beta}) = 0$, since $\\mathbf{\\beta}$ and $\\mathbf{X}$ are fixed constants, we get:\n",
    "$$Var(\\mathbf{y}) = 0 + \\mathbf{Z}^TVar(\\mathbf{\\gamma})\\mathbf{Z} + Var(\\mathbf{\\epsilon})$$\n",
    "<br>\n",
    ">Now plugging in $Var(\\mathbf{\\gamma}) = \\sigma_1^2 \\mathbf{I}_q$ and $Var(\\mathbf{\\epsilon}) = \\sigma_0^2$ we get:\n",
    "<br>\n",
    "$$Var(\\mathbf{y}) = \\mathbf{Z}^T(\\sigma_1^2 \\mathbf{I}_q)\\mathbf{Z} + \\sigma_0^2(\\mathbf{I})$$\n",
    "<br>\n",
    "$$Var(\\mathbf{y}) = \\mathbf{I} + \\sigma_0^{-2}*\\sigma_1^{2}\\mathbf{Z^{T}Z}$$"
   ]
  },
  {
   "cell_type": "code",
   "execution_count": 13,
   "metadata": {},
   "outputs": [
    {
     "data": {
      "text/plain": [
       "logpdf_mvn0 (generic function with 1 method)"
      ]
     },
     "execution_count": 13,
     "metadata": {},
     "output_type": "execute_result"
    }
   ],
   "source": [
    "# better memory efficiency\n",
    "function logpdf_mvn0(y::Vector, Z::Matrix, σ0::Number, σ1::Number)\n",
    "    n = length(y)\n",
    "    Σchol = cholfact!(σ1^2/σ0^2 * (Z' * Z) + I) \n",
    "    logdetΣchol = 2 * n * log(σ0) + logdet(Σchol)\n",
    "    - (n//2) * log(2π) - (1//2) * logdetΣchol - (1//2) * (sum(abs2, y)/σ0^2 - sum(abs2, Σchol[:L] \\ ((Z' * y) * (σ1/σ0^2))))\n",
    "end"
   ]
  },
  {
   "cell_type": "code",
   "execution_count": 22,
   "metadata": {
    "scrolled": true
   },
   "outputs": [
    {
     "name": "stdout",
     "output_type": "stream",
     "text": [
      "logpdf_mvn0(y, Z, σ0, σ1) = -1571.5736734653365\n",
      "logpdf_mvn1(y, Z, σ0, σ1) = -1571.5736734653365\n",
      "logpdf(mvn, y) = -1571.5736734654135\n"
     ]
    },
    {
     "data": {
      "text/plain": [
       "-1571.5736734654135"
      ]
     },
     "execution_count": 22,
     "metadata": {},
     "output_type": "execute_result"
    }
   ],
   "source": [
    "using BenchmarkTools, Distributions\n",
    "\n",
    "    srand(280)\n",
    "    n, q = 2000, 10\n",
    "    Z = randn(n, q)\n",
    "    σ0, σ1 = 0.5, 2.0\n",
    "    Σ = σ1^2 * Z * Z.' + σ0^2 * I\n",
    "    mvn = MvNormal(Σ) # MVN(0, Σ)\n",
    "    y = rand(mvn) # generate one instance from MNV(0, Σ)\n",
    "\n",
    "    # check you answer matches that from Distributions.jl\n",
    "@show logpdf_mvn0(y, Z, σ0, σ1)\n",
    "@show logpdf(mvn, y)"
   ]
  },
  {
   "cell_type": "code",
   "execution_count": 24,
   "metadata": {},
   "outputs": [
    {
     "data": {
      "text/plain": [
       "BenchmarkTools.Trial: \n",
       "  memory estimate:  4.17 KiB\n",
       "  allocs estimate:  16\n",
       "  --------------\n",
       "  minimum time:     39.341 μs (0.00% GC)\n",
       "  median time:      59.602 μs (0.00% GC)\n",
       "  mean time:        64.492 μs (0.73% GC)\n",
       "  maximum time:     3.007 ms (94.80% GC)\n",
       "  --------------\n",
       "  samples:          10000\n",
       "  evals/sample:     1"
      ]
     },
     "execution_count": 24,
     "metadata": {},
     "output_type": "execute_result"
    }
   ],
   "source": [
    "# benchmark\n",
    "@benchmark logpdf_mvn0(y, Z, σ0, σ1)"
   ]
  },
  {
   "cell_type": "code",
   "execution_count": 23,
   "metadata": {},
   "outputs": [
    {
     "data": {
      "text/plain": [
       "BenchmarkTools.Trial: \n",
       "  memory estimate:  4.20 KiB\n",
       "  allocs estimate:  17\n",
       "  --------------\n",
       "  minimum time:     56.461 μs (0.00% GC)\n",
       "  median time:      82.334 μs (0.00% GC)\n",
       "  mean time:        83.138 μs (0.72% GC)\n",
       "  maximum time:     3.182 ms (94.61% GC)\n",
       "  --------------\n",
       "  samples:          10000\n",
       "  evals/sample:     1"
      ]
     },
     "execution_count": 23,
     "metadata": {},
     "output_type": "execute_result"
    }
   ],
   "source": [
    "# benchmark\n",
    "@benchmark logpdf_mvn1(y, Z, σ0, σ1)"
   ]
  },
  {
   "cell_type": "code",
   "execution_count": 25,
   "metadata": {},
   "outputs": [
    {
     "data": {
      "text/plain": [
       "BenchmarkTools.Trial: \n",
       "  memory estimate:  15.78 KiB\n",
       "  allocs estimate:  3\n",
       "  --------------\n",
       "  minimum time:     4.405 ms (0.00% GC)\n",
       "  median time:      6.361 ms (0.00% GC)\n",
       "  mean time:        6.428 ms (0.00% GC)\n",
       "  maximum time:     8.186 ms (0.00% GC)\n",
       "  --------------\n",
       "  samples:          775\n",
       "  evals/sample:     1"
      ]
     },
     "execution_count": 25,
     "metadata": {},
     "output_type": "execute_result"
    }
   ],
   "source": [
    "@benchmark logpdf(mvn, y)"
   ]
  },
  {
   "cell_type": "code",
   "execution_count": 12,
   "metadata": {},
   "outputs": [
    {
     "data": {
      "text/plain": [
       "164.42250536272712"
      ]
     },
     "execution_count": 12,
     "metadata": {},
     "output_type": "execute_result"
    }
   ],
   "source": [
    "6.362/.038693"
   ]
  },
  {
   "cell_type": "code",
   "execution_count": null,
   "metadata": {},
   "outputs": [],
   "source": []
  }
 ],
 "metadata": {
  "kernelspec": {
   "display_name": "Julia 0.6.2",
   "language": "julia",
   "name": "julia-0.6"
  },
  "language_info": {
   "file_extension": ".jl",
   "mimetype": "application/julia",
   "name": "julia",
   "version": "0.6.2"
  },
  "toc": {
   "colors": {
    "hover_highlight": "#DAA520",
    "running_highlight": "#FF0000",
    "selected_highlight": "#FFD700"
   },
   "moveMenuLeft": true,
   "nav_menu": {
    "height": "87px",
    "width": "252px"
   },
   "navigate_menu": true,
   "number_sections": true,
   "sideBar": true,
   "threshold": 4,
   "toc_cell": false,
   "toc_section_display": "block",
   "toc_window_display": false,
   "widenNotebook": false
  }
 },
 "nbformat": 4,
 "nbformat_minor": 2
}
