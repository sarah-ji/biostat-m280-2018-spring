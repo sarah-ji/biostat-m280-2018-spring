{
 "cells": [
  {
   "cell_type": "markdown",
   "metadata": {},
   "source": [
    "# Biostat M280 Homework 2\n",
    "# Sarah Ji\n",
    "**Due May 11 @ 11:59PM**"
   ]
  },
  {
   "cell_type": "markdown",
   "metadata": {},
   "source": [
    "## Q1. Nonnegative Matrix Factorization\n",
    "\n",
    "Nonnegative matrix factorization (NNMF) was introduced by [Lee and Seung (1999)](https://www.nature.com/articles/44565) as an analog of principal components and vector quantization with applications in data compression and clustering. In this homework we consider algorithms for fitting NNMF and (optionally) high performance computing using graphical processing units (GPUs).\n",
    "In mathematical terms, one approximates a data matrix $\\mathbf{X} \\in \\mathbb{R}^{m \\times n}$ with nonnegative entries $x_{ij}$ by a product of two low-rank matrices $\\mathbf{V} \\in \\mathbb{R}^{m \\times r}$ and $\\mathbf{W} \\in \\mathbb{R}^{r \\times n}$ with nonnegative entries $v_{ik}$ and $w_{kj}$. Consider minimization of the squared Frobenius norm\n",
    "$$\n",
    "\tL(\\mathbf{V}, \\mathbf{W}) = \\|\\mathbf{X} - \\mathbf{V} \\mathbf{W}\\|_{\\text{F}}^2 = \\sum_i \\sum_j \\left(x_{ij} - \\sum_k v_{ik} w_{kj} \\right)^2, \\quad v_{ik} \\ge 0, w_{kj} \\ge 0,\n",
    "$$\n",
    "which should lead to a good factorization. Later in the course we will learn how to derive a majorization-minimization (MM) algorithm with iterative updates\n",
    "$$\n",
    "\tv_{ik}^{(t+1)} = v_{ik}^{(t)} \\frac{\\sum_j x_{ij} w_{kj}^{(t)}}{\\sum_j b_{ij}^{(t)} w_{kj}^{(t)}}, \\quad \\text{where } b_{ij}^{(t)} = \\sum_k v_{ik}^{(t)} w_{kj}^{(t)},\n",
    "$$\n",
    "$$\n",
    "\tw_{kj}^{(t+1)} = w_{kj}^{(t)} \\frac{\\sum_i x_{ij} v_{ik}^{(t+1)}}{\\sum_i b_{ij}^{(t+1/2)} v_{ik}^{(t+1)}}, \\quad \\text{where } b_{ij}^{(t+1/2)} = \\sum_k v_{ik}^{(t+1)} w_{kj}^{(t)}\n",
    "$$\n",
    "that drive the objective $L^{(t)} = L(\\mathbf{V}^{(t)}, \\mathbf{W}^{(t)})$ downhill. Superscript $t$ indicates iteration number. Efficiency (both speed and memory) will be the most important criterion when grading this problem.\n",
    "\n",
    "\n",
    "1. Implement the algorithm with arguments: $\\mathbf{X}$ (data, each row is a vectorized image), rank $r$, convergence tolerance, and optional starting point.\n",
    "```julia\n",
    "function nnmf(\n",
    "    X::Matrix, \n",
    "    r::Int;\n",
    "    maxiter::Int=1000, \n",
    "    tol::eltype(X)=1e-4,\n",
    "    V::Matrix{eltype(X)}=rand(size(X, 1), r),\n",
    "    W::Matrix{eltype(X)}=rand(r, size(X, 2))\n",
    "    )\n",
    "    # implementation\n",
    "    # Output\n",
    "    return V, W\n",
    "end\n",
    "```\n",
    "\n",
    "0. Database 1 from the [MIT Center for Biological and Computational Learning (CBCL)](http://cbcl.mit.edu) reduces to a matrix $\\mathbf{X}$ containing $m = 2,429$ gray-scale face images with $n = 19 \\times 19 = 361$ pixels per face. Each image (row) is scaled to have mean and standard deviation 0.25.  \n",
    "Read in the [`nnmf-2429-by-361-face.txt`](http://hua-zhou.github.io/teaching/biostatm280-2018spring/hw/hw2/nnmf-2429-by-361-face.txt) file, e.g., using [`readdlm()`](https://docs.julialang.org/en/stable/stdlib/io-network/#Base.DataFmt.readdlm-Tuple{Any,Char,Type,Char}) function, and display a couple sample images, e.g., using [ImageView.jl](https://github.com/JuliaImages/ImageView.jl) package.\n",
    "\n",
    "0. Report the run times, using `@time`, of your function for fitting NNMF on the MIT CBCL face data set at ranks $r=10, 20, 30, 40, 50$. For ease of comparison (and grading), please start your algorithm with the provided $\\mathbf{V}^{(0)}$ (first $r$ columns of [`V0.txt`](http://hua-zhou.github.io/teaching/biostatm280-2018spring/hw/hw2/V0.txt)) and $\\mathbf{W}^{(0)}$ (first $r$ rows of [`W0.txt`](http://hua-zhou.github.io/teaching/biostatm280-2018spring/hw/hw2/W0.txt)) and stopping criterion\n",
    "$$\n",
    "\t\\frac{|L^{(t+1)} - L^{(t)}|}{|L^{(t)}| + 1} \\le 10^{-4}.\n",
    "$$\n",
    "\n",
    "0. Choose an $r \\in \\{10, 20, 30, 40, 50\\}$ and start your algorithm from a different $\\mathbf{V}^{(0)}$ and $\\mathbf{W}^{(0)}$. Do you obtain the same objective value and $(\\mathbf{V}, \\mathbf{W})$? Explain what you find.\n",
    "\n",
    "0. For the same $r$, start your algorithm from $v_{ik}^{(0)} = w_{kj}^{(0)} = 1$ for all $i,j,k$. Do you obtain the same objective value and $(\\mathbf{V}, \\mathbf{W})$? Explain what you find.\n",
    "\n",
    "0. Plot the basis images (rows of $\\mathbf{W}$) at rank $r=50$. What do you find?\n",
    "\n",
    "0. (Optional) Investigate the GPU capabilities of Julia. Report the speed gain of your GPU code over CPU code at ranks $r=10, 20, 30, 40, 50$. Make sure to use the same starting point as in part 2."
   ]
  },
  {
   "cell_type": "markdown",
   "metadata": {},
   "source": [
    "# should stop after 1 iteration because the updates for V and W will be the same as the last due to mean and variance of the original X matrix given. "
   ]
  },
  {
   "cell_type": "code",
   "execution_count": 1,
   "metadata": {},
   "outputs": [
    {
     "data": {
      "text/plain": [
       "50×361 Array{Float64,2}:\n",
       " 0.5634    0.32048   0.067202   0.25107   …  0.4476     0.12656   0.13688 \n",
       " 0.71473   0.25423   0.084735   0.84327      0.20947    0.32729   0.43787 \n",
       " 0.046351  0.041688  0.79152    0.8962       0.6786     0.17112   0.83691 \n",
       " 0.76991   0.13366   0.0061026  0.70588      0.4457     0.012722  0.64244 \n",
       " 0.56335   0.35408   0.62697    0.94923      0.073816   0.62934   0.58596 \n",
       " 0.13659   0.82449   0.17183    0.051802  …  0.87725    0.86247   0.45418 \n",
       " 0.2326    0.92296   0.73855    0.35246      0.015108   0.68424   0.15457 \n",
       " 0.95628   0.97221   0.94922    0.59106      0.49038    0.52232   0.4399  \n",
       " 0.82876   0.33257   0.95808    0.11028      0.66812    0.69979   0.57679 \n",
       " 0.33585   0.59454   0.75948    0.26544      0.34689    0.071471  0.020196\n",
       " 0.87571   0.83349   0.83207    0.57283   …  0.34609    0.22545   0.2295  \n",
       " 0.27631   0.10171   0.4809     0.10614      0.0039955  0.92647   0.27393 \n",
       " 0.914     0.45783   0.32193    0.65607      0.1204     0.29447   0.88988 \n",
       " ⋮                                        ⋱                       ⋮       \n",
       " 0.30883   0.41147   0.64075    0.87004      0.20019    0.55648   0.7459  \n",
       " 0.97866   0.74029   0.037366   0.97796      0.55272    0.3288    0.837   \n",
       " 0.71393   0.78077   0.051596   0.25867   …  0.95825    0.89787   0.21096 \n",
       " 0.35293   0.41894   0.0063373  0.43144      0.14756    0.93285   0.59017 \n",
       " 0.46036   0.61322   0.91126    0.76635      0.67864    0.16147   0.93417 \n",
       " 0.036917  0.4889    0.2838     0.03403      0.027589   0.79055   0.31241 \n",
       " 0.74309   0.12138   0.82587    0.84609      0.52128    0.908     0.6062  \n",
       " 0.74466   0.46317   0.38367    0.97784   …  0.78373    0.4644    0.54906 \n",
       " 0.57612   0.81248   0.14814    0.65148      0.78202    0.26502   0.34613 \n",
       " 0.65722   0.28434   0.78214    0.62961      0.054762   0.14826   0.23983 \n",
       " 0.5275    0.15481   0.50847    0.26226      0.1513     0.048605  0.052235\n",
       " 0.027423  0.80658   0.33708    0.54062      0.887      0.15571   0.76327 "
      ]
     },
     "execution_count": 1,
     "metadata": {},
     "output_type": "execute_result"
    }
   ],
   "source": [
    "V0 = readdlm(\"V0.txt\")\n",
    "W0 = readdlm(\"W0.txt\")"
   ]
  },
  {
   "cell_type": "markdown",
   "metadata": {},
   "source": [
    "## Q1.1 Solution:"
   ]
  },
  {
   "cell_type": "code",
   "execution_count": 27,
   "metadata": {},
   "outputs": [
    {
     "data": {
      "text/plain": [
       "nnmf1 (generic function with 2 methods)"
      ]
     },
     "execution_count": 27,
     "metadata": {},
     "output_type": "execute_result"
    }
   ],
   "source": [
    "function nnmf1(\n",
    "    X::Matrix, \n",
    "    r::Int;\n",
    "    maxiter::Int=1000, \n",
    "    tol::eltype(X)=1e-4,\n",
    "    V::Matrix{eltype(X)}=rand(size(X, 1), r),\n",
    "    W::Matrix{eltype(X)}=rand(r, size(X, 2)))\n",
    "    #implementation\n",
    "    m, n = size(X)\n",
    "    A = zeros(X)\n",
    "    MR_1 = zeros(m, r)\n",
    "    MR_2 = zeros(m, r)\n",
    "    RR = zeros(r, r)\n",
    "    RN_1 = zeros(r, n)\n",
    "    RN_2 = zeros(r, n)\n",
    "    l_last = 0.0\n",
    "\n",
    "    for i in 1:maxiter\n",
    "        A_mul_Bt!(MR_1, X, W)\n",
    "        BLAS.syrk!('U','N', 1.0, W, 0.0, RR)\n",
    "        V .= V .* MR_1 ./ BLAS.symm!('R', 'U', 1.0, RR, V, 0.0, MR_2)\n",
    "\n",
    "        At_mul_B!(RN_1, V, X)\n",
    "        BLAS.syrk!('U','T', 1.0, V, 0.0, RR)\n",
    "        W .= W .* RN_1 ./ BLAS.symm!('L', 'U', 1.0, RR, W, 0.0, RN_2)\n",
    "\n",
    "        A_mul_B!(A, V, W)\n",
    "        A .= X .- A\n",
    "        l_new = vecnorm(A, 2)\n",
    "        if (abs(l_new - l_last) / (abs(l_last) + 1)) <= tol\n",
    "            break\n",
    "        end\n",
    "        l_last = l_new\n",
    "    end\n",
    "    \n",
    "    return V, W\n",
    "end"
   ]
  },
  {
   "cell_type": "code",
   "execution_count": 29,
   "metadata": {},
   "outputs": [
    {
     "data": {
      "text/plain": [
       "nnmf2 (generic function with 2 methods)"
      ]
     },
     "execution_count": 29,
     "metadata": {},
     "output_type": "execute_result"
    }
   ],
   "source": [
    "function nnmf2(\n",
    "    X::Matrix{T}, \n",
    "    r::Int;\n",
    "    maxiter::Int=1000, \n",
    "    tol::eltype(X)=1e-4,\n",
    "    V::Matrix{T}=rand(T, size(X, 1), r),\n",
    "     W::Matrix{T}=rand(T, r, size(X, 2))\n",
    "    ) where T <: AbstractFloat\n",
    "    #implementation\n",
    "    m, n = size(X)\n",
    "    A = zeros(X)\n",
    "    MR_1 = zeros(m, r)\n",
    "    MR_2 = zeros(m, r)\n",
    "    RR = zeros(r, r)\n",
    "    RN_1 = zeros(r, n)\n",
    "    RN_2 = zeros(r, n)\n",
    "    l_new = vecnorm(X - V * W, 2)\n",
    "    l_last = 0.0\n",
    "    count = 0\n",
    "    \n",
    "    while (abs(l_new - l_last) / (abs(l_last) + 1)) > tol && count < maxiter\n",
    "        l_last = l_new\n",
    "        count += 1\n",
    "        \n",
    "        A_mul_Bt!(MR_1, X, W)\n",
    "        BLAS.syrk!('U','N', 1.0, W, 0.0, RR)\n",
    "        V = V .* MR_1 ./ BLAS.symm!('R', 'U', 1.0, RR, V, 0.0, MR_2)\n",
    "\n",
    "        At_mul_B!(RN_1, V, X)\n",
    "        BLAS.syrk!('U','T', 1.0, V, 0.0, RR)\n",
    "        W = W .* RN_1 ./ BLAS.symm!('L', 'U', 1.0, RR, W, 0.0, RN_2)\n",
    "\n",
    "        A_mul_B!(A, V, W)\n",
    "        A = X - A\n",
    "        l_new = vecnorm(A, 2)\n",
    "    end\n",
    "    return V, W\n",
    "end"
   ]
  },
  {
   "cell_type": "code",
   "execution_count": 30,
   "metadata": {},
   "outputs": [
    {
     "data": {
      "text/plain": [
       "BenchmarkTools.Trial: \n",
       "  memory estimate:  3.42 GiB\n",
       "  allocs estimate:  3620\n",
       "  --------------\n",
       "  minimum time:     9.242 s (4.42% GC)\n",
       "  median time:      9.242 s (4.42% GC)\n",
       "  mean time:        9.242 s (4.42% GC)\n",
       "  maximum time:     9.242 s (4.42% GC)\n",
       "  --------------\n",
       "  samples:          1\n",
       "  evals/sample:     1"
      ]
     },
     "execution_count": 30,
     "metadata": {},
     "output_type": "execute_result"
    }
   ],
   "source": [
    "srand(1738)\n",
    "@benchmark nnmf2(X, 50, V = V0[:, 1:50], W = W0[1:50, :])"
   ]
  },
  {
   "cell_type": "code",
   "execution_count": 28,
   "metadata": {},
   "outputs": [
    {
     "ename": "LoadError",
     "evalue": "\u001b[91mMethodError: #nnmf1(::Array{Any,1}, ::#nnmf1, ::Array{Float64,2}, ::Int64) is ambiguous. Candidates:\n  (::#kw##nnmf1)(::Array{Any,1}, ::#nnmf1, X::Array{T,2} where T, r::Int64) in Main\n  (::#kw##nnmf1)(::Array{Any,1}, ::#nnmf1, X::Array{T,2}, r::Integer) where T<:AbstractFloat in Main\nPossible fix, define\n  (::#kw##nnmf1)(::Array{Any,1}, ::#nnmf1, ::Array{T<:AbstractFloat,2}, ::Int64)\u001b[39m",
     "output_type": "error",
     "traceback": [
      "\u001b[91mMethodError: #nnmf1(::Array{Any,1}, ::#nnmf1, ::Array{Float64,2}, ::Int64) is ambiguous. Candidates:\n  (::#kw##nnmf1)(::Array{Any,1}, ::#nnmf1, X::Array{T,2} where T, r::Int64) in Main\n  (::#kw##nnmf1)(::Array{Any,1}, ::#nnmf1, X::Array{T,2}, r::Integer) where T<:AbstractFloat in Main\nPossible fix, define\n  (::#kw##nnmf1)(::Array{Any,1}, ::#nnmf1, ::Array{T<:AbstractFloat,2}, ::Int64)\u001b[39m",
      "",
      "Stacktrace:",
      " [1] \u001b[1m##core#728\u001b[22m\u001b[22m\u001b[1m(\u001b[22m\u001b[22m\u001b[1m)\u001b[22m\u001b[22m at \u001b[1m/Users/sarahji/.julia/v0.6/BenchmarkTools/src/execution.jl:316\u001b[22m\u001b[22m",
      " [2] \u001b[1m##sample#729\u001b[22m\u001b[22m\u001b[1m(\u001b[22m\u001b[22m::BenchmarkTools.Parameters\u001b[1m)\u001b[22m\u001b[22m at \u001b[1m/Users/sarahji/.julia/v0.6/BenchmarkTools/src/execution.jl:322\u001b[22m\u001b[22m",
      " [3] \u001b[1m#_run#37\u001b[22m\u001b[22m\u001b[1m(\u001b[22m\u001b[22m::Bool, ::String, ::Array{Any,1}, ::Function, ::BenchmarkTools.Benchmark{Symbol(\"##benchmark#727\")}, ::BenchmarkTools.Parameters\u001b[1m)\u001b[22m\u001b[22m at \u001b[1m/Users/sarahji/.julia/v0.6/BenchmarkTools/src/execution.jl:350\u001b[22m\u001b[22m",
      " [4] \u001b[1m(::BenchmarkTools.#kw##_run)\u001b[22m\u001b[22m\u001b[1m(\u001b[22m\u001b[22m::Array{Any,1}, ::BenchmarkTools.#_run, ::BenchmarkTools.Benchmark{Symbol(\"##benchmark#727\")}, ::BenchmarkTools.Parameters\u001b[1m)\u001b[22m\u001b[22m at \u001b[1m./<missing>:0\u001b[22m\u001b[22m",
      " [5] \u001b[1manonymous\u001b[22m\u001b[22m at \u001b[1m./<missing>:?\u001b[22m\u001b[22m",
      " [6] \u001b[1m#run_result#19\u001b[22m\u001b[22m\u001b[1m(\u001b[22m\u001b[22m::Array{Any,1}, ::Function, ::BenchmarkTools.Benchmark{Symbol(\"##benchmark#727\")}, ::BenchmarkTools.Parameters\u001b[1m)\u001b[22m\u001b[22m at \u001b[1m/Users/sarahji/.julia/v0.6/BenchmarkTools/src/execution.jl:44\u001b[22m\u001b[22m",
      " [7] \u001b[1m(::BenchmarkTools.#kw##run_result)\u001b[22m\u001b[22m\u001b[1m(\u001b[22m\u001b[22m::Array{Any,1}, ::BenchmarkTools.#run_result, ::BenchmarkTools.Benchmark{Symbol(\"##benchmark#727\")}, ::BenchmarkTools.Parameters\u001b[1m)\u001b[22m\u001b[22m at \u001b[1m./<missing>:0\u001b[22m\u001b[22m",
      " [8] \u001b[1m#run#21\u001b[22m\u001b[22m\u001b[1m(\u001b[22m\u001b[22m::Array{Any,1}, ::Function, ::BenchmarkTools.Benchmark{Symbol(\"##benchmark#727\")}, ::BenchmarkTools.Parameters\u001b[1m)\u001b[22m\u001b[22m at \u001b[1m/Users/sarahji/.julia/v0.6/BenchmarkTools/src/execution.jl:67\u001b[22m\u001b[22m",
      " [9] \u001b[1m(::Base.#kw##run)\u001b[22m\u001b[22m\u001b[1m(\u001b[22m\u001b[22m::Array{Any,1}, ::Base.#run, ::BenchmarkTools.Benchmark{Symbol(\"##benchmark#727\")}, ::BenchmarkTools.Parameters\u001b[1m)\u001b[22m\u001b[22m at \u001b[1m./<missing>:0\u001b[22m\u001b[22m",
      " [10] \u001b[1mwarmup\u001b[22m\u001b[22m\u001b[1m(\u001b[22m\u001b[22m::BenchmarkTools.Benchmark{Symbol(\"##benchmark#727\")}\u001b[1m)\u001b[22m\u001b[22m at \u001b[1m/Users/sarahji/.julia/v0.6/BenchmarkTools/src/execution.jl:100\u001b[22m\u001b[22m"
     ]
    }
   ],
   "source": [
    "@benchmark nnmf1(X, 50, V = V0[:, 1:50], W = W0[1:50, :])"
   ]
  },
  {
   "cell_type": "code",
   "execution_count": 6,
   "metadata": {},
   "outputs": [
    {
     "data": {
      "text/plain": [
       "10×361 Array{Float64,2}:\n",
       " 0.5634    0.32048   0.067202   0.25107   …  0.4476    0.12656   0.13688 \n",
       " 0.71473   0.25423   0.084735   0.84327      0.20947   0.32729   0.43787 \n",
       " 0.046351  0.041688  0.79152    0.8962       0.6786    0.17112   0.83691 \n",
       " 0.76991   0.13366   0.0061026  0.70588      0.4457    0.012722  0.64244 \n",
       " 0.56335   0.35408   0.62697    0.94923      0.073816  0.62934   0.58596 \n",
       " 0.13659   0.82449   0.17183    0.051802  …  0.87725   0.86247   0.45418 \n",
       " 0.2326    0.92296   0.73855    0.35246      0.015108  0.68424   0.15457 \n",
       " 0.95628   0.97221   0.94922    0.59106      0.49038   0.52232   0.4399  \n",
       " 0.82876   0.33257   0.95808    0.11028      0.66812   0.69979   0.57679 \n",
       " 0.33585   0.59454   0.75948    0.26544      0.34689   0.071471  0.020196"
      ]
     },
     "execution_count": 6,
     "metadata": {},
     "output_type": "execute_result"
    }
   ],
   "source": [
    "W0[1:10, :]"
   ]
  },
  {
   "cell_type": "markdown",
   "metadata": {},
   "source": [
    "## Q1.2 Solution:"
   ]
  },
  {
   "cell_type": "code",
   "execution_count": 7,
   "metadata": {},
   "outputs": [
    {
     "data": {
      "text/plain": [
       "19×19 Array{Float64,2}:\n",
       " 0.0       0.015471   0.17109   0.37858   …  0.41316   0.30077   0.19703\n",
       " 0.0       0.0        0.0       0.0          0.041407  0.09328   0.24025\n",
       " 0.0       0.0        0.27483   0.78492      1.0       0.48233   0.18838\n",
       " 0.17109   0.0        0.0       0.65523      0.23161   0.37858   0.0    \n",
       " 0.0       0.0        0.0       0.0          0.0       0.0       0.0    \n",
       " 0.12786   0.13651    0.015471  0.058698  …  0.24025   0.37858   0.20567\n",
       " 0.21432   0.28348    0.25754   0.344        0.47368   0.52555   0.29213\n",
       " 0.20567   0.32671    0.30942   0.43045      0.46503   0.46503   0.52555\n",
       " 0.16244   0.20567    0.14515   0.27483      0.28348   0.54284   0.46503\n",
       " 0.11057   0.26619    0.45639   0.5342       0.70711   0.60336   0.44774\n",
       " 0.084635  0.22296    0.4391    0.49097   …  0.64659   0.51691   0.36993\n",
       " 0.058698  0.11922    0.29213   0.36993      0.56013   0.42181   0.32671\n",
       " 0.050053  0.050053   0.19703   0.26619      0.48233   0.38723   0.29213\n",
       " 0.024117  0.032762   0.22296   0.21432      0.44774   0.35264   0.25754\n",
       " 0.27483   0.024117   0.27483   0.27483      0.56013   0.35264   0.26619\n",
       " 0.81085   0.0        0.17109   0.44774   …  0.51691   0.28348   0.25754\n",
       " 1.0       0.0        0.032762  0.36993      0.35264   0.2489    0.17973\n",
       " 1.0       0.0068256  0.0       0.12786      0.24025   0.17973   0.12786\n",
       " 0.92324   0.0        0.0       0.0          0.10193   0.058698  0.17973"
      ]
     },
     "execution_count": 7,
     "metadata": {},
     "output_type": "execute_result"
    }
   ],
   "source": [
    "#Pkg.add(\"ImageView\")\n",
    "using ImageView\n",
    "\n",
    "X = readdlm(\"nnmf-2429-by-361-face.txt\")\n",
    "img1 = X[1,:]\n",
    "img1 = reshape(img1, 19, 19)\n",
    "img2 = X[2,:]\n",
    "img2 = reshape(img2, 19, 19)\n",
    "img3 = X[10, :]\n",
    "img3 = reshape(img3, 19, 19)\n",
    "img4 = X[125, :]\n",
    "img4 = reshape(img4, 19, 19)\n",
    "img5 = X[130, :]\n",
    "img5 = reshape(img5, 19, 19)"
   ]
  },
  {
   "cell_type": "code",
   "execution_count": 8,
   "metadata": {},
   "outputs": [
    {
     "data": {
      "image/png": "[encoded data removed]",
      "text/plain": [
       "PyPlot.Figure(PyObject <Figure size 640x480 with 4 Axes>)"
      ]
     },
     "metadata": {},
     "output_type": "display_data"
    },
    {
     "data": {
      "text/plain": [
       "PyObject <matplotlib.image.AxesImage object at 0x146198450>"
      ]
     },
     "execution_count": 8,
     "metadata": {},
     "output_type": "execute_result"
    }
   ],
   "source": [
    "using PyPlot\n",
    "\n",
    "subplot(1, 4, 1)\n",
    "PyPlot.imshow(img1)\n",
    "subplot(1, 4, 2)\n",
    "PyPlot.imshow(img2)\n",
    "subplot(1, 4, 3)\n",
    "PyPlot.imshow(img3)\n",
    "subplot(1, 4, 4)\n",
    "PyPlot.imshow(img4)"
   ]
  },
  {
   "cell_type": "markdown",
   "metadata": {},
   "source": [
    "## Q1.3 Solution:"
   ]
  },
  {
   "cell_type": "markdown",
   "metadata": {},
   "source": [
    "## Q1.5 Solution:"
   ]
  },
  {
   "cell_type": "code",
   "execution_count": 31,
   "metadata": {},
   "outputs": [
    {
     "data": {
      "image/png": "[encoded data removed]",
      "text/plain": [
       "PyPlot.Figure(PyObject <Figure size 640x480 with 1 Axes>)"
      ]
     },
     "metadata": {},
     "output_type": "display_data"
    },
    {
     "data": {
      "text/plain": [
       "PyObject <matplotlib.image.AxesImage object at 0x1184720d0>"
      ]
     },
     "execution_count": 31,
     "metadata": {},
     "output_type": "execute_result"
    }
   ],
   "source": [
    "V_ones = ones(2429, 50)\n",
    "W_ones = ones(50, 361)\n",
    "V_1, W_1 = nnmf2(X, 50, V = V_ones, W = W_ones)\n",
    "VW_1 = V_1*W_1\n",
    "PyPlot.imshow(reshape(VW_1[50, :], 19, 19))"
   ]
  },
  {
   "cell_type": "markdown",
   "metadata": {},
   "source": [
    "## Q1.4 Solution:"
   ]
  },
  {
   "cell_type": "code",
   "execution_count": 24,
   "metadata": {},
   "outputs": [
    {
     "data": {
      "image/png": "[encoded data removed]",
      "text/plain": [
       "PyPlot.Figure(PyObject <Figure size 640x480 with 4 Axes>)"
      ]
     },
     "metadata": {},
     "output_type": "display_data"
    },
    {
     "data": {
      "text/plain": [
       "PyObject <matplotlib.image.AxesImage object at 0x14baaf910>"
      ]
     },
     "execution_count": 24,
     "metadata": {},
     "output_type": "execute_result"
    }
   ],
   "source": [
    "# with rank 10 its blurrier than with rank 50 because we are capturing less information from the original X\n",
    "V, W = nnmf2(X, 50, V = V0[:, 1:50], W = W0[1:50, :])\n",
    "size(W)\n",
    "\n",
    "W_img1 = W[1, :]\n",
    "W_img1 = reshape(W_img1, 19, 19)\n",
    "\n",
    "W_img2 = W[2, :]\n",
    "W_img2 = reshape(W_img2, 19, 19)\n",
    "\n",
    "W_img5 = W[5, :]\n",
    "W_img5 = reshape(W_img5, 19, 19)\n",
    "\n",
    "W_img10 = W[10, :]\n",
    "W_img10 = reshape(W_img10, 19, 19)\n",
    "\n",
    "#VW = V*W\n",
    "subplot(1, 4, 1)\n",
    "PyPlot.imshow(W_img1)\n",
    "subplot(1, 4, 2)\n",
    "PyPlot.imshow(W_img2)\n",
    "subplot(1, 4, 3)\n",
    "PyPlot.imshow(W_img5)\n",
    "subplot(1, 4, 4)\n",
    "PyPlot.imshow(W_img10)"
   ]
  },
  {
   "cell_type": "markdown",
   "metadata": {},
   "source": [
    "## Q2. Linear Mixed Models\n",
    "\n",
    "Consider a linear mixed effects model\n",
    "$$\n",
    "\ty_i = \\mathbf{x}_i^T \\beta + \\mathbf{z}_i^T \\gamma + \\epsilon_i, \\quad i=1,\\ldots,n,\n",
    "$$\n",
    "where $\\epsilon_i$ are independent normal errors $N(0,\\sigma_0^2)$, $\\beta \\in \\mathbb{R}^p$ are fixed effects, and $\\gamma \\in \\mathbb{R}^q$ are random effects assumed to be $N(\\mathbf{0}_q, \\sigma_1^2 \\mathbf{I}_q$) independent of $\\epsilon_i$. \n",
    "\n",
    "0. Show that \n",
    "$$\n",
    "    \\mathbf{y} \\sim N \\left( \\mathbf{X} \\beta, \\sigma_0^2 \\mathbf{I}_n + \\sigma_1^2 \\mathbf{Z} \\mathbf{Z}^T \\right),\n",
    "$$\n",
    "where $\\mathbf{y} = (y_1, \\ldots, y_n)^T \\in \\mathbb{R}^n$, $\\mathbf{X} = (\\mathbf{x}_1, \\ldots, \\mathbf{x}_n)^T \\in \\mathbb{R}^{n \\times p}$, and $\\mathbf{Z} = (\\mathbf{z}_1, \\ldots, \\mathbf{z}_n)^T \\in \\mathbb{R}^{n \\times q}$. \n",
    "\n",
    "0. Write a function, with interface \n",
    "    ```julia\n",
    "    logpdf_mvn(y::Vector, Z::Matrix, σ0::Number, σ1::Number),\n",
    "    ```\n",
    "that evaluates the log-density of a multivariate normal with mean $\\mathbf{0}$ and covariance $\\sigma_0^2 \\mathbf{I} + \\sigma_1^2 \\mathbf{Z} \\mathbf{Z}^T$ at $\\mathbf{y}$. Make your code efficient in the $n \\gg q$ case. \n",
    "\n",
    "0. Compare your result (both accuracy and timing) to the [Distributions.jl](http://distributionsjl.readthedocs.io/en/latest/multivariate.html#multivariate-normal-distribution) package using following data.  \n",
    "    ```julia\n",
    "    using BenchmarkTools, Distributions\n",
    "\n",
    "    srand(280)\n",
    "    n, q = 2000, 10\n",
    "    Z = randn(n, q)\n",
    "    σ0, σ1 = 0.5, 2.0\n",
    "    Σ = σ1^2 * Z * Z.' + σ0^2 * I\n",
    "    mvn = MvNormal(Σ) # MVN(0, Σ)\n",
    "    y = rand(mvn) # generate one instance from MNV(0, Σ)\n",
    "\n",
    "    # check you answer matches that from Distributions.jl\n",
    "    @show logpdf_mvn(y, Z, σ0, σ1)\n",
    "    @show logpdf(mvn, y)\n",
    "\n",
    "    # benchmark\n",
    "    @benchmark logpdf_mvn(y, Z, σ0, σ1)\n",
    "    @benchmark logpdf(mvn, y)\n",
    "    ```"
   ]
  },
  {
   "cell_type": "markdown",
   "metadata": {},
   "source": [
    "## Q2.1 Solution:"
   ]
  },
  {
   "cell_type": "code",
   "execution_count": 11,
   "metadata": {},
   "outputs": [
    {
     "data": {
      "text/plain": [
       "logpdf_mvn0 (generic function with 1 method)"
      ]
     },
     "execution_count": 11,
     "metadata": {},
     "output_type": "execute_result"
    }
   ],
   "source": [
    "# better memory efficiency\n",
    "function logpdf_mvn0(y::Vector, Z::Matrix, σ0::Number, σ1::Number)\n",
    "    n = length(y)\n",
    "    Σchol = cholfact!(σ1^2/σ0^2 * (Z' * Z) + I) \n",
    "    logdetΣchol = 2 * n * log(σ0) + logdet(Σchol)\n",
    "    - (n//2) * log(2π) - (1//2) * logdetΣchol - (1//2) * (sum(abs2, y)/σ0^2 - sum(abs2, Σchol[:L] \\ ((Z' * y) * (σ1/σ0^2))))\n",
    "end"
   ]
  },
  {
   "cell_type": "code",
   "execution_count": 12,
   "metadata": {},
   "outputs": [
    {
     "data": {
      "text/plain": [
       "logpdf_mvn1 (generic function with 1 method)"
      ]
     },
     "execution_count": 12,
     "metadata": {},
     "output_type": "execute_result"
    }
   ],
   "source": [
    "# better memory efficiency\n",
    "function logpdf_mvn1(y::Vector, Z::Matrix, σ0::Number, σ1::Number)\n",
    "    n = length(y)\n",
    "    Σchol = cholfact(σ1^2/σ0^2 * Symmetric(BLAS.syrk('U', 'T', 1, Z)) + I) \n",
    "    #cholesky factorization works really fast on symmetric matrices\n",
    "    logdetΣchol = 2 * n * log(σ0) + logdet(Σchol)\n",
    "    - (n//2) * log(2π) - (1//2) * logdetΣchol - (1//2) * (sum(abs2, y)/σ0^2 - sum(abs2, Σchol[:L] \\ ((Z' * y) * (σ1/σ0^2))))\n",
    "end"
   ]
  },
  {
   "cell_type": "code",
   "execution_count": 13,
   "metadata": {},
   "outputs": [
    {
     "ename": "LoadError",
     "evalue": "\u001b[91mUndefVarError: Z not defined\u001b[39m",
     "output_type": "error",
     "traceback": [
      "\u001b[91mUndefVarError: Z not defined\u001b[39m",
      ""
     ]
    }
   ],
   "source": [
    "Symmetric(BLAS.syrk('U', 'T', 1, Z))"
   ]
  },
  {
   "cell_type": "code",
   "execution_count": 14,
   "metadata": {},
   "outputs": [
    {
     "data": {
      "text/plain": [
       "logpdf_mvn2 (generic function with 1 method)"
      ]
     },
     "execution_count": 14,
     "metadata": {},
     "output_type": "execute_result"
    }
   ],
   "source": [
    "# better memory efficiency\n",
    "function logpdf_mvn2(y::Vector, Z::Matrix, σ0::Number, σ1::Number)\n",
    "    n = length(y)\n",
    "    Σchol = cholfact(σ1^2 * Z * Z.' + σ0^2 * I)\n",
    "    - (n//2) * log(2π) - (1//2) * logdet(Σchol) - (1//2) * dot(y, Σchol \\ y)\n",
    "end"
   ]
  },
  {
   "cell_type": "code",
   "execution_count": 15,
   "metadata": {
    "scrolled": true
   },
   "outputs": [
    {
     "name": "stdout",
     "output_type": "stream",
     "text": [
      "logpdf_mvn0(y, Z, σ0, σ1) = -1571.5736734653365\n",
      "logpdf_mvn1(y, Z, σ0, σ1) = -1571.5736734653365\n",
      "logpdf_mvn2(y, Z, σ0, σ1) = -1571.5736734654133\n",
      "logpdf(mvn, y) = -1571.5736734654135\n"
     ]
    },
    {
     "data": {
      "text/plain": [
       "-1571.5736734654135"
      ]
     },
     "execution_count": 15,
     "metadata": {},
     "output_type": "execute_result"
    }
   ],
   "source": [
    "using BenchmarkTools, Distributions\n",
    "\n",
    "    srand(280)\n",
    "    n, q = 2000, 10\n",
    "    Z = randn(n, q)\n",
    "    σ0, σ1 = 0.5, 2.0\n",
    "    Σ = σ1^2 * Z * Z.' + σ0^2 * I\n",
    "    mvn = MvNormal(Σ) # MVN(0, Σ)\n",
    "    y = rand(mvn) # generate one instance from MNV(0, Σ)\n",
    "\n",
    "    # check you answer matches that from Distributions.jl\n",
    "    @show logpdf_mvn0(y, Z, σ0, σ1)\n",
    "    @show logpdf_mvn1(y, Z, σ0, σ1)\n",
    " @show logpdf_mvn2(y, Z, σ0, σ1)    \n",
    "@show logpdf(mvn, y)"
   ]
  },
  {
   "cell_type": "code",
   "execution_count": 16,
   "metadata": {},
   "outputs": [
    {
     "data": {
      "text/plain": [
       "BenchmarkTools.Trial: \n",
       "  memory estimate:  4.17 KiB\n",
       "  allocs estimate:  16\n",
       "  --------------\n",
       "  minimum time:     36.658 μs (0.00% GC)\n",
       "  median time:      37.224 μs (0.00% GC)\n",
       "  mean time:        38.693 μs (0.82% GC)\n",
       "  maximum time:     1.673 ms (95.11% GC)\n",
       "  --------------\n",
       "  samples:          10000\n",
       "  evals/sample:     1"
      ]
     },
     "execution_count": 16,
     "metadata": {},
     "output_type": "execute_result"
    }
   ],
   "source": [
    "# benchmark\n",
    "@benchmark logpdf_mvn0(y, Z, σ0, σ1)"
   ]
  },
  {
   "cell_type": "code",
   "execution_count": 17,
   "metadata": {},
   "outputs": [
    {
     "data": {
      "text/plain": [
       "BenchmarkTools.Trial: \n",
       "  memory estimate:  5.11 KiB\n",
       "  allocs estimate:  19\n",
       "  --------------\n",
       "  minimum time:     36.601 μs (0.00% GC)\n",
       "  median time:      37.287 μs (0.00% GC)\n",
       "  mean time:        38.862 μs (0.85% GC)\n",
       "  maximum time:     1.756 ms (94.88% GC)\n",
       "  --------------\n",
       "  samples:          10000\n",
       "  evals/sample:     1"
      ]
     },
     "execution_count": 17,
     "metadata": {},
     "output_type": "execute_result"
    }
   ],
   "source": [
    "# benchmark\n",
    "@benchmark logpdf_mvn1(y, Z, σ0, σ1)"
   ]
  },
  {
   "cell_type": "code",
   "execution_count": 18,
   "metadata": {},
   "outputs": [
    {
     "data": {
      "text/plain": [
       "BenchmarkTools.Trial: \n",
       "  memory estimate:  91.87 MiB\n",
       "  allocs estimate:  19\n",
       "  --------------\n",
       "  minimum time:     176.886 ms (6.88% GC)\n",
       "  median time:      217.874 ms (8.78% GC)\n",
       "  mean time:        223.558 ms (11.20% GC)\n",
       "  maximum time:     380.577 ms (44.16% GC)\n",
       "  --------------\n",
       "  samples:          23\n",
       "  evals/sample:     1"
      ]
     },
     "execution_count": 18,
     "metadata": {},
     "output_type": "execute_result"
    }
   ],
   "source": [
    "@benchmark logpdf_mvn2(y, Z, σ0, σ1)"
   ]
  },
  {
   "cell_type": "code",
   "execution_count": 19,
   "metadata": {},
   "outputs": [
    {
     "data": {
      "text/plain": [
       "BenchmarkTools.Trial: \n",
       "  memory estimate:  15.78 KiB\n",
       "  allocs estimate:  3\n",
       "  --------------\n",
       "  minimum time:     3.822 ms (0.00% GC)\n",
       "  median time:      6.362 ms (0.00% GC)\n",
       "  mean time:        6.092 ms (0.00% GC)\n",
       "  maximum time:     8.131 ms (0.00% GC)\n",
       "  --------------\n",
       "  samples:          818\n",
       "  evals/sample:     1"
      ]
     },
     "execution_count": 19,
     "metadata": {},
     "output_type": "execute_result"
    }
   ],
   "source": [
    "@benchmark logpdf(mvn, y)"
   ]
  },
  {
   "cell_type": "code",
   "execution_count": null,
   "metadata": {},
   "outputs": [],
   "source": []
  }
 ],
 "metadata": {
  "kernelspec": {
   "display_name": "Julia 0.6.2",
   "language": "julia",
   "name": "julia-0.6"
  },
  "language_info": {
   "file_extension": ".jl",
   "mimetype": "application/julia",
   "name": "julia",
   "version": "0.6.2"
  },
  "toc": {
   "colors": {
    "hover_highlight": "#DAA520",
    "running_highlight": "#FF0000",
    "selected_highlight": "#FFD700"
   },
   "moveMenuLeft": true,
   "nav_menu": {
    "height": "87px",
    "width": "252px"
   },
   "navigate_menu": true,
   "number_sections": true,
   "sideBar": true,
   "threshold": 4,
   "toc_cell": false,
   "toc_section_display": "block",
   "toc_window_display": false,
   "widenNotebook": false
  }
 },
 "nbformat": 4,
 "nbformat_minor": 2
}
