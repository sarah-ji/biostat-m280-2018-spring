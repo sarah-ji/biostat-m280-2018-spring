{
 "cells": [
  {
   "cell_type": "markdown",
   "metadata": {},
   "source": [
    "# Biostat M280 Homework 1\n",
    "\n",
    "#### Due Apr 27 @ 11:59PM"
   ]
  },
  {
   "cell_type": "markdown",
   "metadata": {},
   "source": [
    "## Q1\n",
    "\n",
    "**No handwritten homework reports are accepted for this course.**  We work with Git/GitHub.  Efficient and abundant use of Git, e.g., **frequent and well-documented** commits, is an important criterion for grading your homework.\n",
    "\n",
    "0. Apply for the [Student Developer Pack](https://education.github.com/pack) at GitHub using your UCLA email.\n",
    "\n",
    "0. Create a **private** repository `biostat-m280-2018-spring` and add `Hua-Zhou` and `LuZhangstat` (TA) as your collaborators.\n",
    "\n",
    "0. Top directories of the repository should be `hw1`, `hw2`, ... Create two branches `master` and `develop`. The `develop` branch will be your main playground, the place where you develop solution (code) to homework problems and write up report. The `master` branch will be your presentation area. Put your homework submission files (IJulia notebook `.ipynb`, html converted from notebook, all code and data set to reproduce results) in `master` branch.  \n",
    "\n",
    "0. After each homework due date, teaching assistant and instructor will check out your `master` branch for grading. Tag each of your homework submissions with tag names `hw1`, `hw2`, ...  Tagging time will be used as your submission time. That means if you tag your hw1 submission after deadline, penalty points will be deducted for late submission.  \n",
    "\n",
    "0. Read the [style guide](https://github.com/johnmyleswhite/Style.jl) for Julia programming by John Myles White. Following rules in the style guide will be strictly enforced when grading: (4), (6), (7), (8), (9), (12), (13) and (16)."
   ]
  },
  {
   "cell_type": "markdown",
   "metadata": {},
   "source": [
    "# Solution:\n",
    "\n",
    "1. Yes I have, and my Git-hub name is: sarah-ji\n",
    "\n",
    "2. Yes I have created a private repository and added `Hua-Zhou` and `LuZhangstat` as collaborators.\n",
    "\n",
    "3. Yes I have created two branches, one called master and one called develop. \n",
    "\n",
    "4. Yes I have tagged homework 1 as `hw1`.\n",
    "\n",
    "5. Yes I have read the style guide for Julia programming."
   ]
  },
  {
   "cell_type": "markdown",
   "metadata": {},
   "source": [
    "## Q2\n",
    "\n",
    "Let's check whether floating-point numbers obey certain algebraic rules.  \n",
    "0. Associative rule for addition says `(x + y) + z == x + (y + z)`. Check association rule using `x = 0.1`, `y = 0.1` and `z = 1.0` in Julia. Explain what you find.\n",
    "\n",
    "0. Do floating-point numbers obey the associative rule for multiplication: `(x * y) * z == x * (y * z)`?\n",
    "\n",
    "0. Do floating-point numbers obey the distributive rule: `a * (x + y) == a * x + a * y`?  \n",
    "\n",
    "0. Is `0 * x == 0` true for all floating-point number `x`?  \n",
    "\n",
    "0. Is `x / a == x * (1 / a)` always true?"
   ]
  },
  {
   "cell_type": "markdown",
   "metadata": {},
   "source": [
    "## Q2.1 Solution:\n",
    "\n",
    "We see that in Julia the association rule does not check out. "
   ]
  },
  {
   "cell_type": "code",
   "execution_count": 71,
   "metadata": {},
   "outputs": [
    {
     "name": "stdout",
     "output_type": "stream",
     "text": [
      "elapsed time: 0.024272128 seconds\n"
     ]
    },
    {
     "data": {
      "text/plain": [
       "0.024272128"
      ]
     },
     "execution_count": 71,
     "metadata": {},
     "output_type": "execute_result"
    }
   ],
   "source": [
    "x = 0.1;\n",
    "y = 0.1;\n",
    "z = 1.0;\n",
    "answer = zeros(10);\n",
    "\n",
    "tic()\n",
    "for i in 1:10\n",
    "if (x + y) .+ z[i] .== x + (y .+ z[i])\n",
    "        answer[i] == true\n",
    "        else answer[i] == false;\n",
    "end\n",
    "end\n",
    "toc()"
   ]
  },
  {
   "cell_type": "code",
   "execution_count": 73,
   "metadata": {},
   "outputs": [
    {
     "data": {
      "text/plain": [
       "10-element Array{Float64,1}:\n",
       " 0.0\n",
       " 0.0\n",
       " 0.0\n",
       " 0.0\n",
       " 0.0\n",
       " 0.0\n",
       " 0.0\n",
       " 0.0\n",
       " 0.0\n",
       " 0.0"
      ]
     },
     "execution_count": 73,
     "metadata": {},
     "output_type": "execute_result"
    }
   ],
   "source": [
    "answer"
   ]
  },
  {
   "cell_type": "markdown",
   "metadata": {},
   "source": [
    "## Q2.2 Solution:\n",
    "\n",
    "We see that in Julia the floating-point numbers do obey the associative rule for multiplication."
   ]
  },
  {
   "cell_type": "code",
   "execution_count": 83,
   "metadata": {},
   "outputs": [
    {
     "name": "stdout",
     "output_type": "stream",
     "text": [
      "true\n",
      "true\n",
      "true\n",
      "true\n",
      "true\n",
      "false\n",
      "false\n",
      "true\n",
      "true\n",
      "true\n"
     ]
    }
   ],
   "source": [
    "x = collect(0.1:0.1:1.0);\n",
    "y = collect(0.3:0.2:3.0);\n",
    "z = collect(0.6:0.2:5.0);\n",
    "for i in 1:10\n",
    "    println((x[i] * y[i]) * z[i] == x[i] * (y[i] * z[i]));\n",
    "    end"
   ]
  },
  {
   "cell_type": "markdown",
   "metadata": {},
   "source": [
    "## Q2.2 Solution:\n",
    "\n",
    "We see that in Julia the floating-point numbers do obey the associative rule for multiplication."
   ]
  },
  {
   "cell_type": "code",
   "execution_count": 94,
   "metadata": {},
   "outputs": [
    {
     "name": "stdout",
     "output_type": "stream",
     "text": [
      "false\n",
      "false\n",
      "true\n",
      "true\n",
      "true\n",
      "false\n",
      "false\n",
      "true\n",
      "true\n",
      "true\n"
     ]
    }
   ],
   "source": [
    "a = collect(0.1:0.1:1.0);\n",
    "for i in 1:10\n",
    "println(a[i] * (x[i] + y[i]) == a[i] * x[i] + a[i] * y[i])\n",
    "    end"
   ]
  },
  {
   "cell_type": "markdown",
   "metadata": {},
   "source": [
    "## Q2.3 Solution:\n",
    "\n",
    "We see that in Julia the floating-point numbers do obey the distributive rule for multiplication."
   ]
  },
  {
   "cell_type": "code",
   "execution_count": 101,
   "metadata": {},
   "outputs": [
    {
     "name": "stdout",
     "output_type": "stream",
     "text": [
      "false\n",
      "false\n",
      "true\n",
      "true\n",
      "true\n",
      "false\n",
      "false\n",
      "true\n",
      "true\n",
      "true\n"
     ]
    }
   ],
   "source": [
    "for i in 1:10\n",
    "    println(a[i] * (x[i] + y[i]) == a[i] * x[i] + a[i] * y[i]);\n",
    "    end"
   ]
  },
  {
   "cell_type": "markdown",
   "metadata": {},
   "source": [
    "## Q2.4 Solution:\n",
    "\n",
    "We see that in Julia the floating-point numbers do obey the distributive rule for multiplication."
   ]
  },
  {
   "cell_type": "code",
   "execution_count": 104,
   "metadata": {},
   "outputs": [
    {
     "data": {
      "text/plain": [
       "10-element BitArray{1}:\n",
       " true\n",
       " true\n",
       " true\n",
       " true\n",
       " true\n",
       " true\n",
       " true\n",
       " true\n",
       " true\n",
       " true"
      ]
     },
     "execution_count": 104,
     "metadata": {},
     "output_type": "execute_result"
    }
   ],
   "source": [
    "0 .* x .== 0"
   ]
  },
  {
   "cell_type": "markdown",
   "metadata": {},
   "source": [
    "## Q2.5 Solution:\n",
    "\n",
    "We see that in Julia x / a == x * (1 / a) is always true."
   ]
  },
  {
   "cell_type": "code",
   "execution_count": 107,
   "metadata": {},
   "outputs": [
    {
     "name": "stdout",
     "output_type": "stream",
     "text": [
      "true\n",
      "true\n",
      "true\n",
      "true\n",
      "true\n",
      "true\n",
      "true\n",
      "true\n",
      "true\n",
      "true\n"
     ]
    }
   ],
   "source": [
    "for i in 1:10\n",
    "    println(x[i] / a[i] == x[i] * (1 / a[i]));\n",
    "    end"
   ]
  },
  {
   "cell_type": "markdown",
   "metadata": {},
   "source": [
    "## Q3\n",
    "\n",
    "Consider Julia function\n",
    "```julia\n",
    "function g(k)\n",
    "    for i = 1:10\n",
    "        k = 5k - 1\n",
    "    end\n",
    "    k\n",
    "end\n",
    "```\n",
    "0. Use `@code_llvm` to find the LLVM bitcode of compiled `g` with `Int64` input.   \n",
    "1. Use `@code_llvm` to find the LLVM bitcode of compiled `g` with `Float64` input.  \n",
    "2. Compare the bitcode from questions 1 and 2. What do you find?  \n",
    "3. Read Julia documentation on `@fastmath` and repeat the questions 1-3 on the function  \n",
    "\n",
    "```julia\n",
    "function g_fastmath(k)  \n",
    "    @fastmath for i = 1:10  \n",
    "        k = 5k - 1\n",
    "    end\n",
    "    k\n",
    "end\n",
    "```\n",
    "Explain what does macro `@fastmath` do?"
   ]
  },
  {
   "cell_type": "markdown",
   "metadata": {},
   "source": [
    "## Q3.1 Solution:\n"
   ]
  },
  {
   "cell_type": "code",
   "execution_count": 108,
   "metadata": {},
   "outputs": [
    {
     "data": {
      "text/plain": [
       "Float64"
      ]
     },
     "execution_count": 108,
     "metadata": {},
     "output_type": "execute_result"
    }
   ],
   "source": [
    "typeof(Inf)"
   ]
  },
  {
   "cell_type": "code",
   "execution_count": 121,
   "metadata": {},
   "outputs": [
    {
     "name": "stdout",
     "output_type": "stream",
     "text": [
      "\n",
      "define i64 @julia_g_64291(i64) #0 !dbg !5 {\n",
      "top:\n",
      "  %1 = mul i64 %0, 9765625\n",
      "  %2 = add i64 %1, -2441406\n",
      "  ret i64 %2\n",
      "}\n",
      "\n",
      "define i8** @julia_g_64306(i8**) #0 !dbg !5 {\n",
      "top:\n",
      "  %1 = call i8**** @jl_get_ptls_states() #3\n",
      "  %2 = alloca [9 x i8**], align 8\n",
      "  %.sub = getelementptr inbounds [9 x i8**], [9 x i8**]* %2, i64 0, i64 0\n",
      "  %3 = getelementptr [9 x i8**], [9 x i8**]* %2, i64 0, i64 3\n",
      "  %4 = getelementptr [9 x i8**], [9 x i8**]* %2, i64 0, i64 6\n",
      "  %k = getelementptr [9 x i8**], [9 x i8**]* %2, i64 0, i64 2\n",
      "  %5 = bitcast i8*** %3 to i8*\n",
      "  call void @llvm.memset.p0i8.i32(i8* %5, i8 0, i32 48, i32 8, i1 false)\n",
      "  %6 = bitcast [9 x i8**]* %2 to i64*\n",
      "  store i64 14, i64* %6, align 8\n",
      "  %7 = bitcast i8**** %1 to i64*\n",
      "  %8 = load i64, i64* %7, align 8\n",
      "  %9 = getelementptr [9 x i8**], [9 x i8**]* %2, i64 0, i64 1\n",
      "  %10 = bitcast i8*** %9 to i64*\n",
      "  store i64 %8, i64* %10, align 8\n",
      "  store i8*** %.sub, i8**** %1, align 8\n",
      "  %11 = getelementptr [9 x i8**], [9 x i8**]* %2, i64 0, i64 5\n",
      "  %12 = getelementptr [9 x i8**], [9 x i8**]* %2, i64 0, i64 4\n",
      "  %13 = getelementptr [9 x i8**], [9 x i8**]* %2, i64 0, i64 8\n",
      "  %14 = getelementptr [9 x i8**], [9 x i8**]* %2, i64 0, i64 7\n",
      "  store i8** inttoptr (i64 4416046992 to i8**), i8*** %k, align 8\n",
      "  %15 = bitcast i8*** %13 to i64*\n",
      "  br label %if\n",
      "\n",
      "if:                                               ; preds = %top, %if\n",
      "  %16 = phi i64 [ 4416046992, %top ], [ %21, %if ]\n",
      "  %\"#temp#.02\" = phi i64 [ 1, %top ], [ %17, %if ]\n",
      "  %17 = add nuw nsw i64 %\"#temp#.02\", 1\n",
      "  store i64 %16, i64* %15, align 8\n",
      "  store i8** inttoptr (i64 4417254320 to i8**), i8*** %4, align 8\n",
      "  store i8** inttoptr (i64 4416176528 to i8**), i8*** %14, align 8\n",
      "  %18 = call i8** @jl_apply_generic(i8*** %4, i32 3)\n",
      "  store i8** %18, i8*** %12, align 8\n",
      "  store i8** inttoptr (i64 4421258168 to i8**), i8*** %3, align 8\n",
      "  store i8** inttoptr (i64 4416176272 to i8**), i8*** %11, align 8\n",
      "  %19 = call i8** @jl_apply_generic(i8*** %3, i32 3)\n",
      "  store i8** %19, i8*** %k, align 8\n",
      "  %20 = icmp eq i64 %17, 11\n",
      "  %21 = ptrtoint i8** %19 to i64\n",
      "  br i1 %20, label %L13, label %if\n",
      "\n",
      "L13:                                              ; preds = %if\n",
      "  %22 = load i64, i64* %10, align 8\n",
      "  store i64 %22, i64* %7, align 8\n",
      "  ret i8** %19\n",
      "}\n"
     ]
    }
   ],
   "source": [
    "function g(k)\n",
    "    for i = 1:10\n",
    "        k = 5k - 1\n",
    "    end\n",
    "    k\n",
    "end\n",
    "\n",
    "@code_llvm g(Int64)"
   ]
  },
  {
   "cell_type": "markdown",
   "metadata": {},
   "source": [
    "## Q3.2 Solution:"
   ]
  },
  {
   "cell_type": "code",
   "execution_count": 122,
   "metadata": {},
   "outputs": [
    {
     "name": "stdout",
     "output_type": "stream",
     "text": [
      "\n",
      "define i8** @julia_g_64309(i8**) #0 !dbg !5 {\n",
      "top:\n",
      "  %1 = call i8**** @jl_get_ptls_states() #3\n",
      "  %2 = alloca [9 x i8**], align 8\n",
      "  %.sub = getelementptr inbounds [9 x i8**], [9 x i8**]* %2, i64 0, i64 0\n",
      "  %3 = getelementptr [9 x i8**], [9 x i8**]* %2, i64 0, i64 3\n",
      "  %4 = getelementptr [9 x i8**], [9 x i8**]* %2, i64 0, i64 6\n",
      "  %k = getelementptr [9 x i8**], [9 x i8**]* %2, i64 0, i64 2\n",
      "  %5 = bitcast i8*** %3 to i8*\n",
      "  call void @llvm.memset.p0i8.i32(i8* %5, i8 0, i32 48, i32 8, i1 false)\n",
      "  %6 = bitcast [9 x i8**]* %2 to i64*\n",
      "  store i64 14, i64* %6, align 8\n",
      "  %7 = bitcast i8**** %1 to i64*\n",
      "  %8 = load i64, i64* %7, align 8\n",
      "  %9 = getelementptr [9 x i8**], [9 x i8**]* %2, i64 0, i64 1\n",
      "  %10 = bitcast i8*** %9 to i64*\n",
      "  store i64 %8, i64* %10, align 8\n",
      "  store i8*** %.sub, i8**** %1, align 8\n",
      "  %11 = getelementptr [9 x i8**], [9 x i8**]* %2, i64 0, i64 8\n",
      "  %12 = getelementptr [9 x i8**], [9 x i8**]* %2, i64 0, i64 7\n",
      "  %13 = getelementptr [9 x i8**], [9 x i8**]* %2, i64 0, i64 5\n",
      "  %14 = getelementptr [9 x i8**], [9 x i8**]* %2, i64 0, i64 4\n",
      "  store i8** inttoptr (i64 4416477776 to i8**), i8*** %k, align 8\n",
      "  %15 = bitcast i8*** %13 to i64*\n",
      "  br label %if\n",
      "\n",
      "if:                                               ; preds = %top, %if\n",
      "  %16 = phi i64 [ 4416477776, %top ], [ %21, %if ]\n",
      "  %\"#temp#.02\" = phi i64 [ 1, %top ], [ %17, %if ]\n",
      "  %17 = add nuw nsw i64 %\"#temp#.02\", 1\n",
      "  store i64 %16, i64* %15, align 8\n",
      "  store i8** inttoptr (i64 4417254320 to i8**), i8*** %3, align 8\n",
      "  store i8** inttoptr (i64 4416176528 to i8**), i8*** %14, align 8\n",
      "  %18 = call i8** @jl_apply_generic(i8*** %3, i32 3)\n",
      "  store i8** %18, i8*** %12, align 8\n",
      "  store i8** inttoptr (i64 4421258168 to i8**), i8*** %4, align 8\n",
      "  store i8** inttoptr (i64 4416176272 to i8**), i8*** %11, align 8\n",
      "  %19 = call i8** @jl_apply_generic(i8*** %4, i32 3)\n",
      "  store i8** %19, i8*** %k, align 8\n",
      "  %20 = icmp eq i64 %17, 11\n",
      "  %21 = ptrtoint i8** %19 to i64\n",
      "  br i1 %20, label %L13, label %if\n",
      "\n",
      "L13:                                              ; preds = %if\n",
      "  %22 = load i64, i64* %10, align 8\n",
      "  store i64 %22, i64* %7, align 8\n",
      "  ret i8** %19\n",
      "}\n"
     ]
    }
   ],
   "source": [
    "@code_llvm g(Float64)"
   ]
  },
  {
   "cell_type": "markdown",
   "metadata": {},
   "source": [
    "## Q3.3 Solution:"
   ]
  },
  {
   "cell_type": "code",
   "execution_count": 123,
   "metadata": {},
   "outputs": [
    {
     "name": "stdout",
     "output_type": "stream",
     "text": [
      "\n",
      "define i8** @julia_g_fastmath_64323(i8**) #0 !dbg !5 {\n",
      "top:\n",
      "  %1 = call i8**** @jl_get_ptls_states() #3\n",
      "  %2 = alloca [9 x i8**], align 8\n",
      "  %.sub = getelementptr inbounds [9 x i8**], [9 x i8**]* %2, i64 0, i64 0\n",
      "  %3 = getelementptr [9 x i8**], [9 x i8**]* %2, i64 0, i64 3\n",
      "  %4 = getelementptr [9 x i8**], [9 x i8**]* %2, i64 0, i64 6\n",
      "  %k = getelementptr [9 x i8**], [9 x i8**]* %2, i64 0, i64 2\n",
      "  %5 = bitcast i8*** %3 to i8*\n",
      "  call void @llvm.memset.p0i8.i32(i8* %5, i8 0, i32 48, i32 8, i1 false)\n",
      "  %6 = bitcast [9 x i8**]* %2 to i64*\n",
      "  store i64 14, i64* %6, align 8\n",
      "  %7 = bitcast i8**** %1 to i64*\n",
      "  %8 = load i64, i64* %7, align 8\n",
      "  %9 = getelementptr [9 x i8**], [9 x i8**]* %2, i64 0, i64 1\n",
      "  %10 = bitcast i8*** %9 to i64*\n",
      "  store i64 %8, i64* %10, align 8\n",
      "  store i8*** %.sub, i8**** %1, align 8\n",
      "  %11 = getelementptr [9 x i8**], [9 x i8**]* %2, i64 0, i64 5\n",
      "  %12 = getelementptr [9 x i8**], [9 x i8**]* %2, i64 0, i64 4\n",
      "  %13 = getelementptr [9 x i8**], [9 x i8**]* %2, i64 0, i64 8\n",
      "  %14 = getelementptr [9 x i8**], [9 x i8**]* %2, i64 0, i64 7\n",
      "  store i8** inttoptr (i64 4416046992 to i8**), i8*** %k, align 8\n",
      "  %15 = bitcast i8*** %13 to i64*\n",
      "  br label %if\n",
      "\n",
      "if:                                               ; preds = %top, %if\n",
      "  %16 = phi i64 [ 4416046992, %top ], [ %21, %if ]\n",
      "  %\"#temp#.02\" = phi i64 [ 1, %top ], [ %17, %if ]\n",
      "  %17 = add nuw nsw i64 %\"#temp#.02\", 1\n",
      "  store i64 %16, i64* %15, align 8\n",
      "  store i8** inttoptr (i64 4449429872 to i8**), i8*** %4, align 8\n",
      "  store i8** inttoptr (i64 4416176528 to i8**), i8*** %14, align 8\n",
      "  %18 = call i8** @jl_apply_generic(i8*** %4, i32 3)\n",
      "  store i8** %18, i8*** %12, align 8\n",
      "  store i8** inttoptr (i64 4449429264 to i8**), i8*** %3, align 8\n",
      "  store i8** inttoptr (i64 4416176272 to i8**), i8*** %11, align 8\n",
      "  %19 = call i8** @jl_apply_generic(i8*** %3, i32 3)\n",
      "  store i8** %19, i8*** %k, align 8\n",
      "  %20 = icmp eq i64 %17, 11\n",
      "  %21 = ptrtoint i8** %19 to i64\n",
      "  br i1 %20, label %L13, label %if\n",
      "\n",
      "L13:                                              ; preds = %if\n",
      "  %22 = load i64, i64* %10, align 8\n",
      "  store i64 %22, i64* %7, align 8\n",
      "  ret i8** %19\n",
      "}\n"
     ]
    }
   ],
   "source": [
    "function g_fastmath(k)  \n",
    "    @fastmath for i = 1:10  \n",
    "        k = 5k - 1\n",
    "    end\n",
    "    k\n",
    "end\n",
    "\n",
    "@code_llvm g_fastmath(Int64)"
   ]
  },
  {
   "cell_type": "code",
   "execution_count": 124,
   "metadata": {},
   "outputs": [
    {
     "name": "stdout",
     "output_type": "stream",
     "text": [
      "\n",
      "define i8** @julia_g_fastmath_64324(i8**) #0 !dbg !5 {\n",
      "top:\n",
      "  %1 = call i8**** @jl_get_ptls_states() #3\n",
      "  %2 = alloca [9 x i8**], align 8\n",
      "  %.sub = getelementptr inbounds [9 x i8**], [9 x i8**]* %2, i64 0, i64 0\n",
      "  %3 = getelementptr [9 x i8**], [9 x i8**]* %2, i64 0, i64 3\n",
      "  %4 = getelementptr [9 x i8**], [9 x i8**]* %2, i64 0, i64 6\n",
      "  %k = getelementptr [9 x i8**], [9 x i8**]* %2, i64 0, i64 2\n",
      "  %5 = bitcast i8*** %3 to i8*\n",
      "  call void @llvm.memset.p0i8.i32(i8* %5, i8 0, i32 48, i32 8, i1 false)\n",
      "  %6 = bitcast [9 x i8**]* %2 to i64*\n",
      "  store i64 14, i64* %6, align 8\n",
      "  %7 = bitcast i8**** %1 to i64*\n",
      "  %8 = load i64, i64* %7, align 8\n",
      "  %9 = getelementptr [9 x i8**], [9 x i8**]* %2, i64 0, i64 1\n",
      "  %10 = bitcast i8*** %9 to i64*\n",
      "  store i64 %8, i64* %10, align 8\n",
      "  store i8*** %.sub, i8**** %1, align 8\n",
      "  %11 = getelementptr [9 x i8**], [9 x i8**]* %2, i64 0, i64 5\n",
      "  %12 = getelementptr [9 x i8**], [9 x i8**]* %2, i64 0, i64 4\n",
      "  %13 = getelementptr [9 x i8**], [9 x i8**]* %2, i64 0, i64 8\n",
      "  %14 = getelementptr [9 x i8**], [9 x i8**]* %2, i64 0, i64 7\n",
      "  store i8** inttoptr (i64 4416477776 to i8**), i8*** %k, align 8\n",
      "  %15 = bitcast i8*** %13 to i64*\n",
      "  br label %if\n",
      "\n",
      "if:                                               ; preds = %top, %if\n",
      "  %16 = phi i64 [ 4416477776, %top ], [ %21, %if ]\n",
      "  %\"#temp#.02\" = phi i64 [ 1, %top ], [ %17, %if ]\n",
      "  %17 = add nuw nsw i64 %\"#temp#.02\", 1\n",
      "  store i64 %16, i64* %15, align 8\n",
      "  store i8** inttoptr (i64 4449429872 to i8**), i8*** %4, align 8\n",
      "  store i8** inttoptr (i64 4416176528 to i8**), i8*** %14, align 8\n",
      "  %18 = call i8** @jl_apply_generic(i8*** %4, i32 3)\n",
      "  store i8** %18, i8*** %12, align 8\n",
      "  store i8** inttoptr (i64 4449429264 to i8**), i8*** %3, align 8\n",
      "  store i8** inttoptr (i64 4416176272 to i8**), i8*** %11, align 8\n",
      "  %19 = call i8** @jl_apply_generic(i8*** %3, i32 3)\n",
      "  store i8** %19, i8*** %k, align 8\n",
      "  %20 = icmp eq i64 %17, 11\n",
      "  %21 = ptrtoint i8** %19 to i64\n",
      "  br i1 %20, label %L13, label %if\n",
      "\n",
      "L13:                                              ; preds = %if\n",
      "  %22 = load i64, i64* %10, align 8\n",
      "  store i64 %22, i64* %7, align 8\n",
      "  ret i8** %19\n",
      "}\n"
     ]
    }
   ],
   "source": [
    "@code_llvm g_fastmath(Float64)"
   ]
  },
  {
   "cell_type": "markdown",
   "metadata": {},
   "source": [
    "## Q4\n",
    "\n",
    "Create the vector `x = (0.988, 0.989, 0.990, ..., 1.010, 1.011, 1.012)`.  \n",
    "0. Plot the polynomial `y = x^7 - 7x^6 + 21x^5 - 35x^4 + 35x^3 - 21x^2 + 7x -1` at points `x`.  \n",
    "\n",
    "1. Plot the polynomial `y = (x - 1)^7` at points `x`.  \n",
    "\n",
    "2. Explain what you found."
   ]
  },
  {
   "cell_type": "code",
   "execution_count": 113,
   "metadata": {},
   "outputs": [
    {
     "data": {
      "text/plain": [
       "25-element Array{Float64,1}:\n",
       " 0.988\n",
       " 0.989\n",
       " 0.99 \n",
       " 0.991\n",
       " 0.992\n",
       " 0.993\n",
       " 0.994\n",
       " 0.995\n",
       " 0.996\n",
       " 0.997\n",
       " 0.998\n",
       " 0.999\n",
       " 1.0  \n",
       " 1.001\n",
       " 1.002\n",
       " 1.003\n",
       " 1.004\n",
       " 1.005\n",
       " 1.006\n",
       " 1.007\n",
       " 1.008\n",
       " 1.009\n",
       " 1.01 \n",
       " 1.011\n",
       " 1.012"
      ]
     },
     "execution_count": 113,
     "metadata": {},
     "output_type": "execute_result"
    }
   ],
   "source": [
    "x = Vector(0.988:0.001:1.012)"
   ]
  },
  {
   "cell_type": "code",
   "execution_count": 119,
   "metadata": {},
   "outputs": [
    {
     "data": {
      "text/plain": [
       "y_f (generic function with 1 method)"
      ]
     },
     "execution_count": 119,
     "metadata": {},
     "output_type": "execute_result"
    }
   ],
   "source": [
    "using Plots\n",
    "pyplot()\n",
    "y = zeros(length(x));\n",
    "for i in 1:length(x)\n",
    "y[i] = x[i]^7 - 7x[i]^6 + 21x[i]^5 - 35x[i]^4 + 35x[i]^3 - 21x[i]^2 + 7x[i] - 1\n",
    "    return \n",
    "end"
   ]
  },
  {
   "cell_type": "markdown",
   "metadata": {},
   "source": [
    "## Q5\n",
    "\n",
    "Let the $n \\times n$ matrix `H` have elements `H[i, j] = 1 / (i + j - 1)`.  \n",
    "0. Write a function `h(n)` that outputs $n \\times n$ matrix `H`. Try at least 3 ways, e.g., looping, [comprehension](https://docs.julialang.org/en/stable/manual/arrays/#Comprehensions-1), and vectorization. Compute and print `H` for `n = 5`.   \n",
    "0. Compare their efficiencies at `n = 1000`.\n",
    "0. Try different rounding modes (use function `setrounding(Float64, RoundingMode)`) and report the entry `inv(H)[1, 1]` for `n = 15`."
   ]
  },
  {
   "cell_type": "markdown",
   "metadata": {},
   "source": [
    "## Q6\n",
    "\n",
    "0. Show the **Sherman-Morrison formula**\n",
    "$$\n",
    "\t(\\mathbf{A} + \\mathbf{u} \\mathbf{u}^T)^{-1} = \\mathbf{A}^{-1} - \\frac{1}{1 + \\mathbf{u}^T \\mathbf{A}^{-1} \\mathbf{u}} \\mathbf{A}^{-1} \\mathbf{u} \\mathbf{u}^T \\mathbf{A}^{-1},\n",
    "$$\n",
    "where $\\mathbf{A} \\in \\mathbb{R}^{n \\times n}$ is nonsingular and $\\mathbf{u} \\in \\mathbb{R}^n$. This formula supplies the inverse of the symmetric, rank-one  perturbation of $\\mathbf{A}$.\n",
    "\n",
    "0. Show the **Woodbury formula**\n",
    "$$\n",
    "\t(\\mathbf{A} + \\mathbf{U} \\mathbf{V}^T)^{-1} = \\mathbf{A}^{-1} - \\mathbf{A}^{-1} \\mathbf{U} (\\mathbf{I}_m + \\mathbf{V}^T \\mathbf{A}^{-1} \\mathbf{U})^{-1} \\mathbf{V}^T \\mathbf{A}^{-1},\n",
    "$$\n",
    "where $\\mathbf{A} \\in \\mathbb{R}^{n \\times n}$ is nonsingular, $\\mathbf{U}, \\mathbf{V} \\in \\mathbb{R}^{n \\times m}$, and $\\mathbf{I}_m$ is the $m \\times m$ identity matrix. In many applications $m$ is much smaller than $n$. Woodbury formula generalizes Sherman-Morrison and is valuable because the smaller matrix $\\mathbf{I}_m + \\mathbf{V}^T \\mathbf{A}^{-1} \\mathbf{U}$ is cheaper to invert than the larger matrix $\\mathbf{A} + \\mathbf{U} \\mathbf{V}^T$.\n",
    "\n",
    "0. Show the **binomial inversion formula**\n",
    "$$\n",
    "\t(\\mathbf{A} + \\mathbf{U} \\mathbf{B} \\mathbf{V}^T)^{-1} = \\mathbf{A}^{-1} - \\mathbf{A}^{-1} \\mathbf{U} (\\mathbf{B}^{-1} + \\mathbf{V}^T \\mathbf{A}^{-1} \\mathbf{U})^{-1} \\mathbf{V}^T \\mathbf{A}^{-1},\n",
    "$$\n",
    "where $\\mathbf{A}$ and $\\mathbf{B}$ are nonsingular.\n",
    "\n",
    "0. Show the identity\n",
    "$$\n",
    "\t\\text{det}(\\mathbf{A} + \\mathbf{U} \\mathbf{V}^T) = \\text{det}(\\mathbf{A}) \\text{det}(\\mathbf{I}_m + \\mathbf{V}^T \\mathbf{A}^{-1} \\mathbf{U}).\n",
    "$$\n",
    "This formula is useful for evaluating the density of a multivariate normal with covariance matrix $\\mathbf{A} + \\mathbf{U} \\mathbf{V}^T$."
   ]
  }
 ],
 "metadata": {
  "kernelspec": {
   "display_name": "Julia 0.6.2",
   "language": "julia",
   "name": "julia-0.6"
  },
  "language_info": {
   "file_extension": ".jl",
   "mimetype": "application/julia",
   "name": "julia",
   "version": "0.6.2"
  },
  "toc": {
   "colors": {
    "hover_highlight": "#DAA520",
    "running_highlight": "#FF0000",
    "selected_highlight": "#FFD700"
   },
   "moveMenuLeft": true,
   "nav_menu": {
    "height": "153px",
    "width": "252px"
   },
   "navigate_menu": true,
   "number_sections": false,
   "sideBar": true,
   "threshold": 4,
   "toc_cell": false,
   "toc_section_display": "block",
   "toc_window_display": true,
   "widenNotebook": false
  }
 },
 "nbformat": 4,
 "nbformat_minor": 2
}
