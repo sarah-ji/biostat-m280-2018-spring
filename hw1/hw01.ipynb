{
 "cells": [
  {
   "cell_type": "markdown",
   "metadata": {},
   "source": [
    "# Biostat M280 Homework 1\n",
    "## Sarah Ji\n",
    "#### Due Apr 27 @ 11:59PM"
   ]
  },
  {
   "cell_type": "markdown",
   "metadata": {},
   "source": [
    "## Q1\n",
    "\n",
    "**No handwritten homework reports are accepted for this course.**  We work with Git/GitHub.  Efficient and abundant use of Git, e.g., **frequent and well-documented** commits, is an important criterion for grading your homework.\n",
    "\n",
    "0. Apply for the [Student Developer Pack](https://education.github.com/pack) at GitHub using your UCLA email.\n",
    "\n",
    "0. Create a **private** repository `biostat-m280-2018-spring` and add `Hua-Zhou` and `LuZhangstat` (TA) as your collaborators.\n",
    "\n",
    "0. Top directories of the repository should be `hw1`, `hw2`, ... Create two branches `master` and `develop`. The `develop` branch will be your main playground, the place where you develop solution (code) to homework problems and write up report. The `master` branch will be your presentation area. Put your homework submission files (IJulia notebook `.ipynb`, html converted from notebook, all code and data set to reproduce results) in `master` branch.  \n",
    "\n",
    "0. After each homework due date, teaching assistant and instructor will check out your `master` branch for grading. Tag each of your homework submissions with tag names `hw1`, `hw2`, ...  Tagging time will be used as your submission time. That means if you tag your hw1 submission after deadline, penalty points will be deducted for late submission.  \n",
    "\n",
    "0. Read the [style guide](https://github.com/johnmyleswhite/Style.jl) for Julia programming by John Myles White. Following rules in the style guide will be strictly enforced when grading: (4), (6), (7), (8), (9), (12), (13) and (16)."
   ]
  },
  {
   "cell_type": "markdown",
   "metadata": {},
   "source": [
    "# Solution:\n",
    "\n",
    "1. Yes I have, and my Git-hub name is: `sarah-ji`\n",
    "\n",
    "2. Yes I have created a private repository and added `Hua-Zhou` and `LuZhangstat` as collaborators.\n",
    "\n",
    "3. Yes I have created two branches, one called master and one called develop. \n",
    "\n",
    "4. Yes I have tagged homework 1 as `hw1`.\n",
    "\n",
    "5. Yes I have read the style guide for Julia programming."
   ]
  },
  {
   "cell_type": "markdown",
   "metadata": {},
   "source": [
    "## Q2\n",
    "\n",
    "Let's check whether floating-point numbers obey certain algebraic rules.  \n",
    "0. Associative rule for addition says `(x + y) + z == x + (y + z)`. Check association rule using `x = 0.1`, `y = 0.1` and `z = 1.0` in Julia. Explain what you find.\n",
    "\n",
    "0. Do floating-point numbers obey the associative rule for multiplication: `(x * y) * z == x * (y * z)`?\n",
    "\n",
    "0. Do floating-point numbers obey the distributive rule: `a * (x + y) == a * x + a * y`?  \n",
    "\n",
    "0. Is `0 * x == 0` true for all floating-point number `x`?  \n",
    "\n",
    "0. Is `x / a == x * (1 / a)` always true?"
   ]
  },
  {
   "cell_type": "markdown",
   "metadata": {},
   "source": [
    "## Q2.1 Solution:\n",
    "\n",
    "We see that in Julia the association rule does not check out."
   ]
  },
  {
   "cell_type": "code",
   "execution_count": 1,
   "metadata": {},
   "outputs": [
    {
     "data": {
      "text/plain": [
       "false"
      ]
     },
     "execution_count": 1,
     "metadata": {},
     "output_type": "execute_result"
    }
   ],
   "source": [
    "x = 0.1;\n",
    "y = 0.1;\n",
    "z = 1.0;\n",
    "\n",
    "(x + y) + z == x + (y + z)"
   ]
  },
  {
   "cell_type": "markdown",
   "metadata": {},
   "source": [
    "Next, we explore using the @show function to see exactly what the right and left hand side values are."
   ]
  },
  {
   "cell_type": "code",
   "execution_count": 2,
   "metadata": {},
   "outputs": [
    {
     "name": "stdout",
     "output_type": "stream",
     "text": [
      "(x + y) + z = 1.2\n",
      "x + (y + z) = 1.2000000000000002\n"
     ]
    },
    {
     "data": {
      "text/plain": [
       "1.2000000000000002"
      ]
     },
     "execution_count": 2,
     "metadata": {},
     "output_type": "execute_result"
    }
   ],
   "source": [
    "@show (x + y) + z\n",
    "@show x + (y + z)"
   ]
  },
  {
   "cell_type": "markdown",
   "metadata": {},
   "source": [
    "## Explanation: \n",
    "We see from above that the left hand side equals 1.2 and the right hand side equals 1.2000000000000002. This can be explained because of the way Julia is handling the rounding of the numbers. From Hua Zhou's notes on <http://hua-zhou.github.io/teaching/biostatm280-2018spring/slides/04-arith/arith.html>:\n",
    "\n",
    ">Rounding is necessary whenever a number has more than p significand bits. Most computer systems use the default IEEE 754 round to nearest mode (also called ties to even mode). Julia offers several rounding modes, the default being RoundNearest. For example, the number 0.1 in decimal system cannot be represented accurately as a floating point number\n",
    "\n",
    "As x = 0.1 and y = 0.1 and the number 0.1 in the decimal system cannot be represented accurately as a floating point number, we get a marginal difference of .0000000000000002.\n",
    "\n",
    "Similarly, for the same reason, we see a discrepancy in the questions below."
   ]
  },
  {
   "cell_type": "markdown",
   "metadata": {},
   "source": [
    "## Q2.2 Solution:\n",
    "\n",
    "We see that in Julia, some floating-point numbers obey the associative rule for multiplication but some do not."
   ]
  },
  {
   "cell_type": "code",
   "execution_count": 3,
   "metadata": {},
   "outputs": [
    {
     "name": "stdout",
     "output_type": "stream",
     "text": [
      "false\n",
      "true\n"
     ]
    }
   ],
   "source": [
    "x1 = 0.7\n",
    "x2 = 0.2\n",
    "y1 = 0.8\n",
    "z = 3.3\n",
    "\n",
    "println((x1 * y1) * z == x1 * (y1 * z))\n",
    "println((x2 * y1) * z == x2 * (y1 * z))"
   ]
  },
  {
   "cell_type": "code",
   "execution_count": 4,
   "metadata": {},
   "outputs": [
    {
     "name": "stdout",
     "output_type": "stream",
     "text": [
      "(x1 * y1) * z = 1.8479999999999996\n",
      "x1 * (y1 * z) = 1.8479999999999999\n",
      "(x2 * y1) * z = 0.528\n",
      "x2 * (y1 * z) = 0.528\n"
     ]
    },
    {
     "data": {
      "text/plain": [
       "0.528"
      ]
     },
     "execution_count": 4,
     "metadata": {},
     "output_type": "execute_result"
    }
   ],
   "source": [
    "@show (x1 * y1) * z\n",
    "@show x1 * (y1 * z)\n",
    "\n",
    "@show (x2 * y1) * z\n",
    "@show x2 * (y1 * z)"
   ]
  },
  {
   "cell_type": "markdown",
   "metadata": {},
   "source": [
    "## Q2.3 Solution:\n",
    "\n",
    "We see that in Julia, some floating-point numbers obey the distributive rule but some do not."
   ]
  },
  {
   "cell_type": "code",
   "execution_count": 5,
   "metadata": {},
   "outputs": [
    {
     "name": "stdout",
     "output_type": "stream",
     "text": [
      "true\n",
      "false\n"
     ]
    }
   ],
   "source": [
    "x3 = 0.7\n",
    "x4 = 0.2\n",
    "y2 = 0.8\n",
    "a = 0.1\n",
    "\n",
    "println(a * (x3 + y2) == a * x3 + a * y2)\n",
    "println(a * (x4 + y2) == a * x4 + a * y2)"
   ]
  },
  {
   "cell_type": "code",
   "execution_count": 6,
   "metadata": {},
   "outputs": [
    {
     "name": "stdout",
     "output_type": "stream",
     "text": [
      "a * (x3 + y2) = 0.15000000000000002\n",
      "a * x3 + a * y2 = 0.15000000000000002\n",
      "a * (x4 + y2) = 0.1\n",
      "a * x4 + a * y2 = 0.10000000000000002\n"
     ]
    },
    {
     "data": {
      "text/plain": [
       "0.10000000000000002"
      ]
     },
     "execution_count": 6,
     "metadata": {},
     "output_type": "execute_result"
    }
   ],
   "source": [
    "@show a * (x3 + y2)\n",
    "@show a * x3 + a * y2\n",
    "\n",
    "@show a * (x4 + y2)\n",
    "@show a * x4 + a * y2"
   ]
  },
  {
   "cell_type": "markdown",
   "metadata": {},
   "source": [
    "## Q2.4 Solution:\n",
    "\n",
    "We see that in Julia the floating-point numbers do obey the distributive rule for multiplication."
   ]
  },
  {
   "cell_type": "code",
   "execution_count": 7,
   "metadata": {},
   "outputs": [
    {
     "name": "stdout",
     "output_type": "stream",
     "text": [
      "true\n",
      "false\n"
     ]
    }
   ],
   "source": [
    "println(0 * x1 == 0)\n",
    "println(0 * Inf == 0)"
   ]
  },
  {
   "cell_type": "code",
   "execution_count": 8,
   "metadata": {},
   "outputs": [
    {
     "name": "stdout",
     "output_type": "stream",
     "text": [
      "0x1 = 0.0\n",
      "0Inf = NaN\n"
     ]
    },
    {
     "data": {
      "text/plain": [
       "NaN"
      ]
     },
     "execution_count": 8,
     "metadata": {},
     "output_type": "execute_result"
    }
   ],
   "source": [
    "@show 0 * x1\n",
    "@show 0 * Inf"
   ]
  },
  {
   "cell_type": "markdown",
   "metadata": {},
   "source": [
    "## Q2.5 Solution:\n",
    "\n",
    "We see that in Julia, `0 * x == 0` is not true for all floating-point number `x`."
   ]
  },
  {
   "cell_type": "code",
   "execution_count": 9,
   "metadata": {},
   "outputs": [
    {
     "name": "stdout",
     "output_type": "stream",
     "text": [
      "false\n",
      "true\n"
     ]
    }
   ],
   "source": [
    "println(x1 / a == x1 * (1 / a))\n",
    "println(x2 / a == x2 * (1 / a))"
   ]
  },
  {
   "cell_type": "code",
   "execution_count": 10,
   "metadata": {},
   "outputs": [
    {
     "name": "stdout",
     "output_type": "stream",
     "text": [
      "x1 / a = 6.999999999999999\n",
      "x1 * (1 / a) = 7.0\n",
      "x2 / a = 2.0\n",
      "x2 * (1 / a) = 2.0\n"
     ]
    },
    {
     "data": {
      "text/plain": [
       "2.0"
      ]
     },
     "execution_count": 10,
     "metadata": {},
     "output_type": "execute_result"
    }
   ],
   "source": [
    "@show x1 / a\n",
    "@show x1 * (1 / a)\n",
    "@show x2 / a\n",
    "@show x2 * (1 / a)"
   ]
  },
  {
   "cell_type": "markdown",
   "metadata": {},
   "source": [
    "## Q3\n",
    "\n",
    "Consider Julia function\n",
    "```julia\n",
    "function g(k)\n",
    "    for i = 1:10\n",
    "        k = 5k - 1\n",
    "    end\n",
    "    k\n",
    "end\n",
    "```\n",
    "0. Use `@code_llvm` to find the LLVM bitcode of compiled `g` with `Int64` input.   \n",
    "1. Use `@code_llvm` to find the LLVM bitcode of compiled `g` with `Float64` input.  \n",
    "2. Compare the bitcode from questions 1 and 2. What do you find?  \n",
    "3. Read Julia documentation on `@fastmath` and repeat the questions 1-3 on the function  \n",
    "\n",
    "```julia\n",
    "function g_fastmath(k)  \n",
    "    @fastmath for i = 1:10  \n",
    "        k = 5k - 1\n",
    "    end\n",
    "    k\n",
    "end\n",
    "```\n",
    "Explain what does macro `@fastmath` do?"
   ]
  },
  {
   "cell_type": "markdown",
   "metadata": {},
   "source": [
    "## Q3.1 Solution:\n"
   ]
  },
  {
   "cell_type": "code",
   "execution_count": 11,
   "metadata": {},
   "outputs": [
    {
     "name": "stdout",
     "output_type": "stream",
     "text": [
      "\n",
      "define i64 @julia_g_63040(i64) #0 !dbg !5 {\n",
      "top:\n",
      "  %1 = mul i64 %0, 9765625\n",
      "  %2 = add i64 %1, -2441406\n",
      "  ret i64 %2\n",
      "}\n"
     ]
    }
   ],
   "source": [
    "function g(k)\n",
    "    for i = 1:10\n",
    "        k = 5k - 1\n",
    "    end\n",
    "    k\n",
    "end\n",
    "\n",
    "code_llvm(g, (Int64, ))"
   ]
  },
  {
   "cell_type": "markdown",
   "metadata": {},
   "source": [
    "We see that for the function g(k), if k is an input of type Int64 then the bitcode indicates a total of 2 flops."
   ]
  },
  {
   "cell_type": "markdown",
   "metadata": {},
   "source": [
    "## Q3.2 Solution:"
   ]
  },
  {
   "cell_type": "markdown",
   "metadata": {},
   "source": [
    "code_llvm(g, (Float64, ))"
   ]
  },
  {
   "cell_type": "markdown",
   "metadata": {},
   "source": [
    "We see that for the function g(k), if k is an input of type Float64 then the bitcode indicates a total of 20 flops."
   ]
  },
  {
   "cell_type": "markdown",
   "metadata": {},
   "source": [
    "## Q3.3 Solution:\n",
    "\n",
    "We see that for the function g(k), integers (Int64) obeys the associative rule for multiplication and the distributive property, but Float64 numbers do not. "
   ]
  },
  {
   "cell_type": "markdown",
   "metadata": {},
   "source": [
    "## Q3.4 Solution:"
   ]
  },
  {
   "cell_type": "code",
   "execution_count": 12,
   "metadata": {},
   "outputs": [
    {
     "name": "stdout",
     "output_type": "stream",
     "text": [
      "\n",
      "define i64 @julia_g_fastmath_63053(i64) #0 !dbg !5 {\n",
      "top:\n",
      "  %1 = mul i64 %0, 9765625\n",
      "  %2 = add i64 %1, -2441406\n",
      "  ret i64 %2\n",
      "}\n"
     ]
    }
   ],
   "source": [
    "function g_fastmath(k)\n",
    "    @fastmath for i = 1:10  \n",
    "        k = 5k - 1\n",
    "    end\n",
    "    k\n",
    "end\n",
    "code_llvm(g_fastmath, (Int64, ))"
   ]
  },
  {
   "cell_type": "code",
   "execution_count": 13,
   "metadata": {},
   "outputs": [
    {
     "name": "stdout",
     "output_type": "stream",
     "text": [
      "\n",
      "define double @julia_g_fastmath_63054(double) #0 !dbg !5 {\n",
      "top:\n",
      "  %1 = fmul fast double %0, 9.765625e+06\n",
      "  %2 = fadd fast double %1, -2.441406e+06\n",
      "  ret double %2\n",
      "}\n"
     ]
    }
   ],
   "source": [
    "code_llvm(g_fastmath, (Float64, ))"
   ]
  },
  {
   "cell_type": "markdown",
   "metadata": {},
   "source": [
    "We see that for the function g_fastmath(k), the bitcode indicates a total of 2 flops for either input type Float64 or Int64. \n",
    "\n",
    "The macro @fastmath allows the function g_fastmath(k), regardless of input type (Float64 or Int64), to obey the associative rule for multiplication and the distributive property."
   ]
  },
  {
   "cell_type": "markdown",
   "metadata": {},
   "source": [
    "## Q4\n",
    "\n",
    "Create the vector `x = (0.988, 0.989, 0.990, ..., 1.010, 1.011, 1.012)`.  \n",
    "0. Plot the polynomial `y = x^7 - 7x^6 + 21x^5 - 35x^4 + 35x^3 - 21x^2 + 7x -1` at points `x`.  \n",
    "\n",
    "1. Plot the polynomial `y = (x - 1)^7` at points `x`.  \n",
    "\n",
    "2. Explain what you found."
   ]
  },
  {
   "cell_type": "markdown",
   "metadata": {},
   "source": [
    "## Q4.1 Solution"
   ]
  },
  {
   "cell_type": "code",
   "execution_count": 14,
   "metadata": {},
   "outputs": [
    {
     "data": {
      "text/plain": [
       "25-element Array{Float64,1}:\n",
       " 0.988\n",
       " 0.989\n",
       " 0.99 \n",
       " 0.991\n",
       " 0.992\n",
       " 0.993\n",
       " 0.994\n",
       " 0.995\n",
       " 0.996\n",
       " 0.997\n",
       " 0.998\n",
       " 0.999\n",
       " 1.0  \n",
       " 1.001\n",
       " 1.002\n",
       " 1.003\n",
       " 1.004\n",
       " 1.005\n",
       " 1.006\n",
       " 1.007\n",
       " 1.008\n",
       " 1.009\n",
       " 1.01 \n",
       " 1.011\n",
       " 1.012"
      ]
     },
     "execution_count": 14,
     "metadata": {},
     "output_type": "execute_result"
    }
   ],
   "source": [
    "x = Vector(0.988:0.001:1.012)"
   ]
  },
  {
   "cell_type": "code",
   "execution_count": 15,
   "metadata": {},
   "outputs": [
    {
     "data": {
      "text/plain": [
       "25-element Array{Float64,1}:\n",
       " -3.55271e-14\n",
       " -2.30926e-14\n",
       " -1.42109e-14\n",
       " -7.99361e-15\n",
       " -6.21725e-15\n",
       " -4.44089e-15\n",
       " -1.77636e-15\n",
       " -3.55271e-15\n",
       " -1.77636e-15\n",
       " -2.66454e-15\n",
       " -8.88178e-16\n",
       " -1.77636e-15\n",
       "  0.0        \n",
       " -5.32907e-15\n",
       " -6.21725e-15\n",
       "  1.77636e-15\n",
       " -1.77636e-15\n",
       " -8.88178e-16\n",
       " -1.77636e-15\n",
       "  0.0        \n",
       "  2.66454e-15\n",
       " -3.55271e-15\n",
       "  7.10543e-15\n",
       "  1.86517e-14\n",
       "  4.61853e-14"
      ]
     },
     "execution_count": 15,
     "metadata": {},
     "output_type": "execute_result"
    }
   ],
   "source": [
    "using Plots\n",
    "pyplot()\n",
    "y = zeros(length(x));\n",
    "for i in 1:length(x)\n",
    "y[i] = x[i]^7 - 7x[i]^6 + 21x[i]^5 - 35x[i]^4 + 35x[i]^3 - 21x[i]^2 + 7x[i] - 1\n",
    "end\n",
    "\n",
    "y"
   ]
  },
  {
   "cell_type": "code",
   "execution_count": 16,
   "metadata": {},
   "outputs": [
    {
     "data": {
      "image/png": "[encoded data removed]"
     },
     "execution_count": 16,
     "metadata": {},
     "output_type": "execute_result"
    }
   ],
   "source": [
    "plot(x, y)"
   ]
  },
  {
   "cell_type": "markdown",
   "metadata": {},
   "source": [
    "## Q4.2 Solution"
   ]
  },
  {
   "cell_type": "code",
   "execution_count": 17,
   "metadata": {},
   "outputs": [
    {
     "data": {
      "text/plain": [
       "25-element Array{Float64,1}:\n",
       " -3.58318e-14\n",
       " -1.94872e-14\n",
       " -1.0e-14    \n",
       " -4.78297e-15\n",
       " -2.09715e-15\n",
       " -8.23543e-16\n",
       " -2.79936e-16\n",
       " -7.8125e-17 \n",
       " -1.6384e-17 \n",
       " -2.187e-18  \n",
       " -1.28e-19   \n",
       " -1.0e-21    \n",
       "  0.0        \n",
       "  1.0e-21    \n",
       "  1.28e-19   \n",
       "  2.187e-18  \n",
       "  1.6384e-17 \n",
       "  7.8125e-17 \n",
       "  2.79936e-16\n",
       "  8.23543e-16\n",
       "  2.09715e-15\n",
       "  4.78297e-15\n",
       "  1.0e-14    \n",
       "  1.94872e-14\n",
       "  3.58318e-14"
      ]
     },
     "execution_count": 17,
     "metadata": {},
     "output_type": "execute_result"
    }
   ],
   "source": [
    "y2 = zeros(length(x));\n",
    "for i in 1:length(x)\n",
    "y2[i] = (x[i] - 1)^7\n",
    "end\n",
    "\n",
    "y2"
   ]
  },
  {
   "cell_type": "code",
   "execution_count": 18,
   "metadata": {},
   "outputs": [
    {
     "data": {
      "image/png": "[encoded data removed]"
     },
     "execution_count": 18,
     "metadata": {},
     "output_type": "execute_result"
    }
   ],
   "source": [
    "plot(x, y2)"
   ]
  },
  {
   "cell_type": "markdown",
   "metadata": {},
   "source": [
    "## Q4.3 Solution"
   ]
  },
  {
   "cell_type": "markdown",
   "metadata": {},
   "source": [
    " We see that the first and second equations in questions 1 and 2 are equivalent, but that the multiplied out formula in question 1 performs many more subtraction operations between polynomial terms. \n",
    " \n",
    "Since the equation in question 2 only has one subtraction operation, we note that there will be more precision in the second formula vs. in the first formula due to catastrophic cancellation."
   ]
  },
  {
   "cell_type": "markdown",
   "metadata": {},
   "source": [
    "## Q5\n",
    "\n",
    "Let the $n \\times n$ matrix `H` have elements `H[i, j] = 1 / (i + j - 1)`.  \n",
    "0. Write a function `h(n)` that outputs $n \\times n$ matrix `H`. Try at least 3 ways, e.g., looping, [comprehension](https://docs.julialang.org/en/stable/manual/arrays/#Comprehensions-1), and vectorization. Compute and print `H` for `n = 5`.   \n",
    "0. Compare their efficiencies at `n = 1000`.\n",
    "0. Try different rounding modes (use function `setrounding(Float64, RoundingMode)`) and report the entry `inv(H)[1, 1]` for `n = 15`."
   ]
  },
  {
   "cell_type": "markdown",
   "metadata": {},
   "source": [
    "## Q5.1 Solution:"
   ]
  },
  {
   "cell_type": "code",
   "execution_count": 19,
   "metadata": {},
   "outputs": [
    {
     "data": {
      "text/plain": [
       "h (generic function with 1 method)"
      ]
     },
     "execution_count": 19,
     "metadata": {},
     "output_type": "execute_result"
    }
   ],
   "source": [
    "#ji looping\n",
    "function h(n)\n",
    "    H = zeros(n, n)\n",
    "        for j in 1:n\n",
    "            for i in 1:n\n",
    "            H[i, j] = 1 / (i + j - 1)\n",
    "        end\n",
    "    end\n",
    "    H\n",
    "end"
   ]
  },
  {
   "cell_type": "code",
   "execution_count": 20,
   "metadata": {},
   "outputs": [
    {
     "data": {
      "text/plain": [
       "5×5 Array{Float64,2}:\n",
       " 1.0       0.5       0.333333  0.25      0.2     \n",
       " 0.5       0.333333  0.25      0.2       0.166667\n",
       " 0.333333  0.25      0.2       0.166667  0.142857\n",
       " 0.25      0.2       0.166667  0.142857  0.125   \n",
       " 0.2       0.166667  0.142857  0.125     0.111111"
      ]
     },
     "execution_count": 20,
     "metadata": {},
     "output_type": "execute_result"
    }
   ],
   "source": [
    "n = 5;\n",
    "h(n)"
   ]
  },
  {
   "cell_type": "code",
   "execution_count": 21,
   "metadata": {},
   "outputs": [
    {
     "data": {
      "text/plain": [
       "h2 (generic function with 1 method)"
      ]
     },
     "execution_count": 21,
     "metadata": {},
     "output_type": "execute_result"
    }
   ],
   "source": [
    "#comprehension\n",
    "function h2(n)\n",
    "    H = [1 / (i + j - 1) for i in 1:n, j in 1:n]\n",
    "end"
   ]
  },
  {
   "cell_type": "code",
   "execution_count": 22,
   "metadata": {},
   "outputs": [
    {
     "data": {
      "text/plain": [
       "5×5 Array{Float64,2}:\n",
       " 1.0       0.5       0.333333  0.25      0.2     \n",
       " 0.5       0.333333  0.25      0.2       0.166667\n",
       " 0.333333  0.25      0.2       0.166667  0.142857\n",
       " 0.25      0.2       0.166667  0.142857  0.125   \n",
       " 0.2       0.166667  0.142857  0.125     0.111111"
      ]
     },
     "execution_count": 22,
     "metadata": {},
     "output_type": "execute_result"
    }
   ],
   "source": [
    "h2(n)"
   ]
  },
  {
   "cell_type": "code",
   "execution_count": 23,
   "metadata": {},
   "outputs": [
    {
     "data": {
      "text/plain": [
       "h3 (generic function with 1 method)"
      ]
     },
     "execution_count": 23,
     "metadata": {},
     "output_type": "execute_result"
    }
   ],
   "source": [
    "#vectorization\n",
    "function h3(n)\n",
    "    H = 1 ./ (repmat((1:n)', n, 1) + repmat((1:n), 1, n) - 1)\n",
    "end"
   ]
  },
  {
   "cell_type": "code",
   "execution_count": 24,
   "metadata": {},
   "outputs": [
    {
     "data": {
      "text/plain": [
       "5×5 Array{Float64,2}:\n",
       " 1.0       0.5       0.333333  0.25      0.2     \n",
       " 0.5       0.333333  0.25      0.2       0.166667\n",
       " 0.333333  0.25      0.2       0.166667  0.142857\n",
       " 0.25      0.2       0.166667  0.142857  0.125   \n",
       " 0.2       0.166667  0.142857  0.125     0.111111"
      ]
     },
     "execution_count": 24,
     "metadata": {},
     "output_type": "execute_result"
    }
   ],
   "source": [
    "h3(n)"
   ]
  },
  {
   "cell_type": "markdown",
   "metadata": {},
   "source": [
    "## Q5.2 Solution:"
   ]
  },
  {
   "cell_type": "code",
   "execution_count": 25,
   "metadata": {},
   "outputs": [
    {
     "data": {
      "text/plain": [
       "BenchmarkTools.Trial: \n",
       "  memory estimate:  7.63 MiB\n",
       "  allocs estimate:  2\n",
       "  --------------\n",
       "  minimum time:     2.433 ms (0.00% GC)\n",
       "  median time:      2.824 ms (0.00% GC)\n",
       "  mean time:        3.802 ms (25.57% GC)\n",
       "  maximum time:     8.212 ms (50.49% GC)\n",
       "  --------------\n",
       "  samples:          1312\n",
       "  evals/sample:     1"
      ]
     },
     "execution_count": 25,
     "metadata": {},
     "output_type": "execute_result"
    }
   ],
   "source": [
    "using BenchmarkTools\n",
    "n = 1000;\n",
    "@benchmark h(n)"
   ]
  },
  {
   "cell_type": "code",
   "execution_count": 26,
   "metadata": {},
   "outputs": [
    {
     "data": {
      "text/plain": [
       "BenchmarkTools.Trial: \n",
       "  memory estimate:  7.63 MiB\n",
       "  allocs estimate:  2\n",
       "  --------------\n",
       "  minimum time:     3.083 ms (0.00% GC)\n",
       "  median time:      3.442 ms (0.00% GC)\n",
       "  mean time:        4.286 ms (18.84% GC)\n",
       "  maximum time:     8.541 ms (42.65% GC)\n",
       "  --------------\n",
       "  samples:          1165\n",
       "  evals/sample:     1"
      ]
     },
     "execution_count": 26,
     "metadata": {},
     "output_type": "execute_result"
    }
   ],
   "source": [
    "@benchmark h2(n)"
   ]
  },
  {
   "cell_type": "code",
   "execution_count": 27,
   "metadata": {},
   "outputs": [
    {
     "data": {
      "text/plain": [
       "BenchmarkTools.Trial: \n",
       "  memory estimate:  38.33 MiB\n",
       "  allocs estimate:  6037\n",
       "  --------------\n",
       "  minimum time:     14.642 ms (8.41% GC)\n",
       "  median time:      18.846 ms (29.93% GC)\n",
       "  mean time:        22.451 ms (32.66% GC)\n",
       "  maximum time:     201.975 ms (90.04% GC)\n",
       "  --------------\n",
       "  samples:          223\n",
       "  evals/sample:     1"
      ]
     },
     "execution_count": 27,
     "metadata": {},
     "output_type": "execute_result"
    }
   ],
   "source": [
    "@benchmark h3(n)"
   ]
  },
  {
   "cell_type": "markdown",
   "metadata": {},
   "source": [
    "We made note that as Julia reads in data column major, to create the matrix via looping, we should make the inner loop index to be `i` and the outer loop indexed `j` to increase efficiency.\n",
    "\n",
    "From the benchmarking, we see that looping and comprehension allocates 7.63 MiB of memory and about 3-4 seconds on average, while vectorization allocates 38.33 MiB and takes about 14 seconds on average. This indicates that while the code ultimately creates the same matrix, the method of creation affects the efficiency. We note also that the Garbage Collection Percentage (GC%) is much higher for vectorization than for looping and comprehension. From these measures, we can conclude that looping and comprehension methods are much more efficient than vectorization methods for creating a matrix."
   ]
  },
  {
   "cell_type": "markdown",
   "metadata": {},
   "source": [
    "## Q6\n",
    "\n",
    "0. Show the **Sherman-Morrison formula**\n",
    "$$\n",
    "\t(\\mathbf{A} + \\mathbf{u} \\mathbf{u}^T)^{-1} = \\mathbf{A}^{-1} - \\frac{1}{1 + \\mathbf{u}^T \\mathbf{A}^{-1} \\mathbf{u}} \\mathbf{A}^{-1} \\mathbf{u} \\mathbf{u}^T \\mathbf{A}^{-1},\n",
    "$$\n",
    "where $\\mathbf{A} \\in \\mathbb{R}^{n \\times n}$ is nonsingular and $\\mathbf{u} \\in \\mathbb{R}^n$. This formula supplies the inverse of the symmetric, rank-one  perturbation of $\\mathbf{A}$.\n",
    "\n",
    "0. Show the **Woodbury formula**\n",
    "$$\n",
    "\t(\\mathbf{A} + \\mathbf{U} \\mathbf{V}^T)^{-1} = \\mathbf{A}^{-1} - \\mathbf{A}^{-1} \\mathbf{U} (\\mathbf{I}_m + \\mathbf{V}^T \\mathbf{A}^{-1} \\mathbf{U})^{-1} \\mathbf{V}^T \\mathbf{A}^{-1},\n",
    "$$\n",
    "where $\\mathbf{A} \\in \\mathbb{R}^{n \\times n}$ is nonsingular, $\\mathbf{U}, \\mathbf{V} \\in \\mathbb{R}^{n \\times m}$, and $\\mathbf{I}_m$ is the $m \\times m$ identity matrix. In many applications $m$ is much smaller than $n$. Woodbury formula generalizes Sherman-Morrison and is valuable because the smaller matrix $\\mathbf{I}_m + \\mathbf{V}^T \\mathbf{A}^{-1} \\mathbf{U}$ is cheaper to invert than the larger matrix $\\mathbf{A} + \\mathbf{U} \\mathbf{V}^T$.\n",
    "\n",
    "0. Show the **binomial inversion formula**\n",
    "$$\n",
    "\t(\\mathbf{A} + \\mathbf{U} \\mathbf{B} \\mathbf{V}^T)^{-1} = \\mathbf{A}^{-1} - \\mathbf{A}^{-1} \\mathbf{U} (\\mathbf{B}^{-1} + \\mathbf{V}^T \\mathbf{A}^{-1} \\mathbf{U})^{-1} \\mathbf{V}^T \\mathbf{A}^{-1},\n",
    "$$\n",
    "where $\\mathbf{A}$ and $\\mathbf{B}$ are nonsingular.\n",
    "\n",
    "0. Show the identity\n",
    "$$\n",
    "\t\\text{det}(\\mathbf{A} + \\mathbf{U} \\mathbf{V}^T) = \\text{det}(\\mathbf{A}) \\text{det}(\\mathbf{I}_m + \\mathbf{V}^T \\mathbf{A}^{-1} \\mathbf{U}).\n",
    "$$\n",
    "This formula is useful for evaluating the density of a multivariate normal with covariance matrix $\\mathbf{A} + \\mathbf{U} \\mathbf{V}^T$."
   ]
  },
  {
   "cell_type": "markdown",
   "metadata": {},
   "source": [
    "## Q6.1 Solution:\n",
    "\n",
    ">First we get the Identity matrix on the left hand side by multiplying both sides by: $$ (\\mathbf{A} + \\mathbf{u}\\mathbf{u}^T) $$ to get:\n",
    "\n",
    "$$\\mathbf{I} = (\\mathbf{A} + \\mathbf{u} \\mathbf{u}^T) * (\\mathbf{A}^{-1} - \\frac{1}{1 + \\mathbf{u}^T \\mathbf{A}^{-1} \\mathbf{u}} \\mathbf{A}^{-1} \\mathbf{u} \\mathbf{u}^T \\mathbf{A}^{-1}) $$\n",
    "<br>\n",
    "\n",
    "\n",
    "> Then we multiply out the right hand side to get this:\n",
    "$$\\mathbf{A}\\mathbf{A}^{-1} + \\mathbf{uv}^{T}\\mathbf{A}^{-1} - \n",
    "\\frac{(\\mathbf{A}\\mathbf{A}^{-1}\\mathbf{uv}^{T}\\mathbf{A}^{-1}+\\mathbf{uv}^{T}\\mathbf{A}^{-1}\\mathbf{uv}^{T}\\mathbf{A}^{-1})} {(1 + \\mathbf{u}^{T}\\mathbf{A}^{-1}\\mathbf{u})}$$\n",
    "\n",
    "<br>\n",
    ">We simplify what multiplies to be the Identity matrix, and what multiplies the Identiy Matrix on the right hand side\n",
    "\n",
    "$$\\mathbf{I} + \\mathbf{uu}^{T}\\mathbf{A}^{-1} - \\frac{\\mathbf{uu}^{T}\\mathbf{A}^{-1} + \\mathbf{uu}^{T}\\mathbf{A}^{-1}\\mathbf{uu}^{T}\\mathbf{A}^{-1}}{1 + \\mathbf{u}^{T}\\mathbf{A}^{-1}\\mathbf{u} } \n",
    "$$\n",
    "\n",
    "<br>\n",
    ">We can start to factor out the numerator by first pulling out the $\\mathbf{u}$ term to get:\n",
    "\n",
    "$$\\mathbf{I} + \\mathbf{uu}^{T}\\mathbf{A}^{-1} - \\frac{\\mathbf{u}*(\\mathbf{u}^{T}\\mathbf{A}^{-1} + \\mathbf{u}^{T}\\mathbf{A}^{-1}\\mathbf{uu}^{T}\\mathbf{A}^{-1})}{1 + \\mathbf{u}^{T}\\mathbf{A}^{-1}\\mathbf{u} } \n",
    "$$\n",
    "\n",
    "<br>\n",
    ">Next we factor out in the numerator the term: $$(\\mathbf{u}^{T}\\mathbf{A}^{-1})$$ to get on the right hand side:\n",
    "$$\\mathbf{I} + \\mathbf{uu}^{T}\\mathbf{A}^{-1} - \\frac{\\mathbf{u }(1 + \\mathbf{u}^{T}\\mathbf{A}^{-1}\\mathbf{u)}(\\mathbf{u}^{T}\\mathbf{A}^{-1})}{1 + \\mathbf{u}^{T}\\mathbf{A}^{-1}\\mathbf{u}}$$\n",
    "<br>\n",
    "\n",
    ">Next we cancel the common term: $$({1 + \\mathbf{u}^{T}\\mathbf{A}^{-1}\\mathbf{u}})$$ from the numerator and the denominator of the fraction to get on the right hand side:\n",
    "\n",
    "$$\\mathbf{I} + \\mathbf{uu}^{T}\\mathbf{A}^{-1} - \\mathbf{u}(\\mathbf{u}^{T}\\mathbf{A}^{-1})$$\n",
    "\n",
    ">Now if we multiply out the second term we get: \n",
    "<br>\n",
    "$$\\mathbf{I} + \\mathbf{uu}^{T}\\mathbf{A}^{-1} - \\mathbf{uu}^{T}\\mathbf{A}^{-1}$$\n",
    "<br>\n",
    "\n",
    ">Simplifying, we get that the right hand side equals the Identity Matrix, same as the left hand side.\n",
    "$$\\mathbf{I}=\\mathbf{I}$$ "
   ]
  },
  {
   "cell_type": "markdown",
   "metadata": {},
   "source": [
    "## Q6.2 Solution:\n",
    "\n",
    ">First we get the Identity matrix on the left hand side by multiplying both sides by: $$(\\mathbf{A} + \\mathbf{U} \\mathbf{V}^T)$$ to get:\n",
    "\n",
    "$$\\mathbf{I} = (\\mathbf{A} + \\mathbf{U} \\mathbf{V}^T)(\\mathbf{A}^{-1} - \\mathbf{A}^{-1} \\mathbf{U} (\\mathbf{I}_m + \\mathbf{V}^T \\mathbf{A}^{-1} \\mathbf{U})^{-1} \\mathbf{V}^T \\mathbf{A}^{-1})$$<br>\n",
    "\n",
    ">Next we multiply out the right hand side to get:\n",
    "\n",
    "$$\\mathbf{I} = \\mathbf{I} + \\mathbf{UV^TA^{-1} - \\mathbf{U(I + V^TA^{-1}U)^{-1}V^TA^{-1}}  - \\mathbf{UV^TA^{-1}U(I + V^TA^{-1}U)^{-1}V^{T}A^{-1}}}$$\n",
    "<br>\n",
    "\n",
    "> We then factor out the $\\mathbf{U}$ on right hand side to get:\n",
    "\n",
    "<br>\n",
    "$$\\mathbf{I} = \\mathbf{I} + \\mathbf{U(V^TA^{-1} - \\mathbf{(I + V^TA^{-1}U)^{-1}V^TA^{-1}}  - \\mathbf{V^TA^{-1}U(I + V^TA^{-1}U)^{-1}V^{T}A^{-1}}})$$\n",
    "\n",
    "> Next we factor out the $\\mathbf{V^TA^{-1}}$ term on the second term of the right hand side to get:\n",
    "\n",
    "<br>\n",
    "$$\\mathbf{I} = \\mathbf{I} + \\mathbf{U(\\mathbf{V^TA^{-1}})(I - \\mathbf{(I + V^TA^{-1}U)^{-1}}  - \\mathbf{V^TA^{-1}U(I + V^TA^{-1}U)^{-1}}}))$$\n",
    "<br>\n",
    "\n",
    "> We start to simplify by writing out the identity matrix in the second term of the right hand side as a product of: $\\mathbf{(I + V^TA^{-1}U)^{-1}}\\mathbf{(I + V^TA^{-1}U)}$ to get:\n",
    "<br>\n",
    "\n",
    "$$\\mathbf{I} = \\mathbf{I} + \\mathbf{U(\\mathbf{V^TA^{-1}})(\\mathbf{(I + V^TA^{-1}U)^{-1}}\\mathbf{(I + V^TA^{-1}U)} - \\mathbf{(I + V^TA^{-1}U)^{-1}}  - \\mathbf{V^TA^{-1}U(I + V^TA^{-1}U)^{-1}}}))$$\n",
    "<br>\n",
    "\n",
    "> We can now factor out the common term: $\\mathbf{(I + V^TA^{-1}U)^{-1}}$ from the right hand side to get:\n",
    "<br>\n",
    "\n",
    "$$\\mathbf{I} = \\mathbf{I} + \\mathbf{U(\\mathbf{V^TA^{-1}})(I + V^TA^{-1}U)^{-1}\\mathbf{((I + V^TA^{-1}U}) - \\mathbf{I}  - \\mathbf{V^TA^{-1}U}}))$$\n",
    "\n",
    "> Simplifying we get the right hand side, we get: \n",
    "\n",
    "$$\\mathbf{I} = \\mathbf{I} + \\mathbf{U(\\mathbf{V^TA^{-1}})(I + V^TA^{-1}U)^{-1}\\mathbf{(I + V^TA^{-1}U} - \\mathbf{I}  - \\mathbf{V^TA^{-1}U}})$$\n",
    "<br>\n",
    "\n",
    ">Notice the term $\\mathbf{(I + V^TA^{-1}U} - \\mathbf{I}  - \\mathbf{V^TA^{-1}U})$ = 0 so we get:\n",
    "\n",
    "$$\\mathbf{I} = \\mathbf{I} + \\mathbf{U((I + V^TA^{-1}U)^{-1} * 0}))  \\mathbf{V^TA^{-1}}$$\n",
    "<br>\n",
    "\n",
    ">Simplifying we get that the second term on the right hand side goes to 0. Finally we arrive at the Identity matrix on the right hand side of the equation, same as the left, proving the Woodbury Formula.\n",
    "$$\\mathbf{I} = \\mathbf{I}$$"
   ]
  },
  {
   "cell_type": "markdown",
   "metadata": {},
   "source": [
    "## Q6.3 Solution:\n",
    "\n",
    ">First we get the Identity matrix on the left hand side by multiplying both sides by: $$\\mathbf{A} + \\mathbf{U} \\mathbf{B} \\mathbf{V}^T$$ to get:\n",
    "\n",
    "$$\\mathbf{I} = (\\mathbf{A} + \\mathbf{U} \\mathbf{B} \\mathbf{V}^T)(\\mathbf{A}^{-1} - \\mathbf{A}^{-1} \\mathbf{U} (\\mathbf{B}^{-1} + \\mathbf{V}^T \\mathbf{A}^{-1} \\mathbf{U})^{-1} \\mathbf{V}^T \\mathbf{A}^{-1})$$<br>\n",
    "\n",
    ">Next we multiply out the right hand side to get:\n",
    "\n",
    "$$\\mathbf{I} = \\mathbf{I} - \\mathbf{AA}^{-1} \\mathbf{U} (\\mathbf{B}^{-1} + \\mathbf{V}^T \\mathbf{A}^{-1} \\mathbf{U})^{-1} \\mathbf{V}^T \\mathbf{A}^{-1} + \\mathbf{U} \\mathbf{B} \\mathbf{V}^T\\mathbf{A^{-1}} - \\mathbf{U} \\mathbf{B} \\mathbf{V}^T\\mathbf{A}^{-1} \\mathbf{U} (\\mathbf{B}^{-1} + \\mathbf{V}^T \\mathbf{A}^{-1} \\mathbf{U})^{-1} \\mathbf{V}^T \\mathbf{A}^{-1}$$\n",
    "<br>\n",
    "\n",
    "> We can then simplify that $$\\mathbf{AA}^{-1}= I,$$ the Identity Matrix to get:\n",
    "\n",
    "$$\\mathbf{I} = \\mathbf{I} - \\mathbf{I} \\mathbf{U} (\\mathbf{B}^{-1} + \\mathbf{V}^T \\mathbf{A}^{-1} \\mathbf{U})^{-1} \\mathbf{V}^T \\mathbf{A}^{-1} + \\mathbf{U} \\mathbf{B} \\mathbf{V}^T\\mathbf{A^{-1}} - \\mathbf{U} \\mathbf{B} \\mathbf{V}^T\\mathbf{A}^{-1} \\mathbf{U} (\\mathbf{B}^{-1} + \\mathbf{V}^T \\mathbf{A}^{-1} \\mathbf{U})^{-1} \\mathbf{V}^T \\mathbf{A}^{-1} $$\n",
    "<br>\n",
    "\n",
    ">Re-arranging the second and third term on the right hand side we get:\n",
    "\n",
    "$$\\mathbf{I} = \\mathbf{I} + \\mathbf{U} \\mathbf{B} \\mathbf{V}^T\\mathbf{A^{-1}} - \\mathbf{U} (\\mathbf{B}^{-1} + \\mathbf{V}^T \\mathbf{A}^{-1} \\mathbf{U})^{-1} \\mathbf{V}^T \\mathbf{A}^{-1}  - \\mathbf{U} \\mathbf{B} \\mathbf{V}^T\\mathbf{A}^{-1} \\mathbf{U} (\\mathbf{B}^{-1} + \\mathbf{V}^T \\mathbf{A}^{-1} \\mathbf{U})^{-1} \\mathbf{V}^T \\mathbf{A}^{-1}$$\n",
    "<br>\n",
    "\n",
    ">We then factor out the $$(\\mathbf{B^{-1}}+\\mathbf{V^{T}}\\mathbf{A^{-1}}\\mathbf{U})^{-1}$$ on right hand side to get:\n",
    "\n",
    "$$\\mathbf{I} = \\mathbf{I} + \\mathbf{U} \\mathbf{B} \\mathbf{{V}^T}\\mathbf{A^{-1}} - (\\mathbf{U} + \\mathbf{UBV^{T}A^{-1}U})  (\\mathbf{B^{-1}}+\\mathbf{V^{T}}\\mathbf{A^{-1}}\\mathbf{U})^{-1}\\mathbf{V^{T}A^{-1}}$$\n",
    "<br>\n",
    "\n",
    "\n",
    "> We then factor out a $\\mathbf{B}$ on right hand side to get:\n",
    "\n",
    "$$\\mathbf{I} = \\mathbf{I} + \\mathbf{U} \\mathbf{B} \\mathbf{{V}^T}\\mathbf{A^{-1}} - \\mathbf{UB}(\\mathbf{B^{-1}} + \\mathbf{V^{T}A^{-1}U})  (\\mathbf{B^{-1}}+\\mathbf{V^{T}}\\mathbf{A^{-1}}\\mathbf{U})^{-1}\\mathbf{V^{T}A^{-1}}$$\n",
    "<br>\n",
    "\n",
    "> We note that $$(\\mathbf{B^{-1}} + \\mathbf{V^{T}A^{-1}U})(\\mathbf{B^{-1}}+\\mathbf{V^{T}}\\mathbf{A^{-1}}\\mathbf{U})^{-1} = I,$$ thus simplifying we get the right hand side, we get: \n",
    "\n",
    "$$\\mathbf{I} = \\mathbf{I} + \\mathbf{U} \\mathbf{B} \\mathbf{{V}^T}\\mathbf{A^{-1}} - \\mathbf{U} \\mathbf{B} \\mathbf{{V}^T}\\mathbf{A^{-1}}$$\n",
    "<br>\n",
    "\n",
    ">Simplifying we get that the second and third term on the right hand side cancel. Finally we arrive at the Identity matrix on the right hand side of the equation, same as the left, proving the Binomial Inversion Formula.\n",
    "$$\\mathbf{I} = \\mathbf{I}$$"
   ]
  },
  {
   "cell_type": "markdown",
   "metadata": {},
   "source": [
    "## Q6.4 Solution:\n",
    "Since we know if $\\mathbf{A} = \\mathbf{(B)(C)}$ then det($\\mathbf{A}) = det(\\mathbf{B})det(\\mathbf{C})$, to prove that $$\\text{det}(\\mathbf{A} + \\mathbf{U} \\mathbf{V}^T) = \\text{det}(\\mathbf{A}) \\text{det}(\\mathbf{I}_m + \\mathbf{V}^T \\mathbf{A}^{-1} \\mathbf{U}),$$ we use properties of block matrices to show that the two matrices on the right hand side multiply to the matrix on the left hand side below:"
   ]
  },
  {
   "cell_type": "markdown",
   "metadata": {},
   "source": [
    "<br>\n",
    "$\\left[ \\begin{array}{cc}\n",
    "\\mathbf{A} & -\\mathbf{U} \\\\\n",
    "\\mathbf{V^{T}} & \\mathbf{I}  \\\\ \\end{array} \\right]$ = $\\left[ \\begin{array}{cc}\n",
    "\\mathbf{A} & \\mathbf{0} \\\\\n",
    "\\mathbf{V^{T}} & \\mathbf{I}  \\\\ \\end{array} \\right]$\n",
    "$\\left[ \\begin{array}{cc}\n",
    "\\mathbf{I} & \\mathbf{-A^{-1}U} \\\\\n",
    "\\mathbf{0} & \\mathbf{I}+\\mathbf{V^{T}A^{-1}U}  \\\\ \\end{array} \\right]$\n",
    "<br>\n",
    "\n",
    "Now that we have established the left and right hand side of the equation are the same, we take the determinants of both sides and get:\n",
    "\n",
    "The determinant of the left hand side of the equation is: det($\\mathbf{A + UV^{T}})$ and for the right hand side of the equation it is: $det(\\mathbf{A})det(\n",
    "\\mathbf{I} + \\mathbf{V^{T}A^{-1}U})$\n",
    "\n",
    "<br>\n",
    "Finally, we arrive at the conclusion $$\\text{det}(\\mathbf{A} + \\mathbf{U} \\mathbf{V}^T) = \\text{det}(\\mathbf{A}) \\text{det}(\\mathbf{I}_m + \\mathbf{V}^T \\mathbf{A}^{-1} \\mathbf{U})$$"
   ]
  }
 ],
 "metadata": {
  "kernelspec": {
   "display_name": "Julia 0.6.2",
   "language": "julia",
   "name": "julia-0.6"
  },
  "language_info": {
   "file_extension": ".jl",
   "mimetype": "application/julia",
   "name": "julia",
   "version": "0.6.2"
  },
  "toc": {
   "colors": {
    "hover_highlight": "#DAA520",
    "running_highlight": "#FF0000",
    "selected_highlight": "#FFD700"
   },
   "moveMenuLeft": true,
   "nav_menu": {
    "height": "153px",
    "width": "252px"
   },
   "navigate_menu": true,
   "number_sections": false,
   "sideBar": true,
   "threshold": 4,
   "toc_cell": false,
   "toc_section_display": "block",
   "toc_window_display": true,
   "widenNotebook": false
  }
 },
 "nbformat": 4,
 "nbformat_minor": 2
}
