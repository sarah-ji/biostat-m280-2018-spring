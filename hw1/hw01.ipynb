{
 "cells": [
  {
   "cell_type": "markdown",
   "metadata": {},
   "source": [
    "# Biostat M280 Homework 1\n",
    "## Sarah Ji\n",
    "#### Due Apr 27 @ 11:59PM"
   ]
  },
  {
   "cell_type": "markdown",
   "metadata": {},
   "source": [
    "## Q1\n",
    "\n",
    "**No handwritten homework reports are accepted for this course.**  We work with Git/GitHub.  Efficient and abundant use of Git, e.g., **frequent and well-documented** commits, is an important criterion for grading your homework.\n",
    "\n",
    "0. Apply for the [Student Developer Pack](https://education.github.com/pack) at GitHub using your UCLA email.\n",
    "\n",
    "0. Create a **private** repository `biostat-m280-2018-spring` and add `Hua-Zhou` and `LuZhangstat` (TA) as your collaborators.\n",
    "\n",
    "0. Top directories of the repository should be `hw1`, `hw2`, ... Create two branches `master` and `develop`. The `develop` branch will be your main playground, the place where you develop solution (code) to homework problems and write up report. The `master` branch will be your presentation area. Put your homework submission files (IJulia notebook `.ipynb`, html converted from notebook, all code and data set to reproduce results) in `master` branch.  \n",
    "\n",
    "0. After each homework due date, teaching assistant and instructor will check out your `master` branch for grading. Tag each of your homework submissions with tag names `hw1`, `hw2`, ...  Tagging time will be used as your submission time. That means if you tag your hw1 submission after deadline, penalty points will be deducted for late submission.  \n",
    "\n",
    "0. Read the [style guide](https://github.com/johnmyleswhite/Style.jl) for Julia programming by John Myles White. Following rules in the style guide will be strictly enforced when grading: (4), (6), (7), (8), (9), (12), (13) and (16)."
   ]
  },
  {
   "cell_type": "markdown",
   "metadata": {},
   "source": [
    "# Solution:\n",
    "\n",
    "1. Yes I have, and my Git-hub name is: sarah-ji\n",
    "\n",
    "2. Yes I have created a private repository and added `Hua-Zhou` and `LuZhangstat` as collaborators.\n",
    "\n",
    "3. Yes I have created two branches, one called master and one called develop. \n",
    "\n",
    "4. Yes I have tagged homework 1 as `hw1`.\n",
    "\n",
    "5. Yes I have read the style guide for Julia programming."
   ]
  },
  {
   "cell_type": "markdown",
   "metadata": {},
   "source": [
    "## Q2\n",
    "\n",
    "Let's check whether floating-point numbers obey certain algebraic rules.  \n",
    "0. Associative rule for addition says `(x + y) + z == x + (y + z)`. Check association rule using `x = 0.1`, `y = 0.1` and `z = 1.0` in Julia. Explain what you find.\n",
    "\n",
    "0. Do floating-point numbers obey the associative rule for multiplication: `(x * y) * z == x * (y * z)`?\n",
    "\n",
    "0. Do floating-point numbers obey the distributive rule: `a * (x + y) == a * x + a * y`?  \n",
    "\n",
    "0. Is `0 * x == 0` true for all floating-point number `x`?  \n",
    "\n",
    "0. Is `x / a == x * (1 / a)` always true?"
   ]
  },
  {
   "cell_type": "markdown",
   "metadata": {},
   "source": [
    "# just one counter example"
   ]
  },
  {
   "cell_type": "markdown",
   "metadata": {},
   "source": [
    "## Q2.1 Solution:\n",
    "\n",
    "We see that in Julia the association rule does not check out."
   ]
  },
  {
   "cell_type": "code",
   "execution_count": 31,
   "metadata": {},
   "outputs": [
    {
     "data": {
      "text/plain": [
       "false"
      ]
     },
     "execution_count": 31,
     "metadata": {},
     "output_type": "execute_result"
    }
   ],
   "source": [
    "x = 0.1;\n",
    "y = 0.1;\n",
    "z = 1.0;\n",
    "\n",
    "(x + y) + z == x + (y + z)"
   ]
  },
  {
   "cell_type": "markdown",
   "metadata": {},
   "source": [
    "Next, we explore using the @show function to see exactly what the right and left hand side values are."
   ]
  },
  {
   "cell_type": "code",
   "execution_count": 34,
   "metadata": {},
   "outputs": [
    {
     "name": "stdout",
     "output_type": "stream",
     "text": [
      "(x + y) + z = 1.2\n",
      "x + (y + z) = 1.2000000000000002\n"
     ]
    },
    {
     "data": {
      "text/plain": [
       "1.2000000000000002"
      ]
     },
     "execution_count": 34,
     "metadata": {},
     "output_type": "execute_result"
    }
   ],
   "source": [
    "@show (x + y) + z\n",
    "@show x + (y + z)"
   ]
  },
  {
   "cell_type": "markdown",
   "metadata": {},
   "source": [
    "## Explanation: \n",
    "We see from above that the left hand side equals 1.2 and the right hand side equals 1.2000000000000002. This can be explained because of the way Julia is handling the rounding of the numbers. From Hua Zhou's notes on <http://hua-zhou.github.io/teaching/biostatm280-2018spring/slides/04-arith/arith.html>:\n",
    "\n",
    ">Rounding is necessary whenever a number has more than p significand bits. Most computer systems use the default IEEE 754 round to nearest mode (also called ties to even mode). Julia offers several rounding modes, the default being RoundNearest. For example, the number 0.1 in decimal system cannot be represented accurately as a floating point number\n",
    "\n",
    "As x = 0.1 and y = 0.1 and the number 0.1 in the decimal system cannot be represented accurately as a floating point number, we get a marginal difference of .0000000000000002.\n",
    "\n",
    "Similarly, for the same reason, we see a discrepancy in the questions below."
   ]
  },
  {
   "cell_type": "markdown",
   "metadata": {},
   "source": [
    "## Q2.2 Solution:\n",
    "\n",
    "We see that in Julia, some floating-point numbers obey the associative rule for multiplication but some do not."
   ]
  },
  {
   "cell_type": "code",
   "execution_count": 71,
   "metadata": {},
   "outputs": [
    {
     "name": "stdout",
     "output_type": "stream",
     "text": [
      "false\n",
      "true\n"
     ]
    }
   ],
   "source": [
    "x1 = 0.7\n",
    "x2 = 0.2\n",
    "y1 = 0.8\n",
    "z = 3.3\n",
    "\n",
    "println((x1 * y1) * z == x1 * (y1 * z))\n",
    "println((x2 * y1) * z == x2 * (y1 * z))"
   ]
  },
  {
   "cell_type": "code",
   "execution_count": 72,
   "metadata": {},
   "outputs": [
    {
     "name": "stdout",
     "output_type": "stream",
     "text": [
      "(x1 * y1) * z = 1.8479999999999996\n",
      "x1 * (y1 * z) = 1.8479999999999999\n",
      "(x2 * y1) * z = 0.528\n",
      "x2 * (y1 * z) = 0.528\n"
     ]
    },
    {
     "data": {
      "text/plain": [
       "0.528"
      ]
     },
     "execution_count": 72,
     "metadata": {},
     "output_type": "execute_result"
    }
   ],
   "source": [
    "@show (x1 * y1) * z\n",
    "@show x1 * (y1 * z)\n",
    "\n",
    "@show (x2 * y1) * z\n",
    "@show x2 * (y1 * z)"
   ]
  },
  {
   "cell_type": "markdown",
   "metadata": {},
   "source": [
    "## Q2.3 Solution:\n",
    "\n",
    "We see that in Julia, some floating-point numbers obey the distributive rule but some do not."
   ]
  },
  {
   "cell_type": "code",
   "execution_count": 79,
   "metadata": {},
   "outputs": [
    {
     "name": "stdout",
     "output_type": "stream",
     "text": [
      "true\n",
      "false\n"
     ]
    }
   ],
   "source": [
    "x3 = 0.7\n",
    "x4 = 0.2\n",
    "y2 = 0.8\n",
    "a = 0.1\n",
    "\n",
    "println(a * (x3 + y2) == a * x3 + a * y2)\n",
    "println(a * (x4 + y2) == a * x4 + a * y2)"
   ]
  },
  {
   "cell_type": "code",
   "execution_count": 78,
   "metadata": {},
   "outputs": [
    {
     "name": "stdout",
     "output_type": "stream",
     "text": [
      "a * (x3 + y2) = 0.15000000000000002\n",
      "a * x3 + a * y2 = 0.15000000000000002\n",
      "a * (x4 + y2) = 0.1\n",
      "a * x4 + a * y2 = 0.10000000000000002\n"
     ]
    },
    {
     "data": {
      "text/plain": [
       "0.10000000000000002"
      ]
     },
     "execution_count": 78,
     "metadata": {},
     "output_type": "execute_result"
    }
   ],
   "source": [
    "@show a * (x3 + y2)\n",
    "@show a * x3 + a * y2\n",
    "\n",
    "@show a * (x4 + y2)\n",
    "@show a * x4 + a * y2"
   ]
  },
  {
   "cell_type": "markdown",
   "metadata": {},
   "source": [
    "## Q2.4 Solution:\n",
    "\n",
    "We see that in Julia the floating-point numbers do obey the distributive rule for multiplication."
   ]
  },
  {
   "cell_type": "code",
   "execution_count": 28,
   "metadata": {},
   "outputs": [
    {
     "name": "stdout",
     "output_type": "stream",
     "text": [
      "true\n",
      "false\n"
     ]
    }
   ],
   "source": [
    "println(0 * x1 == 0)\n",
    "println(0 * Inf == 0)"
   ]
  },
  {
   "cell_type": "code",
   "execution_count": 81,
   "metadata": {},
   "outputs": [
    {
     "name": "stdout",
     "output_type": "stream",
     "text": [
      "0x1 = 0.0\n",
      "0Inf = NaN\n"
     ]
    },
    {
     "data": {
      "text/plain": [
       "NaN"
      ]
     },
     "execution_count": 81,
     "metadata": {},
     "output_type": "execute_result"
    }
   ],
   "source": [
    "@show 0 * x1\n",
    "@show 0 * Inf"
   ]
  },
  {
   "cell_type": "markdown",
   "metadata": {},
   "source": [
    "## Q2.5 Solution:\n",
    "\n",
    "We see that in Julia, `0 * x == 0` is not true for all floating-point number `x`."
   ]
  },
  {
   "cell_type": "code",
   "execution_count": 84,
   "metadata": {},
   "outputs": [
    {
     "name": "stdout",
     "output_type": "stream",
     "text": [
      "false\n",
      "true\n"
     ]
    }
   ],
   "source": [
    "println(x1 / a == x1 * (1 / a))\n",
    "println(x2 / a == x2 * (1 / a))"
   ]
  },
  {
   "cell_type": "code",
   "execution_count": 85,
   "metadata": {},
   "outputs": [
    {
     "name": "stdout",
     "output_type": "stream",
     "text": [
      "x1 / a = 6.999999999999999\n",
      "x1 * (1 / a) = 7.0\n",
      "x2 / a = 2.0\n",
      "x2 * (1 / a) = 2.0\n"
     ]
    },
    {
     "data": {
      "text/plain": [
       "2.0"
      ]
     },
     "execution_count": 85,
     "metadata": {},
     "output_type": "execute_result"
    }
   ],
   "source": [
    "@show x1 / a\n",
    "@show x1 * (1 / a)\n",
    "@show x2 / a\n",
    "@show x2 * (1 / a)"
   ]
  },
  {
   "cell_type": "markdown",
   "metadata": {},
   "source": [
    "## Q3\n",
    "\n",
    "Consider Julia function\n",
    "```julia\n",
    "function g(k)\n",
    "    for i = 1:10\n",
    "        k = 5k - 1\n",
    "    end\n",
    "    k\n",
    "end\n",
    "```\n",
    "0. Use `@code_llvm` to find the LLVM bitcode of compiled `g` with `Int64` input.   \n",
    "1. Use `@code_llvm` to find the LLVM bitcode of compiled `g` with `Float64` input.  \n",
    "2. Compare the bitcode from questions 1 and 2. What do you find?  \n",
    "3. Read Julia documentation on `@fastmath` and repeat the questions 1-3 on the function  \n",
    "\n",
    "```julia\n",
    "function g_fastmath(k)  \n",
    "    @fastmath for i = 1:10  \n",
    "        k = 5k - 1\n",
    "    end\n",
    "    k\n",
    "end\n",
    "```\n",
    "Explain what does macro `@fastmath` do?"
   ]
  },
  {
   "cell_type": "markdown",
   "metadata": {},
   "source": [
    "## Q3.1 Solution:\n"
   ]
  },
  {
   "cell_type": "code",
   "execution_count": 108,
   "metadata": {},
   "outputs": [
    {
     "data": {
      "text/plain": [
       "Float64"
      ]
     },
     "execution_count": 108,
     "metadata": {},
     "output_type": "execute_result"
    }
   ],
   "source": [
    "typeof(Inf)"
   ]
  },
  {
   "cell_type": "code",
   "execution_count": 8,
   "metadata": {},
   "outputs": [
    {
     "name": "stdout",
     "output_type": "stream",
     "text": [
      "\n",
      "define i64 @julia_g_63026(i64) #0 !dbg !5 {\n",
      "top:\n",
      "  %1 = mul i64 %0, 9765625\n",
      "  %2 = add i64 %1, -2441406\n",
      "  ret i64 %2\n",
      "}\n"
     ]
    }
   ],
   "source": [
    "function g(k)\n",
    "    for i = 1:10\n",
    "        k = 5k - 1\n",
    "    end\n",
    "    k\n",
    "end\n",
    "\n",
    "code_llvm(g, (Int64, ))"
   ]
  },
  {
   "cell_type": "markdown",
   "metadata": {},
   "source": [
    "We see that for the function g(k), if k is an input of type Int64 then the bitcode indicates a total of 2 flops."
   ]
  },
  {
   "cell_type": "markdown",
   "metadata": {},
   "source": [
    "## Q3.2 Solution:"
   ]
  },
  {
   "cell_type": "markdown",
   "metadata": {},
   "source": [
    "code_llvm(g, (Float64, ))"
   ]
  },
  {
   "cell_type": "markdown",
   "metadata": {},
   "source": [
    "We see that for the function g(k), if k is an input of type Float64 then the bitcode indicates a total of 20 flops."
   ]
  },
  {
   "cell_type": "markdown",
   "metadata": {},
   "source": [
    "## Q3.3 Solution:\n",
    "\n",
    "We see that for the function g(k), integers (Int64) obeys the associative rule for multiplication and the distributive property, but Float64 numbers do not. "
   ]
  },
  {
   "cell_type": "markdown",
   "metadata": {},
   "source": [
    "## Q3.4 Solution:"
   ]
  },
  {
   "cell_type": "code",
   "execution_count": 9,
   "metadata": {},
   "outputs": [
    {
     "name": "stdout",
     "output_type": "stream",
     "text": [
      "\n",
      "define i64 @julia_g_fastmath_63039(i64) #0 !dbg !5 {\n",
      "top:\n",
      "  %1 = mul i64 %0, 9765625\n",
      "  %2 = add i64 %1, -2441406\n",
      "  ret i64 %2\n",
      "}\n"
     ]
    }
   ],
   "source": [
    "function g_fastmath(k)\n",
    "    @fastmath for i = 1:10  \n",
    "        k = 5k - 1\n",
    "    end\n",
    "    k\n",
    "end\n",
    "code_llvm(g_fastmath, (Int64, ))"
   ]
  },
  {
   "cell_type": "code",
   "execution_count": 10,
   "metadata": {},
   "outputs": [
    {
     "name": "stdout",
     "output_type": "stream",
     "text": [
      "\n",
      "define double @julia_g_fastmath_63040(double) #0 !dbg !5 {\n",
      "top:\n",
      "  %1 = fmul fast double %0, 9.765625e+06\n",
      "  %2 = fadd fast double %1, -2.441406e+06\n",
      "  ret double %2\n",
      "}\n"
     ]
    }
   ],
   "source": [
    "code_llvm(g_fastmath, (Float64, ))"
   ]
  },
  {
   "cell_type": "markdown",
   "metadata": {},
   "source": [
    "We see that for the function g_fastmath(k), the bitcode indicates a total of 2 flops for either input type Float64 or Int64. \n",
    "\n",
    "The macro @fastmath allows the function g_fastmath(k), regardless of input type (Float64 or Int64), to obey the associative rule for multiplication and the distributive property."
   ]
  },
  {
   "cell_type": "markdown",
   "metadata": {},
   "source": [
    "## Q4\n",
    "\n",
    "Create the vector `x = (0.988, 0.989, 0.990, ..., 1.010, 1.011, 1.012)`.  \n",
    "0. Plot the polynomial `y = x^7 - 7x^6 + 21x^5 - 35x^4 + 35x^3 - 21x^2 + 7x -1` at points `x`.  \n",
    "\n",
    "1. Plot the polynomial `y = (x - 1)^7` at points `x`.  \n",
    "\n",
    "2. Explain what you found."
   ]
  },
  {
   "cell_type": "markdown",
   "metadata": {},
   "source": [
    "## Q4.1 Solution"
   ]
  },
  {
   "cell_type": "code",
   "execution_count": 113,
   "metadata": {},
   "outputs": [
    {
     "data": {
      "text/plain": [
       "25-element Array{Float64,1}:\n",
       " 0.988\n",
       " 0.989\n",
       " 0.99 \n",
       " 0.991\n",
       " 0.992\n",
       " 0.993\n",
       " 0.994\n",
       " 0.995\n",
       " 0.996\n",
       " 0.997\n",
       " 0.998\n",
       " 0.999\n",
       " 1.0  \n",
       " 1.001\n",
       " 1.002\n",
       " 1.003\n",
       " 1.004\n",
       " 1.005\n",
       " 1.006\n",
       " 1.007\n",
       " 1.008\n",
       " 1.009\n",
       " 1.01 \n",
       " 1.011\n",
       " 1.012"
      ]
     },
     "execution_count": 113,
     "metadata": {},
     "output_type": "execute_result"
    }
   ],
   "source": [
    "x = Vector(0.988:0.001:1.012)"
   ]
  },
  {
   "cell_type": "code",
   "execution_count": 127,
   "metadata": {},
   "outputs": [
    {
     "data": {
      "text/plain": [
       "25-element Array{Float64,1}:\n",
       " -3.55271e-14\n",
       " -2.30926e-14\n",
       " -1.42109e-14\n",
       " -7.99361e-15\n",
       " -6.21725e-15\n",
       " -4.44089e-15\n",
       " -1.77636e-15\n",
       " -3.55271e-15\n",
       " -1.77636e-15\n",
       " -2.66454e-15\n",
       " -8.88178e-16\n",
       " -1.77636e-15\n",
       "  0.0        \n",
       " -5.32907e-15\n",
       " -6.21725e-15\n",
       "  1.77636e-15\n",
       " -1.77636e-15\n",
       " -8.88178e-16\n",
       " -1.77636e-15\n",
       "  0.0        \n",
       "  2.66454e-15\n",
       " -3.55271e-15\n",
       "  7.10543e-15\n",
       "  1.86517e-14\n",
       "  4.61853e-14"
      ]
     },
     "execution_count": 127,
     "metadata": {},
     "output_type": "execute_result"
    }
   ],
   "source": [
    "using Plots\n",
    "pyplot()\n",
    "y = zeros(length(x));\n",
    "for i in 1:length(x)\n",
    "y[i] = x[i]^7 - 7x[i]^6 + 21x[i]^5 - 35x[i]^4 + 35x[i]^3 - 21x[i]^2 + 7x[i] - 1\n",
    "end\n",
    "\n",
    "y"
   ]
  },
  {
   "cell_type": "code",
   "execution_count": 128,
   "metadata": {},
   "outputs": [
    {
     "data": {
      "text/html": [
       "<img src=\"data:image/png;base64,iVBORw0KGgoAAAANSUhEUgAAAlgAAAGQCAYAAAByNR6YAAAABHNCSVQICAgIfAhkiAAAAAlwSFlzAAAPYQAAD2EBqD+naQAAADl0RVh0U29mdHdhcmUAbWF0cGxvdGxpYiB2ZXJzaW9uIDIuMi4wLCBodHRwOi8vbWF0cGxvdGxpYi5vcmcvFvnyVgAAIABJREFUeJzt3Xl8VPW9//H3mZkQ9kDYZElYAiQEEJVVXBCrVuyiXtxLFVHbqr3eW9srpa3tT2t7W3trF2vdBewCiFZtVax1Q3FFcKMQCBBIQlTWTBIgCTPn8/tjSCSQPbPP6/l45MEj+Z45nMnnJOed7/d7vscxMxMAAADCxhPrAwAAAEg2BCwAAIAwI2AlKTNTRUWFGAEGACD6CFhJqrKyUhkZGaqsrIz1oTTJ7/fH+hBwGLWIL9QjflCL+BHPtTjnucAxXyNgIWaCwWCsDwGHUYv4Qj3iB7WIH/Fci4LyY0eLCFgAAADtVHXIVLL/2K8TsAAAANppUxMjl77oHgYAAEgltbW12r59e4eH+MrLy9WrV68wHVXbeTweDRw4UD169Gjw9caGByUCFgAAiJDS0lJdccUVOnDgQIf35bquPJ7YD7xdeOGFWrBgQf2xbPSbBnY9djsCFgAACDvXdXX77berV69e+v3vf6/OnTt3aH+BQEA+X+xiy6FDh/T+++/r7rvvliT98Ic/lBTqwcrNcI7ZnoAFAADCbvfu3Vq7dq1+9rOf6YQTTujw/mIdsCRp/PjxkqTf//73uummm9SjRw8VlJumDzi2Zy32fW0AACDplJeXS5KGDBkS4yMJrxNPPFGS9Mknnyjomjb5pbxGpoYRsAAAQNi5ritJ8nq9MT6S8EpLS5MUen/FVVJ1UMprZIiQgAUAAFLatm3bdMYZZygjI0OTJk1q9es2+kN3EOb1ImABAAA00LNnT91xxx3661//2qbXFZSbunilrO7HthGwAABASvjVr36lb37zm/Wfl5eXq2/fvpKkU089Vd26dWvT/grKpdEZksfhLkIAABADBwKmgvL2vz4QMPl8jS/qWSevl9TVd2zYqXPdddcpNzdXd955pzIyMvTwww/r/PPPV2ZmZruOqcBvjQ4PSgQsAAAQBQXl0sQnAx3cS/OvX3OhTyf1bbq9V69emj17thYtWqSbbrpJ9957r5YvX97uo9lYbjpjYOODgQQsAAAQcXm9QgGovVqzDlZjyyUc7aabbtIFF1ygnJwcDRgwoH7ZhbaqqDV9erDxCe4SAQsAAERBV5/TbO9SSwIBR75mhv9aKy8vT8OGDdP111+vO++8s937KaoMDVc2toq7xCR3AACQYq677joFAgFddNFFkqSamhoNGTJEF198sT766CMNGTJECxYsaHYfWytC/47OaLydHiwAAJBSXnrpJd1www31i4amp6ertLS0TfsoqjRld5e6pdGDBQAAUlhZWZny8vL0wQcf6L//+787tK+iSmt0Bfc69GABAICUMGjQIBUUFIRlX1srTV8a03TAogcLAACgDUxScVXzdy0SsAAAQNh5PKGIcejQoRgfSXhVV1cr4EoBx8cQIQAAiK5BgwapU6dOevDBB3XdddfVTyhvr9asgxVJwWBQpaWl+sMf/iDr1FXKzG5yDSyJgAUAACKge/fuuuuuu3TzzTfrzTff7PD+XNet7xWLpYkTJ2rCf96jbWWdNLBr09u1GLAKCwt11VVXaffu3erVq5cWLVqk/Pz8Y7a74447tHDhQknSFVdcoZ/+9Ke0RahNknbt2qVx48bptNNO0+OPPy4AAOLNtGnT9MILL6isrEyu63ZoX+Xl5erVqxVLtUeIx+NR79691adPH133uqvcDMlp5CHP9awFM2fOtIULF5qZ2fLly23atGnHbLNy5UrLz8+3qqoqq66utokTJ9rzzz9PWwTa6lx00UU2d+5cmz17dqN18/v9Jsn8fn9LJY6ZPXv2xPoQcBi1iC/UI35Qi/gRT7WY/vQhm/PyoWa3abavbefOnVq7dq3mzJkjSZo9e7aKioq0bdu2BtstW7ZMc+fOVbdu3ZSenq558+ZpyZIltEWgTZL+8pe/aMCAAZoxY0Zz5QMAABFQUG7Nzr+SWriLsKSkRIMGDaqfVOY4jrKzs1VcXNxgu+LiYg0dOrT+82HDhtVvQ1t428rKynTXXXfpF7/4hVqjoqKiwUdNTU2rXgcAAI61u9q0t6bphzzXaXEO1tHji2bW4nZHb0Nb+Nquu+463XnnnerevbtaIysrq8Hnt9xyi+bPn9+q10bavn37Yn0IOIxaxBfqET+oRfyIl1q8u9srqauOU4X27v18XllmZmaD7ZoNWFlZWSotLa2/NdLMVFJSouzs7AbbZWdnNxg23L59e/02tIW37a233tI111wjSaqqqtLBgwf1xS9+Uf/85z/VmJKSEvXs2bP+8/T0dKWnpze6bSwcfUIidqhFfKEe8YNaxI94qEXZTlceJ6iJWRnq7OvAJPcZM2Y0mOQ+derUY7Z55ZVXbOzYsQ0mZa9YsYK2CLQdaeHChUxyR1hQi/hCPeIHtYgf8VKL774VsJyltS1u1+IQ4f3336+5c+fq5z//uXr27KnFixdLks477zzdfvvtmjRpks444wxdcsklGj9+vCTpsssu07nnnitJtIW5DQAAxE5BefMPea7jmDUxqQoJraKiQhkZGfL7/Q2GCOPJ3r1746K7F9Qi3lCP+EEt4ke81GLUskM6f6hH/zfN2+x2sV8SFQAAIAHUBE1bK6XcFu4glAhYAAAArbLZL7km5WW0vC0BCwAAoBUK/KFZVS2tgSURsAAAAFqloNyUmS717dzytgQsAACAVthYbsrNcJp/yPNhBCwAAIBWKPBLeb1aty0BCwAAoAVm1qqHPNchYAEAALTgkwNS5aHWTXCXCFgAAAAt2lh3B2ErVnGXCFgAAAAtKig3+RxpeCsfjkLAAgAAaEFBuTQyQ0rz0IMFAAAQFq19yHMdAhYAAEALCvytv4NQImABAAA060DAVFzVuoc81yFgAQAANGOTP/Rvax7yXIeABQAA0IyC8tASDfRgAQAAhElBuWlAF6l3OgELAAAgLNryiJw6BCwAAIBmbPSbctuwRINEwAIAAGiSa6aN5VJer7a9joAFAADQhJIq6WCw9Q95rkPAAgAAaELdHYRtWcVdImABAAA0aaPflO6Vsru37XUELAAAgCYUlEujMyRvKx/yXIeABQAA0IS2PuS5DgELAACgCW19yHMdAhYAAEAjKmpNnxxo+x2EEgELAACgURv9h59ByBAhAABAeBSUh/7NbeMioxIBCwAAoFEF5aYh3aTuafRgAQAAhEV7HvJch4AFAADQiPYu0SARsAAAAI4RcE2bK9o3/0oiYAEAABxjW6VU67ZviQaJgAUAAHCM9j7kuQ4BCwAA4CgFflM3nzS4W/teT8ACAAA4ysZyU24vyXHowQIAAAiLgvL2Dw9KBCwAAIBjtPchz3UIWAAAAEfYXW3aXd3+OwglAhYAAEADG+vuICRgAQAAhMdGv+RIGtmz/fsgYAEAAByhoNw0rIfUxUcPFgAAQFh05CHPdQhYAAAAR+jIQ57rELAAAAAOqw2atla2/yHPdQhYAAAAh22pkILWsTsIJQIWAABAvY4+5LkOAQsAAOCwAr+pVyepf5eO7YeABQAAcFjdHYTtfchzHQIWAADAYRv9Um5Gx/dDwAIAAJBkZmFZA0siYAEAAEiSPjso+Ws7fgehRMACAACQdMQdhAQsAACA8CgoN3kdaUSPju+LgAUAAKDQBPecnlInLz1YAAAAYRGuCe4SAQsAAEBSeB7yXIeABQAAUt6BgGl7VXgmuEsELAAAABX6JZOU2ys8+yNgAQCAlLfx8BINuQwRAgAAhEeB39Svs9SnMwELAAAgLMJ5B6FEwAIAAFBBuYXlIc91CFgAACCluWba6A/fHYQSAQsAAKS4HfulAwECFgAAQNiE8yHPdQhYAAAgpRWUmzp5pGHdw7dPAhYAAEhpBX5pVIbk9dCDBQAAEBYbw7xEg0TAAgAAKa7AH76HPNchYAEAgJRVWWvasT+8E9wlAhYAAEhhG/2Hn0EYpoc81yFgAQCAlFVQHvo3XA95rkPAAgAAKWuj3zSoq9SzEwELAAAgLML9kOc6BCwAAJCyCFgAAABhFHRNhRVSbkb4903AAgAAKWl7lVQTDP8SDRIBCwAApKhIPOS5DgELAACkpIJyU1efNKRb+PdNwAIAACmpwG/KzZA8Dj1YAAAAYVFQLuVGYHhQakXAKiws1PTp0zV69GhNmTJF69evb3S7O+64Qzk5OcrJydGtt95KW4Tali1bphNPPFHjxo3T+PHjdffddwsAALTdxgg85LmetWDmzJm2cOFCMzNbvny5TZs27ZhtVq5cafn5+VZVVWXV1dU2ceJEe/7552mLQNuqVavsk08+MTOz8vJyy8nJsVWrVh1TE7/fb5LM7/e3VOKY2bNnT6wPAYdRi/hCPeIHtYgf4a7FnoOu6YFaW7o5GNb91mm2B2vnzp1au3at5syZI0maPXu2ioqKtG3btgbbLVu2THPnzlW3bt2Unp6uefPmacmSJbRFoO2UU07RcccdJ0nKyMhQXl6eioqK2paqAQBIcXUPeY7EHYRSC0OEJSUlGjRokHw+nyTJcRxlZ2eruLi4wXbFxcUaOnRo/efDhg2r34a28LYdaf369Xrrrbd05plnHtNWp6KiosFHTU1Nk9sCAJAq6h7yPCoCi4xKkq+lDZyjZtabWYvbHb0NbeFtk6TS0lKdf/75uu+++zRo0KBj2utkZWU1+PyWW27R/Pnzm9w+mvbt2xfrQ8Bh1CK+UI/4QS3iR7hr8f6nnZTVNU3VFftUHYb9ZWZmNvi82YCVlZWl0tJSBQIB+Xw+mZlKSkqUnZ3dYLvs7OwGw4bbt2+v34a28LZJUllZmc466yz96Ec/0sUXX6zmlJSUqGfPnvWfp6enKz09vdnXRNPRJyRih1rEF+oRP6hF/AhnLYprAsrPjGB9W5qkNWPGjAaT3KdOnXrMNq+88oqNHTu2waTsFStW0BaBtrKyMsvLy7NHHnmk2boxyR1tQS3iC/WIH9QifoS7FrnLau2/3gyEdZ9HajFgFRQU2LRp02zUqFE2ceJEW7dunZmZzZo1y1avXl2/3W233WbDhw+34cOH24IFCxrsg7bwtV177bXWtWtXmzBhQv1HY2GLgIW2oBbxhXrED2oRP8JZi9qga74Ha+3ef0cuYDlmTUyqQkKrqKhQRkaG/H5/gyHCeLJ371663uMEtYgv1CN+UIv4Ec5aFJSbxiwP6OUveTVzUGTWXGcldwAAkFI2RvAhz3UIWAAAIKV8tNfUM006rkvk/g8CFgAASBlmpse2ujo3yzlmKapwImABAICU8f4ead0+6apRkY1ABCwAAJAyFm9ydVwX6Zwhkeu9kghYAAAgRdQGTX/d4uprIz3yeQhYAAAAHbaixLS7WrpqdOTjDwELAACkhMWFrk7oI43PjGzvlUTAAgAAKWBPtemZYov45PY6BCwAAJD0lm5xZSZdMZKABQAAEBaLC02zshz17xL54UGJgAUAAJLchn2m1bssKpPb6xCwAABAUltc6Kp3uvTl7Oj0XkkELAAAkMSCrulPha4uz/Eo3UvAAgAA6LCXykxlB6QrR0UvXEkELAAAkMQWb3KVmyFN6UfAAgAA6LCKWtOT20KT2x2HgAUAANBhjxeZqoPS16O09tWRCFgAACApLd7k6guDHQ3pHt3eK4mABQAAklBRhem1T6P3aJyjEbAAAEDSebTQVfc06cJh0e+9kghYAAAgyZiZHi10dfFwR93SCFgAAAAdtupT09ZK6coYDQ9KBCwAAJBkFhe6GtpdOn1gbHqvJAIWAABIIgcDpse2mq4c5ZEnymtfHYmABQAAksZT20yVh2I7PCgRsAAAQBJZXOjqlAGORmbErvdKImABAIAkUbbf9K8doUfjxFrsjwAAACAM/rzZVZpHumREbHuvJAIWAABIAmamxZtcXTDUUUYnAhYAAECHrdltWl+uuBgelAhYAAAgCTxaaDqui3T24Nj3XkkELAAAkOBqg6a/bnY1Z5RHPg8BCwAAoMOeKzHtqZGuivHaV0eKnyMBAABoh8WbXJ3UVxqXGR+9VxIBCwAAJLDd1aZnSyyueq8kAhYAAEhgSza7MpMuz4mvSBNfRwMAANAGiwtN52U76tclfoYHJQIWAABIUP/ea1qzO/6GByUCFgAASFCPFrrKTJe+lB1fvVcSAQsAACSgoGv682ZXl+d4lO4lYAEAAHTYiztMZQekq0bHX7iSCFgAACABLS50NaaXNKkvAQsAAKDD/LWmJ7eFJrc7DgELAACgw5ZvNdUEpa+NjN8YE79HBgAA0IjFm1ydNdjRkO7x2XslEbAAAEAC2VJhWvWZ6arR8R1h4vvoAAAAjvCnQlc90qQLh8Vv75VEwAIAAAnCNdOjha4uHu6oq4+ABQAA0GGrPjUVVSruhwclAhYAAEgQize5Gt5DOvW4+O69kghYAAAgARwISMuLTFeO8sgTp2tfHYmABQAA4t6zZT5VHpK+PioxoktiHCUAAEhpS7en6dQBjnJ6xn/vlUTAAgAAcW7HftPKnd6EmNxeJ3GOFAAApKRFm1x19koXj0iM3iuJgAUAAOKYa6YHC1xdMCSgjE4ELAAAgA57odS0vUq6anhtrA+lTQhYAAAgbt2/wdXxmdKkTDfWh9ImBCwAABCXyvab/lFs+uYYjxJg6asGCFgAACAuPbzRVbpX+trIxIsriXfEAAAg6QVd00MbXV02wkmoye11CFgAACDu/LPUVFwlfXNMYkaVxDxqAACQ1O4vcHVCH2lyv8TrvZIIWAAAIM6UVpmeKTZ9I88jJ9Fmtx9GwAIAAHHlkU2uuiTo5PY6iXvkAAAg6QRd00MFri7PcdQzASe31yFgAQCAuLGixFSyP3Ent9dJ7KMHAABJ5f4CVyf1lSb1S+yIkthHDwAAkkZJlem5ktDk9kSX+O8AAAAkhYc3uurqk67ISfx4kvjvAAAAJLzA4ZXbr8jxqEcCT26vQ8ACAAAx91yJaUcSTG6vkxzvAgAAJLT7N7ia2NfRSX0Tv/dKImABAIAYK64yrSixpOm9kghYAACkvDW7TJe+FNDHey0m//9DBa66p0mX5yRH75Uk+WJ9AAAAIDYqa023rnF1979dOZLW7wto9QU+dfZFL+gEXNPDG119baRH3dOSJ2DRgwUAQIoxMz1Z5GrM4wE9WODqzikerb7Ap01+6cdr3KgeyzPFprIDyTO5vQ49WAAApJDiKtO33wjqH8Wmr2Q7unu6V0N7hHqO7pjk0fx3XX0529HpA6MTeO7f4GpyP0cn9Eme3iuJHiwAQIwUVZhufS+oytrYzPtJNQHX9OuPgspfHtDaPaa/neXV0+d8Hq4k6ebxHp0ywNFVr0anLtsqTf8sNX0zCVZuP1ryvSMAQEL4zzeDuuN9V6f8I6BtlYSsSHp3p6vJTwV0y7uurs3zaMNFPl043CPHadhr5PU4WnyGV7uqpZvfDkb8uB4qcNUjTbosiSa31yFgAQCi7vVPXD1bYrp9okf7D0lTngpo1afRnfuTCvy1phvfCGra00F5HOnd83367cneZldKH9HT0W9O9uqhjaZntkeuJocOT26fM8qjbkk0ub0OAQsAEFVmpvnvujqpr/TDEz165wKf8ns7OvPZoBZtImSFg5npsS2u8h4L6NFCV7852aN3zvdpYr/WBZlrcx19KcvRta8Htbs6Mr2L/9hu+vSgkuLBzo1JzncFAIhbf99uemun6ReTvfI4jvp2dvTCLK/mjnZ09cqgvvd2UEGXIcP2Kqownfd8UJe+HNTJAxxtuMin/xrnlc/T+l4ix3H00OleBVzpW6uCMgt/Pe7f4Gpqf0cTkmxye50WA1ZhYaGmT5+u0aNHa8qUKVq/fn2j291xxx3KyclRTk6Obr31Vtpi1AYA8SzgmhasDuoLgxydPeTzS1Anr6P7T/Xqdyd79Jt1rr76QlAVTH5vk0Ou6RcfBDX28YDWl5v+fo5XfzvbpyHd2xdgjuvq6L5TvXqiyPSXzeGtRVGF6YUdyTm5vZ61YObMmbZw4UIzM1u+fLlNmzbtmG1Wrlxp+fn5VlVVZdXV1TZx4kR7/vnnaYty25H8fr9JMr/f31KJY2bPnj2xPgQcRi3iSzLX4+GCoOmBWlu9M9jkNv8sCVrGolrLf6zWNvvdKB7dsRKlFm98GrRxy2vN+2CtffetgFXWhu/79rWXD1nGolorrgzfPhe8G7CMRbW2/1Dr95kotajTbHTcuXOn1q5dqzlz5kiSZs+eraKiIm3btq3BdsuWLdPcuXPVrVs3paena968eVqyZAltUW4DgHh2MGD6yZqgLh7uaFK/pi8/5wzx6O3zfap1Q5PfXy1jXlZT9tWYvvl6UKf8PaiuPkfvXejT/03zhnVF9Lune9U9Tbp6ZVBuGIYKD7mmRza6+vpIj7pGccX4aGs2YJWUlGjQoEHy+ULrkTqOo+zsbBUXFzfYrri4WEOHDq3/fNiwYfXb0Ba9tsZUVFQ0+KipqWlyWwCxVRMM3bW1rzbWRxIZ96x39ckB6Y5J3ha3zevl6J3zfTqhj6OznwvqwQJC1pFqg6ZFm1zlLQ9o6RZX95zi0Ztf9UZksc7e6Y4Wnu7VS2WmP67veB2e3mb67KD0jSRbuf1oLa7kfvQaGdZEej1yu6O3oS16bUfLyspq8Pktt9yi+fPnN/uaaNm3b1+sDwGHUYvYKj3gaNHWNP15W5p21Xh0UkYnPXvmXnVKouuPv1b62dru+vqwQ+rrVmrv3ta97q9TpR98mK5vvN5J75Ud1E+Pr5Evit+XePvZ2HHA0eKiNP2pKE07azw6f/Ah/WxCjQZ2MfnLI/f/TuwqXTMiXbe8k6bJ3Ss0qkf7e7Lu+biLJmc6GqzWnwdS/NXiaJmZmQ0+bzZgZWVlqbS0VIFAQD6fT2amkpISZWdnN9guOzu7wbDh9u3b67ehLXptjSkpKVHPnj3rP09PT1d6enqT20fb0SckYodaRJdrphd3hHoE/lFs6u6Trhrt0fQBjq56tZP+34Yuuu+0lnt6EsX/rQ6qxnX1s5O7KrNbtza99uEvSBMHBnXTm520rTpdy77gVa/06A0txfpnwzXTy4d7j57eburmk64c5dH1Yzwam5kmqWtUjuP3M0yv/y2gm97voTe+2ra7EutsqTC9ujOgRTO8yszs3ObXx7oWbdLSJK0ZM2Y0mOQ+derUY7Z55ZVXbOzYsQ0mXq9YsYK2KLcdiUnuaAtqET17q12766OAjVpaa3qg1o5/vNbuXx9sMCn5t+9VmB4IfT0Z7KhyrcvDtbbg3UCH9vNiadB6L6613GW1tqk8OpPfY/mzsbfatd98FLDRy0LnyrjltXbvvwNWURO7if9vfxY0z4O1dvua9tVy/jsB67Wo1g60YXJ7nUT7PdViwCooKLBp06bZqFGjbOLEibZu3TozM5s1a5atXr26frvbbrvNhg8fbsOHD7cFCxY02Adt0WurQ8BCW6RSLYorXftgt2u1wehepN7b6dq8Vw9Zl4drLe2hWrvipUO26pOgue6xx7Fnzx67/vWApT1Ua298mvgh65uvBaz34lrbV93x7/mmctdyl9Va78W19q/SyH1vAkHXPt7j2qtb9kX9XFm7y7VrV4bOFd+DtXbZS4fstbLGz5VY+NHqgPkerLX3drbteGoCrvX/U6395xvtC2eJ9nvKMYvA6mGIuYqKCmVkZMjv9zcYIowne/fuTazu3iSW7LVwzfRCaWiI5Zlik0nq7JVO7ONocj9HU/o7mtzX0cgMyeOEb+ipOmB6bKvpnvWu3t1lyuomfWuMR9fkejSga9P/z969e9U9o7e+8GxQmytMay70aVC3xLzbalO5Kf/xgH4xxaPvHR+eIc/yGtOlLwX1Upnp99M9uiG/Y/s1M22tlFbvsvqPNbtNBwKh9s5e6YS6c6Vf6N9REThXHi8KnStv7zQN6SZ9M8+ja/M8Oq6ZcyUWaoOmaU8HVB2U1lzoU5dW3gn42BZXl74c1LrZPo3NbPt7SrTfUwSsJEXAQlskay32VpsWbnJ17wZXWyqkE/pIN+Z7lZshvbf784vp5orQ9hmdpEl9QxfQuo8h3Y692aclWytM921w9chGV3tqpHMGO7pxrEfnZTmtmrdSV4/PDpgmPhVQVjdHr37Zq3RvfF1oW+OSFwN6a6ep8BKfOofxlvyAa/ru265+/29X14/x6HfTPUpr5ZygTw6E6v7uztC/7+027T18g/Ww7mpQ/4NVldpY013vHnWu9EyTJvVreK5kteNcKaow3V/g6uGNrnZXS2cNdnTDGI++MrR150qs/Htv6Ny8Md+jX09rXcA969lQKFv11Rbvr2tUov2eat+7BIA49t4uV/esd7V0i8k16ZIRjv50hkfT+jv1F8DTBn6+/d5qaxC4Hi109YsPQ20DuqhBz8Xkfo76dD72whd0Tc8f7iVbUWLK6CTNy/XoW2M8GpXRvgvlgK6Onjzbq9P+EdSNbwT14GneNl/AY+m9Xa6WF5kePt0b1nAlST6Po99N92psb0c3vhHURr9p+Re8yjyqNvtqTO8d0TO1erdpx/5QW/8u0uS+jm4a69GU/o4m9XXUr0vD1+/dG9SsTG+T+/tToatffthwf1P6f36u9G3kXHHN9M/D58qzxaaenaSrR4fOldxeiVHfsZmOfj7Jo++94+or2Y7OGNT8rZ2b/aaXykyPnpE8N260hB6sJEUPVnKrqDX1SGv7X8tNCWctgq5pV3UomEQzDBwMmJZtDV20Vu8yDe3++XDc0RfN1ijbf7iX44iLafnh9amG9/i8l2NiX0erd4V6rIoqpZP6hnrJLstx2r2I4tH1WLTJ1dUrg/rjKR5d38HhsGg669mAPjlg+nC2L6K9MSs/cTX7X0H1TpfumubVlorPa1bYwR6n1vxs1J0rR4a4fY30iE3s62jtHtO9611trfy8R/XyHEfdwrgwaLS4Zjrz2aCKKk0fz/apZ6em38Mt7wT10EZXO65o/ZDi0RLtmkHXLTy5AAAddUlEQVTASlIErOS0r8b0/XddPVDgalxv6YZ8j+aM9KhHM7/YWiMctdhdHVqduS5o9OvccKhlcj9H/dsRdFqy5YjhuL010rlDHN2Y79GsLEfeMF7UzUxbKtQgdK3dbToYlNK90qUjHN2Q79GUfk6Hg2Vj9bjpzaDuXe/q5S95ddrA+F8g61+lrs5ZEdRTZ3t1/rDIH+/WCtNX/hnQ+vJQPerm19V9jG7nnKn2/GzUzemqG4Jcvcu0dk9oTlcnT6hH9Yb8hj2qiWpbpWn8EwFdPNzRIzMaHxSrCZqG/DWgr4306Lcnt/8PhES7ZhCwkhQBK7mYmZZsMX3n7aAOBqRbjvdo7R5rZE2c6P5laBYKG39c72rZVpNZKGicl+3R+n2fX1z2HP5rPrt7w+G2iX2dZv/qbUrQNT1XEvp/ny81ZaZ/PhyX0zN6F6yAayoolwZ2VaPDhu3VWD0OuaaznwtqQ7lpzQXtf4BvNLhmmvxUQJ29jlZ9JXrDmgcDoRCc20utno/VknD9ngq4po3l0oCuanTYMJE9stHVNa81HaaXbXF12ctBrb/IpzG92//eE+2awRwsIM5t9puufyOoF3eYLh7u6Lcne+vvKCupMj1Q4OrBgtCcozMGhv4yvmCYE7YLTGMOBExLt4QCzprdpmHdpdtO8mheI8NxZqZtlWow1Hb7Wlf7A5Kj0MVwct/P7+abkOk0OV9n10HTw4d7ybZXhcLawhleXTrCafewQ0f4PI7GRen3fZrH0WNf8GrSkwH9x4tBvfbl8M9rCpflW01rd0uvfdkT1R6aLr7o1aOtfB5HY+P02Drq6tGOntrm6LrXgzp5wLE91fdvcHXacU6HwlUiogcrSdGDlfhqgqZffejqjg9cDewi3XOKV+dlNz7UUhs0PbktdIv365+aBnaVrsvz6Bt5Hg1uxe39ra1FoT80f2ThJlf+WmlWVijQnTukbcNxwcM9P6uPmFj+wR7TIVfyOdLxfaTJfT31oavyUOj/fWyryeNIl+WE/t/JzTwwOJE1V481u0yn/iOgS0eEwmW8DTEdck35ywPKzXD0zLmJ/zc8v6da57MDpnFPBHTacY6eOOvz83JTuSl3eUB/nunV10Z27Oc10WqR+Gc/kIRe+8TVN1cFtdkvffd4j358UvNPne/kdXRpjqNLczz6eG8ojNz1saufve/qgmGh275nDmrffI+ga3qmONRb9cKO0HDcdXkefbMDw3Hew3/Nj810NHd06Gs1QdNHez8PXKs+c/VAgVT3F2BOT+nnkz2aO9oT1uG4RDOxn6MHT/Pq668GNbGvq/8cF1+T3h8qCC2J8bez4+u4EFkDujp64FSv/uPFoB4tNF01OvQz+kCBq8x0afaw1PuZJWABcWRPtel/3glq4SbTyf0drf0Pr8a3cV7V+ExHfzzVq19M8ehPha7+uN7VF54LKq+XdMMYj64c7VFGK+Y9fXYgNBx3f4Gr4ippan9Hi2d4dXGEhuPSvXUTkj//WtWh0ETyoEkzBjphXdgxkc0Z5dHa3abvvO1qfGbLt8hHy/5DoeHfOSOdNp+3SHwXDvfoylGubnozqDMGOhrQJXQH7FWjPHE7nB1JBCwgDpiZHi00fe+doAKudP+pXl2b17FA0bOToxvHenVDvkevfRrqgbr5bVcLVruaM9Kj6/M9mtDn2PlSb34W2nZ5kcnrSFfkOLoh36uJ/aL/C7J7mqPTB6beL+bWuHOqRx/uNV38UlBrLnSUHQeT3n+7LnQn5+2T6L1KVb872atXygK6emVQ1+R5tKdG+saY+PgDINoIWECMFZSbrl8V1KufmK7IcXTXNG+zj1FpK8dxNGOgoxkDPSrbb3poo6v7N4R6pk4ZEJrLNLW7tHxDUH9c7+qjvdLIntIvDg/HHb1wI+KDz+No2eFJ7xf+K6BVX2n/+kLhsKfadOeHrq7P92hYD86ZVNUrPTQ38KznglqzO6gZAx3lJcjiqeGWmrESiAPVAdNP1gQ14YmASvabXpjl1V/O9IU1XB1tUDdHPz7Jq22X+/T4WV6le6WvvRLUyH/00A1vuBrew9E/Z3m18RKfbj7+2FWxEV/6dnb01Dk+bdgnfeP1oGJ5z9LPP3Blkn54ApeVVPeFwR7dNNajikOh5ymmKnqwgBh4aYer61cFta1Kmj/Box+c4Ilq70Oax9Hs4Y5mD/dowz7Ts5urdHFedw2l5yHhnNDH0SMzvLr85dCk9/8eH/3hueIq0x/+7eqHJ7Zv1Xwkn19O8Wj6gNDvmVRFwAKiaOdB03ffDurPm02nH+fo6XO8MV8bZkxvRwNyDimTcJWwLssJTXr/3juujs90dObg6PYa/GRNUL3SpZvHp25vBRrq7Avd2ZzKCFhAFLhmemSj6ZZ3g3IkPXK6V3NHJ/5jMhA//neyRx/uMV3yUlDvXehEbR7Uv/eGbtD43ckedU/A5+kBkcKfG0AEHXJNy7e6OuXvQV33elBfzXZUcLFPV+dGd4VrJD+vx9GSM73K6CRd8EJABwLRmY/1g/eCGtZd+kYKz7UBGsNPBBABO/ab/t+aoIYuCeiSl4LyOdLLX/Jq0Rk+5qggYjIPT3ovrJCueS3yk97f+NTV37ebfjrJq05ezmvgSAwRAmFiZnqlzPTHDa6e2mbq7JW+PsqjG/I9LLqIqBmf6WjRDK8ueSk06f17x0dm0ruZ6fvvujqhT+jRRQAaImABHeSvNT26ydUfN7gqKJfG9JJ+d7JHXx/lUc9WrJgOhNvFIzxasMc0/11XEzIdnT0k/IMVzxabVn1mWnGulxX2gUYQsIB2+mhPaMXzP292VROULhzm6N5TPJoxkMnriL2fTvTogz2mS18O6jvj7PBjiJywPMcx6JoWrA49DuWLQzjXgcYQsIA2qAma/lZkume9qzc+Mw3qKv3P8R5dl+fRoG5caBA/vB5Hf5np1byVQd31savy2tDXR/RQfdia3M/RSX2dNt/995fNpnX7pLfP52YNoCkELKAViqtM929w9dBGVzsPSmcOcvT4WV59daijNA8XGMSn3umOnjzHJzPTlgrp3V2m1Yc//r7d1cGg5HFCw9p1gWtKP0fHZzpNTlqvCZp+vCao/xjmaGp/7pMCmkLAAprgmunFHaFhwH8Um7r7pKtGe3T9GE/MFwcF2sJxHI3MkEZmOLpiZOhrAde0fp/qA9fq3a7+XGgKmNTJI03o83kv1+S+jvJ6hXrF7l3vqnS/9M9ZPNAZaA4BCzjKvhrTok2u7l3vqrBCOj5TuvcUr64Y2fahFCBe+TyOju8jHd/H0TV5kuRVdcD0wZ7Pe7leLnN173rJJHVPk07q4+jjfaZ5uY5yU/QBvkBrEbCAw9bsMv1xfVBLtoT+ir9ouKOFM0LP02KeCVJBZ5+jaQMcTRvw+dcqak1rdn8eunJdRz85id4roCUELKS06oDpsa2htave2WnK6ib96ESPrsn1aEBXQhXQs5OjmYMczRwU6yMBEgsBCympqMJ03wZXD290tadGOmdw6MHLX8py5GXSOgCggwhYSBlB1/TP0tASCytKTBmdpHm5Hn1rjEejMghVAIDwIWAh6e2uNj2y0dV9G1wVVUon9ZUeOt2ry3IcdfURrAAA4UfAQlIyM727K7TEwrKtoQfeXjrC0dIzPZrcj0nrAIDIImAhqRwImJZuMd2zPqi1u6XhPUKPDLk616O+YXhECAAArUHAQlIoqTL95mNXCze58tdK52U5evaLHp2b5fAgWgBA1BGwkPCqDpnOeCYgf630jbzQpPXhPQlVAIDYIWAh4X33bVefHZQ+nO1TDsEKABAHCFhIaM8Vu3qgwNV9p3oIVwCAuMGj0JGw9lSbrnktqHOHOPpGHqcyACB+cFVCQjIzXb8qqFpXevh0L8suAADiCkOESEhLt5iWF5mWnenVoG6EKwBAfKEHCwmntMp0wxtBXZ7j6JIcTmEAQPzh6oSEYmaa91pQXX3SH6Z7Y304AAA0iiFCJJR7N7j61w7T8+d6lcnK7ACAOEUPFhJGod/0vbddXT/Goy9mceoCAOIXVykkhIBruvLVoAZ3k341ldMWABDfGCJEQrjzQ1fv7jKt+opX3dIYGgQAxDe6AhD33t9t+skaV9+f4NHJAzhlAQDxj6sV4lp1wPT1VwMa21v6yUmcrgCAxMAQIeLarWtcFfql9y70qZOXoUEAQGIgYCFuvfaJq19/5OqXUzwan0m4AgAkDsZcEJcqa01XvRrUqcc5unk8pykAILHQg4W4dPPbQe2ukV76kldeD71XAIDEQsBC3PnHdlcPbTQ9eJpXI3oSrgAAiYexF8SVXQdN174e1JeyHF2TS7gCACQmAhbihpnpW6uCCrrSQ6d75TgELABAYmKIEHHjL5tNf9tmWv4Fr47rSrgCACQuerAQF0qqTN9+M6ivjXR00QhOSwBAYuNKhphzzXT1yqC6p0l/mO6N9eEAANBhDBEi5u75t6uXykwvzPKqVzpDgwCAxEcPFmKqoNx0y7uuvp3v0dlDOB0BAMmBHizETMCVrnwtqOzu0i+nEq4AAMmDgIWY+e3GTlqz2/TmV73q6mNoEACQPOg2QEys2WX61YZO+sEJHk3tz2kIAEguXNkQE997J6jRPVzdeiKnIAAg+TBEiKh741NXr35iWjytVp28nWN9OAAAhB3dB4i6n33gamxv6bxBgVgfCgAAEUEPFqJq7W7TihLTn2d65WFeOwAgSdGDhaj62ftB5fSULh1BugIAJC96sBA16/eFHub84Gle+ei+AgAkMXqwEDX/+0FQQ7pJV44iXAEAkhsBC1GxpcL01y2mW473qJOXgAUASG4ELETFLz8Mqm9n6do8TjkAQPLjaoeIK60yLdpkunmcR114JA4AIAUQsBBxv/rIVfc06fp8TjcAQGrgioeI2nnQ9GCBq5vGetSzE71XAIDUQMBCRP3mY1dej3TTWE41AEDq4KqHiNlXY7pnvasbxniU2ZneKwBA6iBgIWLu/rerQ65083hOMwBAauHKh4ioOmT63TpX1+Z6NKArvVcAgNRCwEJE3LfBVeUh6X8mcIoBAFIPVz+E3cGA6f8+cnXlKEfZ3em9AgCkHgIWwu6Rja52VUvfn+CN9aEAABATBCyEVW3QdOdHri4b4WhkBr1XAIDURMBCWP15s6m4SlpwAr1XAIDURcBC2ARd0y8+COqCoY7GZdJ7BQBIXb5YHwCSx/IiU2GF9Nczye0AgNTW5JWwsLBQ06dP1+jRozVlyhStX7++yZ3ccccdysnJUU5Ojm699VbaItS2bNkynXjiiRo3bpzGjx+vu+++W/HCNdPP3g/qi0McTepHwAIApDhrwsyZM23hwoVmZrZ8+XKbNm1ao9utXLnS8vPzraqqyqqrq23ixIn2/PPP0xaBtlWrVtknn3xiZmbl5eWWk5Njq1atarQufr/fJJnf72+qxGH1VFHQ9ECtvVYWbPVr9uzZE8EjQltQi/hCPeIHtYgfiVaLRrsadu7cqbVr12rOnDmSpNmzZ6uoqEjbtm07Zttly5Zp7ty56tatm9LT0zVv3jwtWbKEtgi0nXLKKTruuOMkSRkZGcrLy1NRUVHbU3WYmZl+9oGr049zdNpAeq8AAGj0alhSUqJBgwbJ5wtN0XIcR9nZ2SouLj5m2+LiYg0dOrT+82HDhtVvR1t42460fv16vfXWWzrzzDOPaTtSRUVFg4+amppmt2+Pf+0wrd5l+uGJhCsAAKRmJrk7TsO7wMysyZ0cue3R29EW3jZJKi0t1fnnn6/77rtPgwYNOqb9SFlZWQ0+v+WWWzR//vxmX9NWt63uohN6O5rYpVJ797b+dfv27QvrcaD9qEV8oR7xg1rEj3ivRWZmZoPP6wPWo48+qrvuukuSdPnll6u0tFSBQEA+n09mppKSEmVnZx+zw+zs7AZDh9u3b6/fjrbwtklSWVmZzjrrLP3oRz/SxRdfrJaUlJSoZ8+e9Z+np6crPT29xde11uufuHpzd1BPne1Vnz6d2/z6o09IxA61iC/UI35Qi/iRULVoanLWjBkzGkxynzp1aqPbvfLKKzZ27NgGk7JXrFhBWwTaysrKLC8vzx555JHmZ9ZZ9Ca5f/G5QzZuea0FXbfNr020CYvJjFrEF+oRP6hF/Ei0WjQZsAoKCmzatGk2atQomzhxoq1bt66+bdasWbZ69er6z2+77TYbPny4DR8+3BYsWNBgP7SFr+3aa6+1rl272oQJE+o/mgpb0QhYq3eG7hz8a2Hr7xw8UqL9sCQzahFfqEf8oBbxI9Fq4Zg1M7kKCauiokIZGRny+/0NhgjD6T/+FdC6vaYNF/vk9bR95fa9e/cmVndvEqMW8YV6xA9qET8SrRas5I52WbfX9OQ208One9sVrgAASGbcV492+d8PgsrqJs0ZSbgCAOBoBCy02Wa/aelW0/wJHnXyErAAADgaAQtt9ssPg+rXWZqXy+kDAEBjuEKiTUqqTIsLTd8d71EXH71XAAA0hoCFNvnVR656pEnfGsOpAwBAU7hKotU+O2B6sMDVf43zqEcneq8AAGgKAQutdtfHrtI80n+O5bQBAKA5XCnRKnurTX/c4OrGfI96p9N7BQBAcwhYaJWHN7o65ErfGc8pAwBAS7haolWWbHH1lWxH/bvQewUAQEsIWGjRxnLT+3uky3I4XQAAaA2umGjRsq2uuqdJ52XRewUAQGsQsNAsM9OSLa4uGOqwsCgAAK1EwEKzPt4rFZRLlzM8CABAq3HVRLOWbnWVmS6dNZjeKwAAWouAhSaZmZZucTV7uKNOXgIWAACtRcBCk1bvMhVVSpeN4DQBAKAtuHKiSUu3mAZ0kWYMpPcKAIC2IGChUa6Zlm11dckIj7weAhYAAG1BwEKjVn1qKjsgXZZDuAIAoK0IWGjUki2m7O7StP4ELAAA2oqAhWMcck2PF7m6dIRHHoeABQBAWxGwcIyXd5h2V/PsQQAA2osrKI6xdKurUT2lE/vE+kgAAEhMBCw0UBM0/a3IdPlIjxyGBwEAaBcCFhp4vsRUcUi6lMVFAQBoN66iaGDpVlfHZ0r5vem9AgCgvQhYqLf/kOnv243J7QAAdBBXUtR7pth0IMDwIAAAHcWVFPWWbnE1pZ+jET0ZHgQAoCMIWJAk+WtNz5UYj8YBACAMCFiQJD25zXTIlS5heBAAgA7jagpJoeHB045zNLgbPVgAAHQUAQvaddD04g6GBwEACBcCFvREkStJumg4pwMAAOHAFRVautV01mBH/brQgwUAQDgQsFLcjv2m1z5hcVEAAMKJq2qKW77VVZpHumAovVcAAIQLASvFLd1qmpXlqFc6AQsAgHAhYKWwogrTOzsZHgQAINy4sqawZVtddfVJX8mm9woAgHAiYKWwpVtcfSXbUbc0AhYAAOFEwEpRG/aZPtwrhgcBAIgArq4paulWVz3TpHOH0HsFAEC4EbBSkJlp6RZXFw5z1NlHwAIAINwIWCnogz3SJr90OcODAABEBFfYFLR0i6u+naUzB9N7BQBAJBCwUoyZaelWVxcN9yjNQ8ACACASCFgp5u2dpuIq6bIcwhUAAJFCwEoxS7eYBnWVTh1AwAIAIFIIWCkk6Joe2+rqkhEeeRkeBAAgYghYKeS1T02fHmR4EACASCNgpZClW0zDuktT+hGwAACIJAJWijjkmh4vcnVZjkeOQ8ACACCSCFgp4sUdpr01PHsQAIBo4GqbIpZsdpXXSzo+M9ZHAgBA8iNgpYCDAdNT202XMzwIAEBUELBSwIoSU+Uh6dIRlBsAgGjgipsClm5xdWIfKbcXvVcAAEQDASvJVdaanik2JrcDABBFXHWT3IoS08GgdAnDgwAARA1X3ST3RJGrk/s7GtYjvoYHa2pq9Mtf/lI1NTWxPpSURy3iC/WIH9QifiRiLRwzs1gfBMKvoqJCGRkZ8t29W78+o5duGueN9SE1UHd8fr9fPXv2jPXhpDRqEV+oR/ygFvEjEWtBD1aSC7jSxQwPAgAQVVx5k9xpxzka2DW+hgcBAEh2vlgfACKjbuT3S/2qVFERf2WuqKho8C9ih1rEF+oRP6hF/EiUWvTo0aN+QW/mYCWp0tJSZWVlxfowAABIGUfOESNgJSnXdVVWVtYgTQMAgMihBwsAACCCmOQOAAAQZgQsAACAMCNgocMKCws1ffp0jR49WlOmTNH69euP2Wb//v26+uqrNX78eOXm5ur73/9+/Z2Oruvqe9/7nsaNG6e8vDxdc801qq2trX/tM888o7y8PI0cOVKzZ89WVVVV1N5boolkLbZt2yafz6cTTjih/mPLli1RfX+J5KabbtKwYcPkOI7WrVvX5HZ33HGHcnJylJOTo1tvvTUsbWgokrVYtGiRevXqVf8zMXPmzIi9j2TR0XqsXr1a06dPV9euXXXRRRe1+nVRZ0AHzZw50xYuXGhmZsuXL7dp06Yds80PfvADmzt3rrmua7W1tXbOOefYY489ZmZmDzzwgJ199tlWU1NjruvavHnz7M477zQzs8rKSuvfv79t2LDBzMxuvPFG+/73vx+dN5aAIlmLoqIi69OnT9TeS6JbuXKllZSU2NChQ+3jjz9ucpv8/Hyrqqqy6upqmzhxoj3//PMdasOxIlmLhQsX2uzZs6P2XpJBR+tRUlJi77zzjt13333HfO/j6WeDHix0yM6dO7V27VrNmTNHkjR79mwVFRVp27ZtDbb78MMPNWvWLDmOo7S0NJ1zzjn605/+VN921llnqVOnTnIcR+edd15924oVKzRp0iTl5eVJkm644QYtWbIkem8wgUS6Fmib008/XUOGDGl2m2XLlmnu3Lnq1q2b0tPTNW/evPrzu71tOFYka4G262g9hgwZoilTpig9Pb1Nr4s2AhY6pKSkRIMGDZLPF1rM1HEcZWdnq7i4uMF2kydP1mOPPaba2lpVVlbqySefrL/wT548WU8//bQqKytVW1urpUuX1rcVFxdr6NCh9fsZNmyYduzYIdd1o/L+EkmkayGFFvmbPHmyTjrpJN1+++0KBoPRentJqbHzu65e7W1D+3Tk+71y5UqdcMIJOuWUU/T4449H76CTWHvP8Xj62SBgocOOXmfLGln5Y/78+crKytKUKVP01a9+VdOnT1daWpok6corr9QXv/hFnX766TrzzDM1duzY+rbG9o+mRbIWAwcOVGlpqVavXq0XX3xRr7/+un79619H/k0luSNrdnS92tuG9mnP9/vLX/6ytm/frg8++EAPPfSQvvOd7+jtt9+O/MGmgPae4/Hys0HAQodkZWWptLRUgUBAUuhkLikpUXZ2doPtOnfurN/85jf64IMP9MorrygzM1P5+fmSQj8MP/7xj/X+++9r1apVysvLq2/Lzs5u0IOybds2DR48WB4Pp+7RIl2L9PR09e/fX5KUmZmpefPm6fXXX4/iO0w+R5/f27dvr69Xe9vQPu39fvft21ddu3aVJI0ZM0bnnXee3njjjagdd7Jq7zkeVz8bMZn5haQyY8aMBhOrp06desw2fr/f9u/fb2ZmW7dutezsbHv//ffNzOzgwYO2b98+MzPbtWuXTZgwwf7+97+bmVlFRYX169evwST3+fPnR/otJaxI1uKzzz6z2tpaMzOrrq62iy66yG699dZIv6WE19xE3ldeecXGjh3bYELuihUrOtSGpkWiFqWlpfX7+PTTT23kyJH20ksvRf7NJIH21qNOYzcYxNPPBgELHVZQUGDTpk2zUaNG2cSJE23dunVmZjZr1ixbvXq1mZm9//77NmrUKBszZoyNHz/ennjiifrXf/rpp5abm2v5+fmWm5tr9957b4P9P/3005abm2s5OTl2wQUXmN/vj96bSzCRrMUTTzxhY8eOteOPP97y8/Pt29/+tlVXV0f3DSaQG264wQYPHmxer9cGDBhgOTk5ZtawFmZmt912mw0fPtyGDx9uCxYsaLCP9rahoUjWYsGCBZafn28TJkyw8ePH2z333BOdN5XAOlqPzZs32+DBg613797WpUsXGzx4cIPve7z8bPCoHAAAgDBjIgsAAECYEbAAAADCjIAFAAAQZv8fBdFnif6Kct8AAAAASUVORK5CYII=\" />"
      ]
     },
     "execution_count": 128,
     "metadata": {},
     "output_type": "execute_result"
    }
   ],
   "source": [
    "plot(x, y)"
   ]
  },
  {
   "cell_type": "markdown",
   "metadata": {},
   "source": [
    "## Q4.2 Solution"
   ]
  },
  {
   "cell_type": "code",
   "execution_count": 130,
   "metadata": {},
   "outputs": [
    {
     "data": {
      "text/plain": [
       "25-element Array{Float64,1}:\n",
       " -3.58318e-14\n",
       " -1.94872e-14\n",
       " -1.0e-14    \n",
       " -4.78297e-15\n",
       " -2.09715e-15\n",
       " -8.23543e-16\n",
       " -2.79936e-16\n",
       " -7.8125e-17 \n",
       " -1.6384e-17 \n",
       " -2.187e-18  \n",
       " -1.28e-19   \n",
       " -1.0e-21    \n",
       "  0.0        \n",
       "  1.0e-21    \n",
       "  1.28e-19   \n",
       "  2.187e-18  \n",
       "  1.6384e-17 \n",
       "  7.8125e-17 \n",
       "  2.79936e-16\n",
       "  8.23543e-16\n",
       "  2.09715e-15\n",
       "  4.78297e-15\n",
       "  1.0e-14    \n",
       "  1.94872e-14\n",
       "  3.58318e-14"
      ]
     },
     "execution_count": 130,
     "metadata": {},
     "output_type": "execute_result"
    }
   ],
   "source": [
    "y2 = zeros(length(x));\n",
    "for i in 1:length(x)\n",
    "y2[i] = (x[i] - 1)^7\n",
    "end\n",
    "\n",
    "y2"
   ]
  },
  {
   "cell_type": "code",
   "execution_count": 131,
   "metadata": {},
   "outputs": [
    {
     "data": {
      "text/html": [
       "<img src=\"data:image/png;base64,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\" />"
      ]
     },
     "execution_count": 131,
     "metadata": {},
     "output_type": "execute_result"
    }
   ],
   "source": [
    "plot(x, y2)"
   ]
  },
  {
   "cell_type": "markdown",
   "metadata": {},
   "source": [
    "## Q4.3 Solution"
   ]
  },
  {
   "cell_type": "markdown",
   "metadata": {},
   "source": [
    " We see that the first and second equations in questions 1 and 2 are equivalent, but that the multiplied out formula in question 1 performs many more subtraction operations between polynomial terms. \n",
    " \n",
    "Since the equation in question 2 only has one subtraction operation, we note that there will be more precision in the second formula vs. in the first formula due to catastrophic cancellation."
   ]
  },
  {
   "cell_type": "markdown",
   "metadata": {},
   "source": [
    "## Q5\n",
    "\n",
    "Let the $n \\times n$ matrix `H` have elements `H[i, j] = 1 / (i + j - 1)`.  \n",
    "0. Write a function `h(n)` that outputs $n \\times n$ matrix `H`. Try at least 3 ways, e.g., looping, [comprehension](https://docs.julialang.org/en/stable/manual/arrays/#Comprehensions-1), and vectorization. Compute and print `H` for `n = 5`.   \n",
    "0. Compare their efficiencies at `n = 1000`.\n",
    "0. Try different rounding modes (use function `setrounding(Float64, RoundingMode)`) and report the entry `inv(H)[1, 1]` for `n = 15`."
   ]
  },
  {
   "cell_type": "markdown",
   "metadata": {},
   "source": [
    "## Q5.1 Solution:"
   ]
  },
  {
   "cell_type": "code",
   "execution_count": 1,
   "metadata": {},
   "outputs": [
    {
     "data": {
      "text/plain": [
       "h (generic function with 1 method)"
      ]
     },
     "execution_count": 1,
     "metadata": {},
     "output_type": "execute_result"
    }
   ],
   "source": [
    "#looping \n",
    "function h(n)\n",
    "    H = zeros(n, n)\n",
    "        for j in 1:n\n",
    "            for i in 1:n\n",
    "            H[i, j] = 1 / (i + j - 1)\n",
    "        end\n",
    "    end\n",
    "    H\n",
    "end"
   ]
  },
  {
   "cell_type": "code",
   "execution_count": 10,
   "metadata": {},
   "outputs": [
    {
     "data": {
      "text/plain": [
       "5×5 Array{Float64,2}:\n",
       " 1.0       0.5       0.333333  0.25      0.2     \n",
       " 0.5       0.333333  0.25      0.2       0.166667\n",
       " 0.333333  0.25      0.2       0.166667  0.142857\n",
       " 0.25      0.2       0.166667  0.142857  0.125   \n",
       " 0.2       0.166667  0.142857  0.125     0.111111"
      ]
     },
     "execution_count": 10,
     "metadata": {},
     "output_type": "execute_result"
    }
   ],
   "source": [
    "n = 5;\n",
    "h(n)"
   ]
  },
  {
   "cell_type": "code",
   "execution_count": 6,
   "metadata": {},
   "outputs": [
    {
     "data": {
      "text/plain": [
       "h2 (generic function with 1 method)"
      ]
     },
     "execution_count": 6,
     "metadata": {},
     "output_type": "execute_result"
    }
   ],
   "source": [
    "#comprehension\n",
    "function h2(n)\n",
    "    H = [1 / (i + j - 1) for i in 1:n, j in 1:n]\n",
    "end"
   ]
  },
  {
   "cell_type": "code",
   "execution_count": 7,
   "metadata": {},
   "outputs": [
    {
     "data": {
      "text/plain": [
       "5×5 Array{Float64,2}:\n",
       " 1.0       0.5       0.333333  0.25      0.2     \n",
       " 0.5       0.333333  0.25      0.2       0.166667\n",
       " 0.333333  0.25      0.2       0.166667  0.142857\n",
       " 0.25      0.2       0.166667  0.142857  0.125   \n",
       " 0.2       0.166667  0.142857  0.125     0.111111"
      ]
     },
     "execution_count": 7,
     "metadata": {},
     "output_type": "execute_result"
    }
   ],
   "source": [
    "h2(n)"
   ]
  },
  {
   "cell_type": "code",
   "execution_count": 8,
   "metadata": {},
   "outputs": [
    {
     "data": {
      "text/plain": [
       "h3 (generic function with 1 method)"
      ]
     },
     "execution_count": 8,
     "metadata": {},
     "output_type": "execute_result"
    }
   ],
   "source": [
    "#vectorization\n",
    "function h3(n)\n",
    "    H = 1 ./ (repmat((1:n)', n, 1) + repmat((1:n), 1, n) - 1)\n",
    "end"
   ]
  },
  {
   "cell_type": "code",
   "execution_count": 9,
   "metadata": {},
   "outputs": [
    {
     "data": {
      "text/plain": [
       "5×5 Array{Float64,2}:\n",
       " 1.0       0.5       0.333333  0.25      0.2     \n",
       " 0.5       0.333333  0.25      0.2       0.166667\n",
       " 0.333333  0.25      0.2       0.166667  0.142857\n",
       " 0.25      0.2       0.166667  0.142857  0.125   \n",
       " 0.2       0.166667  0.142857  0.125     0.111111"
      ]
     },
     "execution_count": 9,
     "metadata": {},
     "output_type": "execute_result"
    }
   ],
   "source": [
    "h3(n)"
   ]
  },
  {
   "cell_type": "markdown",
   "metadata": {},
   "source": [
    "## Q5.2 Solution:"
   ]
  },
  {
   "cell_type": "code",
   "execution_count": 12,
   "metadata": {},
   "outputs": [
    {
     "name": "stderr",
     "output_type": "stream",
     "text": [
      "\u001b[1m\u001b[36mINFO: \u001b[39m\u001b[22m\u001b[36mPrecompiling module BenchmarkTools.\n",
      "\u001b[39m"
     ]
    },
    {
     "data": {
      "text/plain": [
       "BenchmarkTools.Trial: \n",
       "  memory estimate:  7.63 MiB\n",
       "  allocs estimate:  2\n",
       "  --------------\n",
       "  minimum time:     2.234 ms (0.00% GC)\n",
       "  median time:      2.781 ms (0.00% GC)\n",
       "  mean time:        3.251 ms (18.23% GC)\n",
       "  maximum time:     57.180 ms (95.21% GC)\n",
       "  --------------\n",
       "  samples:          1531\n",
       "  evals/sample:     1"
      ]
     },
     "execution_count": 12,
     "metadata": {},
     "output_type": "execute_result"
    }
   ],
   "source": [
    "using BenchmarkTools\n",
    "n = 1000;\n",
    "@benchmark h(n)"
   ]
  },
  {
   "cell_type": "code",
   "execution_count": 13,
   "metadata": {},
   "outputs": [
    {
     "data": {
      "text/plain": [
       "BenchmarkTools.Trial: \n",
       "  memory estimate:  7.63 MiB\n",
       "  allocs estimate:  2\n",
       "  --------------\n",
       "  minimum time:     2.871 ms (0.00% GC)\n",
       "  median time:      3.540 ms (0.00% GC)\n",
       "  mean time:        3.992 ms (14.11% GC)\n",
       "  maximum time:     66.707 ms (93.22% GC)\n",
       "  --------------\n",
       "  samples:          1250\n",
       "  evals/sample:     1"
      ]
     },
     "execution_count": 13,
     "metadata": {},
     "output_type": "execute_result"
    }
   ],
   "source": [
    "@benchmark h2(n)"
   ]
  },
  {
   "cell_type": "code",
   "execution_count": 14,
   "metadata": {},
   "outputs": [
    {
     "data": {
      "text/plain": [
       "BenchmarkTools.Trial: \n",
       "  memory estimate:  38.33 MiB\n",
       "  allocs estimate:  6037\n",
       "  --------------\n",
       "  minimum time:     11.568 ms (3.53% GC)\n",
       "  median time:      13.839 ms (20.10% GC)\n",
       "  mean time:        14.296 ms (22.00% GC)\n",
       "  maximum time:     86.036 ms (85.77% GC)\n",
       "  --------------\n",
       "  samples:          350\n",
       "  evals/sample:     1"
      ]
     },
     "execution_count": 14,
     "metadata": {},
     "output_type": "execute_result"
    }
   ],
   "source": [
    "@benchmark h3(n)"
   ]
  },
  {
   "cell_type": "markdown",
   "metadata": {},
   "source": [
    "We made note that as Julia reads in data column major, to create the matrix via looping, we should make the inner loop index to be `i` and the outer loop indexed `j` to increase efficiency.\n",
    "\n",
    "From the benchmarking, we see looping and comprehension takes about 3-4 seconds on average, while vectorization takes about 14 seconds on average. This indicates that while the code ultimately creates the same matrix, the method of creation affects the efficiency. Looping and comprehension methods of creation are much more efficient than vectorization creation methods."
   ]
  },
  {
   "cell_type": "markdown",
   "metadata": {},
   "source": [
    "## Q6\n",
    "\n",
    "0. Show the **Sherman-Morrison formula**\n",
    "$$\n",
    "\t(\\mathbf{A} + \\mathbf{u} \\mathbf{u}^T)^{-1} = \\mathbf{A}^{-1} - \\frac{1}{1 + \\mathbf{u}^T \\mathbf{A}^{-1} \\mathbf{u}} \\mathbf{A}^{-1} \\mathbf{u} \\mathbf{u}^T \\mathbf{A}^{-1},\n",
    "$$\n",
    "where $\\mathbf{A} \\in \\mathbb{R}^{n \\times n}$ is nonsingular and $\\mathbf{u} \\in \\mathbb{R}^n$. This formula supplies the inverse of the symmetric, rank-one  perturbation of $\\mathbf{A}$.\n",
    "\n",
    "0. Show the **Woodbury formula**\n",
    "$$\n",
    "\t(\\mathbf{A} + \\mathbf{U} \\mathbf{V}^T)^{-1} = \\mathbf{A}^{-1} - \\mathbf{A}^{-1} \\mathbf{U} (\\mathbf{I}_m + \\mathbf{V}^T \\mathbf{A}^{-1} \\mathbf{U})^{-1} \\mathbf{V}^T \\mathbf{A}^{-1},\n",
    "$$\n",
    "where $\\mathbf{A} \\in \\mathbb{R}^{n \\times n}$ is nonsingular, $\\mathbf{U}, \\mathbf{V} \\in \\mathbb{R}^{n \\times m}$, and $\\mathbf{I}_m$ is the $m \\times m$ identity matrix. In many applications $m$ is much smaller than $n$. Woodbury formula generalizes Sherman-Morrison and is valuable because the smaller matrix $\\mathbf{I}_m + \\mathbf{V}^T \\mathbf{A}^{-1} \\mathbf{U}$ is cheaper to invert than the larger matrix $\\mathbf{A} + \\mathbf{U} \\mathbf{V}^T$.\n",
    "\n",
    "0. Show the **binomial inversion formula**\n",
    "$$\n",
    "\t(\\mathbf{A} + \\mathbf{U} \\mathbf{B} \\mathbf{V}^T)^{-1} = \\mathbf{A}^{-1} - \\mathbf{A}^{-1} \\mathbf{U} (\\mathbf{B}^{-1} + \\mathbf{V}^T \\mathbf{A}^{-1} \\mathbf{U})^{-1} \\mathbf{V}^T \\mathbf{A}^{-1},\n",
    "$$\n",
    "where $\\mathbf{A}$ and $\\mathbf{B}$ are nonsingular.\n",
    "\n",
    "0. Show the identity\n",
    "$$\n",
    "\t\\text{det}(\\mathbf{A} + \\mathbf{U} \\mathbf{V}^T) = \\text{det}(\\mathbf{A}) \\text{det}(\\mathbf{I}_m + \\mathbf{V}^T \\mathbf{A}^{-1} \\mathbf{U}).\n",
    "$$\n",
    "This formula is useful for evaluating the density of a multivariate normal with covariance matrix $\\mathbf{A} + \\mathbf{U} \\mathbf{V}^T$."
   ]
  },
  {
   "cell_type": "markdown",
   "metadata": {},
   "source": [
    "## Q6.1 Solution:\n",
    "\n",
    ">First we get the Identity matrix on the left hand side by multiplying both sides by: $$ (\\mathbf{A} + \\mathbf{u}\\mathbf{u}^T) $$ to get:\n",
    "\n",
    "$$\\mathbf{I} = (\\mathbf{A} + \\mathbf{u} \\mathbf{u}^T) * (\\mathbf{A}^{-1} - \\frac{1}{1 + \\mathbf{u}^T \\mathbf{A}^{-1} \\mathbf{u}} \\mathbf{A}^{-1} \\mathbf{u} \\mathbf{u}^T \\mathbf{A}^{-1}) $$\n",
    "<br>\n",
    "\n",
    "\n",
    "> Then we multiply out the right hand side to get this:\n",
    "$$\\mathbf{A}\\mathbf{A}^{-1} + \\mathbf{uv}^{T}\\mathbf{A}^{-1} - \n",
    "\\frac{(\\mathbf{A}\\mathbf{A}^{-1}\\mathbf{uv}^{T}\\mathbf{A}^{-1}+\\mathbf{uv}^{T}\\mathbf{A}^{-1}\\mathbf{uv}^{T}\\mathbf{A}^{-1})} {(1 + \\mathbf{u}^{T}\\mathbf{A}^{-1}\\mathbf{u})}$$\n",
    "\n",
    "<br>\n",
    ">We simplify what multiplies to be the Identity matrix, and what multiplies the Identiy Matrix on the right hand side\n",
    "\n",
    "$$\\mathbf{I} + \\mathbf{uu}^{T}\\mathbf{A}^{-1} - \\frac{\\mathbf{uu}^{T}\\mathbf{A}^{-1} + \\mathbf{uu}^{T}\\mathbf{A}^{-1}\\mathbf{uu}^{T}\\mathbf{A}^{-1}}{1 + \\mathbf{u}^{T}\\mathbf{A}^{-1}\\mathbf{u} } \n",
    "$$\n",
    "\n",
    "<br>\n",
    ">We can start to factor out the numerator by first pulling out the $\\mathbf{u}$ term to get:\n",
    "\n",
    "$$\\mathbf{I} + \\mathbf{uu}^{T}\\mathbf{A}^{-1} - \\frac{\\mathbf{u}*(\\mathbf{u}^{T}\\mathbf{A}^{-1} + \\mathbf{u}^{T}\\mathbf{A}^{-1}\\mathbf{uu}^{T}\\mathbf{A}^{-1})}{1 + \\mathbf{u}^{T}\\mathbf{A}^{-1}\\mathbf{u} } \n",
    "$$\n",
    "\n",
    "<br>\n",
    ">Next we factor out in the numerator the term: $$(\\mathbf{u}^{T}\\mathbf{A}^{-1})$$ to get on the right hand side:\n",
    "$$\\mathbf{I} + \\mathbf{uu}^{T}\\mathbf{A}^{-1} - \\frac{\\mathbf{u }(1 + \\mathbf{u}^{T}\\mathbf{A}^{-1}\\mathbf{u)}(\\mathbf{u}^{T}\\mathbf{A}^{-1})}{1 + \\mathbf{u}^{T}\\mathbf{A}^{-1}\\mathbf{u}}$$\n",
    "<br>\n",
    "\n",
    ">Next we cancel the common term: $$({1 + \\mathbf{u}^{T}\\mathbf{A}^{-1}\\mathbf{u}})$$ from the numerator and the denominator of the fraction to get on the right hand side:\n",
    "\n",
    "$$\\mathbf{I} + \\mathbf{uu}^{T}\\mathbf{A}^{-1} - \\mathbf{u}(\\mathbf{u}^{T}\\mathbf{A}^{-1})$$\n",
    "\n",
    ">Now if we multiply out the second term we get: \n",
    "<br>\n",
    "$$\\mathbf{I} + \\mathbf{uu}^{T}\\mathbf{A}^{-1} - \\mathbf{uu}^{T}\\mathbf{A}^{-1}$$\n",
    "<br>\n",
    "\n",
    ">Simplifying, we get that the right hand side equals the Identity Matrix, same as the left hand side.\n",
    "$$\\mathbf{I}=\\mathbf{I}$$ "
   ]
  },
  {
   "cell_type": "markdown",
   "metadata": {},
   "source": [
    "## Q6.2 Solution:\n",
    "\n",
    ">First we get the Identity matrix on the left hand side by multiplying both sides by: $$(\\mathbf{A} + \\mathbf{U} \\mathbf{V}^T)$$ to get:\n",
    "\n",
    "$$\\mathbf{I} = (\\mathbf{A} + \\mathbf{U} \\mathbf{V}^T)(\\mathbf{A}^{-1} - \\mathbf{A}^{-1} \\mathbf{U} (\\mathbf{I}_m + \\mathbf{V}^T \\mathbf{A}^{-1} \\mathbf{U})^{-1} \\mathbf{V}^T \\mathbf{A}^{-1})$$<br>\n",
    "\n",
    ">Next we multiply out the right hand side to get:\n",
    "\n",
    "$$\\mathbf{I} = \\mathbf{I} + \\mathbf{UV^TA^{-1} - \\mathbf{U(I + V^TA^{-1}U)^{-1}V^TA^{-1}}  - \\mathbf{UV^TA^{-1}U(I + V^TA^{-1}U)^{-1}V^{T}A^{-1}}}$$\n",
    "<br>\n",
    "\n",
    "> We then factor out the $\\mathbf{U}$ on right hand side to get:\n",
    "\n",
    "<br>\n",
    "$$\\mathbf{I} = \\mathbf{I} + \\mathbf{U(V^TA^{-1} - \\mathbf{(I + V^TA^{-1}U)^{-1}V^TA^{-1}}  - \\mathbf{V^TA^{-1}U(I + V^TA^{-1}U)^{-1}V^{T}A^{-1}}})$$\n",
    "\n",
    "> Next we factor out the $\\mathbf{V^TA^{-1}}$ term on the second term of the right hand side to get:\n",
    "\n",
    "<br>\n",
    "$$\\mathbf{I} = \\mathbf{I} + \\mathbf{U(\\mathbf{V^TA^{-1}})(I - \\mathbf{(I + V^TA^{-1}U)^{-1}}  - \\mathbf{V^TA^{-1}U(I + V^TA^{-1}U)^{-1}}}))$$\n",
    "<br>\n",
    "\n",
    "> We start to simplify by writing out the identity matrix in the second term of the right hand side as a product of: $\\mathbf{(I + V^TA^{-1}U)^{-1}}\\mathbf{(I + V^TA^{-1}U)}$ to get:\n",
    "<br>\n",
    "\n",
    "$$\\mathbf{I} = \\mathbf{I} + \\mathbf{U(\\mathbf{V^TA^{-1}})(\\mathbf{(I + V^TA^{-1}U)^{-1}}\\mathbf{(I + V^TA^{-1}U)} - \\mathbf{(I + V^TA^{-1}U)^{-1}}  - \\mathbf{V^TA^{-1}U(I + V^TA^{-1}U)^{-1}}}))$$\n",
    "<br>\n",
    "\n",
    "> We can now factor out the common term: $\\mathbf{(I + V^TA^{-1}U)^{-1}}$ from the right hand side to get:\n",
    "<br>\n",
    "\n",
    "$$\\mathbf{I} = \\mathbf{I} + \\mathbf{U(\\mathbf{V^TA^{-1}})(I + V^TA^{-1}U)^{-1}\\mathbf{((I + V^TA^{-1}U}) - \\mathbf{I}  - \\mathbf{V^TA^{-1}U}}))$$\n",
    "\n",
    "> Simplifying we get the right hand side, we get: \n",
    "\n",
    "$$\\mathbf{I} = \\mathbf{I} + \\mathbf{U(\\mathbf{V^TA^{-1}})(I + V^TA^{-1}U)^{-1}\\mathbf{(I + V^TA^{-1}U} - \\mathbf{I}  - \\mathbf{V^TA^{-1}U}})$$\n",
    "<br>\n",
    "\n",
    ">Notice the term $\\mathbf{(I + V^TA^{-1}U} - \\mathbf{I}  - \\mathbf{V^TA^{-1}U})$ = 0 so we get:\n",
    "\n",
    "$$\\mathbf{I} = \\mathbf{I} + \\mathbf{U((I + V^TA^{-1}U)^{-1} * 0}))  \\mathbf{V^TA^{-1}}$$\n",
    "<br>\n",
    "\n",
    ">Simplifying we get that the second term on the right hand side goes to 0. Finally we arrive at the Identity matrix on the right hand side of the equation, same as the left, proving the Woodbury Formula.\n",
    "$$\\mathbf{I} = \\mathbf{I}$$"
   ]
  },
  {
   "cell_type": "markdown",
   "metadata": {},
   "source": [
    "## Q6.3 Solution:\n",
    "\n",
    ">First we get the Identity matrix on the left hand side by multiplying both sides by: $$\\mathbf{A} + \\mathbf{U} \\mathbf{B} \\mathbf{V}^T$$ to get:\n",
    "\n",
    "$$\\mathbf{I} = (\\mathbf{A} + \\mathbf{U} \\mathbf{B} \\mathbf{V}^T)(\\mathbf{A}^{-1} - \\mathbf{A}^{-1} \\mathbf{U} (\\mathbf{B}^{-1} + \\mathbf{V}^T \\mathbf{A}^{-1} \\mathbf{U})^{-1} \\mathbf{V}^T \\mathbf{A}^{-1})$$<br>\n",
    "\n",
    ">Next we multiply out the right hand side to get:\n",
    "\n",
    "$$\\mathbf{I} = \\mathbf{I} - \\mathbf{AA}^{-1} \\mathbf{U} (\\mathbf{B}^{-1} + \\mathbf{V}^T \\mathbf{A}^{-1} \\mathbf{U})^{-1} \\mathbf{V}^T \\mathbf{A}^{-1} + \\mathbf{U} \\mathbf{B} \\mathbf{V}^T\\mathbf{A^{-1}} - \\mathbf{U} \\mathbf{B} \\mathbf{V}^T\\mathbf{A}^{-1} \\mathbf{U} (\\mathbf{B}^{-1} + \\mathbf{V}^T \\mathbf{A}^{-1} \\mathbf{U})^{-1} \\mathbf{V}^T \\mathbf{A}^{-1}$$\n",
    "<br>\n",
    "\n",
    "> We can then simplify that $$\\mathbf{AA}^{-1}= I,$$ the Identity Matrix to get:\n",
    "\n",
    "$$\\mathbf{I} = \\mathbf{I} - \\mathbf{I} \\mathbf{U} (\\mathbf{B}^{-1} + \\mathbf{V}^T \\mathbf{A}^{-1} \\mathbf{U})^{-1} \\mathbf{V}^T \\mathbf{A}^{-1} + \\mathbf{U} \\mathbf{B} \\mathbf{V}^T\\mathbf{A^{-1}} - \\mathbf{U} \\mathbf{B} \\mathbf{V}^T\\mathbf{A}^{-1} \\mathbf{U} (\\mathbf{B}^{-1} + \\mathbf{V}^T \\mathbf{A}^{-1} \\mathbf{U})^{-1} \\mathbf{V}^T \\mathbf{A}^{-1} $$\n",
    "<br>\n",
    "\n",
    ">Re-arranging the second and third term on the right hand side we get:\n",
    "\n",
    "$$\\mathbf{I} = \\mathbf{I} + \\mathbf{U} \\mathbf{B} \\mathbf{V}^T\\mathbf{A^{-1}} - \\mathbf{U} (\\mathbf{B}^{-1} + \\mathbf{V}^T \\mathbf{A}^{-1} \\mathbf{U})^{-1} \\mathbf{V}^T \\mathbf{A}^{-1}  - \\mathbf{U} \\mathbf{B} \\mathbf{V}^T\\mathbf{A}^{-1} \\mathbf{U} (\\mathbf{B}^{-1} + \\mathbf{V}^T \\mathbf{A}^{-1} \\mathbf{U})^{-1} \\mathbf{V}^T \\mathbf{A}^{-1}$$\n",
    "<br>\n",
    "\n",
    ">We then factor out the $$(\\mathbf{B^{-1}}+\\mathbf{V^{T}}\\mathbf{A^{-1}}\\mathbf{U})^{-1}$$ on right hand side to get:\n",
    "\n",
    "$$\\mathbf{I} = \\mathbf{I} + \\mathbf{U} \\mathbf{B} \\mathbf{{V}^T}\\mathbf{A^{-1}} - (\\mathbf{U} + \\mathbf{UBV^{T}A^{-1}U})  (\\mathbf{B^{-1}}+\\mathbf{V^{T}}\\mathbf{A^{-1}}\\mathbf{U})^{-1}\\mathbf{V^{T}A^{-1}}$$\n",
    "<br>\n",
    "\n",
    "\n",
    "> We then factor out a $\\mathbf{B}$ on right hand side to get:\n",
    "\n",
    "$$\\mathbf{I} = \\mathbf{I} + \\mathbf{U} \\mathbf{B} \\mathbf{{V}^T}\\mathbf{A^{-1}} - \\mathbf{UB}(\\mathbf{B^{-1}} + \\mathbf{V^{T}A^{-1}U})  (\\mathbf{B^{-1}}+\\mathbf{V^{T}}\\mathbf{A^{-1}}\\mathbf{U})^{-1}\\mathbf{V^{T}A^{-1}}$$\n",
    "<br>\n",
    "\n",
    "> We note that $$(\\mathbf{B^{-1}} + \\mathbf{V^{T}A^{-1}U})(\\mathbf{B^{-1}}+\\mathbf{V^{T}}\\mathbf{A^{-1}}\\mathbf{U})^{-1} = I,$$ thus simplifying we get the right hand side, we get: \n",
    "\n",
    "$$\\mathbf{I} = \\mathbf{I} + \\mathbf{U} \\mathbf{B} \\mathbf{{V}^T}\\mathbf{A^{-1}} - \\mathbf{U} \\mathbf{B} \\mathbf{{V}^T}\\mathbf{A^{-1}}$$\n",
    "<br>\n",
    "\n",
    ">Simplifying we get that the second and third term on the right hand side cancel. Finally we arrive at the Identity matrix on the right hand side of the equation, same as the left, proving the Binomial Inversion Formula.\n",
    "$$\\mathbf{I} = \\mathbf{I}$$"
   ]
  },
  {
   "cell_type": "markdown",
   "metadata": {},
   "source": [
    "## Q6.4 Solution:\n",
    "Since we know if $\\mathbf{A} = \\mathbf{(B)(C)}$ then det($\\mathbf{A}) = det(\\mathbf{B})det(\\mathbf{C})$, to prove that $$\\text{det}(\\mathbf{A} + \\mathbf{U} \\mathbf{V}^T) = \\text{det}(\\mathbf{A}) \\text{det}(\\mathbf{I}_m + \\mathbf{V}^T \\mathbf{A}^{-1} \\mathbf{U}),$$ we show that the two matrices on the right hand side multiply to the matrix on the left hand side below:"
   ]
  },
  {
   "cell_type": "markdown",
   "metadata": {},
   "source": [
    "<br>\n",
    "$\\left[ \\begin{array}{cc}\n",
    "\\mathbf{A} & -\\mathbf{U} \\\\\n",
    "\\mathbf{V^{T}} & \\mathbf{I}  \\\\ \\end{array} \\right]$ = $\\left[ \\begin{array}{cc}\n",
    "\\mathbf{A} & \\mathbf{0} \\\\\n",
    "\\mathbf{V^{T}} & \\mathbf{I}  \\\\ \\end{array} \\right]$\n",
    "$\\left[ \\begin{array}{cc}\n",
    "\\mathbf{I} & \\mathbf{-A^{-1}U} \\\\\n",
    "\\mathbf{0} & \\mathbf{I}+\\mathbf{V^{T}A^{-1}U}  \\\\ \\end{array} \\right]$\n",
    "<br>\n",
    "\n",
    "Now that we have established the left and right hand side of the equation are the same, we take the determinants of both sides and get:\n",
    "\n",
    "The determinant of the left hand side of the equation is: det($\\mathbf{A + UV^{T}})$ and for the right hand side of the equation it is: $det(\\mathbf{A})det(\n",
    "\\mathbf{I} + \\mathbf{V^{T}A^{-1}U})$\n",
    "\n",
    "<br>\n",
    "Finally, we arrive at the conclusion $$\\text{det}(\\mathbf{A} + \\mathbf{U} \\mathbf{V}^T) = \\text{det}(\\mathbf{A}) \\text{det}(\\mathbf{I}_m + \\mathbf{V}^T \\mathbf{A}^{-1} \\mathbf{U})$$"
   ]
  }
 ],
 "metadata": {
  "kernelspec": {
   "display_name": "Julia 0.6.2",
   "language": "julia",
   "name": "julia-0.6"
  },
  "language_info": {
   "file_extension": ".jl",
   "mimetype": "application/julia",
   "name": "julia",
   "version": "0.6.2"
  },
  "toc": {
   "colors": {
    "hover_highlight": "#DAA520",
    "running_highlight": "#FF0000",
    "selected_highlight": "#FFD700"
   },
   "moveMenuLeft": true,
   "nav_menu": {
    "height": "153px",
    "width": "252px"
   },
   "navigate_menu": true,
   "number_sections": false,
   "sideBar": true,
   "threshold": 4,
   "toc_cell": false,
   "toc_section_display": "block",
   "toc_window_display": true,
   "widenNotebook": false
  }
 },
 "nbformat": 4,
 "nbformat_minor": 2
}
