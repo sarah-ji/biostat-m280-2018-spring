{
 "cells": [
  {
   "cell_type": "markdown",
   "metadata": {},
   "source": [
    "# Biostat M280 Homework 4\n",
    "Sarah Ji\n",
    "\n",
    "**Due June 12 @ 11:59PM**"
   ]
  },
  {
   "cell_type": "markdown",
   "metadata": {},
   "source": [
    "In this homework, we build a classifer for handwritten digit recognition. Following figure shows example bitmaps of handwritten digits from U.S. postal envelopes. \n",
    "\n",
    "Each digit is represented by a $32 \\times 32$ bitmap in which each element indicates one pixel with a value of white or black. Each $32 \\times 32$ bitmap is divided into blocks of $4 \\times 4$, and the number of white pixels are counted in each block. Therefore each handwritten digit is summarized by a vector $\\mathbf{x} = (x_1, \\ldots, x_{64})$ of length 64 where each element is a count between 0 and 16. \n",
    "\n",
    "We will use a model-based method by assuming a distribution on the count vector and carry out classification using probabilities. A common distribution for count vectors is the multinomial distribution. However as you will see in Q10, it is not a good model for handwritten digits. Let's work on a more flexible model for count vectors. In the Dirichlet-multinomial model, we assume the multinomial probabilities $\\mathbf{p} = (p_1,\\ldots, p_d)$ follow a Dirichlet distribution with parameter vector $\\alpha = (\\alpha_1,\\ldots, \\alpha_d)$, $\\alpha_j>0$, and density\n",
    "$$\n",
    "\\begin{eqnarray*}\n",
    "\t\\pi(\\mathbf{p}) =  \\frac{\\Gamma(|\\alpha|)}{\\prod_{j=1}^d \\Gamma(\\alpha_j)} \\prod_{j=1}^d p_j^{\\alpha_j-1},\n",
    "\\end{eqnarray*} \n",
    "$$\n",
    "where $|\\alpha|=\\sum_{j=1}^d \\alpha_j$."
   ]
  },
  {
   "cell_type": "markdown",
   "metadata": {},
   "source": [
    "## Q1\n",
    "\n",
    "For a multivariate count vector $\\mathbf{x}=(x_1,\\ldots,x_d)$ with batch size $|\\mathbf{x}|=\\sum_{j=1}^d x_j$, show that the probability mass function for Dirichlet-multinomial distribution is\n",
    "$$\n",
    "    f(\\mathbf{x} \\mid \\alpha) \n",
    "\t= \\int_{\\Delta_d} \\binom{|\\mathbf{x}|}{\\mathbf{x}} \\prod_{j=1}^d p_j^{x_j} \\pi(\\mathbf{p}) \\, d \\mathbf{p}  \n",
    "    = \\binom{|\\mathbf{x}|}{\\mathbf{x}} \\frac{\\prod_{j=1}^d \\Gamma(\\alpha_j+x_j)}{\\prod_{j=1}^d \\Gamma(\\alpha_j)} \\frac{\\Gamma(|\\alpha|)}{\\Gamma(|\\alpha|+|\\mathbf{x}|)}\n",
    "$$\n",
    "where $\\Delta_d$ is the unit simplex in $d$ dimensions and $|\\alpha| = \\sum_{j=1}^d \\alpha_j$.\n"
   ]
  },
  {
   "cell_type": "markdown",
   "metadata": {},
   "source": [
    "## Q1 Solution: \n",
    " \n",
    ">First we should plug in the pi(p) formula in the f(x) formula and then combine like terms.\n",
    "\n",
    " $$\n",
    "\\int_{\\Delta_d} \\binom{|\\mathbf{x}|}{\\mathbf{x}} \\prod_{j=1}^d p_j^{x_j} \\pi(\\mathbf{p}) \\, d \\mathbf{p} \n",
    "= \\int_{\\Delta_d}\\binom{|\\mathbf{x}|}{\\mathbf{x}} \\prod_{j=1}^d p_j^{x_j}\\frac{\\Gamma(|\\alpha|)}{\\prod_{j=1}^d \\Gamma(\\alpha_j)} \\prod_{j=1}^d p_j^{\\alpha_j-1}d \\mathbf{p}\n",
    "$$\n",
    " \n",
    ">Then we can use the kernel trick to integrate the first pdf to 1 and change the coefficients accordingly.\n",
    " \n",
    "\n",
    "$$\n",
    "=\\binom{|\\mathbf{x}|}{\\mathbf{x}}\\frac{\\Gamma(|\\alpha|)}{\\prod_{j=1}^d \\Gamma(\\alpha_j)} \\int_{\\Delta_d} \\prod_{j=1}^d p_j^{x_j + {\\alpha_j-1}} d\\mathbf{p}\n",
    "$$\n",
    "$$\n",
    "=\\binom{|\\mathbf{x}|}{\\mathbf{x}}\\frac{\\Gamma(|\\alpha|)}{\\prod_{j=1}^d \\Gamma(\\alpha_j)} \\int_{\\Delta_d} \\prod_{j=1}^d p_j^{x_j + {\\alpha_j-1}} \\frac{\\prod_{j=1}^d \\Gamma(\\alpha_j+x_j)}{\\prod_{j=1}^d \\Gamma(\\alpha_j+x_j)}\\frac{\\Gamma(|\\alpha|+|\\mathbf{x}|)}{\\Gamma(|\\alpha|+|\\mathbf{x}|)}d\\mathbf{p}\n",
    "$$\n",
    "\n",
    "$$\n",
    "=\\binom{|\\mathbf{x}|}{\\mathbf{x}}\\frac{\\Gamma(|\\alpha|)}{\\prod_{j=1}^d \\Gamma(\\alpha_j)} \\frac{\\prod_{j=1}^d \\Gamma(\\alpha_j+x_j)}{\\Gamma(|\\alpha|+|\\mathbf{x}|)}\\int_{\\Delta_d} \\prod_{j=1}^d p_j^{x_j + {\\alpha_j-1}} \\frac{\\prod_{j=1}^d \\Gamma(\\alpha_j+x_j)}{\\Gamma(|\\alpha|+|\\mathbf{x}|)}d\\mathbf{p}\n",
    "$$\n",
    "\n",
    "> Note this is a density of a Dirchlet pdf and so the integral evalutes to 1, giving us: \n",
    "\n",
    "$$\n",
    "=\\binom{|\\mathbf{x}|}{\\mathbf{x}}\\frac{\\Gamma(|\\alpha|)}{\\prod_{j=1}^d \\Gamma(\\alpha_j)} \\frac{\\prod_{j=1}^d \\Gamma(\\alpha_j+x_j)}{\\Gamma(|\\alpha|+|\\mathbf{x}|)} 1\n",
    "$$\n",
    "$$\n",
    "=\\binom{|\\mathbf{x}|}{\\mathbf{x}} \\frac{\\prod_{j=1}^d \\Gamma(\\alpha_j+x_j)}{\\prod_{j=1}^d \\Gamma(\\alpha_j)} \\frac{\\Gamma(|\\alpha|)}{\\Gamma(|\\alpha|+|\\mathbf{x}|)}\n",
    "$$\n",
    "\n",
    "$$\n",
    "= f(\\mathbf{x} \\mid \\alpha)\n",
    "$$"
   ]
  },
  {
   "cell_type": "markdown",
   "metadata": {},
   "source": [
    "## Q2\n",
    "\n",
    "Given independent data points $\\mathbf{x}_1, \\ldots, \\mathbf{x}_n$, show that the log-likelihood is\n",
    "$$\n",
    "L(\\alpha) = \\sum_{i=1}^n \\ln \\binom{|\\mathbf{x}_i|}{\\mathbf{x}_i} + \\sum_{i=1}^n \\sum_{j=1}^d [\\ln \\Gamma(\\alpha_j + x_{ij}) - \\ln \\Gamma(\\alpha_j)] - \\sum_{i=1}^n [\\ln \\Gamma(|\\alpha|+|\\mathbf{x}_i|) - \\ln \\Gamma(|\\alpha|)].\n",
    "$$\n",
    "Is the log-likelihood a concave function?"
   ]
  },
  {
   "cell_type": "markdown",
   "metadata": {},
   "source": [
    "## Q2 Solution:\n",
    "\n",
    "The log likelihood is neither a concave function nor a convex function. Tricky, tricky!"
   ]
  },
  {
   "cell_type": "markdown",
   "metadata": {},
   "source": [
    "## Q3\n",
    "\n",
    "Write Julia function to compute the log-density of the Dirichlet-multinomial distribution."
   ]
  },
  {
   "cell_type": "markdown",
   "metadata": {},
   "source": [
    "## Q3 Solution:\n",
    "\n",
    "Below, I have written a Julia function to compute the log probability density function of the Dirichlet-Multinomial Distribution."
   ]
  },
  {
   "cell_type": "code",
   "execution_count": 1,
   "metadata": {},
   "outputs": [
    {
     "data": {
      "text/plain": [
       "dirmult_logpdf"
      ]
     },
     "execution_count": 1,
     "metadata": {},
     "output_type": "execute_result"
    }
   ],
   "source": [
    "using SpecialFunctions\n",
    "\"\"\"\n",
    "    dirmult_logpdf(x::Vector, α::Vector)\n",
    "    \n",
    "Compute the log-pdf of Dirichlet-multinomial distribution with parameter `α` \n",
    "at data point `x`.\n",
    "\"\"\"\n",
    "function dirmult_logpdf(x::Vector, α::Vector)\n",
    "    term1 = 0.0\n",
    "    Logpdf = 0.0\n",
    "    sumalpha = sum(α)\n",
    "    sumx = sum(x)\n",
    "    for i in 1:length(x)\n",
    "        if α[i] == 0 && x[i] == 0 # we have to hard code these values\n",
    "            Logpdf += 0\n",
    "        elseif α[i] == 0 && x[i] > 0\n",
    "            Logpdf += - Inf # we have to hard code these values\n",
    "        else\n",
    "        term1 += lgamma(α[i] + x[i]) - lgamma(α[i]) - lfact(x[i])\n",
    "        Logpdf = term1 + lfact(sumx) + lgamma(sumalpha) - lgamma(sumx + sumalpha)\n",
    "    end\n",
    "    end\n",
    "    return Logpdf\n",
    "end\n",
    "\n",
    "function dirmult_logpdf!(r::Vector, X::Matrix, α::Vector)\n",
    "    for j in 1:size(X, 2)\n",
    "        r[j] = dirmult_logpdf(X[:, j], α)\n",
    "    end\n",
    "    return r\n",
    "end\n",
    "\n",
    "\"\"\"\n",
    "    dirmult_logpdf(X, α)\n",
    "    \n",
    "Compute the log-pdf of Dirichlet-multinomial distribution with parameter `α` \n",
    "at each data point in `X`. Each column of `X` is one data point.\n",
    "\"\"\"\n",
    "function dirmult_logpdf(X::Matrix, α::Vector)\n",
    "    r = zeros(size(X, 2))\n",
    "    dirmult_logpdf!(r, X, α)\n",
    "end"
   ]
  },
  {
   "cell_type": "markdown",
   "metadata": {},
   "source": [
    "## Q4\n",
    "\n",
    "Read in `optdigits.tra`, the training set of 3823 handwritten digits. Each row contains the 64 counts of a digit and the last element (65th element) indicates what digit it is. For grading purpose, evaluate the total log-likelihood of this data at parameter values $\\alpha=(1,\\ldots,1)$ using your function in Q3."
   ]
  },
  {
   "cell_type": "markdown",
   "metadata": {},
   "source": [
    "## Q4 Solution:"
   ]
  },
  {
   "cell_type": "code",
   "execution_count": 66,
   "metadata": {},
   "outputs": [
    {
     "data": {
      "text/plain": [
       "3823×64 Array{Int64,2}:\n",
       " 0  1   6  15  12   1   0  0  0  7  16  …   0  0  0  0   6  14   7   1   0  0\n",
       " 0  0  10  16   6   0   0  0  0  7  16      3  0  0  0  10  16  15   3   0  0\n",
       " 0  0   8  15  16  13   0  0  0  1  11      0  0  0  0   9  14   0   0   0  0\n",
       " 0  0   0   3  11  16   0  0  0  0   5      0  0  0  0   0   1  15   2   0  0\n",
       " 0  0   5  14   4   0   0  0  0  0  13     12  0  0  0   4  12  14   7   0  0\n",
       " 0  0  11  16  10   1   0  0  0  4  16  …   8  3  0  0  10  16  16  16  16  6\n",
       " 0  0   1  11  13  11   7  0  0  0   9      0  0  0  0   1  13   5   0   0  0\n",
       " 0  0   8  10   8   7   2  0  0  1  15      0  0  0  0   4  13   8   0   0  0\n",
       " 0  0  15   2  14  13   2  0  0  0  16      0  0  0  0  10  12   5   0   0  0\n",
       " 0  0   3  13  13   2   0  0  0  6  16     12  0  0  0   3  15  11   6   0  0\n",
       " 0  0   6  14  14  16  16  8  0  0   7  …   0  0  0  0  10  12   0   0   0  0\n",
       " 0  0   0   3  16  11   1  0  0  0   0      0  0  0  0   0   2  14  14   1  0\n",
       " 0  0   0   4  13  16  16  3  0  0   8      0  0  0  0   0   5  15   4   0  0\n",
       " ⋮                  ⋮                ⋮  ⋱      ⋮                 ⋮           \n",
       " 0  0   0   0   7  11   1  0  0  0   0      0  0  0  0   2   0   7  11   0  0\n",
       " 0  0   0   6  13   0   0  0  0  0   3      0  0  0  0   0   6   9   0   0  0\n",
       " 0  0   0   6   8   0   0  0  0  0   2      0  0  0  1   4   9   8   0   0  0\n",
       " 0  0   9  16   6   0   0  0  0  2  14      0  0  0  0  10  13   1   0   0  0\n",
       " 0  0   9  16  12   1   0  0  0  3  16  …  16  0  0  0   8  16  16  16   8  0\n",
       " 0  1  10  16  16   4   0  0  0  8  13      5  0  0  2  13  16  12   5   0  0\n",
       " 0  0   6  16  11   0   0  0  0  1  16      4  0  0  1   7  14  16  12   1  0\n",
       " 0  0   5  13  11   2   0  0  0  2  15     10  0  0  0   8  13  15  10   1  0\n",
       " 0  0   0   1  12   1   0  0  0  0   0      0  0  0  0   0   4   9   0   0  0\n",
       " 0  0   3  15   0   0   0  0  0  0  11  …   4  0  0  0   4  14  16   9   0  0\n",
       " 0  0   6  16   2   0   0  0  0  0  15     15  0  0  0   5  16  16  16   5  0\n",
       " 0  0   2  15  16  13   1  0  0  0   3      0  0  0  0   4  14   1   0   0  0"
      ]
     },
     "execution_count": 66,
     "metadata": {},
     "output_type": "execute_result"
    }
   ],
   "source": [
    "traindata = readcsv(\"optdigits.tra\", Int)\n",
    "X = copy(traindata[:, 1:64])"
   ]
  },
  {
   "cell_type": "markdown",
   "metadata": {},
   "source": [
    "Here is the actual digit of the training set, stored in the 65th column of the training set."
   ]
  },
  {
   "cell_type": "code",
   "execution_count": 67,
   "metadata": {},
   "outputs": [
    {
     "data": {
      "text/plain": [
       "3823-element Array{Int64,1}:\n",
       " 0\n",
       " 0\n",
       " 7\n",
       " 4\n",
       " 6\n",
       " 2\n",
       " 5\n",
       " 5\n",
       " 0\n",
       " 8\n",
       " 7\n",
       " 1\n",
       " 9\n",
       " ⋮\n",
       " 1\n",
       " 4\n",
       " 4\n",
       " 8\n",
       " 9\n",
       " 3\n",
       " 9\n",
       " 9\n",
       " 4\n",
       " 6\n",
       " 6\n",
       " 7"
      ]
     },
     "execution_count": 67,
     "metadata": {},
     "output_type": "execute_result"
    }
   ],
   "source": [
    "digit = traindata[:, end]\n",
    "digit"
   ]
  },
  {
   "cell_type": "markdown",
   "metadata": {},
   "source": [
    "This computes the logpdf of each of the rows of X (each observation)."
   ]
  },
  {
   "cell_type": "code",
   "execution_count": 4,
   "metadata": {},
   "outputs": [
    {
     "data": {
      "text/plain": [
       "3823-element Array{Float64,1}:\n",
       " -165.188\n",
       " -176.23 \n",
       " -167.774\n",
       " -165.564\n",
       " -157.79 \n",
       " -176.071\n",
       " -158.423\n",
       " -159.258\n",
       " -174.302\n",
       " -178.407\n",
       " -171.294\n",
       " -169.383\n",
       " -175.753\n",
       "    ⋮    \n",
       " -160.49 \n",
       " -158.633\n",
       " -156.935\n",
       " -171.975\n",
       " -177.638\n",
       " -169.735\n",
       " -158.423\n",
       " -159.465\n",
       " -159.877\n",
       " -169.735\n",
       " -173.149\n",
       " -155.411"
      ]
     },
     "execution_count": 4,
     "metadata": {},
     "output_type": "execute_result"
    }
   ],
   "source": [
    "eachlogpdf = dirmult_logpdf(X', ones(64))"
   ]
  },
  {
   "cell_type": "markdown",
   "metadata": {},
   "source": [
    "Note that each observation is independent, so the overall log likelihood is the sum of each of the log pdf's in the `eachlogpdf` vector above."
   ]
  },
  {
   "cell_type": "code",
   "execution_count": 5,
   "metadata": {},
   "outputs": [
    {
     "data": {
      "text/plain": [
       "-638817.993292528"
      ]
     },
     "execution_count": 5,
     "metadata": {},
     "output_type": "execute_result"
    }
   ],
   "source": [
    "Log_Likelihood = sum(eachlogpdf)"
   ]
  },
  {
   "cell_type": "markdown",
   "metadata": {},
   "source": [
    "## Q5\n",
    "\n",
    "Derive the score function $\\nabla L(\\alpha)$, observed information matrix $-d^2L(\\alpha)$, and Fisher information matrix $\\mathbf{E}[-d^2L(\\alpha)]$ for the Dirichlet-multinomial distribution.\n",
    "\n",
    "Comment on why Fisher scoring method is inefficient for computing MLE in this example."
   ]
  },
  {
   "cell_type": "markdown",
   "metadata": {},
   "source": [
    "## Q5 Solution:\n",
    "\n",
    ">Let $\\psi(x) = \\frac{d}{dx}[ \\ln \\Gamma(x)]$ be the digamma function of x.\n",
    "Let $\\psi_1(x) = \\frac{d}{dx}[\\psi(x)]$ be the trigamma function of x.\n",
    "\n",
    ">The Score function, $\\nabla L(\\alpha) = \\frac{d}{d\\alpha_j}L(\\alpha) = 0 + \\sum_{i=1}^n[\\psi(\\alpha_j + x_{ij}) - \\psi(\\alpha_j)] - \\sum_{i=1}^n[\\psi(|\\alpha| + |x_i|) - \\psi(|\\alpha|)]$\n",
    "\n",
    "\n",
    ">The observed information matrix $-d^2L(\\alpha)$ has different forms on the diagonals and on the off diagonals.\n",
    "<br>\n",
    ">On the diagonals (where i = j):\n",
    "$$-\\cfrac{\\partial^2}{\\partial\\alpha_i\\alpha_j}L(\\alpha) = \\sum_{i=1}^n[\\psi_1(\\alpha_j) - \\psi_1(\\alpha_j + x_{ij})] - \\sum_{i=1}^n[\\psi_1(|\\alpha|) - \\psi_1(|\\alpha| + |x_i|)]$$\n",
    "<br>\n",
    "\n",
    "\n",
    ">On the off diagonals (where i $\\ne$ j)\n",
    "$$-\\cfrac{\\partial^2}{\\partial\\alpha_i\\alpha_j}L(\\alpha) = - \\sum_{i=1}^n[\\psi_1(|\\alpha|) - \\psi_1(|\\alpha| + |x_i|)]$$\n",
    "\n",
    ">Now we can see that the observed information matrix has a special structure of a diagonal plus an easy low-rank matrix which is rank 1.\n",
    "$$\n",
    "-\\cfrac{\\partial^2}{\\partial\\alpha_i\\alpha_j}L(\\alpha) = \\mathbf{D} - c\\mathbf{1}\\mathbf{1}^T\n",
    "$$\n",
    "\n",
    "$$\n",
    "d_j = \\sum_{i=1}^n\\Big[\\psi_1(\\alpha_j) - \\psi_1(\\alpha_j + x_{ij})\\Big]\n",
    "$$\n",
    "\n",
    "$$\n",
    "c = \\sum_{i=1}^n\\Big[\\psi_1(|\\alpha|) - \\psi_1(|\\alpha| + |x_i|) \\Big]\n",
    "$$\n",
    "\n",
    "<br>\n",
    ">The Fisher information matrix $\\mathbf{E}[-d^2L(\\alpha)]$ is difficult to compute, which highlights why Fisher scoring method is inefficient for computing MLE in this example. \n",
    "\n",
    "$$\n",
    "-E\\Big[\\cfrac{\\partial^2}{\\partial\\alpha_i\\alpha_j}L(\\alpha) \\Big] = E[\\mathbf{D} - c\\mathbf{1}\\mathbf{1}^T]\n",
    "$$\n",
    "\n",
    "$$\n",
    "E[d_j] = \\sum_{i = 1}^n\\sum_{k=0}^{|x_i|-1}\\frac{P(X_{ij} > k)}{(\\alpha_j + k)^2}\n",
    "$$\n",
    "\n",
    "Where $X_{ij}$ is the $j^{th}$ element of the $i^{th}$ observation of $X$, so it is a beta binomial distribution\n",
    "and you have to evaluate the beta binomial distribution percentile function to get the tail probabilities for each observation.\n",
    "\n",
    "Since finding the expected Fisher Information is difficult, it is much easier to ensure positive definiteness by tweaking specific entries of the observed information matrix."
   ]
  },
  {
   "cell_type": "markdown",
   "metadata": {},
   "source": [
    "## Q6\n",
    "\n",
    "What structure does the observed information matrix possess that can facilitate the evaluation of the Newton direction? Is the observed information matrix always positive definite? What remedy can we take if it fails to be positive definite? (Hint: HW1 Q6.)"
   ]
  },
  {
   "cell_type": "markdown",
   "metadata": {},
   "source": [
    "## Q6 Solution:\n",
    "\n",
    "No, the observed information matrix is not always positive definite. Some remedies we can make to it involve taking the expectation, resulting in swapping out the observed information matrix for the expected information matrix (Fisher Scoring). However, this remedy may not be the best case in this scenario, as taking expectation of the observed information matrix may be difficult. Thus, we use the Sherman Morrison formula from HW 1 to use the special structure of the observed information matrix, a diagonal plus a rank one update. \n",
    "\n",
    ">The observed information matrix has a special structure, a diagonal matrix plus a low rank matrix so we can use the Woodbury formula for the evaluation of the Newton direction. \n",
    "\n",
    ">In the case where the matrix fails to be positive definite, we make it become positive definite by manually tweaking the values.\n",
    "\n",
    ">From the Sherman-Morrison formula and the determinant formula from HW1:\n",
    "\n",
    "$$\n",
    "det(\\mathbf{D} - c\\mathbf{1}\\mathbf{1}^T) = det(\\mathbf{D})det(\\mathbf{I} + c\\mathbf{1}^T\\mathbf{D}^{-1}\\mathbf{1})\n",
    "$$\n",
    "\n",
    "$$\n",
    "= (\\prod_{i = 1}^d d_j)(1 - c \\sum^d_{j=1}d_j^{-1})\n",
    "$$\n",
    "> In order to have a positive definite matrix, the diagonals and the determinant must be positive! So we check that:\n",
    "$(1 - c \\sum^d_{j=1}d_j^{-1}) > 0$\n",
    "\n",
    "\n",
    "$$\n",
    "1 > c\\sum^d_{j=1}d_j^{-1} \\implies c < \\cfrac{1}{\\sum^d_{j=1}d_j^{-1}}\n",
    "$$\n",
    "\n",
    "\n",
    ">We find that the observed information matrix is positive definite when $c < \\cfrac{1}{\\sum_{i = 1}^d d_j^{-1}}$."
   ]
  },
  {
   "cell_type": "markdown",
   "metadata": {},
   "source": [
    "## Q7\n",
    "\n",
    "Discuss how to choose a good starting point. Implement this as the default starting value in your function below. (Hint: Method of moment estimator may furnish a good starting point.)"
   ]
  },
  {
   "cell_type": "markdown",
   "metadata": {},
   "source": [
    "## Q7 Solution:\n",
    "\n",
    "If we start with a smart estimate of $ \\alpha$ then the algorithms will converge much faster! So we can take the Method of Moments estimate to initialize the values of alpha. Let $\\mathbf{p} = (p_1,\\ldots, p_d)$ follow a Dirichlet distribution with parameter vector $\\alpha = (\\alpha_1,\\ldots, \\alpha_d)$, $\\alpha_j>0$. Then, we can begin by noting the first and second moments of this distribution. \n",
    "\n",
    ">The first moment of the Dirichlet Distribution is:\n",
    "$$E[P_j] = \\frac{\\alpha_j}{|\\alpha|}, 1 \\le j \\le d$$\n",
    "<br>\n",
    "\n",
    ">The second moment of the Dirichlet Distribution is:\n",
    "$$E[P_j^2] = \\frac{\\alpha_j(\\alpha_j + 1)}{|\\alpha|(|\\alpha| + 1)}, 1 \\le j \\le d$$\n",
    "<br>\n",
    "\n",
    "Since we know $E[P_j] = \\frac{\\alpha_j}{|\\alpha|}, 1 \\le j \\le d,$ we know that $\\alpha_j = E[P_j]*|\\alpha|.$ Now we will use these two moments to first find the value of $\\hat|\\alpha|$ to find a good estimate for the starting value $\\hat\\alpha_j$\n",
    "<br>\n",
    "\n",
    ">Let $Z = \\sum_{j=1}^d \\frac{E[P_j^2]}{E[P_j]},$ then we have:\n",
    "\n",
    "$$Z = \\sum_{j = 1}^d \\cfrac{E(p_j^2)}{E(p_j)} = \\sum_{j = 1}^d \\cfrac{\\frac{\\alpha_j(\\alpha_j + 1)}{|\\alpha|(|\\alpha|+ 1)}}{\\frac{\\alpha_j}{|\\alpha|}} = \\sum_{j=1}^d \\frac{\\alpha_j + 1}{|\\alpha| + 1} = \\frac{|\\alpha| + \\sum_{j=1}^d 1}{|\\alpha| + 1} =  \\cfrac{|\\alpha| + d}{|\\alpha| + 1}$$\n",
    "<br>\n",
    ">Now we want to solve for $|\\alpha|$:\n",
    "<br>\n",
    "$$ Z(|\\alpha| + 1) = |\\alpha| + d$$\n",
    "<br>\n",
    "$$Z|\\alpha| + Z = |\\alpha| + d$$\n",
    "<br>\n",
    "$$Z|\\alpha| - |\\alpha| = d - Z$$\n",
    "<br>\n",
    "$$|\\alpha|(Z - 1) = d - Z$$\n",
    "<br>\n",
    "$$|\\alpha| = \\frac{d - Z}{Z - 1}$$\n",
    "<br>\n",
    "\n",
    "> Recall that we are estimating Z by $\\hat{Z}$:\n",
    "\n",
    "$$\\hat{Z} = \\sum_{j=1}^d\\cfrac{{(\\sum_i^n\\frac{x_{ij}}{|x_i|}})^2}{(\\sum_i^n\\frac{x_{ij}}{|x_i|})}$$\n",
    "<br>\n",
    "\n",
    ">Now we can estimate $\\hat{|\\alpha|}$ using the estimates for $\\hat{Z}$:\n",
    "<br>\n",
    "\n",
    "$$\\hat{|\\alpha|} = \\frac{d - \\hat{Z}}{\\hat{Z} - 1}\n",
    "$$\n",
    "<br>\n",
    "\n",
    "$$ = \\frac{d - \\sum_{j=1}^d\\cfrac{{(\\sum_i^n\\frac{x_{ij}}{|x_i|}})^2}{(\\sum_i^n\\frac{x_{ij}}{|x_i|})}}{\\sum_{j=1}^d\\cfrac{{(\\sum_i^n\\frac{x_{ij}}{|x_i|}})^2}{(\\sum_i^n\\frac{x_{ij}}{|x_i|})} - 1}\n",
    "$$\n",
    "<br>\n",
    "\n",
    ">Now we recall that $E[P_j] = \\frac{\\alpha_j}{|\\alpha|}, 1 \\le j \\le d,$ which means $\\alpha_j = E[P_j]*|\\alpha|.$ Using our method of moments estimate of $\\hat{|\\alpha|}$, we get:\n",
    "\n",
    "$$\\hat{\\alpha_j} = E[P_j]*\\hat{|\\alpha|}\n",
    "$$\n",
    "<br>\n",
    "$$ = \\frac{(\\sum_i^n\\frac{x_{ij}}{|x_i|})}{n}*\\hat{|\\alpha|}\n",
    "$$\n",
    "<br>\n",
    "$$ = \\frac{(\\sum_i^n\\frac{x_{ij}}{|x_i|})}{n}*\\frac{d - \\sum_{j=1}^d\\cfrac{{(\\sum_i^n\\frac{x_{ij}}{|x_i|}})^2}{(\\sum_i^n\\frac{x_{ij}}{|x_i|})}}{\\sum_{j=1}^d\\cfrac{{(\\sum_i^n\\frac{x_{ij}}{|x_i|}})^2}{(\\sum_i^n\\frac{x_{ij}}{|x_i|})} - 1}\n",
    "$$\n",
    "\n",
    "Now we will implement this into Julia code, and find the Method of Moments estimator for the initial values of alpha in the function `initial_alpha` below."
   ]
  },
  {
   "cell_type": "code",
   "execution_count": 7,
   "metadata": {},
   "outputs": [
    {
     "data": {
      "text/plain": [
       "64-element Array{Float64,1}:\n",
       " 0.0        \n",
       " 0.0714198  \n",
       " 1.30543    \n",
       " 2.83281    \n",
       " 2.75176    \n",
       " 1.32356    \n",
       " 0.336655   \n",
       " 0.0343316  \n",
       " 0.000461199\n",
       " 0.463798   \n",
       " 2.52787    \n",
       " 2.8072     \n",
       " 2.53299    \n",
       " ⋮          \n",
       " 2.33097    \n",
       " 2.20214    \n",
       " 0.894695   \n",
       " 0.0353529  \n",
       " 5.71236e-5 \n",
       " 0.066766   \n",
       " 1.39754    \n",
       " 2.8661     \n",
       " 2.744      \n",
       " 1.59808    \n",
       " 0.506003   \n",
       " 0.0475158  "
      ]
     },
     "execution_count": 7,
     "metadata": {},
     "output_type": "execute_result"
    }
   ],
   "source": [
    "## code for finding initial alpha\n",
    "function initial_alpha(X::Matrix{Int})\n",
    "    n, d = size(X)\n",
    "    alpha_0 = zeros(d)#creates 64x1 matrix\n",
    "    tolerance = 0.00001\n",
    "    Z_hat = 0\n",
    "    Z_numerator = 0\n",
    "    sum_Xcol = sum(X, 1)\n",
    "    sum_Xrow = sum(X, 2)\n",
    "    \n",
    "    for j in 1:d\n",
    "        Z_numerator = 0 #reset each value\n",
    "        if sum_Xcol[j] < tolerance #check to see if there is data in the column\n",
    "            continue\n",
    "        end\n",
    "        \n",
    "        for i in 1:n #for each column\n",
    "            Z_numerator += (X[i, j] / sum_Xrow[i])^2\n",
    "            alpha_0[j] += (X[i, j] / sum_Xrow[i])\n",
    "        end\n",
    "        \n",
    "        Z_hat += (Z_numerator / alpha_0[j]) #calculating Zhat\n",
    "        alpha_0[j] /= n #divide by n in front of the sigma\n",
    "\n",
    "    end\n",
    "    alpha_0 *= ((d - Z_hat) / (Z_hat - 1))\n",
    "    return alpha_0\n",
    "end\n",
    "\n",
    "alpha_0 = initial_alpha(X)"
   ]
  },
  {
   "cell_type": "markdown",
   "metadata": {},
   "source": [
    "## Q8\n",
    "\n",
    "Write a function for finding MLE of Dirichlet-multinomial distribution given iid observations $\\mathbf{x}_1,\\ldots,\\mathbf{x}_n$, using the Newton's method. "
   ]
  },
  {
   "cell_type": "markdown",
   "metadata": {},
   "source": [
    "## Q8 Solution:\n",
    "\n",
    "Below, I wrote a function, `dirmult_newton(X)`, that computes the MLE of the Dirichlet-Multinomial distribution through Newton's Method."
   ]
  },
  {
   "cell_type": "code",
   "execution_count": 83,
   "metadata": {},
   "outputs": [
    {
     "data": {
      "text/plain": [
       "dirmult_newton"
      ]
     },
     "execution_count": 83,
     "metadata": {},
     "output_type": "execute_result"
    }
   ],
   "source": [
    "\"\"\"\n",
    "    dirmult_newton(X)\n",
    "\n",
    "Find the MLE of Dirichlet-multinomial distribution using Newton's method.\n",
    "\n",
    "# Argument\n",
    "* `X`: an `n`-by-`d` matrix of counts; each column is one data point.\n",
    "\n",
    "# Optional argument  \n",
    "* `alpha0`: a `d` vector of starting point (optional). \n",
    "* `maxiters`: the maximum allowable Newton iterations (default 100). \n",
    "* `tolfun`: the tolerance for  relative change in objective values (default 1e-6). \n",
    "\n",
    "# Output\n",
    "* `maximum`: the log-likelihood at MLE.   \n",
    "* `estimate`: the MLE. \n",
    "* `gradient`: the gradient at MLE. \n",
    "* `hessian`: the Hessian at MLE. \n",
    "* `se`: a `d` vector of standard errors. \n",
    "* `iterations`: the number of iterations performed.\n",
    "\"\"\"\n",
    "function dirmult_newton(X) \n",
    "    maxiters = 100\n",
    "    tolfun = 1e-6\n",
    "    orign, origd = size(X)\n",
    "    #first reduce to where the obs are 0\n",
    "    nonzeroobs = find(sum(X, 1) .> 0.01) \n",
    "    #remove those rows in X\n",
    "    X = copy(X[:, nonzeroobs])\n",
    "    #Xt = copy(X.')\n",
    "    # set default starting point from Q7\n",
    "    α0 = initial_alpha(X)\n",
    "    rowsumX = sum(X, 2)\n",
    "    n, d = size(X)\n",
    "    dga = zeros(d)\n",
    "    score = zeros(d)\n",
    "    αhat = copy(α0)\n",
    "    ndir = zeros(d)\n",
    "    triarow = 0.0\n",
    "    logl = 0.0\n",
    "    loglold = sum(dirmult_logpdf(X', αhat))\n",
    "    # Newton loop\n",
    "    for iter in 1:maxiters\n",
    "        rowsumα = sum(αhat)\n",
    "        score = zeros(d)       \n",
    "        # evaluate gradient (score)\n",
    "        dga = digamma.(αhat)\n",
    "        dgarow = digamma.(rowsumα)\n",
    "        for j in 1:d\n",
    "            for i in 1:n\n",
    "                score[j] += digamma.(αhat[j] + X[i, j]) - dga[j] - digamma.(rowsumα + rowsumX[i]) + dgarow\n",
    "            end\n",
    "        end\n",
    "        # approximated observed information matrix\n",
    "\n",
    "        D = zeros(d)\n",
    "        c = 0.0\n",
    "        triga = trigamma.(αhat)\n",
    "        for j = 1:d\n",
    "            for i = 1:n\n",
    "                D[j] += -trigamma.(αhat[j] + X[i, j]) + triga[j]\n",
    "                c += -trigamma.(rowsumα + rowsumX[i]) + triarow\n",
    "            end\n",
    "        end\n",
    "\n",
    "        #need to make sure that the condition for c holds for it to be p.d.\n",
    "        invD = (1 ./ D)\n",
    "        if !(c < (1 / (sum(invD))))\n",
    "            c = (1 / sum(invD)) * 0.95\n",
    "        end\n",
    "\n",
    "        # compute Newton's direction\n",
    "        #use Sherman-Morrison inverse formula\n",
    "        #first part is invD * score\n",
    "        #second is 1 / (1 - c*sum(Dinv)) * Dinv' * Dinv * c\n",
    "\n",
    "        for j in 1:d\n",
    "            ndir[j] = invD[j] * score[j]\n",
    "        end\n",
    "        ndir += (((1/c - sum(invD)) * (invD * invD')) * score)\n",
    "\n",
    "        # line search loop\n",
    "        step = 1\n",
    "        for i in 1:d\n",
    "            if ndir[i] < 0\n",
    "                step = min((αhat[i] / abs(ndir[i])) * 0.95, step)\n",
    "            end\n",
    "        end        \n",
    "        αupdate = 0.0\n",
    "        loglupdate = 0.0\n",
    "        for lsiter in 1:10\n",
    "            αupdate = αhat + step * ndir\n",
    "            loglupdate = sum(dirmult_logpdf(X', αupdate))\n",
    "            # step halving\n",
    "            if (loglupdate < loglold)\n",
    "                step = step / 2\n",
    "            end\n",
    "        end\n",
    "        αhat = copy(αupdate)\n",
    "        logl = copy(loglupdate)\n",
    "\n",
    "        # check convergence criterion\n",
    "        if abs(logl - loglold) < (tolfun * (abs(loglold) + 1))\n",
    "            #println(iter)\n",
    "            break;\n",
    "        end\n",
    "        loglold = copy(logl)  \n",
    "    end\n",
    "\n",
    "    # compute logl, gradient, Hessian from final iterate \n",
    "\n",
    "    #logl already computed. \n",
    "    rowsumα = sum(αhat)\n",
    "    score = zeros(d)       \n",
    "    # evaluate gradient (score)\n",
    "    dga = digamma.(αhat)\n",
    "    dgarow = digamma.(rowsumα)\n",
    "    for j in 1:d\n",
    "        for i in 1:n\n",
    "            score[j] += digamma.(αhat[j] + X[i, j]) - dga[j] - digamma.(rowsumα + rowsumX[i]) + dgarow\n",
    "        end\n",
    "    end\n",
    "\n",
    "    #evaluating the observed info matrix D is the diagonal and c is the off constant. \n",
    "    D = zeros(d)\n",
    "    c = 0.0\n",
    "    triga = trigamma.(αhat)\n",
    "    triarow = trigamma.(rowsumα)\n",
    "    for j = 1:d\n",
    "        for i = 1:n\n",
    "            D[j] += -trigamma.(αhat[j] + X[i, j]) + triga[j]\n",
    "            c += -trigamma.(rowsumα + rowsumX[i]) + triarow\n",
    "        end\n",
    "    end\n",
    "\n",
    "    Hessian = -1 * (Diagonal(D) + (c * ones(d, d)))\n",
    "    \n",
    "    αestimate = zeros(origd)\n",
    "    αestimate[nonzeroobs] = αhat[1:d]\n",
    "    return αestimate, logl, Hessian\n",
    "end"
   ]
  },
  {
   "cell_type": "markdown",
   "metadata": {},
   "source": [
    "It converges after 19 iterations woohoo! Note: Newton's method is highly popular because it converges so quickly."
   ]
  },
  {
   "cell_type": "code",
   "execution_count": 84,
   "metadata": {},
   "outputs": [
    {
     "data": {
      "text/plain": [
       "([0.0, 0.0808195, 0.893214, 2.09767, 2.01352, 0.76266, 0.146161, 0.0151217, 0.000389089, 0.300931  …  0.458806, 0.0272095, 0.000129644, 0.0653641, 0.917977, 2.10699, 1.93648, 0.943011, 0.231207, 0.0277544], -472075.1644846997, [-95363.0 -4279.59 … -4279.59 -4279.59; -4279.59 -9466.99 … -4279.59 -4279.59; … ; -4279.59 -4279.59 … -29642.4 -4279.59; -4279.59 -4279.59 … -4279.59 -2.73177e5])"
      ]
     },
     "execution_count": 84,
     "metadata": {},
     "output_type": "execute_result"
    }
   ],
   "source": [
    "αestimate_out, logl_out, Hessian_out = dirmult_newton(X)"
   ]
  },
  {
   "cell_type": "markdown",
   "metadata": {},
   "source": [
    "Note the Hessian is negative, which is good! Since we want the Negative Hessian (Information Matrix) to be positive definite."
   ]
  },
  {
   "cell_type": "code",
   "execution_count": 85,
   "metadata": {},
   "outputs": [
    {
     "data": {
      "text/plain": [
       "62×62 Array{Float64,2}:\n",
       " -95363.0   -4279.59  -4279.59  …  -4279.59   -4279.59  -4279.59     \n",
       "  -4279.59  -9466.99  -4279.59     -4279.59   -4279.59  -4279.59     \n",
       "  -4279.59  -4279.59  -6216.82     -4279.59   -4279.59  -4279.59     \n",
       "  -4279.59  -4279.59  -4279.59     -4279.59   -4279.59  -4279.59     \n",
       "  -4279.59  -4279.59  -4279.59     -4279.59   -4279.59  -4279.59     \n",
       "  -4279.59  -4279.59  -4279.59  …  -4279.59   -4279.59  -4279.59     \n",
       "  -4279.59  -4279.59  -4279.59     -4279.59   -4279.59  -4279.59     \n",
       "  -4279.59  -4279.59  -4279.59     -4279.59   -4279.59  -4279.59     \n",
       "  -4279.59  -4279.59  -4279.59     -4279.59   -4279.59  -4279.59     \n",
       "  -4279.59  -4279.59  -4279.59     -4279.59   -4279.59  -4279.59     \n",
       "  -4279.59  -4279.59  -4279.59  …  -4279.59   -4279.59  -4279.59     \n",
       "  -4279.59  -4279.59  -4279.59     -4279.59   -4279.59  -4279.59     \n",
       "  -4279.59  -4279.59  -4279.59     -4279.59   -4279.59  -4279.59     \n",
       "      ⋮                         ⋱                 ⋮                  \n",
       "  -4279.59  -4279.59  -4279.59  …  -4279.59   -4279.59  -4279.59     \n",
       "  -4279.59  -4279.59  -4279.59     -4279.59   -4279.59  -4279.59     \n",
       "  -4279.59  -4279.59  -4279.59     -4279.59   -4279.59  -4279.59     \n",
       "  -4279.59  -4279.59  -4279.59     -4279.59   -4279.59  -4279.59     \n",
       "  -4279.59  -4279.59  -4279.59     -4279.59   -4279.59  -4279.59     \n",
       "  -4279.59  -4279.59  -4279.59  …  -4279.59   -4279.59  -4279.59     \n",
       "  -4279.59  -4279.59  -4279.59     -4279.59   -4279.59  -4279.59     \n",
       "  -4279.59  -4279.59  -4279.59     -4279.59   -4279.59  -4279.59     \n",
       "  -4279.59  -4279.59  -4279.59     -4279.59   -4279.59  -4279.59     \n",
       "  -4279.59  -4279.59  -4279.59     -8851.62   -4279.59  -4279.59     \n",
       "  -4279.59  -4279.59  -4279.59  …  -4279.59  -29642.4   -4279.59     \n",
       "  -4279.59  -4279.59  -4279.59     -4279.59   -4279.59     -2.73177e5"
      ]
     },
     "execution_count": 85,
     "metadata": {},
     "output_type": "execute_result"
    }
   ],
   "source": [
    "Hessian_out"
   ]
  },
  {
   "cell_type": "markdown",
   "metadata": {},
   "source": [
    "## Q9\n",
    "\n",
    "Read in `optdigits.tra`, the training set of 3823 handwritten digits. Find the MLE for the subset of digit 0, digit 1, ..., and digit 9 separately using your function. "
   ]
  },
  {
   "cell_type": "markdown",
   "metadata": {},
   "source": [
    "## Q9 Solution:\n",
    "\n",
    "Each column represents each digit from 0-9. For each digit, there are 64 estimated paramaters."
   ]
  },
  {
   "cell_type": "code",
   "execution_count": 46,
   "metadata": {},
   "outputs": [],
   "source": [
    "traindata = readcsv(\"optdigits.tra\", Int);"
   ]
  },
  {
   "cell_type": "code",
   "execution_count": 65,
   "metadata": {},
   "outputs": [
    {
     "data": {
      "text/plain": [
       "64×10 Array{Float64,2}:\n",
       " 0.0        0.0         0.0         …  0.0         0.0         0.0       \n",
       " 0.027153   0.00806214  0.385797       0.138526    0.0870453   0.0760361 \n",
       " 3.24571    0.517296    3.77577        2.46692     2.45862     1.51742   \n",
       " 9.58928    2.11559     5.18795        4.99597     5.7371      3.67141   \n",
       " 7.80525    3.08047     2.4839         5.38341     5.48944     3.70421   \n",
       " 1.58007    1.33097     0.308254    …  4.40639     2.38305     1.50018   \n",
       " 0.0458468  0.138462    0.0156759      1.69695     0.197419    0.29645   \n",
       " 0.0        0.0         0.0            0.17729     0.0         0.0158601 \n",
       " 0.0        0.0         0.0            0.0         0.00217486  0.0       \n",
       " 0.676543   0.0575503   1.71602        0.252583    1.00779     0.662149  \n",
       " 9.38799    1.04839     5.44015     …  3.13688     6.00204     3.98765   \n",
       " 9.49482    3.2662      4.70215        3.94263     4.48835     3.32224   \n",
       " 8.83415    4.13715     4.39493        4.11967     4.01953     3.26306   \n",
       " ⋮                                  ⋱                                    \n",
       " 7.51522    4.08108     4.34878        1.53869     3.28949     2.20349   \n",
       " 9.81074    2.29138     3.80161        0.0527294   3.96454     2.59552   \n",
       " 1.65668    0.27446     2.34272        0.00190057  0.763672    0.975953  \n",
       " 0.0        0.0304686   0.135223    …  0.0         0.0         0.0158983 \n",
       " 0.0        0.0         0.00192417     0.0         0.0         0.0       \n",
       " 0.0150638  0.0178211   0.35235        0.0984047   0.0771792   0.05329   \n",
       " 3.2717     0.51787     3.84566        2.80321     2.53327     1.45319   \n",
       " 9.90977    2.03512     5.20792        4.06912     6.06791     3.73344   \n",
       " 9.70992    3.54998     4.88438     …  0.447016    5.61714     3.5282    \n",
       " 3.71961    2.22561     4.47243        0.0116755   2.64531     1.60095   \n",
       " 0.138081   0.410917    2.98834        0.0         0.296129    0.333465  \n",
       " 0.0        0.0421284   0.332175       0.0         0.00653507  0.00698391"
      ]
     },
     "execution_count": 65,
     "metadata": {},
     "output_type": "execute_result"
    }
   ],
   "source": [
    "using Distributions\n",
    "α_MLE = zeros(64, 10)\n",
    "\n",
    "for digit in 0:9\n",
    "data = X[find(traindata[:, end] .== digit), :]\n",
    "    α_MLE[:, digit + 1] = dirmult_newton(data)[1]\n",
    "end\n",
    "\n",
    "α_MLE"
   ]
  },
  {
   "cell_type": "markdown",
   "metadata": {},
   "source": [
    "## Q10\n",
    "\n",
    "As $\\alpha / |\\alpha| \\to \\mathbf{p}$, the Dirichlet-multinomial distribution converges to a multinomial with parameter $\\mathbf{p}$. Therefore multinomial can be considered as a special Dirichlet-multinomial with $|\\alpha|=\\infty$. Perform a likelihood ratio test (LRT) whether Dirichlet-multinomial offers a better fit than multinomial for digits 0, 1, ..., 9 respectively."
   ]
  },
  {
   "cell_type": "markdown",
   "metadata": {},
   "source": [
    "## Q10 Solution:\n",
    "\n",
    "First, we subset the training data for each digit, and get the maximum log likelihood of the Dirichlet Multinomial and the Multinomial. Then, I perform a likelihood ratio test (LRT) to determine whether Dirichlet-multinomial offers a better fit than multinomial for digits 0, 1, ..., 9 respectively. Dirichlet-multinomial offers a better for all digits."
   ]
  },
  {
   "cell_type": "code",
   "execution_count": 87,
   "metadata": {},
   "outputs": [],
   "source": [
    "using Distributions\n",
    "logl_dir_mult = zeros(10)\n",
    "logl_mult = zeros(10)\n",
    "LRT_pvalue = zeros(10)\n",
    "\n",
    "for digit in 0:9\n",
    "data = X[find(traindata[:, end] .== digit), :]\n",
    "    p = vec(sum(data, 1))\n",
    "    p = p / sum(p)\n",
    "    posind = p .> 0\n",
    "    logl_dir_mult[digit + 1] = dirmult_newton(data)[2]\n",
    "    for j in 1:size(data, 1)\n",
    "        logl_mult[digit + 1] += logpdf(Multinomial(Int(sum(data[j, posind])), \n",
    "                p[posind]), data[j, posind])\n",
    "        end\n",
    "    # compute LRT p-value\n",
    "    LRT_pvalue[digit + 1] = ccdf(Chisq(1),\n",
    "        logl_dir_mult[digit + 1] - logl_mult[digit + 1])\n",
    "    end"
   ]
  },
  {
   "cell_type": "markdown",
   "metadata": {},
   "source": [
    "Loglikelihood of the Multinomial distribution for digits 0, 1, ..., 9 respectively."
   ]
  },
  {
   "cell_type": "code",
   "execution_count": 88,
   "metadata": {},
   "outputs": [
    {
     "data": {
      "text/plain": [
       "10-element Array{Float64,1}:\n",
       " -39592.2\n",
       " -54039.2\n",
       " -49111.5\n",
       " -47089.1\n",
       " -57344.1\n",
       " -51713.0\n",
       " -42597.3\n",
       " -49473.0\n",
       " -49695.9\n",
       " -54577.8"
      ]
     },
     "execution_count": 88,
     "metadata": {},
     "output_type": "execute_result"
    }
   ],
   "source": [
    "logl_mult"
   ]
  },
  {
   "cell_type": "markdown",
   "metadata": {},
   "source": [
    "Loglikelihood of the Dirichlet-Multinomial distribution for digits 0, 1, ..., 9 respectively."
   ]
  },
  {
   "cell_type": "code",
   "execution_count": 89,
   "metadata": {},
   "outputs": [
    {
     "data": {
      "text/plain": [
       "10-element Array{Float64,1}:\n",
       " -37533.3\n",
       " -42179.4\n",
       " -39985.5\n",
       " -40519.8\n",
       " -43488.9\n",
       " -41191.5\n",
       " -37703.0\n",
       " -40304.2\n",
       " -43131.2\n",
       " -43709.8"
      ]
     },
     "execution_count": 89,
     "metadata": {},
     "output_type": "execute_result"
    }
   ],
   "source": [
    "logl_dir_mult"
   ]
  },
  {
   "cell_type": "markdown",
   "metadata": {},
   "source": [
    "P-value from the Likliehood Ratio test comparing the fit of the Dirichlet-multinomial vs. the multinomial for digits 0, 1, ..., 9 respectively. Clearly Dirichlet-Multinomial wins!!!"
   ]
  },
  {
   "cell_type": "code",
   "execution_count": 90,
   "metadata": {},
   "outputs": [
    {
     "data": {
      "text/plain": [
       "10-element Array{Float64,1}:\n",
       " 0.0\n",
       " 0.0\n",
       " 0.0\n",
       " 0.0\n",
       " 0.0\n",
       " 0.0\n",
       " 0.0\n",
       " 0.0\n",
       " 0.0\n",
       " 0.0"
      ]
     },
     "execution_count": 90,
     "metadata": {},
     "output_type": "execute_result"
    }
   ],
   "source": [
    "LRT_pvalue"
   ]
  },
  {
   "cell_type": "markdown",
   "metadata": {},
   "source": [
    "## Q11\n",
    "\n",
    "Now we can construct a simple Bayesian rule for handwritten digits recognition:\n",
    "$$\n",
    "\t\\mathbf{x}\t\\mapsto \\arg \\max_k \\widehat \\pi_k f(x|\\widehat \\alpha_k).\n",
    "$$\n",
    "Here we can use the proportion of digit $k$ in the training set as the prior probability $\\widehat \\pi_k$. Report the performance of your classifier on the test set of 1797 digits in `optdigits.tes`."
   ]
  },
  {
   "cell_type": "markdown",
   "metadata": {},
   "source": [
    "## Q11.Solution:\n",
    "\n",
    "In order to report the performance of our classifier onthe test of 1797 digits in `optdigits.tes`.\n",
    "\n",
    "First, we use the training set to estimate the prior probability distribution for p, $\\widehat \\pi_k$, and store it in the vector `p_hat`. Each of the elements of `p_hat` represents the proportion each digit appears in the training data set."
   ]
  },
  {
   "cell_type": "code",
   "execution_count": 92,
   "metadata": {},
   "outputs": [],
   "source": [
    "# read in the training and test data\n",
    "traindata = readcsv(\"optdigits.tra\", Int)\n",
    "testdata = readcsv(\"optdigits.tes\", Int)\n",
    "\n",
    "#first we pre-allocate\n",
    "p_hat = zeros(10)\n",
    "n1 = size(traindata, 1) #number of rows or numbers in the training data\n",
    "\n",
    "# find prior probabilities for each digit in the training set\n",
    "for digit in 0:9\n",
    "    p_hat[digit + 1] += sum(traindata[:, 65] .== digit) / n1\n",
    "end"
   ]
  },
  {
   "cell_type": "code",
   "execution_count": 93,
   "metadata": {},
   "outputs": [
    {
     "data": {
      "text/plain": [
       "10-element Array{Float64,1}:\n",
       " 0.0983521\n",
       " 0.101753 \n",
       " 0.0993984\n",
       " 0.101753 \n",
       " 0.101229 \n",
       " 0.0983521\n",
       " 0.0986137\n",
       " 0.101229 \n",
       " 0.0993984\n",
       " 0.0999215"
      ]
     },
     "execution_count": 93,
     "metadata": {},
     "output_type": "execute_result"
    }
   ],
   "source": [
    "p_hat"
   ]
  },
  {
   "cell_type": "markdown",
   "metadata": {},
   "source": [
    "Then, we want to find the Maximum Dirichlet Multinomial logpdf of each digit, by pluggin in the `α_MLE` values for each digit."
   ]
  },
  {
   "cell_type": "code",
   "execution_count": 59,
   "metadata": {},
   "outputs": [],
   "source": [
    "DMlogpdf = zeros(10, size(testdata, 1))\n",
    "\n",
    "#find the maximum logpdf\n",
    "for digit in 0:9\n",
    "    DMlogpdf[digit + 1, :] = dirmult_logpdf(testdata[:, 1:64]', α_MLE[:, digit + 1])\n",
    "end"
   ]
  },
  {
   "cell_type": "code",
   "execution_count": 60,
   "metadata": {},
   "outputs": [
    {
     "data": {
      "text/plain": [
       "10×1797 Array{Float64,2}:\n",
       "  -95.1698  -180.967   -179.549  -157.813   …  -161.312  -137.285  -168.489\n",
       " -167.935    -90.4242  -119.731  -123.948      -109.194  -135.046  -141.073\n",
       " -183.528   -131.541   -136.586  -120.742      -138.909  -161.152  -139.205\n",
       " -164.027   -133.974   -157.904   -93.0297     -138.638  -129.132  -136.661\n",
       " -141.035   -114.707   -140.391  -150.597      -124.078  -140.22   -155.619\n",
       " -142.348   -126.22    -160.841  -112.309   …  -136.663  -129.85   -151.549\n",
       " -168.347   -149.028   -153.063  -141.866      -144.654  -164.331  -145.907\n",
       " -161.813   -139.3     -Inf      -160.968      -143.385  -162.377  -Inf    \n",
       " -148.061   -115.537   -126.78   -125.125      -106.462  -129.631  -125.16 \n",
       " -134.604   -131.085   -157.706  -112.109      -134.426  -108.059  -148.108"
      ]
     },
     "execution_count": 60,
     "metadata": {},
     "output_type": "execute_result"
    }
   ],
   "source": [
    "DMlogpdf"
   ]
  },
  {
   "cell_type": "markdown",
   "metadata": {},
   "source": [
    "Now for each digit, we can multiply `DMlogpdf` by the prior distribution of p, `p_hat` to get posterior distribution of each digit in `Posterior`. Then we can get the predicted digit values in the vector, `predicted`."
   ]
  },
  {
   "cell_type": "code",
   "execution_count": 94,
   "metadata": {},
   "outputs": [],
   "source": [
    "n2 = size(test_data, 1) #number of rows or numbers in the testing data\n",
    "Posterior = zeros(10, size(testdata, 1))\n",
    "\n",
    "# multiply the prior with the logpdf to get the posterior distribution\n",
    "for j in 1:10\n",
    "    Posterior[j, :] = DMlogpdf[j, :] * p_hat[j]\n",
    "end\n",
    "\n",
    "# predict which digit, based on which has max log likelihood\n",
    "predicted = zeros(n2)\n",
    "for i in 1:n2\n",
    "    predicted[i] = (findmax(probs[:, i], 1)[2][1] - 1)\n",
    "end"
   ]
  },
  {
   "cell_type": "code",
   "execution_count": 95,
   "metadata": {},
   "outputs": [
    {
     "data": {
      "text/plain": [
       "1797-element Array{Float64,1}:\n",
       " 0.0\n",
       " 1.0\n",
       " 1.0\n",
       " 3.0\n",
       " 4.0\n",
       " 9.0\n",
       " 6.0\n",
       " 7.0\n",
       " 8.0\n",
       " 9.0\n",
       " 0.0\n",
       " 1.0\n",
       " 2.0\n",
       " ⋮  \n",
       " 7.0\n",
       " 9.0\n",
       " 5.0\n",
       " 4.0\n",
       " 8.0\n",
       " 8.0\n",
       " 4.0\n",
       " 9.0\n",
       " 0.0\n",
       " 8.0\n",
       " 9.0\n",
       " 8.0"
      ]
     },
     "execution_count": 95,
     "metadata": {},
     "output_type": "execute_result"
    }
   ],
   "source": [
    "predicted"
   ]
  },
  {
   "cell_type": "markdown",
   "metadata": {},
   "source": [
    "Now we can compare the true digit value in the last column of the testing data, to the digit predicted from the posterior, and get our classification error and accuracy."
   ]
  },
  {
   "cell_type": "code",
   "execution_count": 96,
   "metadata": {},
   "outputs": [
    {
     "name": "stdout",
     "output_type": "stream",
     "text": [
      "error = sum(test_data[:, 65] .!= predicted) / length(predicted) = 0.11741791875347801\n",
      "accuracy = 1 - error = 0.8825820812465219\n"
     ]
    }
   ],
   "source": [
    "@show error = sum(test_data[:, 65] .!= predicted) / length(predicted)\n",
    "@show accuracy = 1 - error;"
   ]
  }
 ],
 "metadata": {
  "kernelspec": {
   "display_name": "Julia 0.6.2",
   "language": "julia",
   "name": "julia-0.6"
  },
  "language_info": {
   "file_extension": ".jl",
   "mimetype": "application/julia",
   "name": "julia",
   "version": "0.6.2"
  },
  "toc": {
   "base_numbering": 1,
   "nav_menu": {
    "height": "65px",
    "width": "252px"
   },
   "number_sections": false,
   "sideBar": true,
   "skip_h1_title": false,
   "title_cell": "Table of Contents",
   "title_sidebar": "Contents",
   "toc_cell": false,
   "toc_position": {},
   "toc_section_display": "block",
   "toc_window_display": false
  }
 },
 "nbformat": 4,
 "nbformat_minor": 2
}
