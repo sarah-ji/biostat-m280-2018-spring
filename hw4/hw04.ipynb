{
 "cells": [
  {
   "cell_type": "markdown",
   "metadata": {},
   "source": [
    "# Biostat M280 Homework 4\n",
    "Sarah Ji\n",
    "\n",
    "**Due June 12 @ 11:59PM**"
   ]
  },
  {
   "cell_type": "markdown",
   "metadata": {},
   "source": [
    "In this homework, we build a classifer for handwritten digit recognition. Following figure shows example bitmaps of handwritten digits from U.S. postal envelopes. \n",
    "\n",
    "Each digit is represented by a $32 \\times 32$ bitmap in which each element indicates one pixel with a value of white or black. Each $32 \\times 32$ bitmap is divided into blocks of $4 \\times 4$, and the number of white pixels are counted in each block. Therefore each handwritten digit is summarized by a vector $\\mathbf{x} = (x_1, \\ldots, x_{64})$ of length 64 where each element is a count between 0 and 16. \n",
    "\n",
    "We will use a model-based method by assuming a distribution on the count vector and carry out classification using probabilities. A common distribution for count vectors is the multinomial distribution. However as you will see in Q10, it is not a good model for handwritten digits. Let's work on a more flexible model for count vectors. In the Dirichlet-multinomial model, we assume the multinomial probabilities $\\mathbf{p} = (p_1,\\ldots, p_d)$ follow a Dirichlet distribution with parameter vector $\\alpha = (\\alpha_1,\\ldots, \\alpha_d)$, $\\alpha_j>0$, and density\n",
    "$$\n",
    "\\begin{eqnarray*}\n",
    "\t\\pi(\\mathbf{p}) =  \\frac{\\Gamma(|\\alpha|)}{\\prod_{j=1}^d \\Gamma(\\alpha_j)} \\prod_{j=1}^d p_j^{\\alpha_j-1},\n",
    "\\end{eqnarray*} \n",
    "$$\n",
    "where $|\\alpha|=\\sum_{j=1}^d \\alpha_j$."
   ]
  },
  {
   "cell_type": "markdown",
   "metadata": {},
   "source": [
    "## Q1\n",
    "\n",
    "For a multivariate count vector $\\mathbf{x}=(x_1,\\ldots,x_d)$ with batch size $|\\mathbf{x}|=\\sum_{j=1}^d x_j$, show that the probability mass function for Dirichlet-multinomial distribution is\n",
    "$$\n",
    "    f(\\mathbf{x} \\mid \\alpha) \n",
    "\t= \\int_{\\Delta_d} \\binom{|\\mathbf{x}|}{\\mathbf{x}} \\prod_{j=1}^d p_j^{x_j} \\pi(\\mathbf{p}) \\, d \\mathbf{p}  \n",
    "    = \\binom{|\\mathbf{x}|}{\\mathbf{x}} \\frac{\\prod_{j=1}^d \\Gamma(\\alpha_j+x_j)}{\\prod_{j=1}^d \\Gamma(\\alpha_j)} \\frac{\\Gamma(|\\alpha|)}{\\Gamma(|\\alpha|+|\\mathbf{x}|)}\n",
    "$$\n",
    "where $\\Delta_d$ is the unit simplex in $d$ dimensions and $|\\alpha| = \\sum_{j=1}^d \\alpha_j$.\n"
   ]
  },
  {
   "cell_type": "markdown",
   "metadata": {},
   "source": [
    "## Q1 Solution: \n",
    " \n",
    ">First we should plug in the pi(p) formula in the f(x) formula and then combine like terms.\n",
    "\n",
    " $$\n",
    "\\int_{\\Delta_d} \\binom{|\\mathbf{x}|}{\\mathbf{x}} \\prod_{j=1}^d p_j^{x_j} \\pi(\\mathbf{p}) \\, d \\mathbf{p} \n",
    "= \\int_{\\Delta_d}\\binom{|\\mathbf{x}|}{\\mathbf{x}} \\prod_{j=1}^d p_j^{x_j}\\frac{\\Gamma(|\\alpha|)}{\\prod_{j=1}^d \\Gamma(\\alpha_j)} \\prod_{j=1}^d p_j^{\\alpha_j-1}d \\mathbf{p}\n",
    "$$\n",
    " \n",
    ">Then we can use the kernel trick to integrate the first pdf to 1 and change the coefficients accordingly.\n",
    " \n",
    "\n",
    "$$\n",
    "=\\binom{|\\mathbf{x}|}{\\mathbf{x}}\\frac{\\Gamma(|\\alpha|)}{\\prod_{j=1}^d \\Gamma(\\alpha_j)} \\int_{\\Delta_d} \\prod_{j=1}^d p_j^{x_j + {\\alpha_j-1}} d\\mathbf{p}\n",
    "$$\n",
    "$$\n",
    "=\\binom{|\\mathbf{x}|}{\\mathbf{x}}\\frac{\\Gamma(|\\alpha|)}{\\prod_{j=1}^d \\Gamma(\\alpha_j)} \\int_{\\Delta_d} \\prod_{j=1}^d p_j^{x_j + {\\alpha_j-1}} \\frac{\\prod_{j=1}^d \\Gamma(\\alpha_j+x_j)}{\\prod_{j=1}^d \\Gamma(\\alpha_j+x_j)}\\frac{\\Gamma(|\\alpha|+|\\mathbf{x}|)}{\\Gamma(|\\alpha|+|\\mathbf{x}|)}d\\mathbf{p}\n",
    "$$\n",
    "\n",
    "$$\n",
    "=\\binom{|\\mathbf{x}|}{\\mathbf{x}}\\frac{\\Gamma(|\\alpha|)}{\\prod_{j=1}^d \\Gamma(\\alpha_j)} \\frac{\\prod_{j=1}^d \\Gamma(\\alpha_j+x_j)}{\\Gamma(|\\alpha|+|\\mathbf{x}|)}\\int_{\\Delta_d} \\prod_{j=1}^d p_j^{x_j + {\\alpha_j-1}} \\frac{\\prod_{j=1}^d \\Gamma(\\alpha_j+x_j)}{\\Gamma(|\\alpha|+|\\mathbf{x}|)}d\\mathbf{p}\n",
    "$$\n",
    "\n",
    "> Note this is a density of a Dirchlet pdf and so the integral evalutes to 1, giving us: \n",
    "\n",
    "$$\n",
    "=\\binom{|\\mathbf{x}|}{\\mathbf{x}}\\frac{\\Gamma(|\\alpha|)}{\\prod_{j=1}^d \\Gamma(\\alpha_j)} \\frac{\\prod_{j=1}^d \\Gamma(\\alpha_j+x_j)}{\\Gamma(|\\alpha|+|\\mathbf{x}|)} 1\n",
    "$$\n",
    "$$\n",
    "=\\binom{|\\mathbf{x}|}{\\mathbf{x}} \\frac{\\prod_{j=1}^d \\Gamma(\\alpha_j+x_j)}{\\prod_{j=1}^d \\Gamma(\\alpha_j)} \\frac{\\Gamma(|\\alpha|)}{\\Gamma(|\\alpha|+|\\mathbf{x}|)}\n",
    "$$\n",
    "\n",
    "$$\n",
    "= f(\\mathbf{x} \\mid \\alpha)\n",
    "$$"
   ]
  },
  {
   "cell_type": "markdown",
   "metadata": {},
   "source": [
    "## Q2\n",
    "\n",
    "Given independent data points $\\mathbf{x}_1, \\ldots, \\mathbf{x}_n$, show that the log-likelihood is\n",
    "$$\n",
    "L(\\alpha) = \\sum_{i=1}^n \\ln \\binom{|\\mathbf{x}_i|}{\\mathbf{x}_i} + \\sum_{i=1}^n \\sum_{j=1}^d [\\ln \\Gamma(\\alpha_j + x_{ij}) - \\ln \\Gamma(\\alpha_j)] - \\sum_{i=1}^n [\\ln \\Gamma(|\\alpha|+|\\mathbf{x}_i|) - \\ln \\Gamma(|\\alpha|)].\n",
    "$$\n",
    "Is the log-likelihood a concave function?"
   ]
  },
  {
   "cell_type": "markdown",
   "metadata": {},
   "source": [
    "## Q2 Solution:\n",
    "\n",
    "The log likelihood is a non-concave function. "
   ]
  },
  {
   "cell_type": "code",
   "execution_count": 3,
   "metadata": {},
   "outputs": [
    {
     "data": {
      "text/plain": [
       "2×2 Array{Float64,2}:\n",
       "  1.21026   -0.377543\n",
       " -0.377543   0.242076"
      ]
     },
     "execution_count": 3,
     "metadata": {},
     "output_type": "execute_result"
    }
   ],
   "source": [
    "using SpecialFunctions\n",
    "# if second derivative of the log likelihood is not positive definite then it is not concave\n",
    "α_test = [1, 2]\n",
    "x_test = [17 , 38]\n",
    "term1 = diagm(polygamma.(1, α_test) .- polygamma.(1, α_test + x_test))\n",
    "Neg_Hessian = term1 .- (polygamma.(1, sum(α_test)) .- polygamma.(1, sum(α_test) + sum(x_test)))#this gives a non-pd matrix meaning it's not concave."
   ]
  },
  {
   "cell_type": "markdown",
   "metadata": {},
   "source": [
    "## Q3\n",
    "\n",
    "Write Julia function to compute the log-density of the Dirichlet-multinomial distribution."
   ]
  },
  {
   "cell_type": "markdown",
   "metadata": {},
   "source": [
    "## Q3 Solution:"
   ]
  },
  {
   "cell_type": "code",
   "execution_count": 5,
   "metadata": {},
   "outputs": [
    {
     "data": {
      "text/plain": [
       "dirmult_logpdf"
      ]
     },
     "execution_count": 5,
     "metadata": {},
     "output_type": "execute_result"
    }
   ],
   "source": [
    "\"\"\"\n",
    "    dirmult_logpdf(x::Vector, α::Vector)\n",
    "    \n",
    "Compute the log-pdf of Dirichlet-multinomial distribution with parameter `α` \n",
    "at data point `x`.\n",
    "\"\"\"\n",
    "function dirmult_logpdf(x::Vector, α::Vector)\n",
    "    term1 = 0.0\n",
    "    Logpdf = 0.0\n",
    "    for i in 1:length(x)\n",
    "        term1 += lgamma(α[i] + x[i]) - lgamma(α[i]) - lfact(x[i])\n",
    "    end\n",
    "    \n",
    "    sumalpha = sum(α)\n",
    "    sumx = sum(x)\n",
    "    Logpdf = term1 + lfact(sumx) + lgamma(sumalpha) - lgamma(sumx + sumalpha)\n",
    "    return Logpdf\n",
    "end\n",
    "\n",
    "function dirmult_logpdf!(r::Vector, X::Matrix, α::Vector)\n",
    "    for j in 1:size(X, 2)\n",
    "        r[j] = dirmult_logpdf(X[:, j], α)\n",
    "    end\n",
    "    return r\n",
    "end\n",
    "\n",
    "\"\"\"\n",
    "    dirmult_logpdf(X, α)\n",
    "    \n",
    "Compute the log-pdf of Dirichlet-multinomial distribution with parameter `α` \n",
    "at each data point in `X`. Each column of `X` is one data point.\n",
    "\"\"\"\n",
    "function dirmult_logpdf(X::Matrix, α::Vector)\n",
    "    r = zeros(size(X, 2))\n",
    "    dirmult_logpdf!(r, X, α)\n",
    "end"
   ]
  },
  {
   "cell_type": "markdown",
   "metadata": {},
   "source": [
    "## Q4\n",
    "\n",
    "Read in `optdigits.tra`, the training set of 3823 handwritten digits. Each row contains the 64 counts of a digit and the last element (65th element) indicates what digit it is. For grading purpose, evaluate the total log-likelihood of this data at parameter values $\\alpha=(1,\\ldots,1)$ using your function in Q3."
   ]
  },
  {
   "cell_type": "markdown",
   "metadata": {},
   "source": [
    "## Q4 Solution:"
   ]
  },
  {
   "cell_type": "code",
   "execution_count": 20,
   "metadata": {},
   "outputs": [
    {
     "data": {
      "text/plain": [
       "64×3823 Array{Int64,2}:\n",
       "  0   0   0   0   0   0   0   0   0  …   0   0   0   0   0   0   0   0   0\n",
       "  1   0   0   0   0   0   0   0   0      0   0   1   0   0   0   0   0   0\n",
       "  6  10   8   0   5  11   1   8  15      9   9  10   6   5   0   3   6   2\n",
       " 15  16  15   3  14  16  11  10   2     16  16  16  16  13   1  15  16  15\n",
       " 12   6  16  11   4  10  13   8  14      6  12  16  11  11  12   0   2  16\n",
       "  1   0  13  16   0   1  11   7  13  …   0   1   4   0   2   1   0   0  13\n",
       "  0   0   0   0   0   0   7   2   2      0   0   0   0   0   0   0   0   1\n",
       "  0   0   0   0   0   0   0   0   0      0   0   0   0   0   0   0   0   0\n",
       "  0   0   0   0   0   0   0   0   0      0   0   0   0   0   0   0   0   0\n",
       "  7   7   1   0   0   4   0   1   0      2   3   8   1   2   0   0   0   0\n",
       " 16  16  11   5  13  16   9  15  16  …  14  16  13  16  15   0  11  15   3\n",
       "  6   8   9  16   8  10  14  14  15     16  10  12   2   6  14  14  10   7\n",
       "  6  16  11  11   0  15   6  12  12     16  15  16  12   5  10   0   0  10\n",
       "  ⋮                   ⋮              ⋱       ⋮                   ⋮        \n",
       " 15  10   4  16   4  15  15  14  16      8   4  10   0   1  15   9   2   7\n",
       "  9  15   0   0  11   8   3   5   6      0   9  16   8   8   1  15   8   0\n",
       "  0   3   0   0  12   8   0   0   0      0  16   5   4  10   0   4  15   0\n",
       "  0   0   0   0   0   3   0   0   0  …   0   0   0   0   0   0   0   0   0\n",
       "  0   0   0   0   0   0   0   0   0      0   0   0   0   0   0   0   0   0\n",
       "  0   0   0   0   0   0   0   0   0      0   0   2   1   0   0   0   0   0\n",
       "  6  10   9   0   4  10   1   4  10     10   8  13   7   8   0   4   5   4\n",
       " 14  16  14   1  12  16  13  13  12     13  16  16  14  13   4  14  16  14\n",
       "  7  15   0  15  14  16   5   8   5  …   1  16  12  16  15   9  16  16   1\n",
       "  1   3   0   2   7  16   0   0   0      0  16   5  12  10   0   9  16   0\n",
       "  0   0   0   0   0  16   0   0   0      0   8   0   1   1   0   0   5   0\n",
       "  0   0   0   0   0   6   0   0   0      0   0   0   0   0   0   0   0   0"
      ]
     },
     "execution_count": 20,
     "metadata": {},
     "output_type": "execute_result"
    }
   ],
   "source": [
    "traindata = readcsv(\"optdigits.tra\", Int)\n",
    "digit = traindata[:, end]\n",
    "counts = traindata[:, 1:64]'"
   ]
  },
  {
   "cell_type": "code",
   "execution_count": 21,
   "metadata": {},
   "outputs": [
    {
     "data": {
      "text/plain": [
       "3823-element Array{Int64,1}:\n",
       " 0\n",
       " 0\n",
       " 7\n",
       " 4\n",
       " 6\n",
       " 2\n",
       " 5\n",
       " 5\n",
       " 0\n",
       " 8\n",
       " 7\n",
       " 1\n",
       " 9\n",
       " ⋮\n",
       " 1\n",
       " 4\n",
       " 4\n",
       " 8\n",
       " 9\n",
       " 3\n",
       " 9\n",
       " 9\n",
       " 4\n",
       " 6\n",
       " 6\n",
       " 7"
      ]
     },
     "execution_count": 21,
     "metadata": {},
     "output_type": "execute_result"
    }
   ],
   "source": [
    "digit"
   ]
  },
  {
   "cell_type": "code",
   "execution_count": 7,
   "metadata": {},
   "outputs": [
    {
     "data": {
      "text/plain": [
       "3823-element Array{Float64,1}:\n",
       " -165.188\n",
       " -176.23 \n",
       " -167.774\n",
       " -165.564\n",
       " -157.79 \n",
       " -176.071\n",
       " -158.423\n",
       " -159.258\n",
       " -174.302\n",
       " -178.407\n",
       " -171.294\n",
       " -169.383\n",
       " -175.753\n",
       "    ⋮    \n",
       " -160.49 \n",
       " -158.633\n",
       " -156.935\n",
       " -171.975\n",
       " -177.638\n",
       " -169.735\n",
       " -158.423\n",
       " -159.465\n",
       " -159.877\n",
       " -169.735\n",
       " -173.149\n",
       " -155.411"
      ]
     },
     "execution_count": 7,
     "metadata": {},
     "output_type": "execute_result"
    }
   ],
   "source": [
    "eachlogpdf = dirmult_logpdf(counts, ones(64))"
   ]
  },
  {
   "cell_type": "markdown",
   "metadata": {},
   "source": [
    "Note that each observation is independent, so the overall log likelihood is the sum of each of the log pdf's in the `eachlogpdf` vector above."
   ]
  },
  {
   "cell_type": "code",
   "execution_count": 8,
   "metadata": {},
   "outputs": [
    {
     "data": {
      "text/plain": [
       "-638817.993292528"
      ]
     },
     "execution_count": 8,
     "metadata": {},
     "output_type": "execute_result"
    }
   ],
   "source": [
    "Log_Likelihood = sum(eachlogpdf)\n"
   ]
  },
  {
   "cell_type": "markdown",
   "metadata": {},
   "source": [
    "## Q5\n",
    "\n",
    "Derive the score function $\\nabla L(\\alpha)$, observed information matrix $-d^2L(\\alpha)$, and Fisher information matrix $\\mathbf{E}[-d^2L(\\alpha)]$ for the Dirichlet-multinomial distribution.\n",
    "\n",
    "Comment on why Fisher scoring method is inefficient for computing MLE in this example."
   ]
  },
  {
   "cell_type": "markdown",
   "metadata": {},
   "source": [
    "## Q5 Solution:\n",
    "\n",
    ">Let $\\psi(x) = \\frac{d}{dx}[ \\ln \\Gamma(x)]$ be the digamma function of x.\n",
    "Let $\\psi_1(x) = \\frac{d}{dx}[\\psi(x)]$ be the trigamma function of x.\n",
    "\n",
    ">The Score function, $\\nabla L(\\alpha) = \\frac{d}{d\\alpha_j}L(\\alpha) = 0 + \\sum_{i=1}^n[\\psi(\\alpha_j + x_{ij}) - \\psi(\\alpha_j)] - \\sum_{i=1}^n[\\psi(|\\alpha| + |x_i|) - \\psi(|\\alpha|)]$\n",
    "\n",
    "\n",
    ">The observed information matrix $-d^2L(\\alpha)$ has different forms on the diagonals and on the off diagonals.\n",
    "<br>\n",
    ">On the diagonals (where i = j):\n",
    "$$-\\cfrac{\\partial^2}{\\partial\\alpha_i\\alpha_j}L(\\alpha) = \\sum_{i=1}^n[\\psi_1(\\alpha_j) - \\psi_1(\\alpha_j + x_{ij})] - \\sum_{i=1}^n[\\psi_1(|\\alpha|) - \\psi_1(|\\alpha| + |x_i|)]$$\n",
    "<br>\n",
    "\n",
    "\n",
    ">On the off diagonals (where i $\\ne$ j)\n",
    "$$-\\cfrac{\\partial^2}{\\partial\\alpha_i\\alpha_j}L(\\alpha) = - \\sum_{i=1}^n[\\psi_1(|\\alpha|) - \\psi_1(|\\alpha| + |x_i|)]$$\n",
    "\n",
    ">Now we can see that the observed information matrix has a special structure of a diagonal plus an easy low-rank matrix which is rank 1.\n",
    "$$\n",
    "-\\cfrac{\\partial^2}{\\partial\\alpha_i\\alpha_j}L(\\alpha) = \\mathbf{D} - c\\mathbf{1}\\mathbf{1}^T\n",
    "$$\n",
    "\n",
    "$$\n",
    "d_j = \\sum_{i=1}^n\\Big[\\psi_1(\\alpha_j) - \\psi_1(\\alpha_j + x_{ij})\\Big]\n",
    "$$\n",
    "\n",
    "$$\n",
    "c = \\sum_{i=1}^n\\Big[\\psi_1(|\\alpha|) - \\psi_1(|\\alpha| + |x_i|) \\Big]\n",
    "$$\n",
    "\n",
    "<br>\n",
    ">The Fisher information matrix $\\mathbf{E}[-d^2L(\\alpha)]$ is difficult to compute, which highlights why Fisher scoring method is inefficient for computing MLE in this example. \n",
    "\n",
    "$$\n",
    "-E\\Big[\\cfrac{\\partial^2}{\\partial\\alpha_i\\alpha_j}L(\\alpha) \\Big] = E[\\mathbf{D} - c\\mathbf{1}\\mathbf{1}^T]\n",
    "$$"
   ]
  },
  {
   "cell_type": "markdown",
   "metadata": {},
   "source": [
    "## Q6\n",
    "\n",
    "What structure does the observed information matrix possess that can facilitate the evaluation of the Newton direction? Is the observed information matrix always positive definite? What remedy can we take if it fails to be positive definite? (Hint: HW1 Q6.)"
   ]
  },
  {
   "cell_type": "markdown",
   "metadata": {},
   "source": [
    "## Q6 Solution:\n",
    "\n",
    "No, the observed information matrix is not always positive definite. Some remedies we can make to it involve taking the expectation, resulting in swapping out the observed information matrix for the expected information matrix (Fisher Scoring). However, this remedy may not be the best case in this scenario, as taking expectation of the observed information matrix may be difficult. Thus, we use the Sherman Morrison formula from HW 1 to use the special structure of the observed information matrix, a diagonal plus a rank one update. \n",
    "\n",
    ">The observed information matrix has a special structure, a diagonal matrix plus a low rank matrix so we can use the Woodbury formula for the evaluation of the Newton direction. \n",
    "\n",
    ">In the case where the matrix fails to be diagonal we can add a positive matrix $\\eta \\mathbf{I}$, where $\\eta$ > 0 to make it become positive definite.  \n",
    "\n",
    ">From the Sherman-Morrison formula and the determinant formula from HW1:\n",
    "\n",
    "$$\n",
    "det(\\mathbf{D} - c\\mathbf{1}\\mathbf{1}^T) = det(\\mathbf{D})det(\\mathbf{I} + c\\mathbf{1}^T\\mathbf{D}^{-1}\\mathbf{1})\n",
    "$$\n",
    "\n",
    "$$\n",
    "= (\\prod_{i = 1}^d d_j)(1 - c \\sum^d_{j=1}d_j^{-1})\n",
    "$$\n",
    "> In order to have a positive definite matrix, the diagonals and the determinant must be positive! So we check that:\n",
    "$(1 - c \\sum^d_{j=1}d_j^{-1}) > 0$\n",
    "\n",
    "\n",
    "$$\n",
    "1 > c\\sum^d_{j=1}d_j^{-1} \\implies c < \\cfrac{1}{\\sum^d_{j=1}d_j^{-1}}\n",
    "$$\n",
    "\n",
    "\n",
    ">We find that the observed information matrix is positive definite when $c < \\cfrac{1}{\\sum_{i = 1}^d d_j^{-1}}$."
   ]
  },
  {
   "cell_type": "markdown",
   "metadata": {},
   "source": [
    "## Q7\n",
    "\n",
    "Discuss how to choose a good starting point. Implement this as the default starting value in your function below. (Hint: Method of moment estimator may furnish a good starting point.)"
   ]
  },
  {
   "cell_type": "markdown",
   "metadata": {},
   "source": [
    "### Q7 Solution:\n",
    "\n",
    "Let $\\mathbf{p} = (p_1,\\ldots, p_d)$ follow a Dirichlet distribution with parameter vector $\\alpha = (\\alpha_1,\\ldots, \\alpha_d)$, $\\alpha_j>0$. Then, we can begin by noting the first and second moments of this distribution. \n",
    "\n",
    ">The first moment of the Dirichlet Distribution is:\n",
    "$$E[P_j] = \\frac{\\alpha_j}{|\\alpha|}, 1 \\le j \\le d$$\n",
    "<br>\n",
    "\n",
    ">The second moment of the Dirichlet Distribution is:\n",
    "$$E[P_j^2] = \\frac{\\alpha_j(\\alpha_j + 1)}{|\\alpha|(|\\alpha| + 1)}, 1 \\le j \\le d$$\n",
    "<br>\n",
    "\n",
    "Since we know $E[P_j] = \\frac{\\alpha_j}{|\\alpha|}, 1 \\le j \\le d,$ we know that $\\alpha_j = E[P_j]*|\\alpha|.$ Now we will use these two moments to first find the value of $\\hat|\\alpha|$ to find a good estimate for the starting value $\\hat\\alpha_j$\n",
    "<br>\n",
    "\n",
    ">Let $Z = \\sum_{j=1}^d \\frac{E[P_j^2]}{E[P_j]},$ then we have:\n",
    "\n",
    "$$Z = \\sum_{j = 1}^d \\cfrac{E(p_j^2)}{E(p_j)} = \\sum_{j = 1}^d \\cfrac{\\frac{\\alpha_j(\\alpha_j + 1)}{|\\alpha|(|\\alpha|+ 1)}}{\\frac{\\alpha_j}{|\\alpha|}} = \\sum_{j=1}^d \\frac{\\alpha_j + 1}{|\\alpha| + 1} = \\frac{|\\alpha| + \\sum_{j=1}^d 1}{|\\alpha| + 1} =  \\cfrac{|\\alpha| + d}{|\\alpha| + 1}$$\n",
    "<br>\n",
    ">Now we want to solve for $|\\alpha|$:\n",
    "<br>\n",
    "$$ Z(|\\alpha| + 1) = |\\alpha| + d$$\n",
    "<br>\n",
    "$$Z|\\alpha| + Z = |\\alpha| + d$$\n",
    "<br>\n",
    "$$Z|\\alpha| - |\\alpha| = d - Z$$\n",
    "<br>\n",
    "$$|\\alpha|(Z - 1) = d - Z$$\n",
    "<br>\n",
    "$$|\\alpha| = \\frac{d - Z}{Z - 1}$$\n",
    "<br>\n",
    "\n",
    "> Recall that we are estimating Z by $\\hat{Z}$:\n",
    "\n",
    "$$\\hat{Z} = \\sum_{j=1}^d\\cfrac{{(\\sum_i^n\\frac{x_{ij}}{|x_i|}})^2}{(\\sum_i^n\\frac{x_{ij}}{|x_i|})}$$\n",
    "<br>\n",
    "\n",
    ">Now we can estimate $\\hat{|\\alpha|}$ using the estimates for $\\hat{Z}$:\n",
    "<br>\n",
    "\n",
    "$$\\hat{|\\alpha|} = \\frac{d - \\hat{Z}}{\\hat{Z} - 1}\n",
    "$$\n",
    "<br>\n",
    "\n",
    "$$ = \\frac{d - \\sum_{j=1}^d\\cfrac{{(\\sum_i^n\\frac{x_{ij}}{|x_i|}})^2}{(\\sum_i^n\\frac{x_{ij}}{|x_i|})}}{\\sum_{j=1}^d\\cfrac{{(\\sum_i^n\\frac{x_{ij}}{|x_i|}})^2}{(\\sum_i^n\\frac{x_{ij}}{|x_i|})} - 1}\n",
    "$$"
   ]
  },
  {
   "cell_type": "markdown",
   "metadata": {},
   "source": []
  },
  {
   "cell_type": "markdown",
   "metadata": {},
   "source": [
    "## Q8\n",
    "\n",
    "Write a function for finding MLE of Dirichlet-multinomial distribution given iid observations $\\mathbf{x}_1,\\ldots,\\mathbf{x}_n$, using the Newton's method. "
   ]
  },
  {
   "cell_type": "code",
   "execution_count": 2,
   "metadata": {},
   "outputs": [
    {
     "data": {
      "text/plain": [
       "dirmult_newton"
      ]
     },
     "execution_count": 2,
     "metadata": {},
     "output_type": "execute_result"
    }
   ],
   "source": [
    "\"\"\"\n",
    "    dirmult_newton(X)\n",
    "\n",
    "Find the MLE of Dirichlet-multinomial distribution using Newton's method.\n",
    "\n",
    "# Argument\n",
    "* `X`: an `n`-by-`d` matrix of counts; each column is one data point.\n",
    "\n",
    "# Optional argument  \n",
    "* `alpha0`: a `d` vector of starting point (optional). \n",
    "* `maxiters`: the maximum allowable Newton iterations (default 100). \n",
    "* `tolfun`: the tolerance for  relative change in objective values (default 1e-6). \n",
    "\n",
    "# Output\n",
    "* `maximum`: the log-likelihood at MLE.   \n",
    "* `estimate`: the MLE. \n",
    "* `gradient`: the gradient at MLE. \n",
    "* `hessian`: the Hessian at MLE. \n",
    "* `se`: a `d` vector of standard errors. \n",
    "* `iterations`: the number of iterations performed.\n",
    "\"\"\"\n",
    "function dirmult_newton(X::Matrix; α0::Vector = nothing, \n",
    "            maxiters::Int = 100, tolfun::Float64 = 1e-6)\n",
    "    n, d = size(X)\n",
    "    #first find the rows where there are no observations\n",
    "    non_zero_X = find(sum(X, 1) .> 0.0) \n",
    "    #get rid of columns with all 0's\n",
    "    X = copy(X[:, nonzeroobs])\n",
    "    #create a copy of X transpose\n",
    "    Xt = copy(X.')\n",
    "    \n",
    "    # set default starting point from Q7\n",
    "    α0 = initial_alpha(X)\n",
    "    \n",
    "    sumX = sum(X, 2)\n",
    "    n_2, d_2 = size(X)\n",
    "    digamma_alpha = zeros(d_2)\n",
    "    score = zeros(d_2)\n",
    "    αhat = copy(α0)\n",
    "    newton_direction = zeros(d_2)\n",
    "    trigamma_sum_alpha = 0.0\n",
    "    loglold = sum(dirmult_logpdf(Xt, αhat))\n",
    "    # Newton loop\n",
    "    for iter in 1:maxiters\n",
    "        sumα = sum(αhat)\n",
    "        score = zeros(d_2)\n",
    "        # evaluate gradient (score)\n",
    "        digamma_alpha = digamma(αhat)\n",
    "        digamma_sum_alpha = digamma(sumα)\n",
    "        for j in 1:d\n",
    "            for i in 1:n\n",
    "                score[j] += digamma(αhat[j] + X[i, j]) - digamma_alpha[j] - digamma(sumα + sumX[i]) + digamma_sum_alpha\n",
    "            end\n",
    "        end\n",
    "        # compute Newton's direction\n",
    "        \n",
    "        # line search loop\n",
    "        for lsiter in 1:10\n",
    "            # step halving\n",
    "        end\n",
    "        \n",
    "        # check convergence criterion\n",
    "        if abs(logl - loglold) < tolfun * (abs(loglold) + 1)\n",
    "            break;\n",
    "        end\n",
    "    end\n",
    "    \n",
    "    # compute logl, gradient, Hessian from final iterate\n",
    "    \n",
    "    # output\n",
    "    \n",
    "end"
   ]
  },
  {
   "cell_type": "code",
   "execution_count": 17,
   "metadata": {},
   "outputs": [
    {
     "data": {
      "text/plain": [
       "2-element Array{Int64,1}:\n",
       " 1\n",
       " 3"
      ]
     },
     "execution_count": 17,
     "metadata": {},
     "output_type": "execute_result"
    }
   ],
   "source": [
    "find(sum(x, 1) .> 0.0) "
   ]
  },
  {
   "cell_type": "markdown",
   "metadata": {},
   "source": [
    "## Q9\n",
    "\n",
    "Read in `optdigits.tra`, the training set of 3823 handwritten digits. Find the MLE for the subset of digit 0, digit 1, ..., and digit 9 separately using your function. "
   ]
  },
  {
   "cell_type": "code",
   "execution_count": 18,
   "metadata": {},
   "outputs": [
    {
     "data": {
      "text/plain": [
       "3823×65 Array{Float64,2}:\n",
       " 0.0  1.0   6.0  15.0  12.0   1.0   0.0  …  14.0   7.0   1.0   0.0  0.0  0.0\n",
       " 0.0  0.0  10.0  16.0   6.0   0.0   0.0     16.0  15.0   3.0   0.0  0.0  0.0\n",
       " 0.0  0.0   8.0  15.0  16.0  13.0   0.0     14.0   0.0   0.0   0.0  0.0  7.0\n",
       " 0.0  0.0   0.0   3.0  11.0  16.0   0.0      1.0  15.0   2.0   0.0  0.0  4.0\n",
       " 0.0  0.0   5.0  14.0   4.0   0.0   0.0     12.0  14.0   7.0   0.0  0.0  6.0\n",
       " 0.0  0.0  11.0  16.0  10.0   1.0   0.0  …  16.0  16.0  16.0  16.0  6.0  2.0\n",
       " 0.0  0.0   1.0  11.0  13.0  11.0   7.0     13.0   5.0   0.0   0.0  0.0  5.0\n",
       " 0.0  0.0   8.0  10.0   8.0   7.0   2.0     13.0   8.0   0.0   0.0  0.0  5.0\n",
       " 0.0  0.0  15.0   2.0  14.0  13.0   2.0     12.0   5.0   0.0   0.0  0.0  0.0\n",
       " 0.0  0.0   3.0  13.0  13.0   2.0   0.0     15.0  11.0   6.0   0.0  0.0  8.0\n",
       " 0.0  0.0   6.0  14.0  14.0  16.0  16.0  …  12.0   0.0   0.0   0.0  0.0  7.0\n",
       " 0.0  0.0   0.0   3.0  16.0  11.0   1.0      2.0  14.0  14.0   1.0  0.0  1.0\n",
       " 0.0  0.0   0.0   4.0  13.0  16.0  16.0      5.0  15.0   4.0   0.0  0.0  9.0\n",
       " ⋮                            ⋮          ⋱         ⋮                        \n",
       " 0.0  0.0   0.0   0.0   7.0  11.0   1.0      0.0   7.0  11.0   0.0  0.0  1.0\n",
       " 0.0  0.0   0.0   6.0  13.0   0.0   0.0      6.0   9.0   0.0   0.0  0.0  4.0\n",
       " 0.0  0.0   0.0   6.0   8.0   0.0   0.0      9.0   8.0   0.0   0.0  0.0  4.0\n",
       " 0.0  0.0   9.0  16.0   6.0   0.0   0.0     13.0   1.0   0.0   0.0  0.0  8.0\n",
       " 0.0  0.0   9.0  16.0  12.0   1.0   0.0  …  16.0  16.0  16.0   8.0  0.0  9.0\n",
       " 0.0  1.0  10.0  16.0  16.0   4.0   0.0     16.0  12.0   5.0   0.0  0.0  3.0\n",
       " 0.0  0.0   6.0  16.0  11.0   0.0   0.0     14.0  16.0  12.0   1.0  0.0  9.0\n",
       " 0.0  0.0   5.0  13.0  11.0   2.0   0.0     13.0  15.0  10.0   1.0  0.0  9.0\n",
       " 0.0  0.0   0.0   1.0  12.0   1.0   0.0      4.0   9.0   0.0   0.0  0.0  4.0\n",
       " 0.0  0.0   3.0  15.0   0.0   0.0   0.0  …  14.0  16.0   9.0   0.0  0.0  6.0\n",
       " 0.0  0.0   6.0  16.0   2.0   0.0   0.0     16.0  16.0  16.0   5.0  0.0  6.0\n",
       " 0.0  0.0   2.0  15.0  16.0  13.0   1.0     14.0   1.0   0.0   0.0  0.0  7.0"
      ]
     },
     "execution_count": 18,
     "metadata": {},
     "output_type": "execute_result"
    }
   ],
   "source": [
    "O = readdlm(\"optdigits.tra\", ',')"
   ]
  },
  {
   "cell_type": "markdown",
   "metadata": {},
   "source": [
    "## Q10\n",
    "\n",
    "As $\\alpha / |\\alpha| \\to \\mathbf{p}$, the Dirichlet-multinomial distribution converges to a multinomial with parameter $\\mathbf{p}$. Therefore multinomial can be considered as a special Dirichlet-multinomial with $|\\alpha|=\\infty$. Perform a likelihood ratio test (LRT) whether Dirichlet-multinomial offers a better fit than multinomial for digits 0, 1, ..., 9 respectively."
   ]
  },
  {
   "cell_type": "markdown",
   "metadata": {},
   "source": [
    "## Q10 Solution:\n",
    "\n",
    "Dirichlet Multinomial is better for all digits."
   ]
  },
  {
   "cell_type": "markdown",
   "metadata": {},
   "source": [
    "## Q11\n",
    "\n",
    "Now we can construct a simple Bayesian rule for handwritten digits recognition:\n",
    "$$\n",
    "\t\\mathbf{x}\t\\mapsto \\arg \\max_k \\widehat \\pi_k f(x|\\widehat \\alpha_k).\n",
    "$$\n",
    "Here we can use the proportion of digit $k$ in the training set as the prior probability $\\widehat \\pi_k$. Report the performance of your classifier on the test set of 1797 digits in `optdigits.tes`."
   ]
  },
  {
   "cell_type": "markdown",
   "metadata": {},
   "source": [
    "test set to get the prior probability distribution for p and then multiply each DMloglikelihood to get posterior distribution of each digit, plug in new image to this posterior to do classification"
   ]
  },
  {
   "cell_type": "code",
   "execution_count": null,
   "metadata": {},
   "outputs": [],
   "source": []
  }
 ],
 "metadata": {
  "kernelspec": {
   "display_name": "Julia 0.6.2",
   "language": "julia",
   "name": "julia-0.6"
  },
  "language_info": {
   "file_extension": ".jl",
   "mimetype": "application/julia",
   "name": "julia",
   "version": "0.6.2"
  },
  "toc": {
   "base_numbering": 1,
   "nav_menu": {
    "height": "65px",
    "width": "252px"
   },
   "number_sections": false,
   "sideBar": true,
   "skip_h1_title": false,
   "title_cell": "Table of Contents",
   "title_sidebar": "Contents",
   "toc_cell": false,
   "toc_position": {},
   "toc_section_display": "block",
   "toc_window_display": false
  }
 },
 "nbformat": 4,
 "nbformat_minor": 2
}
